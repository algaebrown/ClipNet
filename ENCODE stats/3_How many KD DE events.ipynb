{
 "cells": [
  {
   "cell_type": "markdown",
   "metadata": {},
   "source": [
    "# This notebook is to examine how many KD differential expression events.\n",
    "\n",
    "files are from Brian, located at `/projects/ps-yeolab5/encode/rnaseq/differential_expression/DESeq_output/current`\n",
    "\n",
    "- how many de genes\n",
    "- fold change\n",
    "- how many are RBPs"
   ]
  },
  {
   "cell_type": "code",
   "execution_count": 1,
   "metadata": {},
   "outputs": [],
   "source": [
    "root_dir = '/home/hsher/deseq/filtered/' # filtered in FDR 0.05\n",
    "\n",
    "import os\n",
    "all_files = [f for f in os.listdir(root_dir) if '.txt' in f]"
   ]
  },
  {
   "cell_type": "code",
   "execution_count": 2,
   "metadata": {},
   "outputs": [],
   "source": [
    "import pandas as pd\n",
    "sonar = pd.read_excel('~/projects/RBP_annot/mmc4.xls')\n",
    "sonar = sonar.drop(0, axis = 0)"
   ]
  },
  {
   "cell_type": "code",
   "execution_count": 3,
   "metadata": {},
   "outputs": [
    {
     "data": {
      "text/html": [
       "<div>\n",
       "<style scoped>\n",
       "    .dataframe tbody tr th:only-of-type {\n",
       "        vertical-align: middle;\n",
       "    }\n",
       "\n",
       "    .dataframe tbody tr th {\n",
       "        vertical-align: top;\n",
       "    }\n",
       "\n",
       "    .dataframe thead th {\n",
       "        text-align: right;\n",
       "    }\n",
       "</style>\n",
       "<table border=\"1\" class=\"dataframe\">\n",
       "  <thead>\n",
       "    <tr style=\"text-align: right;\">\n",
       "      <th></th>\n",
       "      <th>Unnamed: 0</th>\n",
       "      <th>gene name</th>\n",
       "      <th>description</th>\n",
       "      <th>Gene Symbol</th>\n",
       "    </tr>\n",
       "  </thead>\n",
       "  <tbody>\n",
       "    <tr>\n",
       "      <th>1</th>\n",
       "      <td>ENSG00000001497</td>\n",
       "      <td>LAS1L</td>\n",
       "      <td>LAS1-like (S. cerevisiae) [Source:HGNC Symbol;...</td>\n",
       "      <td>LAS1L</td>\n",
       "    </tr>\n",
       "    <tr>\n",
       "      <th>2</th>\n",
       "      <td>ENSG00000003756</td>\n",
       "      <td>RBM5</td>\n",
       "      <td>RNA binding motif protein 5 [Source:HGNC Symbo...</td>\n",
       "      <td>RBM5</td>\n",
       "    </tr>\n",
       "    <tr>\n",
       "      <th>3</th>\n",
       "      <td>ENSG00000004478</td>\n",
       "      <td>FKBP4</td>\n",
       "      <td>NaN</td>\n",
       "      <td>FKBP4</td>\n",
       "    </tr>\n",
       "    <tr>\n",
       "      <th>4</th>\n",
       "      <td>ENSG00000004534</td>\n",
       "      <td>RBM6</td>\n",
       "      <td>RNA binding motif protein 6 [Source:HGNC Symbo...</td>\n",
       "      <td>RBM6</td>\n",
       "    </tr>\n",
       "    <tr>\n",
       "      <th>5</th>\n",
       "      <td>ENSG00000004700</td>\n",
       "      <td>RECQL</td>\n",
       "      <td>NaN</td>\n",
       "      <td>RECQL</td>\n",
       "    </tr>\n",
       "  </tbody>\n",
       "</table>\n",
       "</div>"
      ],
      "text/plain": [
       "        Unnamed: 0 gene name  \\\n",
       "1  ENSG00000001497     LAS1L   \n",
       "2  ENSG00000003756      RBM5   \n",
       "3  ENSG00000004478     FKBP4   \n",
       "4  ENSG00000004534      RBM6   \n",
       "5  ENSG00000004700     RECQL   \n",
       "\n",
       "                                         description Gene Symbol  \n",
       "1  LAS1-like (S. cerevisiae) [Source:HGNC Symbol;...       LAS1L  \n",
       "2  RNA binding motif protein 5 [Source:HGNC Symbo...        RBM5  \n",
       "3                                                NaN       FKBP4  \n",
       "4  RNA binding motif protein 6 [Source:HGNC Symbo...        RBM6  \n",
       "5                                                NaN       RECQL  "
      ]
     },
     "execution_count": 3,
     "metadata": {},
     "output_type": "execute_result"
    }
   ],
   "source": [
    "sonar.head()"
   ]
  },
  {
   "cell_type": "code",
   "execution_count": 4,
   "metadata": {},
   "outputs": [],
   "source": [
    "\n",
    "\n",
    "def read_deseq_out(fname):\n",
    "    ''' read deseq output'''\n",
    "    df = pd.read_csv(fname, header = 0, sep = '\\t')\n",
    "    return df\n",
    "\n",
    "def count_event(df):\n",
    "    \n",
    "    \n",
    "    # how many events\n",
    "    number = df.shape[0]\n",
    "    \n",
    "    # log2 fold change > 1\n",
    "    large_fc = df.loc[df['log2FoldChange'].abs() > 1].shape[0]\n",
    "    \n",
    "    # how many RBP\n",
    "    df['ESNG'] = df['id'].str.split('.',expand = True)[0]\n",
    "    rbp = df.loc[df['ESNG'].isin(sonar['Unnamed: 0'])]\n",
    "    \n",
    "    total_rbp = rbp.shape[0]\n",
    "    \n",
    "    # how many rbp has high fold change\n",
    "    large_fc_rbp = rbp.loc[rbp['log2FoldChange'].abs()> 1].shape[0]\n",
    "    \n",
    "    return [number, large_fc, total_rbp, large_fc_rbp]"
   ]
  },
  {
   "cell_type": "code",
   "execution_count": 5,
   "metadata": {},
   "outputs": [],
   "source": [
    "colnames = ['RBP', 'cell line', 'total events', 'logFC>1', 'total RBP', 'RBP logFC>1']\n",
    "all_data = pd.DataFrame(columns = colnames)\n",
    "\n",
    "for f in all_files:\n",
    "    rbp = f.split('_')[1]\n",
    "    cline = f.split('_')[0]\n",
    "    \n",
    "    df = read_deseq_out(root_dir + f)\n",
    "    stats = count_event(df)\n",
    "    \n",
    "    all_data = all_data.append(dict(zip(colnames, [rbp, cline]+ stats)), ignore_index = True)"
   ]
  },
  {
   "cell_type": "code",
   "execution_count": 6,
   "metadata": {},
   "outputs": [
    {
     "data": {
      "text/html": [
       "<div>\n",
       "<style scoped>\n",
       "    .dataframe tbody tr th:only-of-type {\n",
       "        vertical-align: middle;\n",
       "    }\n",
       "\n",
       "    .dataframe tbody tr th {\n",
       "        vertical-align: top;\n",
       "    }\n",
       "\n",
       "    .dataframe thead th {\n",
       "        text-align: right;\n",
       "    }\n",
       "</style>\n",
       "<table border=\"1\" class=\"dataframe\">\n",
       "  <thead>\n",
       "    <tr style=\"text-align: right;\">\n",
       "      <th></th>\n",
       "      <th>RBP</th>\n",
       "      <th>cell line</th>\n",
       "      <th>total events</th>\n",
       "      <th>logFC&gt;1</th>\n",
       "      <th>total RBP</th>\n",
       "      <th>RBP logFC&gt;1</th>\n",
       "    </tr>\n",
       "  </thead>\n",
       "  <tbody>\n",
       "    <tr>\n",
       "      <th>0</th>\n",
       "      <td>SART3</td>\n",
       "      <td>HepG2</td>\n",
       "      <td>1273</td>\n",
       "      <td>407</td>\n",
       "      <td>157</td>\n",
       "      <td>28</td>\n",
       "    </tr>\n",
       "    <tr>\n",
       "      <th>1</th>\n",
       "      <td>ABCF1</td>\n",
       "      <td>HepG2</td>\n",
       "      <td>3610</td>\n",
       "      <td>1092</td>\n",
       "      <td>311</td>\n",
       "      <td>38</td>\n",
       "    </tr>\n",
       "    <tr>\n",
       "      <th>2</th>\n",
       "      <td>RBFOX2</td>\n",
       "      <td>K562</td>\n",
       "      <td>154</td>\n",
       "      <td>69</td>\n",
       "      <td>19</td>\n",
       "      <td>5</td>\n",
       "    </tr>\n",
       "    <tr>\n",
       "      <th>3</th>\n",
       "      <td>HNRNPH1</td>\n",
       "      <td>K562</td>\n",
       "      <td>197</td>\n",
       "      <td>30</td>\n",
       "      <td>51</td>\n",
       "      <td>2</td>\n",
       "    </tr>\n",
       "    <tr>\n",
       "      <th>4</th>\n",
       "      <td>GRSF1</td>\n",
       "      <td>HepG2</td>\n",
       "      <td>2305</td>\n",
       "      <td>812</td>\n",
       "      <td>166</td>\n",
       "      <td>23</td>\n",
       "    </tr>\n",
       "    <tr>\n",
       "      <th>...</th>\n",
       "      <td>...</td>\n",
       "      <td>...</td>\n",
       "      <td>...</td>\n",
       "      <td>...</td>\n",
       "      <td>...</td>\n",
       "      <td>...</td>\n",
       "    </tr>\n",
       "    <tr>\n",
       "      <th>467</th>\n",
       "      <td>FXR2</td>\n",
       "      <td>K562</td>\n",
       "      <td>70</td>\n",
       "      <td>34</td>\n",
       "      <td>9</td>\n",
       "      <td>3</td>\n",
       "    </tr>\n",
       "    <tr>\n",
       "      <th>468</th>\n",
       "      <td>LARP7</td>\n",
       "      <td>HepG2</td>\n",
       "      <td>2128</td>\n",
       "      <td>428</td>\n",
       "      <td>234</td>\n",
       "      <td>21</td>\n",
       "    </tr>\n",
       "    <tr>\n",
       "      <th>469</th>\n",
       "      <td>CALR</td>\n",
       "      <td>HepG2</td>\n",
       "      <td>5107</td>\n",
       "      <td>1200</td>\n",
       "      <td>659</td>\n",
       "      <td>49</td>\n",
       "    </tr>\n",
       "    <tr>\n",
       "      <th>470</th>\n",
       "      <td>DDX3X</td>\n",
       "      <td>HepG2</td>\n",
       "      <td>7191</td>\n",
       "      <td>2776</td>\n",
       "      <td>842</td>\n",
       "      <td>217</td>\n",
       "    </tr>\n",
       "    <tr>\n",
       "      <th>471</th>\n",
       "      <td>FIP1L1</td>\n",
       "      <td>HepG2</td>\n",
       "      <td>5401</td>\n",
       "      <td>2081</td>\n",
       "      <td>490</td>\n",
       "      <td>68</td>\n",
       "    </tr>\n",
       "  </tbody>\n",
       "</table>\n",
       "<p>472 rows × 6 columns</p>\n",
       "</div>"
      ],
      "text/plain": [
       "         RBP cell line total events logFC>1 total RBP RBP logFC>1\n",
       "0      SART3     HepG2         1273     407       157          28\n",
       "1      ABCF1     HepG2         3610    1092       311          38\n",
       "2     RBFOX2      K562          154      69        19           5\n",
       "3    HNRNPH1      K562          197      30        51           2\n",
       "4      GRSF1     HepG2         2305     812       166          23\n",
       "..       ...       ...          ...     ...       ...         ...\n",
       "467     FXR2      K562           70      34         9           3\n",
       "468    LARP7     HepG2         2128     428       234          21\n",
       "469     CALR     HepG2         5107    1200       659          49\n",
       "470    DDX3X     HepG2         7191    2776       842         217\n",
       "471   FIP1L1     HepG2         5401    2081       490          68\n",
       "\n",
       "[472 rows x 6 columns]"
      ]
     },
     "execution_count": 6,
     "metadata": {},
     "output_type": "execute_result"
    }
   ],
   "source": [
    "all_data"
   ]
  },
  {
   "cell_type": "code",
   "execution_count": 7,
   "metadata": {},
   "outputs": [
    {
     "data": {
      "text/plain": [
       "Text(0.5, 0, 'No. differential expression FDR < 0.05')"
      ]
     },
     "execution_count": 7,
     "metadata": {},
     "output_type": "execute_result"
    },
    {
     "data": {
      "image/png": "[encoded data removed]",
      "text/plain": [
       "<Figure size 432x288 with 1 Axes>"
      ]
     },
     "metadata": {
      "needs_background": "light"
     },
     "output_type": "display_data"
    }
   ],
   "source": [
    "import matplotlib.pyplot as plt\n",
    "all_data['total events'].hist()\n",
    "plt.ylabel('No. RBP')\n",
    "plt.xlabel('No. differential expression FDR < 0.05')"
   ]
  },
  {
   "cell_type": "code",
   "execution_count": 8,
   "metadata": {},
   "outputs": [
    {
     "data": {
      "text/plain": [
       "Text(0.5, 0, 'No. differential expression FDR < 0.05, |logFC|>1')"
      ]
     },
     "execution_count": 8,
     "metadata": {},
     "output_type": "execute_result"
    },
    {
     "data": {
      "image/png": "[encoded data removed]",
      "text/plain": [
       "<Figure size 432x288 with 1 Axes>"
      ]
     },
     "metadata": {
      "needs_background": "light"
     },
     "output_type": "display_data"
    }
   ],
   "source": [
    "import matplotlib.pyplot as plt\n",
    "all_data['logFC>1'].hist()\n",
    "plt.ylabel('No. RBP')\n",
    "plt.xlabel('No. differential expression FDR < 0.05, |logFC|>1')"
   ]
  },
  {
   "cell_type": "markdown",
   "metadata": {},
   "source": [
    "# Do RBP known to control RNA turnover have higher influence?"
   ]
  },
  {
   "cell_type": "code",
   "execution_count": 9,
   "metadata": {},
   "outputs": [],
   "source": [
    "rbp_class = pd.read_excel('~/projects/RBP_annot/rbp_class.xlsx', skiprows = 1)\n",
    "rbp_class.set_index('Unnamed: 0', inplace = True)\n",
    "rbp_class.drop('Unnamed: 1', axis = 1, inplace = True)"
   ]
  },
  {
   "cell_type": "code",
   "execution_count": 10,
   "metadata": {},
   "outputs": [],
   "source": [
    "RNA_stable = rbp_class.loc[(rbp_class['3\\' end processing'] == 1) | (rbp_class['RNA stability & decay'] == 1)].index"
   ]
  },
  {
   "cell_type": "code",
   "execution_count": 11,
   "metadata": {},
   "outputs": [],
   "source": [
    "from scipy import stats\n",
    "def compare_known_unknown(df, event):\n",
    "    known = df.loc[df['RBP'].isin(RNA_stable)]\n",
    "    unknown = df.loc[~df['RBP'].isin(RNA_stable)]\n",
    "    \n",
    "    max_n_event = df['total events'].max()\n",
    "    f,ax  = plt.subplots(2,1, sharex = True, sharey = True)\n",
    "    known['total events'].plot.hist(ax = ax[0], range = (0,max_n_event), density = True, bins = 100, color = 'grey', alpha = 0.6)\n",
    "    known['total events'].plot.density(ax = ax[0], color = 'red')\n",
    "    unknown['total events'].plot.hist(ax = ax[1], range = (0,max_n_event), density = True, bins = 100, color = 'grey',alpha = 0.6)\n",
    "    unknown['total events'].plot.density(ax = ax[1], color = 'red')\n",
    "    \n",
    "    ax[1].set_xlabel('No. events')\n",
    "    #ax[0].set_ylabel('RBP density')\n",
    "    \n",
    "    ax[1].set_title('other RBP')\n",
    "    ax[0].set_title('known RNA stability regulator')\n",
    "    plt.suptitle(event)\n",
    "    \n",
    "    \n",
    "    s = stats.ks_2samp(known['total events'], unknown['total events'], alternative = 'less')\n",
    "    print(s)\n",
    "    ax[1].annotate('pval = {}'.format(s[1]), xy = (100,0))\n",
    "    \n",
    "    "
   ]
  },
  {
   "cell_type": "code",
   "execution_count": 12,
   "metadata": {},
   "outputs": [
    {
     "name": "stdout",
     "output_type": "stream",
     "text": [
      "Ks_2sampResult(statistic=0.19515594511722983, pvalue=0.004588894451151313)\n"
     ]
    },
    {
     "data": {
      "image/png": "[encoded data removed]",
      "text/plain": [
       "<Figure size 432x288 with 2 Axes>"
      ]
     },
     "metadata": {
      "needs_background": "light"
     },
     "output_type": "display_data"
    }
   ],
   "source": [
    "compare_known_unknown(all_data, 'DE')"
   ]
  },
  {
   "cell_type": "code",
   "execution_count": 13,
   "metadata": {},
   "outputs": [],
   "source": [
    "from scipy import stats\n",
    "def compare_known_unknown_FC(df, event):\n",
    "    known = df.loc[df['RBP'].isin(RNA_stable)]\n",
    "    unknown = df.loc[~df['RBP'].isin(RNA_stable)]\n",
    "    \n",
    "    max_n_event = df['logFC>1'].max()\n",
    "    f,ax  = plt.subplots(2,1, sharex = True, sharey = True)\n",
    "    known['logFC>1'].plot.hist(ax = ax[0], range = (0,max_n_event), density = True, bins = 100, color = 'grey', alpha = 0.6)\n",
    "    known['logFC>1'].plot.density(ax = ax[0], color = 'red')\n",
    "    unknown['logFC>1'].plot.hist(ax = ax[1], range = (0,max_n_event), density = True, bins = 100, color = 'grey',alpha = 0.6)\n",
    "    unknown['logFC>1'].plot.density(ax = ax[1], color = 'red')\n",
    "    \n",
    "    ax[1].set_xlabel('No. events |logFC| > 1')\n",
    "    #ax[0].set_ylabel('RBP density')\n",
    "    \n",
    "    ax[1].set_title('other RBP')\n",
    "    ax[0].set_title('known RNA stability regulator')\n",
    "    plt.suptitle(event)\n",
    "    \n",
    "    \n",
    "    s = stats.ks_2samp(known['logFC>1'], unknown['logFC>1'], alternative = 'less')\n",
    "    print(s)\n",
    "    ax[1].annotate('pval = {}'.format(s[1]), xy = (100,0))\n",
    "    \n",
    "    "
   ]
  },
  {
   "cell_type": "code",
   "execution_count": 14,
   "metadata": {},
   "outputs": [
    {
     "name": "stdout",
     "output_type": "stream",
     "text": [
      "Ks_2sampResult(statistic=0.1928949732090315, pvalue=0.005193520318354106)\n"
     ]
    },
    {
     "data": {
      "image/png": "[encoded data removed]",
      "text/plain": [
       "<Figure size 432x288 with 2 Axes>"
      ]
     },
     "metadata": {
      "needs_background": "light"
     },
     "output_type": "display_data"
    }
   ],
   "source": [
    "compare_known_unknown_FC(all_data, 'DE')"
   ]
  },
  {
   "cell_type": "markdown",
   "metadata": {},
   "source": [
    "# Are a lot of RBP differentially expressed?"
   ]
  },
  {
   "cell_type": "code",
   "execution_count": 15,
   "metadata": {},
   "outputs": [],
   "source": [
    "def event_in_rbp(df):\n",
    "    \n",
    "    portion_02 = df['RBP logFC>1']/df['logFC>1']\n",
    "    portion_total = df['total RBP']/df['total events']\n",
    "    \n",
    "    return portion_02, portion_total\n",
    "def rbp_portion_plot(df, event):\n",
    "    plt.boxplot(event_in_rbp(df))\n",
    "    plt.xticks([1,2],['|logFC| > 1', 'Total events'])\n",
    "    plt.ylabel('portion of events target as RBP')\n",
    "    plt.title(event)"
   ]
  },
  {
   "cell_type": "code",
   "execution_count": 16,
   "metadata": {},
   "outputs": [
    {
     "data": {
      "image/png": "[encoded data removed]",
      "text/plain": [
       "<Figure size 432x288 with 1 Axes>"
      ]
     },
     "metadata": {
      "needs_background": "light"
     },
     "output_type": "display_data"
    }
   ],
   "source": [
    "rbp_portion_plot(all_data, 'DE')"
   ]
  }
 ],
 "metadata": {
  "kernelspec": {
   "display_name": "Python 3",
   "language": "python",
   "name": "python3"
  },
  "language_info": {
   "codemirror_mode": {
    "name": "ipython",
    "version": 3
   },
   "file_extension": ".py",
   "mimetype": "text/x-python",
   "name": "python",
   "nbconvert_exporter": "python",
   "pygments_lexer": "ipython3",
   "version": "3.7.6"
  }
 },
 "nbformat": 4,
 "nbformat_minor": 4
}
