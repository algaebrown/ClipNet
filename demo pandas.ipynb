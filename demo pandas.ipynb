{
 "cells": [
  {
   "cell_type": "code",
   "execution_count": 1,
   "metadata": {},
   "outputs": [],
   "source": [
    "# import package \n",
    "import pandas as pd"
   ]
  },
  {
   "cell_type": "code",
   "execution_count": 5,
   "metadata": {},
   "outputs": [],
   "source": [
    "# read file into pandas dataframe; if you have xlsx, use read_excel()\n",
    "depmap = pd.read_csv('D2_DRIVE_gene_dep_scores.csv', index_col = 0)"
   ]
  },
  {
   "cell_type": "code",
   "execution_count": 6,
   "metadata": {},
   "outputs": [
    {
     "data": {
      "text/html": [
       "<div>\n",
       "<style scoped>\n",
       "    .dataframe tbody tr th:only-of-type {\n",
       "        vertical-align: middle;\n",
       "    }\n",
       "\n",
       "    .dataframe tbody tr th {\n",
       "        vertical-align: top;\n",
       "    }\n",
       "\n",
       "    .dataframe thead th {\n",
       "        text-align: right;\n",
       "    }\n",
       "</style>\n",
       "<table border=\"1\" class=\"dataframe\">\n",
       "  <thead>\n",
       "    <tr style=\"text-align: right;\">\n",
       "      <th></th>\n",
       "      <th>127399_SOFT_TISSUE</th>\n",
       "      <th>1321N1_CENTRAL_NERVOUS_SYSTEM</th>\n",
       "      <th>2313287_STOMACH</th>\n",
       "      <th>697_HAEMATOPOIETIC_AND_LYMPHOID_TISSUE</th>\n",
       "      <th>769P_KIDNEY</th>\n",
       "      <th>786O_KIDNEY</th>\n",
       "      <th>8305C_THYROID</th>\n",
       "      <th>8505C_THYROID</th>\n",
       "      <th>921_UVEA</th>\n",
       "      <th>A101D_SKIN</th>\n",
       "      <th>...</th>\n",
       "      <th>UMUC3_URINARY_TRACT</th>\n",
       "      <th>VMRCRCW_KIDNEY</th>\n",
       "      <th>WM115_SKIN</th>\n",
       "      <th>WM1799_SKIN</th>\n",
       "      <th>WM2664_SKIN</th>\n",
       "      <th>WM793_SKIN</th>\n",
       "      <th>WM88_SKIN</th>\n",
       "      <th>WSUDLCL2_HAEMATOPOIETIC_AND_LYMPHOID_TISSUE</th>\n",
       "      <th>YD38_UPPER_AERODIGESTIVE_TRACT</th>\n",
       "      <th>YMB1_BREAST</th>\n",
       "    </tr>\n",
       "  </thead>\n",
       "  <tbody>\n",
       "    <tr>\n",
       "      <th>CDH2 (1000)</th>\n",
       "      <td>-0.089352</td>\n",
       "      <td>-0.002663</td>\n",
       "      <td>-0.137925</td>\n",
       "      <td>0.173165</td>\n",
       "      <td>-0.134545</td>\n",
       "      <td>-0.148781</td>\n",
       "      <td>-0.203150</td>\n",
       "      <td>-0.037625</td>\n",
       "      <td>-0.175778</td>\n",
       "      <td>0.139467</td>\n",
       "      <td>...</td>\n",
       "      <td>-0.066021</td>\n",
       "      <td>0.107229</td>\n",
       "      <td>-0.227427</td>\n",
       "      <td>-0.032107</td>\n",
       "      <td>-0.218693</td>\n",
       "      <td>-0.013857</td>\n",
       "      <td>NaN</td>\n",
       "      <td>-0.230569</td>\n",
       "      <td>0.021516</td>\n",
       "      <td>-0.106172</td>\n",
       "    </tr>\n",
       "    <tr>\n",
       "      <th>AKT3 (10000)</th>\n",
       "      <td>-0.131082</td>\n",
       "      <td>0.065231</td>\n",
       "      <td>0.087221</td>\n",
       "      <td>-0.411486</td>\n",
       "      <td>0.177895</td>\n",
       "      <td>0.324306</td>\n",
       "      <td>0.040381</td>\n",
       "      <td>0.022989</td>\n",
       "      <td>-0.360923</td>\n",
       "      <td>-0.094837</td>\n",
       "      <td>...</td>\n",
       "      <td>-0.035967</td>\n",
       "      <td>-0.031698</td>\n",
       "      <td>0.221841</td>\n",
       "      <td>0.207119</td>\n",
       "      <td>-0.175644</td>\n",
       "      <td>-0.063389</td>\n",
       "      <td>NaN</td>\n",
       "      <td>0.519001</td>\n",
       "      <td>-0.029192</td>\n",
       "      <td>-0.097869</td>\n",
       "    </tr>\n",
       "    <tr>\n",
       "      <th>POU5F1P5 (100009667)</th>\n",
       "      <td>-0.212644</td>\n",
       "      <td>-0.547079</td>\n",
       "      <td>-0.159532</td>\n",
       "      <td>-0.277817</td>\n",
       "      <td>0.179144</td>\n",
       "      <td>0.084569</td>\n",
       "      <td>-0.179724</td>\n",
       "      <td>0.000420</td>\n",
       "      <td>-0.091683</td>\n",
       "      <td>0.439111</td>\n",
       "      <td>...</td>\n",
       "      <td>0.106033</td>\n",
       "      <td>0.060357</td>\n",
       "      <td>0.137065</td>\n",
       "      <td>0.072449</td>\n",
       "      <td>0.274616</td>\n",
       "      <td>0.032009</td>\n",
       "      <td>NaN</td>\n",
       "      <td>-0.080685</td>\n",
       "      <td>-0.042488</td>\n",
       "      <td>-0.334812</td>\n",
       "    </tr>\n",
       "    <tr>\n",
       "      <th>MED6 (10001)</th>\n",
       "      <td>-0.225475</td>\n",
       "      <td>-0.477512</td>\n",
       "      <td>-0.314678</td>\n",
       "      <td>-0.192239</td>\n",
       "      <td>-0.359350</td>\n",
       "      <td>-0.705736</td>\n",
       "      <td>-0.346217</td>\n",
       "      <td>-0.355164</td>\n",
       "      <td>-0.510637</td>\n",
       "      <td>-0.244747</td>\n",
       "      <td>...</td>\n",
       "      <td>-0.249799</td>\n",
       "      <td>-0.773315</td>\n",
       "      <td>-0.403044</td>\n",
       "      <td>-0.241388</td>\n",
       "      <td>-0.154820</td>\n",
       "      <td>-0.564204</td>\n",
       "      <td>-0.267406</td>\n",
       "      <td>-0.231379</td>\n",
       "      <td>-0.775019</td>\n",
       "      <td>-0.254618</td>\n",
       "    </tr>\n",
       "    <tr>\n",
       "      <th>NR2E3 (10002)</th>\n",
       "      <td>-0.096706</td>\n",
       "      <td>-0.123476</td>\n",
       "      <td>-0.138421</td>\n",
       "      <td>-0.873816</td>\n",
       "      <td>-0.043431</td>\n",
       "      <td>-0.200512</td>\n",
       "      <td>-0.181933</td>\n",
       "      <td>-0.192233</td>\n",
       "      <td>0.064916</td>\n",
       "      <td>0.163630</td>\n",
       "      <td>...</td>\n",
       "      <td>-0.205856</td>\n",
       "      <td>0.024931</td>\n",
       "      <td>0.276181</td>\n",
       "      <td>0.093556</td>\n",
       "      <td>-0.119268</td>\n",
       "      <td>0.046175</td>\n",
       "      <td>0.406302</td>\n",
       "      <td>-0.750619</td>\n",
       "      <td>-0.256513</td>\n",
       "      <td>-0.376421</td>\n",
       "    </tr>\n",
       "  </tbody>\n",
       "</table>\n",
       "<p>5 rows × 397 columns</p>\n",
       "</div>"
      ],
      "text/plain": [
       "                      127399_SOFT_TISSUE  1321N1_CENTRAL_NERVOUS_SYSTEM  \\\n",
       "CDH2 (1000)                    -0.089352                      -0.002663   \n",
       "AKT3 (10000)                   -0.131082                       0.065231   \n",
       "POU5F1P5 (100009667)           -0.212644                      -0.547079   \n",
       "MED6 (10001)                   -0.225475                      -0.477512   \n",
       "NR2E3 (10002)                  -0.096706                      -0.123476   \n",
       "\n",
       "                      2313287_STOMACH  697_HAEMATOPOIETIC_AND_LYMPHOID_TISSUE  \\\n",
       "CDH2 (1000)                 -0.137925                                0.173165   \n",
       "AKT3 (10000)                 0.087221                               -0.411486   \n",
       "POU5F1P5 (100009667)        -0.159532                               -0.277817   \n",
       "MED6 (10001)                -0.314678                               -0.192239   \n",
       "NR2E3 (10002)               -0.138421                               -0.873816   \n",
       "\n",
       "                      769P_KIDNEY  786O_KIDNEY  8305C_THYROID  8505C_THYROID  \\\n",
       "CDH2 (1000)             -0.134545    -0.148781      -0.203150      -0.037625   \n",
       "AKT3 (10000)             0.177895     0.324306       0.040381       0.022989   \n",
       "POU5F1P5 (100009667)     0.179144     0.084569      -0.179724       0.000420   \n",
       "MED6 (10001)            -0.359350    -0.705736      -0.346217      -0.355164   \n",
       "NR2E3 (10002)           -0.043431    -0.200512      -0.181933      -0.192233   \n",
       "\n",
       "                      921_UVEA  A101D_SKIN  ...  UMUC3_URINARY_TRACT  \\\n",
       "CDH2 (1000)          -0.175778    0.139467  ...            -0.066021   \n",
       "AKT3 (10000)         -0.360923   -0.094837  ...            -0.035967   \n",
       "POU5F1P5 (100009667) -0.091683    0.439111  ...             0.106033   \n",
       "MED6 (10001)         -0.510637   -0.244747  ...            -0.249799   \n",
       "NR2E3 (10002)         0.064916    0.163630  ...            -0.205856   \n",
       "\n",
       "                      VMRCRCW_KIDNEY  WM115_SKIN  WM1799_SKIN  WM2664_SKIN  \\\n",
       "CDH2 (1000)                 0.107229   -0.227427    -0.032107    -0.218693   \n",
       "AKT3 (10000)               -0.031698    0.221841     0.207119    -0.175644   \n",
       "POU5F1P5 (100009667)        0.060357    0.137065     0.072449     0.274616   \n",
       "MED6 (10001)               -0.773315   -0.403044    -0.241388    -0.154820   \n",
       "NR2E3 (10002)               0.024931    0.276181     0.093556    -0.119268   \n",
       "\n",
       "                      WM793_SKIN  WM88_SKIN  \\\n",
       "CDH2 (1000)            -0.013857        NaN   \n",
       "AKT3 (10000)           -0.063389        NaN   \n",
       "POU5F1P5 (100009667)    0.032009        NaN   \n",
       "MED6 (10001)           -0.564204  -0.267406   \n",
       "NR2E3 (10002)           0.046175   0.406302   \n",
       "\n",
       "                      WSUDLCL2_HAEMATOPOIETIC_AND_LYMPHOID_TISSUE  \\\n",
       "CDH2 (1000)                                             -0.230569   \n",
       "AKT3 (10000)                                             0.519001   \n",
       "POU5F1P5 (100009667)                                    -0.080685   \n",
       "MED6 (10001)                                            -0.231379   \n",
       "NR2E3 (10002)                                           -0.750619   \n",
       "\n",
       "                      YD38_UPPER_AERODIGESTIVE_TRACT  YMB1_BREAST  \n",
       "CDH2 (1000)                                 0.021516    -0.106172  \n",
       "AKT3 (10000)                               -0.029192    -0.097869  \n",
       "POU5F1P5 (100009667)                       -0.042488    -0.334812  \n",
       "MED6 (10001)                               -0.775019    -0.254618  \n",
       "NR2E3 (10002)                              -0.256513    -0.376421  \n",
       "\n",
       "[5 rows x 397 columns]"
      ]
     },
     "execution_count": 6,
     "metadata": {},
     "output_type": "execute_result"
    }
   ],
   "source": [
    "# take a look at the dataframe\n",
    "depmap.head()"
   ]
  },
  {
   "cell_type": "code",
   "execution_count": 8,
   "metadata": {},
   "outputs": [
    {
     "data": {
      "text/plain": [
       "(7975, 397)"
      ]
     },
     "execution_count": 8,
     "metadata": {},
     "output_type": "execute_result"
    }
   ],
   "source": [
    "# the size of the dataframe\n",
    "depmap.shape"
   ]
  },
  {
   "cell_type": "code",
   "execution_count": 9,
   "metadata": {},
   "outputs": [
    {
     "data": {
      "text/plain": [
       "Index(['CDH2 (1000)', 'AKT3 (10000)', 'POU5F1P5 (100009667)', 'MED6 (10001)',\n",
       "       'NR2E3 (10002)', 'SIGLEC14 (100049587)', 'ABI1 (10006)',\n",
       "       'KCNE3 (10008)', 'ZBTB33 (10009)', 'GTF2IP4&GTF2IP1 (100093631&2970)',\n",
       "       ...\n",
       "       'RBX1 (9978)', 'CDC42 (998)', 'RCE1 (9986)', 'HNRNPDL (9987)',\n",
       "       'DMTF1 (9988)', 'PPP4R1 (9989)', 'CDH1 (999)', 'PTBP3 (9991)',\n",
       "       'KCNE2 (9992)', 'CASP8AP2 (9994)'],\n",
       "      dtype='object', length=7975)"
      ]
     },
     "execution_count": 9,
     "metadata": {},
     "output_type": "execute_result"
    }
   ],
   "source": [
    "# dataframe has columns and rows\n",
    "depmap.index # index are those gene names with some weird numbers"
   ]
  },
  {
   "cell_type": "code",
   "execution_count": 10,
   "metadata": {},
   "outputs": [
    {
     "data": {
      "text/plain": [
       "Index(['127399_SOFT_TISSUE', '1321N1_CENTRAL_NERVOUS_SYSTEM',\n",
       "       '2313287_STOMACH', '697_HAEMATOPOIETIC_AND_LYMPHOID_TISSUE',\n",
       "       '769P_KIDNEY', '786O_KIDNEY', '8305C_THYROID', '8505C_THYROID',\n",
       "       '921_UVEA', 'A101D_SKIN',\n",
       "       ...\n",
       "       'UMUC3_URINARY_TRACT', 'VMRCRCW_KIDNEY', 'WM115_SKIN', 'WM1799_SKIN',\n",
       "       'WM2664_SKIN', 'WM793_SKIN', 'WM88_SKIN',\n",
       "       'WSUDLCL2_HAEMATOPOIETIC_AND_LYMPHOID_TISSUE',\n",
       "       'YD38_UPPER_AERODIGESTIVE_TRACT', 'YMB1_BREAST'],\n",
       "      dtype='object', length=397)"
      ]
     },
     "execution_count": 10,
     "metadata": {},
     "output_type": "execute_result"
    }
   ],
   "source": [
    "depmap.columns # columns are cell lines"
   ]
  },
  {
   "cell_type": "code",
   "execution_count": 14,
   "metadata": {},
   "outputs": [
    {
     "data": {
      "text/plain": [
       "array([False, False, False, False, False, False, False, False, False,\n",
       "       False, False, False, False, False, False, False, False, False,\n",
       "       False, False, False, False, False, False, False, False, False,\n",
       "       False, False, False, False, False, False, False, False, False,\n",
       "       False, False, False, False, False, False, False, False, False,\n",
       "       False, False, False, False, False, False, False, False, False,\n",
       "       False, False, False, False, False, False, False, False, False,\n",
       "       False, False, False, False, False, False, False, False, False,\n",
       "       False, False, False, False, False, False, False, False, False,\n",
       "       False, False, False, False, False, False, False, False, False,\n",
       "       False, False, False, False, False, False, False, False, False,\n",
       "       False, False, False, False, False, False, False, False, False,\n",
       "        True, False, False, False, False, False, False, False, False,\n",
       "       False, False, False, False, False, False, False, False, False,\n",
       "       False, False, False, False, False, False, False, False, False,\n",
       "       False, False, False, False, False, False, False, False, False,\n",
       "       False, False, False, False, False, False, False, False, False,\n",
       "       False, False, False, False, False, False, False, False, False,\n",
       "       False, False, False, False, False, False, False, False, False,\n",
       "       False, False, False, False, False, False, False, False, False,\n",
       "       False, False, False, False, False, False, False, False, False,\n",
       "       False, False, False, False, False, False, False, False, False,\n",
       "       False, False, False, False, False, False, False, False, False,\n",
       "       False, False, False, False, False, False, False, False, False,\n",
       "       False, False, False, False, False, False, False, False, False,\n",
       "       False, False, False, False, False, False, False, False, False,\n",
       "       False, False, False, False, False, False, False, False, False,\n",
       "       False, False, False, False, False, False, False, False, False,\n",
       "       False, False, False, False, False, False, False, False, False,\n",
       "       False, False, False, False, False, False, False, False, False,\n",
       "       False, False, False, False, False, False, False, False, False,\n",
       "       False, False, False, False, False, False, False, False, False,\n",
       "       False, False, False, False, False, False, False, False, False,\n",
       "       False, False, False, False, False, False, False, False, False,\n",
       "       False, False, False, False, False, False, False, False, False,\n",
       "       False, False, False, False, False, False, False, False, False,\n",
       "       False, False, False, False, False, False, False, False, False,\n",
       "       False, False, False, False, False, False, False, False, False,\n",
       "       False, False, False, False, False, False, False, False, False,\n",
       "       False, False, False, False, False, False, False, False, False,\n",
       "       False, False, False, False, False, False, False, False, False,\n",
       "       False, False, False, False, False, False, False, False, False,\n",
       "       False, False, False, False, False, False, False, False, False,\n",
       "       False, False, False, False, False, False, False, False, False,\n",
       "       False])"
      ]
     },
     "execution_count": 14,
     "metadata": {},
     "output_type": "execute_result"
    }
   ],
   "source": [
    "# let's find our cell line, this tells us which column's name contain string HEPG2\n",
    "depmap.columns.str.contains('HEPG2')"
   ]
  },
  {
   "cell_type": "code",
   "execution_count": 15,
   "metadata": {},
   "outputs": [
    {
     "data": {
      "text/plain": [
       "Index(['HEPG2_LIVER'], dtype='object')"
      ]
     },
     "execution_count": 15,
     "metadata": {},
     "output_type": "execute_result"
    }
   ],
   "source": [
    "# use that boolean thing to fish out the full name\n",
    "depmap.columns[depmap.columns.str.contains('HEPG2')]"
   ]
  },
  {
   "cell_type": "code",
   "execution_count": 16,
   "metadata": {},
   "outputs": [
    {
     "data": {
      "text/plain": [
       "CDH2 (1000)             0.057906\n",
       "AKT3 (10000)           -0.269006\n",
       "POU5F1P5 (100009667)   -0.040908\n",
       "MED6 (10001)           -0.346157\n",
       "NR2E3 (10002)          -0.200507\n",
       "                          ...   \n",
       "PPP4R1 (9989)          -0.041508\n",
       "CDH1 (999)             -0.207714\n",
       "PTBP3 (9991)           -0.188387\n",
       "KCNE2 (9992)            0.041099\n",
       "CASP8AP2 (9994)         0.013360\n",
       "Name: HEPG2_LIVER, Length: 7975, dtype: float64"
      ]
     },
     "execution_count": 16,
     "metadata": {},
     "output_type": "execute_result"
    }
   ],
   "source": [
    "# to access a particular column\n",
    "depmap['HEPG2_LIVER']"
   ]
  },
  {
   "cell_type": "code",
   "execution_count": 20,
   "metadata": {},
   "outputs": [
    {
     "data": {
      "text/plain": [
       "127399_SOFT_TISSUE                            -0.036799\n",
       "1321N1_CENTRAL_NERVOUS_SYSTEM                  0.001485\n",
       "2313287_STOMACH                               -0.361670\n",
       "697_HAEMATOPOIETIC_AND_LYMPHOID_TISSUE         0.187109\n",
       "769P_KIDNEY                                   -0.291701\n",
       "                                                 ...   \n",
       "WM793_SKIN                                    -0.610545\n",
       "WM88_SKIN                                     -1.166492\n",
       "WSUDLCL2_HAEMATOPOIETIC_AND_LYMPHOID_TISSUE   -0.066923\n",
       "YD38_UPPER_AERODIGESTIVE_TRACT                -0.468342\n",
       "YMB1_BREAST                                   -0.365915\n",
       "Name: PTBP3 (9991), Length: 397, dtype: float64"
      ]
     },
     "execution_count": 20,
     "metadata": {},
     "output_type": "execute_result"
    }
   ],
   "source": [
    "# to access a particular row\n",
    "depmap.loc['PTBP3 (9991)']"
   ]
  },
  {
   "cell_type": "code",
   "execution_count": 27,
   "metadata": {},
   "outputs": [],
   "source": [
    "# to particular  row, multiple columns\n",
    "# listing all the ribosomal large (RPL) subunits in liver cell line\n",
    "ribosomes = depmap.loc[depmap.index.str.startswith('RPL'), depmap.columns.str.contains('LIVER')]"
   ]
  },
  {
   "cell_type": "code",
   "execution_count": 28,
   "metadata": {},
   "outputs": [
    {
     "data": {
      "text/html": [
       "<div>\n",
       "<style scoped>\n",
       "    .dataframe tbody tr th:only-of-type {\n",
       "        vertical-align: middle;\n",
       "    }\n",
       "\n",
       "    .dataframe tbody tr th {\n",
       "        vertical-align: top;\n",
       "    }\n",
       "\n",
       "    .dataframe thead th {\n",
       "        text-align: right;\n",
       "    }\n",
       "</style>\n",
       "<table border=\"1\" class=\"dataframe\">\n",
       "  <thead>\n",
       "    <tr style=\"text-align: right;\">\n",
       "      <th></th>\n",
       "      <th>HEP3B217_LIVER</th>\n",
       "      <th>HEPG2_LIVER</th>\n",
       "      <th>HLE_LIVER</th>\n",
       "      <th>HLF_LIVER</th>\n",
       "      <th>HUH1_LIVER</th>\n",
       "      <th>HUH6_LIVER</th>\n",
       "      <th>HUH7_LIVER</th>\n",
       "      <th>JHH6_LIVER</th>\n",
       "      <th>JHH7_LIVER</th>\n",
       "      <th>LI7_LIVER</th>\n",
       "      <th>SKHEP1_LIVER</th>\n",
       "      <th>SNU423_LIVER</th>\n",
       "      <th>SNU449_LIVER</th>\n",
       "      <th>SNU761_LIVER</th>\n",
       "      <th>SNU886_LIVER</th>\n",
       "    </tr>\n",
       "  </thead>\n",
       "  <tbody>\n",
       "    <tr>\n",
       "      <th>RPL35 (11224)</th>\n",
       "      <td>-0.947656</td>\n",
       "      <td>-1.407482</td>\n",
       "      <td>-0.741374</td>\n",
       "      <td>-1.113086</td>\n",
       "      <td>-0.799700</td>\n",
       "      <td>-1.526076</td>\n",
       "      <td>-1.109535</td>\n",
       "      <td>-0.844920</td>\n",
       "      <td>-0.957350</td>\n",
       "      <td>-0.914482</td>\n",
       "      <td>-1.084982</td>\n",
       "      <td>-0.833286</td>\n",
       "      <td>-1.235654</td>\n",
       "      <td>-0.164287</td>\n",
       "      <td>-1.296944</td>\n",
       "    </tr>\n",
       "    <tr>\n",
       "      <th>RPL22L1 (200916)</th>\n",
       "      <td>-0.190847</td>\n",
       "      <td>0.231412</td>\n",
       "      <td>0.163986</td>\n",
       "      <td>0.156232</td>\n",
       "      <td>0.095366</td>\n",
       "      <td>0.028222</td>\n",
       "      <td>0.141554</td>\n",
       "      <td>0.006147</td>\n",
       "      <td>0.103478</td>\n",
       "      <td>0.422116</td>\n",
       "      <td>0.156272</td>\n",
       "      <td>-0.176433</td>\n",
       "      <td>-0.032283</td>\n",
       "      <td>-0.176508</td>\n",
       "      <td>-0.105008</td>\n",
       "    </tr>\n",
       "    <tr>\n",
       "      <th>RPL7 (6129)</th>\n",
       "      <td>-1.601283</td>\n",
       "      <td>-2.074836</td>\n",
       "      <td>-0.830157</td>\n",
       "      <td>-1.456583</td>\n",
       "      <td>-1.573111</td>\n",
       "      <td>-1.664886</td>\n",
       "      <td>-1.205351</td>\n",
       "      <td>-1.383039</td>\n",
       "      <td>-1.742391</td>\n",
       "      <td>-0.888298</td>\n",
       "      <td>-1.618011</td>\n",
       "      <td>-1.573703</td>\n",
       "      <td>-1.291111</td>\n",
       "      <td>-0.365138</td>\n",
       "      <td>-1.522396</td>\n",
       "    </tr>\n",
       "    <tr>\n",
       "      <th>RPL22 (6146)</th>\n",
       "      <td>0.004091</td>\n",
       "      <td>-0.296002</td>\n",
       "      <td>-0.119879</td>\n",
       "      <td>-0.100592</td>\n",
       "      <td>0.060547</td>\n",
       "      <td>-0.119848</td>\n",
       "      <td>0.105364</td>\n",
       "      <td>-0.018318</td>\n",
       "      <td>-0.176788</td>\n",
       "      <td>0.086760</td>\n",
       "      <td>0.426377</td>\n",
       "      <td>-0.306231</td>\n",
       "      <td>0.050850</td>\n",
       "      <td>-0.066487</td>\n",
       "      <td>0.072867</td>\n",
       "    </tr>\n",
       "    <tr>\n",
       "      <th>RPL14 (9045)</th>\n",
       "      <td>-1.418388</td>\n",
       "      <td>-1.479847</td>\n",
       "      <td>-0.510214</td>\n",
       "      <td>-1.009622</td>\n",
       "      <td>-1.025222</td>\n",
       "      <td>-1.767780</td>\n",
       "      <td>-1.038756</td>\n",
       "      <td>-1.147998</td>\n",
       "      <td>-1.170085</td>\n",
       "      <td>-1.105462</td>\n",
       "      <td>-1.208367</td>\n",
       "      <td>-1.332975</td>\n",
       "      <td>-1.555562</td>\n",
       "      <td>-0.133269</td>\n",
       "      <td>-1.479531</td>\n",
       "    </tr>\n",
       "  </tbody>\n",
       "</table>\n",
       "</div>"
      ],
      "text/plain": [
       "                  HEP3B217_LIVER  HEPG2_LIVER  HLE_LIVER  HLF_LIVER  \\\n",
       "RPL35 (11224)          -0.947656    -1.407482  -0.741374  -1.113086   \n",
       "RPL22L1 (200916)       -0.190847     0.231412   0.163986   0.156232   \n",
       "RPL7 (6129)            -1.601283    -2.074836  -0.830157  -1.456583   \n",
       "RPL22 (6146)            0.004091    -0.296002  -0.119879  -0.100592   \n",
       "RPL14 (9045)           -1.418388    -1.479847  -0.510214  -1.009622   \n",
       "\n",
       "                  HUH1_LIVER  HUH6_LIVER  HUH7_LIVER  JHH6_LIVER  JHH7_LIVER  \\\n",
       "RPL35 (11224)      -0.799700   -1.526076   -1.109535   -0.844920   -0.957350   \n",
       "RPL22L1 (200916)    0.095366    0.028222    0.141554    0.006147    0.103478   \n",
       "RPL7 (6129)        -1.573111   -1.664886   -1.205351   -1.383039   -1.742391   \n",
       "RPL22 (6146)        0.060547   -0.119848    0.105364   -0.018318   -0.176788   \n",
       "RPL14 (9045)       -1.025222   -1.767780   -1.038756   -1.147998   -1.170085   \n",
       "\n",
       "                  LI7_LIVER  SKHEP1_LIVER  SNU423_LIVER  SNU449_LIVER  \\\n",
       "RPL35 (11224)     -0.914482     -1.084982     -0.833286     -1.235654   \n",
       "RPL22L1 (200916)   0.422116      0.156272     -0.176433     -0.032283   \n",
       "RPL7 (6129)       -0.888298     -1.618011     -1.573703     -1.291111   \n",
       "RPL22 (6146)       0.086760      0.426377     -0.306231      0.050850   \n",
       "RPL14 (9045)      -1.105462     -1.208367     -1.332975     -1.555562   \n",
       "\n",
       "                  SNU761_LIVER  SNU886_LIVER  \n",
       "RPL35 (11224)        -0.164287     -1.296944  \n",
       "RPL22L1 (200916)     -0.176508     -0.105008  \n",
       "RPL7 (6129)          -0.365138     -1.522396  \n",
       "RPL22 (6146)         -0.066487      0.072867  \n",
       "RPL14 (9045)         -0.133269     -1.479531  "
      ]
     },
     "execution_count": 28,
     "metadata": {},
     "output_type": "execute_result"
    }
   ],
   "source": [
    "ribosomes"
   ]
  },
  {
   "cell_type": "code",
   "execution_count": 31,
   "metadata": {},
   "outputs": [
    {
     "data": {
      "text/plain": [
       "<AxesSubplot:>"
      ]
     },
     "execution_count": 31,
     "metadata": {},
     "output_type": "execute_result"
    },
    {
     "data": {
      "image/png": "[encoded data removed]",
      "text/plain": [
       "<Figure size 432x288 with 1 Axes>"
      ]
     },
     "metadata": {
      "needs_background": "light"
     },
     "output_type": "display_data"
    }
   ],
   "source": [
    "# lower the score, more essential the gene\n",
    "ribosomes.T.boxplot() # boxplot plot every column, so we need to transpose\n"
   ]
  },
  {
   "cell_type": "markdown",
   "metadata": {},
   "source": [
    "# calculate some statistics"
   ]
  },
  {
   "cell_type": "code",
   "execution_count": 36,
   "metadata": {},
   "outputs": [],
   "source": [
    "splice_u2 = depmap.loc[depmap.index.str.startswith('U2')]"
   ]
  },
  {
   "cell_type": "code",
   "execution_count": 37,
   "metadata": {},
   "outputs": [
    {
     "data": {
      "text/plain": [
       "127399_SOFT_TISSUE                            -0.830622\n",
       "1321N1_CENTRAL_NERVOUS_SYSTEM                 -0.778441\n",
       "2313287_STOMACH                               -0.824743\n",
       "697_HAEMATOPOIETIC_AND_LYMPHOID_TISSUE        -0.899779\n",
       "769P_KIDNEY                                   -0.745709\n",
       "                                                 ...   \n",
       "WM793_SKIN                                    -0.906700\n",
       "WM88_SKIN                                     -0.580972\n",
       "WSUDLCL2_HAEMATOPOIETIC_AND_LYMPHOID_TISSUE   -1.089368\n",
       "YD38_UPPER_AERODIGESTIVE_TRACT                -0.822610\n",
       "YMB1_BREAST                                   -1.166587\n",
       "Length: 397, dtype: float64"
      ]
     },
     "execution_count": 37,
     "metadata": {},
     "output_type": "execute_result"
    }
   ],
   "source": [
    "splice_u2.mean() # calculate mean dep score"
   ]
  },
  {
   "cell_type": "code",
   "execution_count": 38,
   "metadata": {},
   "outputs": [
    {
     "name": "stderr",
     "output_type": "stream",
     "text": [
      "/home/hsher/.local/lib/python3.7/site-packages/numpy/lib/nanfunctions.py:1114: RuntimeWarning: All-NaN slice encountered\n",
      "  overwrite_input=overwrite_input)\n"
     ]
    },
    {
     "data": {
      "text/plain": [
       "127399_SOFT_TISSUE                            -0.826865\n",
       "1321N1_CENTRAL_NERVOUS_SYSTEM                 -0.700801\n",
       "2313287_STOMACH                               -0.841065\n",
       "697_HAEMATOPOIETIC_AND_LYMPHOID_TISSUE        -0.866471\n",
       "769P_KIDNEY                                   -0.786469\n",
       "                                                 ...   \n",
       "WM793_SKIN                                    -1.048155\n",
       "WM88_SKIN                                     -0.390904\n",
       "WSUDLCL2_HAEMATOPOIETIC_AND_LYMPHOID_TISSUE   -1.135671\n",
       "YD38_UPPER_AERODIGESTIVE_TRACT                -0.802692\n",
       "YMB1_BREAST                                   -1.095500\n",
       "Length: 397, dtype: float64"
      ]
     },
     "execution_count": 38,
     "metadata": {},
     "output_type": "execute_result"
    }
   ],
   "source": [
    "splice_u2.median() # calculate mean dep score"
   ]
  },
  {
   "cell_type": "code",
   "execution_count": 39,
   "metadata": {},
   "outputs": [
    {
     "data": {
      "text/plain": [
       "127399_SOFT_TISSUE                             0.587833\n",
       "1321N1_CENTRAL_NERVOUS_SYSTEM                  0.400956\n",
       "2313287_STOMACH                                0.316574\n",
       "697_HAEMATOPOIETIC_AND_LYMPHOID_TISSUE         0.549132\n",
       "769P_KIDNEY                                    0.291715\n",
       "                                                 ...   \n",
       "WM793_SKIN                                     0.357032\n",
       "WM88_SKIN                                      0.666485\n",
       "WSUDLCL2_HAEMATOPOIETIC_AND_LYMPHOID_TISSUE    0.536088\n",
       "YD38_UPPER_AERODIGESTIVE_TRACT                 0.319005\n",
       "YMB1_BREAST                                    0.648274\n",
       "Length: 397, dtype: float64"
      ]
     },
     "execution_count": 39,
     "metadata": {},
     "output_type": "execute_result"
    }
   ],
   "source": [
    "splice_u2.std() # calculate standard deviation"
   ]
  },
  {
   "cell_type": "markdown",
   "metadata": {},
   "source": [
    "# useful plotting tools"
   ]
  },
  {
   "cell_type": "code",
   "execution_count": 40,
   "metadata": {},
   "outputs": [],
   "source": [
    "import matplotlib.pyplot as plt"
   ]
  },
  {
   "cell_type": "code",
   "execution_count": 47,
   "metadata": {},
   "outputs": [
    {
     "data": {
      "text/plain": [
       "Index(['HNF1A (6927)'], dtype='object')"
      ]
     },
     "execution_count": 47,
     "metadata": {},
     "output_type": "execute_result"
    }
   ],
   "source": [
    "depmap.index[depmap.index.str.contains('HNF1A')]"
   ]
  },
  {
   "cell_type": "code",
   "execution_count": 50,
   "metadata": {},
   "outputs": [
    {
     "data": {
      "text/plain": [
       "<matplotlib.legend.Legend at 0x2ade02168550>"
      ]
     },
     "execution_count": 50,
     "metadata": {},
     "output_type": "execute_result"
    },
    {
     "data": {
      "image/png": "[encoded data removed]",
      "text/plain": [
       "<Figure size 432x288 with 1 Axes>"
      ]
     },
     "metadata": {
      "needs_background": "light"
     },
     "output_type": "display_data"
    }
   ],
   "source": [
    "plt.scatter(depmap.loc['NRAS (4893)'], depmap.loc['HNF1A (6927)']) \n",
    "plt.xlabel('NRAS dependency')\n",
    "plt.ylabel('HNF1A dependency')\n",
    "\n",
    "# let's find out where hepg2 are\n",
    "plt.scatter(depmap.loc['NRAS (4893)', 'HEPG2_LIVER'], depmap.loc['HNF1A (6927)', 'HEPG2_LIVER'], color = 'red', label = 'hepG2')\n",
    "# these two targets are pretty selective to hepg2 cell line\n",
    "plt.legend()"
   ]
  },
  {
   "cell_type": "code",
   "execution_count": 52,
   "metadata": {},
   "outputs": [
    {
     "data": {
      "text/plain": [
       "<AxesSubplot:>"
      ]
     },
     "execution_count": 52,
     "metadata": {},
     "output_type": "execute_result"
    },
    {
     "data": {
      "image/png": "[encoded data removed]",
      "text/plain": [
       "<Figure size 432x288 with 2 Axes>"
      ]
     },
     "metadata": {
      "needs_background": "light"
     },
     "output_type": "display_data"
    }
   ],
   "source": [
    "import seaborn as sns\n",
    "sns.heatmap(ribosomes)"
   ]
  },
  {
   "cell_type": "code",
   "execution_count": 57,
   "metadata": {},
   "outputs": [
    {
     "data": {
      "text/plain": [
       "Index(['127399_SOFT_TISSUE', '1321N1_CENTRAL_NERVOUS_SYSTEM',\n",
       "       '2313287_STOMACH', '697_HAEMATOPOIETIC_AND_LYMPHOID_TISSUE',\n",
       "       '769P_KIDNEY', '786O_KIDNEY', '8305C_THYROID', '8505C_THYROID',\n",
       "       '921_UVEA', 'A101D_SKIN',\n",
       "       ...\n",
       "       'UMUC3_URINARY_TRACT', 'VMRCRCW_KIDNEY', 'WM115_SKIN', 'WM1799_SKIN',\n",
       "       'WM2664_SKIN', 'WM793_SKIN', 'WM88_SKIN',\n",
       "       'WSUDLCL2_HAEMATOPOIETIC_AND_LYMPHOID_TISSUE',\n",
       "       'YD38_UPPER_AERODIGESTIVE_TRACT', 'YMB1_BREAST'],\n",
       "      dtype='object', length=397)"
      ]
     },
     "execution_count": 57,
     "metadata": {},
     "output_type": "execute_result"
    }
   ],
   "source": [
    "depmap.columns"
   ]
  },
  {
   "cell_type": "code",
   "execution_count": 58,
   "metadata": {},
   "outputs": [],
   "source": [
    "ribosomes_blood = depmap.loc[depmap.index.str.startswith('RPL'), depmap.columns.str.contains('HAEMA')]"
   ]
  },
  {
   "cell_type": "code",
   "execution_count": 59,
   "metadata": {},
   "outputs": [
    {
     "data": {
      "text/plain": [
       "<AxesSubplot:>"
      ]
     },
     "execution_count": 59,
     "metadata": {},
     "output_type": "execute_result"
    },
    {
     "data": {
      "image/png": "[encoded data removed]",
      "text/plain": [
       "<Figure size 432x288 with 2 Axes>"
      ]
     },
     "metadata": {
      "needs_background": "light"
     },
     "output_type": "display_data"
    }
   ],
   "source": [
    "sns.heatmap(ribosomes_blood)"
   ]
  },
  {
   "cell_type": "markdown",
   "metadata": {},
   "source": [
    "# RBPs"
   ]
  },
  {
   "cell_type": "code",
   "execution_count": 61,
   "metadata": {},
   "outputs": [],
   "source": [
    "rbp = pd.read_excel('mmc2.xlsx', sheet_name = 'CandidateRBDpep')"
   ]
  },
  {
   "cell_type": "code",
   "execution_count": 62,
   "metadata": {},
   "outputs": [
    {
     "data": {
      "text/html": [
       "<div>\n",
       "<style scoped>\n",
       "    .dataframe tbody tr th:only-of-type {\n",
       "        vertical-align: middle;\n",
       "    }\n",
       "\n",
       "    .dataframe tbody tr th {\n",
       "        vertical-align: top;\n",
       "    }\n",
       "\n",
       "    .dataframe thead th {\n",
       "        text-align: right;\n",
       "    }\n",
       "</style>\n",
       "<table border=\"1\" class=\"dataframe\">\n",
       "  <thead>\n",
       "    <tr style=\"text-align: right;\">\n",
       "      <th></th>\n",
       "      <th>ENSG</th>\n",
       "      <th>ProtID</th>\n",
       "      <th>Symbol</th>\n",
       "      <th>MS-identified peptide</th>\n",
       "      <th>Start</th>\n",
       "      <th>Stop</th>\n",
       "      <th>category</th>\n",
       "      <th>Uniqueness</th>\n",
       "      <th>domain</th>\n",
       "      <th>enzyme</th>\n",
       "      <th>LysC/ArgC proteolytic fragment</th>\n",
       "      <th>fragmentStart</th>\n",
       "      <th>fragmentStop</th>\n",
       "    </tr>\n",
       "  </thead>\n",
       "  <tbody>\n",
       "    <tr>\n",
       "      <th>0</th>\n",
       "      <td>ENSG00000132541</td>\n",
       "      <td>P52758</td>\n",
       "      <td>HRSP12</td>\n",
       "      <td>AAGCDFTNVVK</td>\n",
       "      <td>68.0</td>\n",
       "      <td>78.0</td>\n",
       "      <td>CandidateRBDpep</td>\n",
       "      <td>UniqueGene</td>\n",
       "      <td>other</td>\n",
       "      <td>LysC</td>\n",
       "      <td>AAGCDFTNVVK</td>\n",
       "      <td>68.0</td>\n",
       "      <td>78.0</td>\n",
       "    </tr>\n",
       "    <tr>\n",
       "      <th>1</th>\n",
       "      <td>ENSG00000112651</td>\n",
       "      <td>Q5T653</td>\n",
       "      <td>MRPL2</td>\n",
       "      <td>AAGTCGVLLR</td>\n",
       "      <td>209.0</td>\n",
       "      <td>218.0</td>\n",
       "      <td>CandidateRBDpep</td>\n",
       "      <td>UniqueGene</td>\n",
       "      <td>other</td>\n",
       "      <td>LysC</td>\n",
       "      <td>RWIIATENMQAGDTILNSNHIGRMAVAAREGDAHPLGALPVGTLIN...</td>\n",
       "      <td>149.0</td>\n",
       "      <td>219.0</td>\n",
       "    </tr>\n",
       "    <tr>\n",
       "      <th>2</th>\n",
       "      <td>ENSG00000114867</td>\n",
       "      <td>Q04637</td>\n",
       "      <td>EIF4G1</td>\n",
       "      <td>AALSEEELEKK</td>\n",
       "      <td>1235.0</td>\n",
       "      <td>1245.0</td>\n",
       "      <td>CandidateRBDpep</td>\n",
       "      <td>UniqueGene</td>\n",
       "      <td>other</td>\n",
       "      <td>LysC</td>\n",
       "      <td>AALSEEELEKKSKAIIEEYLHLNDMK</td>\n",
       "      <td>1235.0</td>\n",
       "      <td>1260.0</td>\n",
       "    </tr>\n",
       "    <tr>\n",
       "      <th>3</th>\n",
       "      <td>ENSG00000167112</td>\n",
       "      <td>O95900</td>\n",
       "      <td>TRUB2</td>\n",
       "      <td>AATPQVAAELEK</td>\n",
       "      <td>285.0</td>\n",
       "      <td>296.0</td>\n",
       "      <td>CandidateRBDpep</td>\n",
       "      <td>UniqueGene</td>\n",
       "      <td>other</td>\n",
       "      <td>LysC</td>\n",
       "      <td>TTAVCTQVRRTRDGFFTLDSALLRTQWDLTNIQDAIRAATPQVAAELEK</td>\n",
       "      <td>248.0</td>\n",
       "      <td>296.0</td>\n",
       "    </tr>\n",
       "    <tr>\n",
       "      <th>4</th>\n",
       "      <td>ENSG00000040341</td>\n",
       "      <td>Q9NUL3</td>\n",
       "      <td>STAU2</td>\n",
       "      <td>AATTVLQELK</td>\n",
       "      <td>264.0</td>\n",
       "      <td>273.0</td>\n",
       "      <td>CandidateRBDpep</td>\n",
       "      <td>UniqueGene</td>\n",
       "      <td>classical</td>\n",
       "      <td>LysC</td>\n",
       "      <td>KLSKKRAATTVLQELK</td>\n",
       "      <td>258.0</td>\n",
       "      <td>273.0</td>\n",
       "    </tr>\n",
       "  </tbody>\n",
       "</table>\n",
       "</div>"
      ],
      "text/plain": [
       "              ENSG  ProtID  Symbol MS-identified peptide    Start    Stop  \\\n",
       "0  ENSG00000132541  P52758  HRSP12            AAGCDFTNVVK    68.0    78.0   \n",
       "1  ENSG00000112651  Q5T653   MRPL2             AAGTCGVLLR   209.0   218.0   \n",
       "2  ENSG00000114867  Q04637  EIF4G1            AALSEEELEKK  1235.0  1245.0   \n",
       "3  ENSG00000167112  O95900   TRUB2           AATPQVAAELEK   285.0   296.0   \n",
       "4  ENSG00000040341  Q9NUL3   STAU2             AATTVLQELK   264.0   273.0   \n",
       "\n",
       "          category  Uniqueness     domain enzyme  \\\n",
       "0  CandidateRBDpep  UniqueGene      other   LysC   \n",
       "1  CandidateRBDpep  UniqueGene      other   LysC   \n",
       "2  CandidateRBDpep  UniqueGene      other   LysC   \n",
       "3  CandidateRBDpep  UniqueGene      other   LysC   \n",
       "4  CandidateRBDpep  UniqueGene  classical   LysC   \n",
       "\n",
       "                     LysC/ArgC proteolytic fragment   fragmentStart  \\\n",
       "0                                        AAGCDFTNVVK           68.0   \n",
       "1  RWIIATENMQAGDTILNSNHIGRMAVAAREGDAHPLGALPVGTLIN...          149.0   \n",
       "2                         AALSEEELEKKSKAIIEEYLHLNDMK         1235.0   \n",
       "3  TTAVCTQVRRTRDGFFTLDSALLRTQWDLTNIQDAIRAATPQVAAELEK          248.0   \n",
       "4                                   KLSKKRAATTVLQELK          258.0   \n",
       "\n",
       "   fragmentStop  \n",
       "0          78.0  \n",
       "1         219.0  \n",
       "2        1260.0  \n",
       "3         296.0  \n",
       "4         273.0  "
      ]
     },
     "execution_count": 62,
     "metadata": {},
     "output_type": "execute_result"
    }
   ],
   "source": [
    "rbp.head()"
   ]
  },
  {
   "cell_type": "code",
   "execution_count": 64,
   "metadata": {},
   "outputs": [
    {
     "data": {
      "text/plain": [
       "0       HRSP12\n",
       "1        MRPL2\n",
       "2       EIF4G1\n",
       "3        TRUB2\n",
       "4        STAU2\n",
       "         ...  \n",
       "2340       NaN\n",
       "2341       NaN\n",
       "2342       NaN\n",
       "2343       NaN\n",
       "2344       NaN\n",
       "Name: Symbol, Length: 2345, dtype: object"
      ]
     },
     "execution_count": 64,
     "metadata": {},
     "output_type": "execute_result"
    }
   ],
   "source": [
    "# all we want is symbol\n",
    "rbp['Symbol']"
   ]
  },
  {
   "cell_type": "markdown",
   "metadata": {},
   "source": [
    "# What to do\n",
    "1. Find RBP HepG2 is dependent on\n",
    "2. Find RBP HepG2 is dependent on but not others (selective ones)\n",
    "3. Which function is HepG2 most dependent on (RBP function, see: [This paper Table S2](https://genomebiology.biomedcentral.com/articles/10.1186/s13059-020-01982-9#rightslink)\n",
    "\n",
    "## Next time we can use eCLIP data to look at what RNA these RBPs bind to."
   ]
  },
  {
   "cell_type": "code",
   "execution_count": null,
   "metadata": {},
   "outputs": [],
   "source": []
  }
 ],
 "metadata": {
  "kernelspec": {
   "display_name": "Python 3",
   "language": "python",
   "name": "python3"
  },
  "language_info": {
   "codemirror_mode": {
    "name": "ipython",
    "version": 3
   },
   "file_extension": ".py",
   "mimetype": "text/x-python",
   "name": "python",
   "nbconvert_exporter": "python",
   "pygments_lexer": "ipython3",
   "version": "3.7.6"
  }
 },
 "nbformat": 4,
 "nbformat_minor": 4
}
