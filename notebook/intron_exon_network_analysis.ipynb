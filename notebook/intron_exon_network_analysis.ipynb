{
 "cells": [
  {
   "cell_type": "markdown",
   "metadata": {},
   "source": [
    "# build 3'UTR and 5' UTR RBP networks\n",
    "\n",
    "- intra cell line similarity (dominant by RNA level)\n",
    "- compare with STRING and known complexes"
   ]
  },
  {
   "cell_type": "code",
   "execution_count": 1,
   "metadata": {},
   "outputs": [],
   "source": [
    "import pandas as pd\n",
    "intron = pd.read_pickle('~/projects/intron.pickle')\n",
    "exon = pd.read_pickle('~/projects/exon.pickle')"
   ]
  },
  {
   "cell_type": "code",
   "execution_count": 2,
   "metadata": {},
   "outputs": [
    {
     "data": {
      "text/html": [
       "<div>\n",
       "<style scoped>\n",
       "    .dataframe tbody tr th:only-of-type {\n",
       "        vertical-align: middle;\n",
       "    }\n",
       "\n",
       "    .dataframe tbody tr th {\n",
       "        vertical-align: top;\n",
       "    }\n",
       "\n",
       "    .dataframe thead th {\n",
       "        text-align: right;\n",
       "    }\n",
       "</style>\n",
       "<table border=\"1\" class=\"dataframe\">\n",
       "  <thead>\n",
       "    <tr style=\"text-align: right;\">\n",
       "      <th>8</th>\n",
       "      <th>ID=exon:ENST00000342066.8:14</th>\n",
       "      <th>ID=exon:ENST00000327044.7:19</th>\n",
       "      <th>ID=exon:ENST00000327044.7:18</th>\n",
       "      <th>ID=exon:ENST00000327044.7:17</th>\n",
       "      <th>ID=exon:ENST00000327044.7:16</th>\n",
       "      <th>ID=exon:ENST00000327044.7:15</th>\n",
       "      <th>ID=exon:ENST00000327044.7:14</th>\n",
       "      <th>ID=exon:ENST00000327044.7:13</th>\n",
       "      <th>ID=exon:ENST00000327044.7:12</th>\n",
       "      <th>ID=exon:ENST00000327044.7:10</th>\n",
       "      <th>...</th>\n",
       "      <th>ID=exon:ENST00000541639.5:11</th>\n",
       "      <th>ID=exon:ENST00000541639.5:10</th>\n",
       "      <th>ID=exon:ENST00000541639.5:9</th>\n",
       "      <th>ID=exon:ENST00000541639.5:8</th>\n",
       "      <th>ID=exon:ENST00000541639.5:7</th>\n",
       "      <th>ID=exon:ENST00000541639.5:6</th>\n",
       "      <th>ID=exon:ENST00000541639.5:5</th>\n",
       "      <th>ID=exon:ENST00000541639.5:4</th>\n",
       "      <th>ID=exon:ENST00000541639.5:3</th>\n",
       "      <th>ID=exon:ENST00000541639.5:2</th>\n",
       "    </tr>\n",
       "    <tr>\n",
       "      <th>uID</th>\n",
       "      <th></th>\n",
       "      <th></th>\n",
       "      <th></th>\n",
       "      <th></th>\n",
       "      <th></th>\n",
       "      <th></th>\n",
       "      <th></th>\n",
       "      <th></th>\n",
       "      <th></th>\n",
       "      <th></th>\n",
       "      <th></th>\n",
       "      <th></th>\n",
       "      <th></th>\n",
       "      <th></th>\n",
       "      <th></th>\n",
       "      <th></th>\n",
       "      <th></th>\n",
       "      <th></th>\n",
       "      <th></th>\n",
       "      <th></th>\n",
       "      <th></th>\n",
       "    </tr>\n",
       "  </thead>\n",
       "  <tbody>\n",
       "    <tr>\n",
       "      <th>203</th>\n",
       "      <td>0</td>\n",
       "      <td>0</td>\n",
       "      <td>0</td>\n",
       "      <td>0</td>\n",
       "      <td>0</td>\n",
       "      <td>0</td>\n",
       "      <td>0</td>\n",
       "      <td>0</td>\n",
       "      <td>0</td>\n",
       "      <td>0</td>\n",
       "      <td>...</td>\n",
       "      <td>0</td>\n",
       "      <td>0</td>\n",
       "      <td>0</td>\n",
       "      <td>0</td>\n",
       "      <td>0</td>\n",
       "      <td>0</td>\n",
       "      <td>0</td>\n",
       "      <td>0</td>\n",
       "      <td>0</td>\n",
       "      <td>0</td>\n",
       "    </tr>\n",
       "    <tr>\n",
       "      <th>204</th>\n",
       "      <td>0</td>\n",
       "      <td>0</td>\n",
       "      <td>0</td>\n",
       "      <td>0</td>\n",
       "      <td>0</td>\n",
       "      <td>0</td>\n",
       "      <td>0</td>\n",
       "      <td>0</td>\n",
       "      <td>0</td>\n",
       "      <td>0</td>\n",
       "      <td>...</td>\n",
       "      <td>0</td>\n",
       "      <td>0</td>\n",
       "      <td>0</td>\n",
       "      <td>0</td>\n",
       "      <td>0</td>\n",
       "      <td>0</td>\n",
       "      <td>0</td>\n",
       "      <td>0</td>\n",
       "      <td>0</td>\n",
       "      <td>0</td>\n",
       "    </tr>\n",
       "    <tr>\n",
       "      <th>205</th>\n",
       "      <td>0</td>\n",
       "      <td>0</td>\n",
       "      <td>0</td>\n",
       "      <td>0</td>\n",
       "      <td>0</td>\n",
       "      <td>0</td>\n",
       "      <td>0</td>\n",
       "      <td>0</td>\n",
       "      <td>0</td>\n",
       "      <td>0</td>\n",
       "      <td>...</td>\n",
       "      <td>0</td>\n",
       "      <td>0</td>\n",
       "      <td>0</td>\n",
       "      <td>0</td>\n",
       "      <td>0</td>\n",
       "      <td>0</td>\n",
       "      <td>0</td>\n",
       "      <td>0</td>\n",
       "      <td>0</td>\n",
       "      <td>0</td>\n",
       "    </tr>\n",
       "    <tr>\n",
       "      <th>206</th>\n",
       "      <td>0</td>\n",
       "      <td>0</td>\n",
       "      <td>0</td>\n",
       "      <td>0</td>\n",
       "      <td>0</td>\n",
       "      <td>0</td>\n",
       "      <td>0</td>\n",
       "      <td>0</td>\n",
       "      <td>0</td>\n",
       "      <td>0</td>\n",
       "      <td>...</td>\n",
       "      <td>0</td>\n",
       "      <td>0</td>\n",
       "      <td>0</td>\n",
       "      <td>0</td>\n",
       "      <td>0</td>\n",
       "      <td>0</td>\n",
       "      <td>0</td>\n",
       "      <td>0</td>\n",
       "      <td>0</td>\n",
       "      <td>0</td>\n",
       "    </tr>\n",
       "    <tr>\n",
       "      <th>209</th>\n",
       "      <td>0</td>\n",
       "      <td>0</td>\n",
       "      <td>0</td>\n",
       "      <td>0</td>\n",
       "      <td>0</td>\n",
       "      <td>0</td>\n",
       "      <td>0</td>\n",
       "      <td>0</td>\n",
       "      <td>0</td>\n",
       "      <td>0</td>\n",
       "      <td>...</td>\n",
       "      <td>0</td>\n",
       "      <td>0</td>\n",
       "      <td>0</td>\n",
       "      <td>0</td>\n",
       "      <td>0</td>\n",
       "      <td>0</td>\n",
       "      <td>0</td>\n",
       "      <td>0</td>\n",
       "      <td>0</td>\n",
       "      <td>0</td>\n",
       "    </tr>\n",
       "  </tbody>\n",
       "</table>\n",
       "<p>5 rows × 82252 columns</p>\n",
       "</div>"
      ],
      "text/plain": [
       "8    ID=exon:ENST00000342066.8:14  ID=exon:ENST00000327044.7:19  \\\n",
       "uID                                                               \n",
       "203                             0                             0   \n",
       "204                             0                             0   \n",
       "205                             0                             0   \n",
       "206                             0                             0   \n",
       "209                             0                             0   \n",
       "\n",
       "8    ID=exon:ENST00000327044.7:18  ID=exon:ENST00000327044.7:17  \\\n",
       "uID                                                               \n",
       "203                             0                             0   \n",
       "204                             0                             0   \n",
       "205                             0                             0   \n",
       "206                             0                             0   \n",
       "209                             0                             0   \n",
       "\n",
       "8    ID=exon:ENST00000327044.7:16  ID=exon:ENST00000327044.7:15  \\\n",
       "uID                                                               \n",
       "203                             0                             0   \n",
       "204                             0                             0   \n",
       "205                             0                             0   \n",
       "206                             0                             0   \n",
       "209                             0                             0   \n",
       "\n",
       "8    ID=exon:ENST00000327044.7:14  ID=exon:ENST00000327044.7:13  \\\n",
       "uID                                                               \n",
       "203                             0                             0   \n",
       "204                             0                             0   \n",
       "205                             0                             0   \n",
       "206                             0                             0   \n",
       "209                             0                             0   \n",
       "\n",
       "8    ID=exon:ENST00000327044.7:12  ID=exon:ENST00000327044.7:10  ...  \\\n",
       "uID                                                              ...   \n",
       "203                             0                             0  ...   \n",
       "204                             0                             0  ...   \n",
       "205                             0                             0  ...   \n",
       "206                             0                             0  ...   \n",
       "209                             0                             0  ...   \n",
       "\n",
       "8    ID=exon:ENST00000541639.5:11  ID=exon:ENST00000541639.5:10  \\\n",
       "uID                                                               \n",
       "203                             0                             0   \n",
       "204                             0                             0   \n",
       "205                             0                             0   \n",
       "206                             0                             0   \n",
       "209                             0                             0   \n",
       "\n",
       "8    ID=exon:ENST00000541639.5:9  ID=exon:ENST00000541639.5:8  \\\n",
       "uID                                                             \n",
       "203                            0                            0   \n",
       "204                            0                            0   \n",
       "205                            0                            0   \n",
       "206                            0                            0   \n",
       "209                            0                            0   \n",
       "\n",
       "8    ID=exon:ENST00000541639.5:7  ID=exon:ENST00000541639.5:6  \\\n",
       "uID                                                             \n",
       "203                            0                            0   \n",
       "204                            0                            0   \n",
       "205                            0                            0   \n",
       "206                            0                            0   \n",
       "209                            0                            0   \n",
       "\n",
       "8    ID=exon:ENST00000541639.5:5  ID=exon:ENST00000541639.5:4  \\\n",
       "uID                                                             \n",
       "203                            0                            0   \n",
       "204                            0                            0   \n",
       "205                            0                            0   \n",
       "206                            0                            0   \n",
       "209                            0                            0   \n",
       "\n",
       "8    ID=exon:ENST00000541639.5:3  ID=exon:ENST00000541639.5:2  \n",
       "uID                                                            \n",
       "203                            0                            0  \n",
       "204                            0                            0  \n",
       "205                            0                            0  \n",
       "206                            0                            0  \n",
       "209                            0                            0  \n",
       "\n",
       "[5 rows x 82252 columns]"
      ]
     },
     "execution_count": 2,
     "metadata": {},
     "output_type": "execute_result"
    }
   ],
   "source": [
    "exon.head()"
   ]
  },
  {
   "cell_type": "markdown",
   "metadata": {},
   "source": [
    "# similarity between cell lines"
   ]
  },
  {
   "cell_type": "code",
   "execution_count": 3,
   "metadata": {},
   "outputs": [],
   "source": [
    "eclip_bam = pd.read_csv('/home/hsher/projects/peak_calling/ENCODE_FINAL_ANNOTATIONS.uidsonly.txt.manifesthg38.txt', sep = '\\t', header= 0)"
   ]
  },
  {
   "cell_type": "code",
   "execution_count": 4,
   "metadata": {},
   "outputs": [],
   "source": [
    "all_pairs = []\n",
    "for name, g in eclip_bam.groupby(by = 'RBP'):\n",
    "    pair = g['uID'].tolist()\n",
    "    if len(pair) == 2:\n",
    "        all_pairs.append(pair)"
   ]
  },
  {
   "cell_type": "code",
   "execution_count": 5,
   "metadata": {},
   "outputs": [
    {
     "data": {
      "text/plain": [
       "[['537', '543'],\n",
       " ['697', '708'],\n",
       " ['670', '762'],\n",
       " ['497', '508'],\n",
       " ['275', '292'],\n",
       " ['350', '492'],\n",
       " ['642', '681'],\n",
       " ['550', '595'],\n",
       " ['577', '589'],\n",
       " ['341', '383'],\n",
       " ['654', '682'],\n",
       " ['481', '575'],\n",
       " ['582', '631'],\n",
       " ['491', '722reseq2'],\n",
       " ['279', '297'],\n",
       " ['460', '649'],\n",
       " ['464', '723reseq1'],\n",
       " ['689', '694'],\n",
       " ['237', '713'],\n",
       " ['628', '645'],\n",
       " ['342', '384'],\n",
       " ['522', '651'],\n",
       " ['247', '283'],\n",
       " ['203', '699'],\n",
       " ['206', '326'],\n",
       " ['560', '678'],\n",
       " ['222', '224'],\n",
       " ['249', '281'],\n",
       " ['289', '321'],\n",
       " ['205', '220'],\n",
       " ['338', '493'],\n",
       " ['439', '755'],\n",
       " ['461', '558'],\n",
       " ['243', '298'],\n",
       " ['325', '387'],\n",
       " ['444', '592'],\n",
       " ['695', '716'],\n",
       " ['477', '566'],\n",
       " ['516', '553'],\n",
       " ['692', '719'],\n",
       " ['278', '291'],\n",
       " ['368', '696'],\n",
       " ['466', '478'],\n",
       " ['204', '676'],\n",
       " ['514', '552'],\n",
       " ['331', '494'],\n",
       " ['530', '540'],\n",
       " ['745', '746'],\n",
       " ['740', '744'],\n",
       " ['228', '507'],\n",
       " ['227', '256'],\n",
       " ['344', '445'],\n",
       " ['302', '316'],\n",
       " ['301', '312'],\n",
       " ['209', '376'],\n",
       " ['730', '738'],\n",
       " ['650', '663'],\n",
       " ['339', '388'],\n",
       " ['584', '617'],\n",
       " ['215', '285'],\n",
       " ['218', '240'],\n",
       " ['447', '503'],\n",
       " ['244', '282'],\n",
       " ['242', '272'],\n",
       " ['610', '629'],\n",
       " ['465', '726'],\n",
       " ['621', '686'],\n",
       " ['517', '602'],\n",
       " ['311', '480'],\n",
       " ['245', '235x4000'],\n",
       " ['551', '729'],\n",
       " ['641', '684'],\n",
       " ['737', '743']]"
      ]
     },
     "execution_count": 5,
     "metadata": {},
     "output_type": "execute_result"
    }
   ],
   "source": [
    "all_pairs"
   ]
  },
  {
   "cell_type": "code",
   "execution_count": 6,
   "metadata": {},
   "outputs": [],
   "source": [
    "from sklearn.metrics import jaccard_similarity_score \n",
    "def cell_line_rep_similarity(df):\n",
    "    '''\n",
    "    input: pandas dataframe, row = RBP uID, columns = features\n",
    "    output: intra cell-line replicate jaccard similarity\n",
    "    '''\n",
    "    intra_similarity = []\n",
    "\n",
    "    for pair in all_pairs:\n",
    "        if pair[0] in df.index and pair[1] in df.index:\n",
    "            intra_similarity.append(jaccard_similarity_score(df.loc[pair[1]].values, df.loc[pair[0]].values))\n",
    "    return intra_similarity"
   ]
  },
  {
   "cell_type": "code",
   "execution_count": 7,
   "metadata": {},
   "outputs": [
    {
     "name": "stderr",
     "output_type": "stream",
     "text": [
      "/home/hsher/miniconda3/lib/python3.7/site-packages/sklearn/metrics/_classification.py:664: FutureWarning: jaccard_similarity_score has been deprecated and replaced with jaccard_score. It will be removed in version 0.23. This implementation has surprising behavior for binary and multiclass classification tasks.\n",
      "  FutureWarning)\n"
     ]
    },
    {
     "data": {
      "text/plain": [
       "Text(0.5, 1.0, 'intron cell line replicates')"
      ]
     },
     "execution_count": 7,
     "metadata": {},
     "output_type": "execute_result"
    },
    {
     "data": {
      "image/png": "[encoded data removed]",
      "text/plain": [
       "<Figure size 432x288 with 1 Axes>"
      ]
     },
     "metadata": {
      "needs_background": "light"
     },
     "output_type": "display_data"
    }
   ],
   "source": [
    "import matplotlib.pyplot as plt\n",
    "plt.hist(cell_line_rep_similarity(intron), bins = 20)\n",
    "plt.xlabel('jaccard similarity')\n",
    "plt.ylabel('No. pairs RBP cell line replicates')\n",
    "plt.title('intron cell line replicates')"
   ]
  },
  {
   "cell_type": "code",
   "execution_count": 8,
   "metadata": {},
   "outputs": [
    {
     "data": {
      "text/plain": [
       "Text(0.5, 1.0, 'exon cell line replicates')"
      ]
     },
     "execution_count": 8,
     "metadata": {},
     "output_type": "execute_result"
    },
    {
     "data": {
      "image/png": "[encoded data removed]",
      "text/plain": [
       "<Figure size 432x288 with 1 Axes>"
      ]
     },
     "metadata": {
      "needs_background": "light"
     },
     "output_type": "display_data"
    }
   ],
   "source": [
    "import matplotlib.pyplot as plt\n",
    "plt.hist(cell_line_rep_similarity(exon), bins = 20)\n",
    "plt.xlabel('jaccard similarity')\n",
    "plt.ylabel('No. pairs RBP cell line replicates')\n",
    "plt.title('exon cell line replicates')"
   ]
  },
  {
   "cell_type": "markdown",
   "metadata": {},
   "source": [
    "# Calculate overall binding\n",
    "since the two cell line replicates are quite similar, we shall merge the two entry"
   ]
  },
  {
   "cell_type": "code",
   "execution_count": 9,
   "metadata": {},
   "outputs": [],
   "source": [
    "def merge_cell_line_replicates(df):\n",
    "    merged_df = pd.DataFrame(columns = df.columns)\n",
    "    for name, g in eclip_bam.groupby(by = 'RBP'):\n",
    "        if len(set(g['uID']).intersection(df.index))== g.shape[0]:\n",
    "            if g.shape[0] == 1: # only in 1 cell line\n",
    "                merged_df = merged_df.append(df.loc[g['uID'].values], ignore_index = False)\n",
    "            else:\n",
    "                \n",
    "                combined_peak = 1-(1-df.loc[g['uID'].iloc[0]]).multiply(1-df.loc[g['uID'].iloc[1]])\n",
    "                combined_peak.name = g['uID'].iloc[0]\n",
    "                #print(df.loc[g['uID']].append(combined_peak))\n",
    "                merged_df = merged_df.append(combined_peak, ignore_index = False)\n",
    "    return merged_df"
   ]
  },
  {
   "cell_type": "code",
   "execution_count": 10,
   "metadata": {},
   "outputs": [],
   "source": [
    "exon_merged = merge_cell_line_replicates(exon)"
   ]
  },
  {
   "cell_type": "code",
   "execution_count": 11,
   "metadata": {},
   "outputs": [
    {
     "data": {
      "text/plain": [
       "Text(0.5, 0, 'No. RBP per exon')"
      ]
     },
     "execution_count": 11,
     "metadata": {},
     "output_type": "execute_result"
    },
    {
     "data": {
      "image/png": "[encoded data removed]",
      "text/plain": [
       "<Figure size 432x288 with 1 Axes>"
      ]
     },
     "metadata": {
      "needs_background": "light"
     },
     "output_type": "display_data"
    }
   ],
   "source": [
    "exon_merged.sum(axis = 0).plot.hist(bins = 20)# number of RBP binding per transcript\n",
    "plt.xlabel('No. RBP per exon')"
   ]
  },
  {
   "cell_type": "code",
   "execution_count": 12,
   "metadata": {},
   "outputs": [
    {
     "data": {
      "text/plain": [
       "Text(0.5, 0, 'No. exon per RBP')"
      ]
     },
     "execution_count": 12,
     "metadata": {},
     "output_type": "execute_result"
    },
    {
     "data": {
      "image/png": "[encoded data removed]",
      "text/plain": [
       "<Figure size 432x288 with 1 Axes>"
      ]
     },
     "metadata": {
      "needs_background": "light"
     },
     "output_type": "display_data"
    }
   ],
   "source": [
    "exon_merged.sum(axis = 1).plot.hist(bins = 20)# how many transcript one RBP binds to\n",
    "plt.xlabel('No. exon per RBP')"
   ]
  },
  {
   "cell_type": "code",
   "execution_count": 13,
   "metadata": {},
   "outputs": [],
   "source": [
    "intron_merged = merge_cell_line_replicates(intron)"
   ]
  },
  {
   "cell_type": "code",
   "execution_count": 14,
   "metadata": {},
   "outputs": [
    {
     "data": {
      "text/plain": [
       "Text(0.5, 0, 'No. RBP per intron')"
      ]
     },
     "execution_count": 14,
     "metadata": {},
     "output_type": "execute_result"
    },
    {
     "data": {
      "image/png": "[encoded data removed]",
      "text/plain": [
       "<Figure size 432x288 with 1 Axes>"
      ]
     },
     "metadata": {
      "needs_background": "light"
     },
     "output_type": "display_data"
    }
   ],
   "source": [
    "intron_merged.sum(axis = 0).plot.hist(bins = 20)# number of RBP binding per transcript\n",
    "plt.xlabel('No. RBP per intron')"
   ]
  },
  {
   "cell_type": "code",
   "execution_count": 15,
   "metadata": {},
   "outputs": [
    {
     "data": {
      "text/plain": [
       "Text(0.5, 0, 'No. intron per RBP')"
      ]
     },
     "execution_count": 15,
     "metadata": {},
     "output_type": "execute_result"
    },
    {
     "data": {
      "image/png": "[encoded data removed]",
      "text/plain": [
       "<Figure size 432x288 with 1 Axes>"
      ]
     },
     "metadata": {
      "needs_background": "light"
     },
     "output_type": "display_data"
    }
   ],
   "source": [
    "exon_merged.sum(axis = 1).plot.hist(bins = 20)# number of RBP binding per transcript\n",
    "plt.xlabel('No. intron per RBP')"
   ]
  },
  {
   "cell_type": "code",
   "execution_count": 16,
   "metadata": {},
   "outputs": [
    {
     "data": {
      "text/plain": [
       "15      SF3B4\n",
       "21      U2AF2\n",
       "34      PRPF8\n",
       "52     LIN28B\n",
       "62      DDX3X\n",
       "100     DDX24\n",
       "106      PPIG\n",
       "107     BUD13\n",
       "129      YBX3\n",
       "137    ZNF622\n",
       "152     UCHL5\n",
       "158     GRWD1\n",
       "163    BCLAF1\n",
       "174       AQR\n",
       "Name: RBP, dtype: object"
      ]
     },
     "execution_count": 16,
     "metadata": {},
     "output_type": "execute_result"
    }
   ],
   "source": [
    "# top exon binding RBP\n",
    "#eclip_bam.set_index('uID', inplace = True)\n",
    "eclip_bam.loc[eclip_bam['uID'].isin(exon_merged.loc[exon_merged.sum(axis = 1) > 5000].index), 'RBP']"
   ]
  },
  {
   "cell_type": "code",
   "execution_count": 17,
   "metadata": {},
   "outputs": [
    {
     "data": {
      "text/plain": [
       "1      RBFOX2\n",
       "3      HNRNPK\n",
       "10     HNRNPM\n",
       "15      SF3B4\n",
       "21      U2AF2\n",
       "33     CSTF2T\n",
       "34      PRPF8\n",
       "57     TARDBP\n",
       "61      PCBP2\n",
       "68      PTBP1\n",
       "81      KHSRP\n",
       "93        QKI\n",
       "106      PPIG\n",
       "107     BUD13\n",
       "134    HNRNPL\n",
       "142    EFTUD2\n",
       "152     UCHL5\n",
       "158     GRWD1\n",
       "163    BCLAF1\n",
       "174       AQR\n",
       "215     PRPF4\n",
       "Name: RBP, dtype: object"
      ]
     },
     "execution_count": 17,
     "metadata": {},
     "output_type": "execute_result"
    }
   ],
   "source": [
    "eclip_bam.loc[eclip_bam['uID'].isin(intron_merged.loc[intron_merged.sum(axis = 1) > 5000].index), 'RBP']"
   ]
  },
  {
   "cell_type": "code",
   "execution_count": 18,
   "metadata": {},
   "outputs": [],
   "source": [
    "from sklearn.metrics.pairwise import pairwise_distances\n",
    "import numpy as np\n",
    "def jaccard_distribution(df):\n",
    "    jac_sim = 1 - pairwise_distances(df.values, metric = \"jaccard\") # jaccard = disagree(does not include 0)\n",
    "    rbp_name = eclip_bam.loc[eclip_bam['uID'].isin(df.index), 'RBP']\n",
    "    print(rbp_name)\n",
    "    jac_df = pd.DataFrame(jac_sim, index = rbp_name.values, columns = rbp_name.values)\n",
    "    \n",
    "    # to edgelist\n",
    "    jac_df = jac_df.stack().reset_index()\n",
    "    # rename the columns\n",
    "    jac_df.columns = ['protein_one_name', 'protein_two_name', 'jaccard_similarity']\n",
    "\n",
    "    # create a mask to identify rows with duplicate features as mentioned above\n",
    "    mask_dups = (jac_df[['protein_one_name', 'protein_two_name']].apply(frozenset, axis=1).duplicated()) | (jac_df['protein_one_name']==jac_df['protein_two_name']) \n",
    "\n",
    "    # apply the mask to clean the correlation dataframe\n",
    "    jac_df = jac_df[~mask_dups]\n",
    "    \n",
    "    \n",
    "    return(jac_df)"
   ]
  },
  {
   "cell_type": "code",
   "execution_count": 19,
   "metadata": {},
   "outputs": [
    {
     "name": "stderr",
     "output_type": "stream",
     "text": [
      "/home/hsher/miniconda3/lib/python3.7/site-packages/sklearn/metrics/pairwise.py:1735: DataConversionWarning: Data was converted to boolean for metric jaccard\n",
      "  warnings.warn(msg, DataConversionWarning)\n"
     ]
    },
    {
     "name": "stdout",
     "output_type": "stream",
     "text": [
      "0        HNRNPC\n",
      "1        RBFOX2\n",
      "2       IGF2BP1\n",
      "3        HNRNPK\n",
      "4         SRSF7\n",
      "         ...   \n",
      "215       PRPF4\n",
      "216       TIAL1\n",
      "220       DDX21\n",
      "221    APOBEC3C\n",
      "222        SUB1\n",
      "Name: RBP, Length: 147, dtype: object\n"
     ]
    },
    {
     "data": {
      "text/plain": [
       "(array([6.437e+03, 1.685e+03, 7.860e+02, 5.100e+02, 2.990e+02, 2.070e+02,\n",
       "        1.520e+02, 1.250e+02, 9.600e+01, 6.000e+01, 6.100e+01, 4.500e+01,\n",
       "        4.000e+01, 3.500e+01, 2.400e+01, 2.000e+01, 2.900e+01, 2.200e+01,\n",
       "        1.300e+01, 6.000e+00, 1.200e+01, 1.200e+01, 5.000e+00, 6.000e+00,\n",
       "        2.000e+00, 4.000e+00, 6.000e+00, 4.000e+00, 2.000e+00, 1.000e+00,\n",
       "        4.000e+00, 3.000e+00, 2.000e+00, 4.000e+00, 2.000e+00, 2.000e+00,\n",
       "        0.000e+00, 3.000e+00, 1.000e+00, 1.000e+00, 0.000e+00, 0.000e+00,\n",
       "        0.000e+00, 0.000e+00, 1.000e+00, 1.000e+00, 0.000e+00, 0.000e+00,\n",
       "        0.000e+00, 1.000e+00]),\n",
       " array([0.        , 0.00698389, 0.01396778, 0.02095167, 0.02793556,\n",
       "        0.03491945, 0.04190335, 0.04888724, 0.05587113, 0.06285502,\n",
       "        0.06983891, 0.0768228 , 0.08380669, 0.09079058, 0.09777447,\n",
       "        0.10475836, 0.11174226, 0.11872615, 0.12571004, 0.13269393,\n",
       "        0.13967782, 0.14666171, 0.1536456 , 0.16062949, 0.16761338,\n",
       "        0.17459727, 0.18158116, 0.18856506, 0.19554895, 0.20253284,\n",
       "        0.20951673, 0.21650062, 0.22348451, 0.2304684 , 0.23745229,\n",
       "        0.24443618, 0.25142007, 0.25840397, 0.26538786, 0.27237175,\n",
       "        0.27935564, 0.28633953, 0.29332342, 0.30030731, 0.3072912 ,\n",
       "        0.31427509, 0.32125898, 0.32824287, 0.33522677, 0.34221066,\n",
       "        0.34919455]),\n",
       " <a list of 50 Patch objects>)"
      ]
     },
     "execution_count": 19,
     "metadata": {},
     "output_type": "execute_result"
    },
    {
     "data": {
      "image/png": "[encoded data removed]",
      "text/plain": [
       "<Figure size 432x288 with 1 Axes>"
      ]
     },
     "metadata": {
      "needs_background": "light"
     },
     "output_type": "display_data"
    }
   ],
   "source": [
    "exon_jac = jaccard_distribution(exon_merged)\n",
    "plt.hist(exon_jac['jaccard_similarity'], bins = 50)"
   ]
  },
  {
   "cell_type": "code",
   "execution_count": 20,
   "metadata": {},
   "outputs": [
    {
     "name": "stderr",
     "output_type": "stream",
     "text": [
      "/home/hsher/miniconda3/lib/python3.7/site-packages/sklearn/metrics/pairwise.py:1735: DataConversionWarning: Data was converted to boolean for metric jaccard\n",
      "  warnings.warn(msg, DataConversionWarning)\n"
     ]
    },
    {
     "name": "stdout",
     "output_type": "stream",
     "text": [
      "0        HNRNPC\n",
      "1        RBFOX2\n",
      "2       IGF2BP1\n",
      "3        HNRNPK\n",
      "4         SRSF7\n",
      "         ...   \n",
      "215       PRPF4\n",
      "216       TIAL1\n",
      "220       DDX21\n",
      "221    APOBEC3C\n",
      "222        SUB1\n",
      "Name: RBP, Length: 149, dtype: object\n"
     ]
    },
    {
     "data": {
      "text/plain": [
       "(array([4.819e+03, 1.704e+03, 1.136e+03, 8.870e+02, 6.590e+02, 4.660e+02,\n",
       "        3.430e+02, 2.340e+02, 1.930e+02, 1.260e+02, 9.900e+01, 7.200e+01,\n",
       "        6.000e+01, 5.000e+01, 3.100e+01, 3.200e+01, 2.300e+01, 2.400e+01,\n",
       "        1.600e+01, 1.200e+01, 6.000e+00, 5.000e+00, 7.000e+00, 3.000e+00,\n",
       "        2.000e+00, 5.000e+00, 0.000e+00, 1.000e+00, 0.000e+00, 1.000e+00,\n",
       "        5.000e+00, 0.000e+00, 2.000e+00, 0.000e+00, 1.000e+00, 1.000e+00,\n",
       "        0.000e+00, 0.000e+00, 0.000e+00, 0.000e+00, 0.000e+00, 0.000e+00,\n",
       "        0.000e+00, 0.000e+00, 0.000e+00, 0.000e+00, 0.000e+00, 0.000e+00,\n",
       "        0.000e+00, 1.000e+00]),\n",
       " array([0.   , 0.012, 0.024, 0.036, 0.048, 0.06 , 0.072, 0.084, 0.096,\n",
       "        0.108, 0.12 , 0.132, 0.144, 0.156, 0.168, 0.18 , 0.192, 0.204,\n",
       "        0.216, 0.228, 0.24 , 0.252, 0.264, 0.276, 0.288, 0.3  , 0.312,\n",
       "        0.324, 0.336, 0.348, 0.36 , 0.372, 0.384, 0.396, 0.408, 0.42 ,\n",
       "        0.432, 0.444, 0.456, 0.468, 0.48 , 0.492, 0.504, 0.516, 0.528,\n",
       "        0.54 , 0.552, 0.564, 0.576, 0.588, 0.6  ]),\n",
       " <a list of 50 Patch objects>)"
      ]
     },
     "execution_count": 20,
     "metadata": {},
     "output_type": "execute_result"
    },
    {
     "data": {
      "image/png": "[encoded data removed]",
      "text/plain": [
       "<Figure size 432x288 with 1 Axes>"
      ]
     },
     "metadata": {
      "needs_background": "light"
     },
     "output_type": "display_data"
    }
   ],
   "source": [
    "intron_jac= jaccard_distribution(intron_merged)\n",
    "plt.hist(intron_jac['jaccard_similarity'], bins = 50)"
   ]
  },
  {
   "cell_type": "markdown",
   "metadata": {},
   "source": [
    "# Correlate with string ppi"
   ]
  },
  {
   "cell_type": "code",
   "execution_count": 21,
   "metadata": {},
   "outputs": [],
   "source": [
    "string = pd.read_pickle('~/projects/peak_calling/string_rbp_in.pickle')"
   ]
  },
  {
   "cell_type": "code",
   "execution_count": 22,
   "metadata": {},
   "outputs": [
    {
     "data": {
      "text/html": [
       "<div>\n",
       "<style scoped>\n",
       "    .dataframe tbody tr th:only-of-type {\n",
       "        vertical-align: middle;\n",
       "    }\n",
       "\n",
       "    .dataframe tbody tr th {\n",
       "        vertical-align: top;\n",
       "    }\n",
       "\n",
       "    .dataframe thead th {\n",
       "        text-align: right;\n",
       "    }\n",
       "</style>\n",
       "<table border=\"1\" class=\"dataframe\">\n",
       "  <thead>\n",
       "    <tr style=\"text-align: right;\">\n",
       "      <th></th>\n",
       "      <th>item_id_a</th>\n",
       "      <th>item_id_b</th>\n",
       "      <th>mode</th>\n",
       "      <th>action</th>\n",
       "      <th>is_directional</th>\n",
       "      <th>a_is_acting</th>\n",
       "      <th>score</th>\n",
       "      <th>protein_one</th>\n",
       "      <th>protein_two</th>\n",
       "    </tr>\n",
       "  </thead>\n",
       "  <tbody>\n",
       "    <tr>\n",
       "      <th>23473</th>\n",
       "      <td>9606.ENSP00000156109</td>\n",
       "      <td>9606.ENSP00000156471</td>\n",
       "      <td>binding</td>\n",
       "      <td>NaN</td>\n",
       "      <td>f</td>\n",
       "      <td>f</td>\n",
       "      <td>901</td>\n",
       "      <td>ENSP00000156109</td>\n",
       "      <td>ENSP00000156471</td>\n",
       "    </tr>\n",
       "    <tr>\n",
       "      <th>23474</th>\n",
       "      <td>9606.ENSP00000156109</td>\n",
       "      <td>9606.ENSP00000156471</td>\n",
       "      <td>catalysis</td>\n",
       "      <td>NaN</td>\n",
       "      <td>t</td>\n",
       "      <td>f</td>\n",
       "      <td>901</td>\n",
       "      <td>ENSP00000156109</td>\n",
       "      <td>ENSP00000156471</td>\n",
       "    </tr>\n",
       "    <tr>\n",
       "      <th>23475</th>\n",
       "      <td>9606.ENSP00000156109</td>\n",
       "      <td>9606.ENSP00000156471</td>\n",
       "      <td>catalysis</td>\n",
       "      <td>NaN</td>\n",
       "      <td>t</td>\n",
       "      <td>t</td>\n",
       "      <td>901</td>\n",
       "      <td>ENSP00000156109</td>\n",
       "      <td>ENSP00000156471</td>\n",
       "    </tr>\n",
       "    <tr>\n",
       "      <th>23476</th>\n",
       "      <td>9606.ENSP00000156109</td>\n",
       "      <td>9606.ENSP00000156471</td>\n",
       "      <td>reaction</td>\n",
       "      <td>NaN</td>\n",
       "      <td>f</td>\n",
       "      <td>f</td>\n",
       "      <td>901</td>\n",
       "      <td>ENSP00000156109</td>\n",
       "      <td>ENSP00000156471</td>\n",
       "    </tr>\n",
       "    <tr>\n",
       "      <th>23477</th>\n",
       "      <td>9606.ENSP00000156109</td>\n",
       "      <td>9606.ENSP00000156471</td>\n",
       "      <td>reaction</td>\n",
       "      <td>NaN</td>\n",
       "      <td>t</td>\n",
       "      <td>f</td>\n",
       "      <td>901</td>\n",
       "      <td>ENSP00000156109</td>\n",
       "      <td>ENSP00000156471</td>\n",
       "    </tr>\n",
       "  </tbody>\n",
       "</table>\n",
       "</div>"
      ],
      "text/plain": [
       "                  item_id_a             item_id_b       mode action  \\\n",
       "23473  9606.ENSP00000156109  9606.ENSP00000156471    binding    NaN   \n",
       "23474  9606.ENSP00000156109  9606.ENSP00000156471  catalysis    NaN   \n",
       "23475  9606.ENSP00000156109  9606.ENSP00000156471  catalysis    NaN   \n",
       "23476  9606.ENSP00000156109  9606.ENSP00000156471   reaction    NaN   \n",
       "23477  9606.ENSP00000156109  9606.ENSP00000156471   reaction    NaN   \n",
       "\n",
       "      is_directional a_is_acting  score      protein_one      protein_two  \n",
       "23473              f           f    901  ENSP00000156109  ENSP00000156471  \n",
       "23474              t           f    901  ENSP00000156109  ENSP00000156471  \n",
       "23475              t           t    901  ENSP00000156109  ENSP00000156471  \n",
       "23476              f           f    901  ENSP00000156109  ENSP00000156471  \n",
       "23477              t           f    901  ENSP00000156109  ENSP00000156471  "
      ]
     },
     "execution_count": 22,
     "metadata": {},
     "output_type": "execute_result"
    }
   ],
   "source": [
    "string.head()"
   ]
  },
  {
   "cell_type": "code",
   "execution_count": 23,
   "metadata": {},
   "outputs": [
    {
     "data": {
      "text/plain": [
       "<matplotlib.axes._subplots.AxesSubplot at 0x2b775133e5d0>"
      ]
     },
     "execution_count": 23,
     "metadata": {},
     "output_type": "execute_result"
    },
    {
     "data": {
      "image/png": "[encoded data removed]",
      "text/plain": [
       "<Figure size 432x288 with 1 Axes>"
      ]
     },
     "metadata": {
      "needs_background": "light"
     },
     "output_type": "display_data"
    }
   ],
   "source": [
    "string['score'].plot.hist()"
   ]
  },
  {
   "cell_type": "code",
   "execution_count": 24,
   "metadata": {},
   "outputs": [],
   "source": [
    "rbp_id = pd.read_pickle('~/projects/peak_calling/RBP_id.pickle')"
   ]
  },
  {
   "cell_type": "code",
   "execution_count": 25,
   "metadata": {},
   "outputs": [],
   "source": [
    "all_protein = list(set(string['protein_one'].append(string['protein_two'])))\n",
    "names = []\n",
    "for p in all_protein:\n",
    "    for id_set in rbp_id['esnp'].index:\n",
    "        if p in rbp_id.loc[id_set, 'esnp']:\n",
    "            names.append(id_set)"
   ]
  },
  {
   "cell_type": "code",
   "execution_count": 26,
   "metadata": {},
   "outputs": [],
   "source": [
    "id_to_name = dict(zip(all_protein, names))"
   ]
  },
  {
   "cell_type": "code",
   "execution_count": 27,
   "metadata": {},
   "outputs": [],
   "source": [
    "string['protein_one_name'] = string['protein_one'].map(id_to_name)\n",
    "string['protein_two_name'] = string['protein_two'].map(id_to_name)\n",
    "string['mapper'] = string[['protein_one_name', 'protein_two_name']].apply(frozenset, axis = 1)"
   ]
  },
  {
   "cell_type": "code",
   "execution_count": 28,
   "metadata": {},
   "outputs": [
    {
     "data": {
      "text/plain": [
       "(10524, 12)"
      ]
     },
     "execution_count": 28,
     "metadata": {},
     "output_type": "execute_result"
    }
   ],
   "source": [
    "string.shape"
   ]
  },
  {
   "cell_type": "code",
   "execution_count": 29,
   "metadata": {},
   "outputs": [],
   "source": [
    "string.drop_duplicates('mapper', inplace = True)"
   ]
  },
  {
   "cell_type": "code",
   "execution_count": 30,
   "metadata": {},
   "outputs": [],
   "source": [
    "intron_jac['mapper'] = intron_jac[['protein_one_name', 'protein_two_name']].apply(frozenset, axis = 1)\n",
    "exon_jac['mapper'] = exon_jac[['protein_one_name', 'protein_two_name']].apply(frozenset, axis = 1)\n"
   ]
  },
  {
   "cell_type": "code",
   "execution_count": 31,
   "metadata": {},
   "outputs": [],
   "source": [
    "string = string.merge(intron_jac, on = 'mapper', how = 'outer', suffixes = ('', '_INTRON'))\n",
    "string = string.merge(exon_jac, on = 'mapper', how = 'outer', suffixes = ('', '_EXON'))"
   ]
  },
  {
   "cell_type": "code",
   "execution_count": 32,
   "metadata": {},
   "outputs": [
    {
     "data": {
      "text/html": [
       "<div>\n",
       "<style scoped>\n",
       "    .dataframe tbody tr th:only-of-type {\n",
       "        vertical-align: middle;\n",
       "    }\n",
       "\n",
       "    .dataframe tbody tr th {\n",
       "        vertical-align: top;\n",
       "    }\n",
       "\n",
       "    .dataframe thead th {\n",
       "        text-align: right;\n",
       "    }\n",
       "</style>\n",
       "<table border=\"1\" class=\"dataframe\">\n",
       "  <thead>\n",
       "    <tr style=\"text-align: right;\">\n",
       "      <th></th>\n",
       "      <th>item_id_a</th>\n",
       "      <th>item_id_b</th>\n",
       "      <th>mode</th>\n",
       "      <th>action</th>\n",
       "      <th>is_directional</th>\n",
       "      <th>a_is_acting</th>\n",
       "      <th>score</th>\n",
       "      <th>protein_one</th>\n",
       "      <th>protein_two</th>\n",
       "      <th>protein_one_name</th>\n",
       "      <th>protein_two_name</th>\n",
       "      <th>mapper</th>\n",
       "      <th>protein_one_name_INTRON</th>\n",
       "      <th>protein_two_name_INTRON</th>\n",
       "      <th>jaccard_similarity</th>\n",
       "      <th>protein_one_name_EXON</th>\n",
       "      <th>protein_two_name_EXON</th>\n",
       "      <th>jaccard_similarity_EXON</th>\n",
       "    </tr>\n",
       "  </thead>\n",
       "  <tbody>\n",
       "    <tr>\n",
       "      <th>0</th>\n",
       "      <td>9606.ENSP00000156109</td>\n",
       "      <td>9606.ENSP00000156471</td>\n",
       "      <td>binding</td>\n",
       "      <td>NaN</td>\n",
       "      <td>f</td>\n",
       "      <td>f</td>\n",
       "      <td>901.0</td>\n",
       "      <td>ENSP00000156109</td>\n",
       "      <td>ENSP00000156471</td>\n",
       "      <td>GPKOW</td>\n",
       "      <td>AQR</td>\n",
       "      <td>(AQR, GPKOW)</td>\n",
       "      <td>GPKOW</td>\n",
       "      <td>AQR</td>\n",
       "      <td>0.108018</td>\n",
       "      <td>GPKOW</td>\n",
       "      <td>AQR</td>\n",
       "      <td>0.032787</td>\n",
       "    </tr>\n",
       "    <tr>\n",
       "      <th>1</th>\n",
       "      <td>9606.ENSP00000156109</td>\n",
       "      <td>9606.ENSP00000199814</td>\n",
       "      <td>binding</td>\n",
       "      <td>NaN</td>\n",
       "      <td>f</td>\n",
       "      <td>f</td>\n",
       "      <td>902.0</td>\n",
       "      <td>ENSP00000156109</td>\n",
       "      <td>ENSP00000199814</td>\n",
       "      <td>GPKOW</td>\n",
       "      <td>RBM22</td>\n",
       "      <td>(RBM22, GPKOW)</td>\n",
       "      <td>RBM22</td>\n",
       "      <td>GPKOW</td>\n",
       "      <td>0.018849</td>\n",
       "      <td>RBM22</td>\n",
       "      <td>GPKOW</td>\n",
       "      <td>0.007874</td>\n",
       "    </tr>\n",
       "    <tr>\n",
       "      <th>2</th>\n",
       "      <td>9606.ENSP00000156109</td>\n",
       "      <td>9606.ENSP00000216727</td>\n",
       "      <td>binding</td>\n",
       "      <td>NaN</td>\n",
       "      <td>f</td>\n",
       "      <td>f</td>\n",
       "      <td>903.0</td>\n",
       "      <td>ENSP00000156109</td>\n",
       "      <td>ENSP00000216727</td>\n",
       "      <td>GPKOW</td>\n",
       "      <td>PABPN1</td>\n",
       "      <td>(GPKOW, PABPN1)</td>\n",
       "      <td>GPKOW</td>\n",
       "      <td>PABPN1</td>\n",
       "      <td>0.019529</td>\n",
       "      <td>GPKOW</td>\n",
       "      <td>PABPN1</td>\n",
       "      <td>0.018182</td>\n",
       "    </tr>\n",
       "    <tr>\n",
       "      <th>3</th>\n",
       "      <td>9606.ENSP00000156109</td>\n",
       "      <td>9606.ENSP00000221419</td>\n",
       "      <td>binding</td>\n",
       "      <td>NaN</td>\n",
       "      <td>f</td>\n",
       "      <td>f</td>\n",
       "      <td>900.0</td>\n",
       "      <td>ENSP00000156109</td>\n",
       "      <td>ENSP00000221419</td>\n",
       "      <td>GPKOW</td>\n",
       "      <td>HNRNPL</td>\n",
       "      <td>(GPKOW, HNRNPL)</td>\n",
       "      <td>GPKOW</td>\n",
       "      <td>HNRNPL</td>\n",
       "      <td>0.063001</td>\n",
       "      <td>GPKOW</td>\n",
       "      <td>HNRNPL</td>\n",
       "      <td>0.004373</td>\n",
       "    </tr>\n",
       "    <tr>\n",
       "      <th>4</th>\n",
       "      <td>9606.ENSP00000156109</td>\n",
       "      <td>9606.ENSP00000229390</td>\n",
       "      <td>binding</td>\n",
       "      <td>NaN</td>\n",
       "      <td>f</td>\n",
       "      <td>f</td>\n",
       "      <td>901.0</td>\n",
       "      <td>ENSP00000156109</td>\n",
       "      <td>ENSP00000229390</td>\n",
       "      <td>GPKOW</td>\n",
       "      <td>SRSF9</td>\n",
       "      <td>(GPKOW, SRSF9)</td>\n",
       "      <td>SRSF9</td>\n",
       "      <td>GPKOW</td>\n",
       "      <td>0.023862</td>\n",
       "      <td>SRSF9</td>\n",
       "      <td>GPKOW</td>\n",
       "      <td>0.000201</td>\n",
       "    </tr>\n",
       "  </tbody>\n",
       "</table>\n",
       "</div>"
      ],
      "text/plain": [
       "              item_id_a             item_id_b     mode action is_directional  \\\n",
       "0  9606.ENSP00000156109  9606.ENSP00000156471  binding    NaN              f   \n",
       "1  9606.ENSP00000156109  9606.ENSP00000199814  binding    NaN              f   \n",
       "2  9606.ENSP00000156109  9606.ENSP00000216727  binding    NaN              f   \n",
       "3  9606.ENSP00000156109  9606.ENSP00000221419  binding    NaN              f   \n",
       "4  9606.ENSP00000156109  9606.ENSP00000229390  binding    NaN              f   \n",
       "\n",
       "  a_is_acting  score      protein_one      protein_two protein_one_name  \\\n",
       "0           f  901.0  ENSP00000156109  ENSP00000156471            GPKOW   \n",
       "1           f  902.0  ENSP00000156109  ENSP00000199814            GPKOW   \n",
       "2           f  903.0  ENSP00000156109  ENSP00000216727            GPKOW   \n",
       "3           f  900.0  ENSP00000156109  ENSP00000221419            GPKOW   \n",
       "4           f  901.0  ENSP00000156109  ENSP00000229390            GPKOW   \n",
       "\n",
       "  protein_two_name           mapper protein_one_name_INTRON  \\\n",
       "0              AQR     (AQR, GPKOW)                   GPKOW   \n",
       "1            RBM22   (RBM22, GPKOW)                   RBM22   \n",
       "2           PABPN1  (GPKOW, PABPN1)                   GPKOW   \n",
       "3           HNRNPL  (GPKOW, HNRNPL)                   GPKOW   \n",
       "4            SRSF9   (GPKOW, SRSF9)                   SRSF9   \n",
       "\n",
       "  protein_two_name_INTRON  jaccard_similarity protein_one_name_EXON  \\\n",
       "0                     AQR            0.108018                 GPKOW   \n",
       "1                   GPKOW            0.018849                 RBM22   \n",
       "2                  PABPN1            0.019529                 GPKOW   \n",
       "3                  HNRNPL            0.063001                 GPKOW   \n",
       "4                   GPKOW            0.023862                 SRSF9   \n",
       "\n",
       "  protein_two_name_EXON  jaccard_similarity_EXON  \n",
       "0                   AQR                 0.032787  \n",
       "1                 GPKOW                 0.007874  \n",
       "2                PABPN1                 0.018182  \n",
       "3                HNRNPL                 0.004373  \n",
       "4                 GPKOW                 0.000201  "
      ]
     },
     "execution_count": 32,
     "metadata": {},
     "output_type": "execute_result"
    }
   ],
   "source": [
    "string.head()"
   ]
  },
  {
   "cell_type": "code",
   "execution_count": 33,
   "metadata": {},
   "outputs": [
    {
     "data": {
      "text/plain": [
       "(11172, 18)"
      ]
     },
     "execution_count": 33,
     "metadata": {},
     "output_type": "execute_result"
    }
   ],
   "source": [
    "string.shape"
   ]
  },
  {
   "cell_type": "code",
   "execution_count": 34,
   "metadata": {},
   "outputs": [],
   "source": [
    "string['jaccard_similarity_INTRON'] = string['jaccard_similarity']"
   ]
  },
  {
   "cell_type": "markdown",
   "metadata": {},
   "source": [
    "# interaction detected and not detected by STRING"
   ]
  },
  {
   "cell_type": "code",
   "execution_count": 35,
   "metadata": {},
   "outputs": [
    {
     "data": {
      "text/plain": [
       "array([<matplotlib.axes._subplots.AxesSubplot object at 0x2b7752d2ce50>,\n",
       "       <matplotlib.axes._subplots.AxesSubplot object at 0x2b77532fbe10>],\n",
       "      dtype=object)"
      ]
     },
     "execution_count": 35,
     "metadata": {},
     "output_type": "execute_result"
    },
    {
     "data": {
      "image/png": "[encoded data removed]",
      "text/plain": [
       "<Figure size 432x288 with 2 Axes>"
      ]
     },
     "metadata": {
      "needs_background": "light"
     },
     "output_type": "display_data"
    }
   ],
   "source": [
    "string['detected_by_string'] = string['score'].notnull()\n",
    "string.boxplot(column = ['jaccard_similarity_INTRON', 'jaccard_similarity_EXON'],by = 'detected_by_string')"
   ]
  },
  {
   "cell_type": "code",
   "execution_count": 36,
   "metadata": {},
   "outputs": [
    {
     "name": "stderr",
     "output_type": "stream",
     "text": [
      "/home/hsher/miniconda3/lib/python3.7/site-packages/ipykernel_launcher.py:1: FutureWarning: Indexing with multiple keys (implicitly converted to a tuple of keys) will be deprecated, use a list instead.\n",
      "  \"\"\"Entry point for launching an IPython kernel.\n"
     ]
    },
    {
     "data": {
      "text/html": [
       "<div>\n",
       "<style scoped>\n",
       "    .dataframe tbody tr th:only-of-type {\n",
       "        vertical-align: middle;\n",
       "    }\n",
       "\n",
       "    .dataframe tbody tr th {\n",
       "        vertical-align: top;\n",
       "    }\n",
       "\n",
       "    .dataframe thead th {\n",
       "        text-align: right;\n",
       "    }\n",
       "</style>\n",
       "<table border=\"1\" class=\"dataframe\">\n",
       "  <thead>\n",
       "    <tr style=\"text-align: right;\">\n",
       "      <th></th>\n",
       "      <th>jaccard_similarity_INTRON</th>\n",
       "      <th>jaccard_similarity_EXON</th>\n",
       "    </tr>\n",
       "    <tr>\n",
       "      <th>detected_by_string</th>\n",
       "      <th></th>\n",
       "      <th></th>\n",
       "    </tr>\n",
       "  </thead>\n",
       "  <tbody>\n",
       "    <tr>\n",
       "      <th>False</th>\n",
       "      <td>0.031305</td>\n",
       "      <td>0.012612</td>\n",
       "    </tr>\n",
       "    <tr>\n",
       "      <th>True</th>\n",
       "      <td>0.029963</td>\n",
       "      <td>0.014622</td>\n",
       "    </tr>\n",
       "  </tbody>\n",
       "</table>\n",
       "</div>"
      ],
      "text/plain": [
       "                    jaccard_similarity_INTRON  jaccard_similarity_EXON\n",
       "detected_by_string                                                    \n",
       "False                                0.031305                 0.012612\n",
       "True                                 0.029963                 0.014622"
      ]
     },
     "execution_count": 36,
     "metadata": {},
     "output_type": "execute_result"
    }
   ],
   "source": [
    "string.groupby(by = 'detected_by_string')['jaccard_similarity_INTRON', 'jaccard_similarity_EXON'].mean()"
   ]
  },
  {
   "cell_type": "markdown",
   "metadata": {},
   "source": [
    "## by percentile"
   ]
  },
  {
   "cell_type": "code",
   "execution_count": 37,
   "metadata": {},
   "outputs": [
    {
     "data": {
      "text/plain": [
       "<matplotlib.axes._subplots.AxesSubplot at 0x2b775334ec10>"
      ]
     },
     "execution_count": 37,
     "metadata": {},
     "output_type": "execute_result"
    },
    {
     "data": {
      "image/png": "[encoded data removed]",
      "text/plain": [
       "<Figure size 432x288 with 1 Axes>"
      ]
     },
     "metadata": {
      "needs_background": "light"
     },
     "output_type": "display_data"
    }
   ],
   "source": [
    "string.plot(kind = 'scatter', x = 'score', y = 'jaccard_similarity_INTRON')"
   ]
  },
  {
   "cell_type": "code",
   "execution_count": 38,
   "metadata": {},
   "outputs": [
    {
     "data": {
      "text/plain": [
       "<matplotlib.axes._subplots.AxesSubplot at 0x2b775346c590>"
      ]
     },
     "execution_count": 38,
     "metadata": {},
     "output_type": "execute_result"
    },
    {
     "data": {
      "image/png": "[encoded data removed]",
      "text/plain": [
       "<Figure size 432x288 with 1 Axes>"
      ]
     },
     "metadata": {
      "needs_background": "light"
     },
     "output_type": "display_data"
    }
   ],
   "source": [
    "string.plot(kind = 'scatter', x = 'score', y = 'jaccard_similarity_EXON')"
   ]
  },
  {
   "cell_type": "code",
   "execution_count": 39,
   "metadata": {},
   "outputs": [
    {
     "data": {
      "text/plain": [
       "<matplotlib.axes._subplots.AxesSubplot at 0x2b77534cc0d0>"
      ]
     },
     "execution_count": 39,
     "metadata": {},
     "output_type": "execute_result"
    },
    {
     "data": {
      "image/png": "[encoded data removed]",
      "text/plain": [
       "<Figure size 432x288 with 1 Axes>"
      ]
     },
     "metadata": {
      "needs_background": "light"
     },
     "output_type": "display_data"
    }
   ],
   "source": [
    "string.plot(kind = 'scatter', x = 'jaccard_similarity_INTRON', y = 'jaccard_similarity_EXON', alpha = 0.3)"
   ]
  },
  {
   "cell_type": "code",
   "execution_count": 40,
   "metadata": {},
   "outputs": [],
   "source": [
    "string['protein_one'] = [list(i)[0] for i in string['mapper']]\n",
    "string['protein_two'] = [list(i)[1] for i in string['mapper']]"
   ]
  },
  {
   "cell_type": "markdown",
   "metadata": {},
   "source": [
    "# Do they exist in complex"
   ]
  },
  {
   "cell_type": "code",
   "execution_count": 41,
   "metadata": {},
   "outputs": [],
   "source": [
    "corum_complex = pd.read_csv('~/projects/allComplexes.txt', sep = '\\t')"
   ]
  },
  {
   "cell_type": "code",
   "execution_count": 42,
   "metadata": {},
   "outputs": [],
   "source": [
    "all_uniprot = set()\n",
    "_ = [all_uniprot.update(ids) for ids in rbp_id['uniprot.Swiss-Prot'] if type(ids) != float]"
   ]
  },
  {
   "cell_type": "code",
   "execution_count": 43,
   "metadata": {},
   "outputs": [],
   "source": [
    "selected_complex_index = []\n",
    "i = 0\n",
    "for complex_set in corum_complex['subunits(UniProt IDs)'].str.split(';').apply(set):\n",
    "    if len(complex_set.intersection(all_uniprot))>0:\n",
    "        selected_complex_index.append(i)\n",
    "    i+= 1\n"
   ]
  },
  {
   "cell_type": "code",
   "execution_count": 44,
   "metadata": {},
   "outputs": [],
   "source": [
    "corum_complex = corum_complex.loc[selected_complex_index]"
   ]
  },
  {
   "cell_type": "code",
   "execution_count": 45,
   "metadata": {
    "scrolled": true
   },
   "outputs": [],
   "source": [
    "corum_complex['composition'] = corum_complex['subunits(Gene name)'].str.split(';')"
   ]
  },
  {
   "cell_type": "markdown",
   "metadata": {},
   "source": [
    "## sample a random distribution"
   ]
  },
  {
   "cell_type": "code",
   "execution_count": 46,
   "metadata": {},
   "outputs": [],
   "source": [
    "# normalize string\n",
    "string['score'] = string['score'].fillna(0)/1000"
   ]
  },
  {
   "cell_type": "code",
   "execution_count": 47,
   "metadata": {},
   "outputs": [
    {
     "name": "stderr",
     "output_type": "stream",
     "text": [
      "/home/hsher/miniconda3/lib/python3.7/site-packages/ipykernel_launcher.py:6: DeprecationWarning: This function is deprecated. Please call randint(0, 149 + 1) instead\n",
      "  \n"
     ]
    }
   ],
   "source": [
    "# background_distribution\n",
    "mean_list = []\n",
    "all_protein = string['protein_one'].append(string['protein_two']).unique()\n",
    "for n in range(500):\n",
    "    \n",
    "    random_10_protein = all_protein[np.random.random_integers(low = 0, high = len(all_protein)-1, size = 10)]\n",
    "    sampled = string.loc[(string['protein_one'].isin(random_10_protein))&(string['protein_two'].isin(random_10_protein))]\n",
    "    mean_list.append(sampled[['score', 'jaccard_similarity_INTRON', 'jaccard_similarity_EXON']].mean(axis = 0).values)"
   ]
  },
  {
   "cell_type": "code",
   "execution_count": 48,
   "metadata": {},
   "outputs": [],
   "source": [
    "background_distribution = np.stack(mean_list)"
   ]
  },
  {
   "cell_type": "code",
   "execution_count": 49,
   "metadata": {},
   "outputs": [
    {
     "data": {
      "text/plain": [
       "Text(0.5, 0.98, 'background distibution for scores')"
      ]
     },
     "execution_count": 49,
     "metadata": {},
     "output_type": "execute_result"
    },
    {
     "data": {
      "image/png": "[encoded data removed]",
      "text/plain": [
       "<Figure size 432x288 with 3 Axes>"
      ]
     },
     "metadata": {
      "needs_background": "light"
     },
     "output_type": "display_data"
    }
   ],
   "source": [
    "f, ax = plt.subplots(1,3, sharey = True)\n",
    "i = 0\n",
    "for score in ['score', 'jaccard_similarity_INTRON', 'jacard_similarity_EXON']:\n",
    "    ax[i].hist(background_distribution[:,i])\n",
    "    ax[i].set_title(score)\n",
    "    i+= 1\n",
    "plt.suptitle('background distibution for scores')"
   ]
  },
  {
   "cell_type": "code",
   "execution_count": 50,
   "metadata": {},
   "outputs": [
    {
     "data": {
      "image/png": "[encoded data removed]",
      "text/plain": [
       "<Figure size 1080x216 with 6 Axes>"
      ]
     },
     "metadata": {
      "needs_background": "light"
     },
     "output_type": "display_data"
    }
   ],
   "source": [
    "complex_score = pd.DataFrame(index = corum_complex.index, columns = ['score', 'jaccard_similarity_INTRON', 'jaccard_similarity_EXON'])\n",
    "f,ax = plt.subplots(nrows = 1, ncols = corum_complex.shape[0]+1, figsize = (15,3), sharey = True)\n",
    "i = 0\n",
    "for c in corum_complex.index:\n",
    "    \n",
    "    complex_jaccard_score = string.loc[(string['protein_one'].isin(corum_complex.loc[c, 'composition']))&(string['protein_two'].isin(corum_complex.loc[c, 'composition']))]\n",
    "    complex_jaccard_score = complex_jaccard_score[['score', 'jaccard_similarity_INTRON', 'jaccard_similarity_EXON']]\n",
    "    complex_score.loc[c] = complex_jaccard_score.mean(axis = 0)\n",
    "    complex_jaccard_score.boxplot(column = ['score', 'jaccard_similarity_INTRON', 'jaccard_similarity_EXON'], ax = ax[i])\n",
    "    ax[i].set_title(corum_complex.loc[c, 'ComplexName'])\n",
    "    ax[i].tick_params(labelrotation=60)\n",
    "    ax[i].set_ylabel('score')\n",
    "    i+=1\n",
    "complex_jaccard_score = string.loc[(string['protein_one'].isin(random_10_protein))&(string['protein_two'].isin(random_10_protein))]\n",
    "complex_jaccard_score.boxplot(column = ['score', 'jaccard_similarity_INTRON', 'jaccard_similarity_EXON'], ax = ax[i])    \n",
    "ax[i].set_title('random 10 protein')\n",
    "ax[i].tick_params(labelrotation=60)\n"
   ]
  },
  {
   "cell_type": "code",
   "execution_count": 51,
   "metadata": {},
   "outputs": [
    {
     "data": {
      "text/html": [
       "<div>\n",
       "<style scoped>\n",
       "    .dataframe tbody tr th:only-of-type {\n",
       "        vertical-align: middle;\n",
       "    }\n",
       "\n",
       "    .dataframe tbody tr th {\n",
       "        vertical-align: top;\n",
       "    }\n",
       "\n",
       "    .dataframe thead th {\n",
       "        text-align: right;\n",
       "    }\n",
       "</style>\n",
       "<table border=\"1\" class=\"dataframe\">\n",
       "  <thead>\n",
       "    <tr style=\"text-align: right;\">\n",
       "      <th></th>\n",
       "      <th>score</th>\n",
       "      <th>jaccard_similarity_INTRON</th>\n",
       "      <th>jaccard_similarity_EXON</th>\n",
       "    </tr>\n",
       "  </thead>\n",
       "  <tbody>\n",
       "    <tr>\n",
       "      <th>314</th>\n",
       "      <td>0.478467</td>\n",
       "      <td>0.0275072</td>\n",
       "      <td>0.0164776</td>\n",
       "    </tr>\n",
       "    <tr>\n",
       "      <th>1061</th>\n",
       "      <td>0.1743</td>\n",
       "      <td>0.0536539</td>\n",
       "      <td>0.0218576</td>\n",
       "    </tr>\n",
       "    <tr>\n",
       "      <th>1101</th>\n",
       "      <td>0.812912</td>\n",
       "      <td>0.0182949</td>\n",
       "      <td>0.0106902</td>\n",
       "    </tr>\n",
       "    <tr>\n",
       "      <th>1781</th>\n",
       "      <td>0.731619</td>\n",
       "      <td>0.00488827</td>\n",
       "      <td>0.0142863</td>\n",
       "    </tr>\n",
       "    <tr>\n",
       "      <th>2067</th>\n",
       "      <td>0.139727</td>\n",
       "      <td>0.0225391</td>\n",
       "      <td>0.0138446</td>\n",
       "    </tr>\n",
       "  </tbody>\n",
       "</table>\n",
       "</div>"
      ],
      "text/plain": [
       "         score jaccard_similarity_INTRON jaccard_similarity_EXON\n",
       "314   0.478467                 0.0275072               0.0164776\n",
       "1061    0.1743                 0.0536539               0.0218576\n",
       "1101  0.812912                 0.0182949               0.0106902\n",
       "1781  0.731619                0.00488827               0.0142863\n",
       "2067  0.139727                 0.0225391               0.0138446"
      ]
     },
     "execution_count": 51,
     "metadata": {},
     "output_type": "execute_result"
    }
   ],
   "source": [
    "# statistical significance\n",
    "complex_score"
   ]
  },
  {
   "cell_type": "code",
   "execution_count": 52,
   "metadata": {},
   "outputs": [
    {
     "data": {
      "text/plain": [
       "0.20626888888888895"
      ]
     },
     "execution_count": 52,
     "metadata": {},
     "output_type": "execute_result"
    }
   ],
   "source": [
    "np.percentile(background_distribution[:,0], 95)"
   ]
  },
  {
   "cell_type": "code",
   "execution_count": 53,
   "metadata": {},
   "outputs": [
    {
     "data": {
      "text/plain": [
       "0.049591640279031395"
      ]
     },
     "execution_count": 53,
     "metadata": {},
     "output_type": "execute_result"
    }
   ],
   "source": [
    "np.percentile(background_distribution[:,1], 95)"
   ]
  },
  {
   "cell_type": "code",
   "execution_count": 54,
   "metadata": {},
   "outputs": [
    {
     "data": {
      "text/plain": [
       "0.024868111576541896"
      ]
     },
     "execution_count": 54,
     "metadata": {},
     "output_type": "execute_result"
    }
   ],
   "source": [
    "np.percentile(background_distribution[:,2], 95)"
   ]
  },
  {
   "cell_type": "code",
   "execution_count": 60,
   "metadata": {},
   "outputs": [],
   "source": [
    "string[['score', 'jaccard_similarity_INTRON', 'jaccard_similarity_EXON', 'protein_one', 'protein_two']].to_csv('~/projects/network/intron_exon_network')"
   ]
  },
  {
   "cell_type": "code",
   "execution_count": null,
   "metadata": {},
   "outputs": [],
   "source": []
  }
 ],
 "metadata": {
  "kernelspec": {
   "display_name": "Python 3",
   "language": "python",
   "name": "python3"
  },
  "language_info": {
   "codemirror_mode": {
    "name": "ipython",
    "version": 3
   },
   "file_extension": ".py",
   "mimetype": "text/x-python",
   "name": "python",
   "nbconvert_exporter": "python",
   "pygments_lexer": "ipython3",
   "version": "3.7.6"
  }
 },
 "nbformat": 4,
 "nbformat_minor": 4
}
