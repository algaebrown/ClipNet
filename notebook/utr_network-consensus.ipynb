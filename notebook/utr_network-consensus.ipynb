{
 "cells": [
  {
   "cell_type": "markdown",
   "metadata": {},
   "source": [
    "# build 3'UTR and 5' UTR RBP networks\n",
    "\n",
    "- intra cell line similarity (dominant by RNA level)\n",
    "- compare with STRING and known complexes"
   ]
  },
  {
   "cell_type": "code",
   "execution_count": 1,
   "metadata": {},
   "outputs": [],
   "source": [
    "import pandas as pd\n",
    "three_utr = pd.read_pickle('~/projects/three_utr.pickle')\n",
    "five_utr = pd.read_pickle('~/projects/five_utr.pickle')"
   ]
  },
  {
   "cell_type": "code",
   "execution_count": 2,
   "metadata": {},
   "outputs": [
    {
     "data": {
      "text/html": [
       "<div>\n",
       "<style scoped>\n",
       "    .dataframe tbody tr th:only-of-type {\n",
       "        vertical-align: middle;\n",
       "    }\n",
       "\n",
       "    .dataframe tbody tr th {\n",
       "        vertical-align: top;\n",
       "    }\n",
       "\n",
       "    .dataframe thead th {\n",
       "        text-align: right;\n",
       "    }\n",
       "</style>\n",
       "<table border=\"1\" class=\"dataframe\">\n",
       "  <thead>\n",
       "    <tr style=\"text-align: right;\">\n",
       "      <th>4</th>\n",
       "      <th>ENST00000373020.9</th>\n",
       "      <th>ENST00000371588.9</th>\n",
       "      <th>ENST00000002165.11</th>\n",
       "      <th>ENST00000650454.1</th>\n",
       "      <th>ENST00000341376.10</th>\n",
       "      <th>ENST00000374399.9</th>\n",
       "      <th>ENST00000374811.7</th>\n",
       "      <th>ENST00000002829.8</th>\n",
       "      <th>ENST00000003100.13</th>\n",
       "      <th>ENST00000394507.5</th>\n",
       "      <th>...</th>\n",
       "      <th>ENST00000568641.1</th>\n",
       "      <th>ENST00000651235.1</th>\n",
       "      <th>ENST00000652720.1</th>\n",
       "      <th>ENST00000650969.1</th>\n",
       "      <th>ENST00000651560.1</th>\n",
       "      <th>ENST00000654051.1</th>\n",
       "      <th>ENST00000512194.2</th>\n",
       "      <th>ENST00000662216.1</th>\n",
       "      <th>ENST00000474359.7</th>\n",
       "      <th>ENST00000504061.1</th>\n",
       "    </tr>\n",
       "    <tr>\n",
       "      <th>uID</th>\n",
       "      <th></th>\n",
       "      <th></th>\n",
       "      <th></th>\n",
       "      <th></th>\n",
       "      <th></th>\n",
       "      <th></th>\n",
       "      <th></th>\n",
       "      <th></th>\n",
       "      <th></th>\n",
       "      <th></th>\n",
       "      <th></th>\n",
       "      <th></th>\n",
       "      <th></th>\n",
       "      <th></th>\n",
       "      <th></th>\n",
       "      <th></th>\n",
       "      <th></th>\n",
       "      <th></th>\n",
       "      <th></th>\n",
       "      <th></th>\n",
       "      <th></th>\n",
       "    </tr>\n",
       "  </thead>\n",
       "  <tbody>\n",
       "    <tr>\n",
       "      <th>203</th>\n",
       "      <td>0</td>\n",
       "      <td>0</td>\n",
       "      <td>0</td>\n",
       "      <td>0</td>\n",
       "      <td>0</td>\n",
       "      <td>0</td>\n",
       "      <td>0</td>\n",
       "      <td>0</td>\n",
       "      <td>0</td>\n",
       "      <td>0</td>\n",
       "      <td>...</td>\n",
       "      <td>0</td>\n",
       "      <td>0</td>\n",
       "      <td>0</td>\n",
       "      <td>0</td>\n",
       "      <td>0</td>\n",
       "      <td>0</td>\n",
       "      <td>0</td>\n",
       "      <td>0</td>\n",
       "      <td>0</td>\n",
       "      <td>0</td>\n",
       "    </tr>\n",
       "    <tr>\n",
       "      <th>204</th>\n",
       "      <td>0</td>\n",
       "      <td>0</td>\n",
       "      <td>0</td>\n",
       "      <td>0</td>\n",
       "      <td>0</td>\n",
       "      <td>0</td>\n",
       "      <td>0</td>\n",
       "      <td>0</td>\n",
       "      <td>0</td>\n",
       "      <td>0</td>\n",
       "      <td>...</td>\n",
       "      <td>0</td>\n",
       "      <td>0</td>\n",
       "      <td>0</td>\n",
       "      <td>0</td>\n",
       "      <td>0</td>\n",
       "      <td>0</td>\n",
       "      <td>0</td>\n",
       "      <td>0</td>\n",
       "      <td>0</td>\n",
       "      <td>0</td>\n",
       "    </tr>\n",
       "    <tr>\n",
       "      <th>205</th>\n",
       "      <td>0</td>\n",
       "      <td>0</td>\n",
       "      <td>0</td>\n",
       "      <td>0</td>\n",
       "      <td>0</td>\n",
       "      <td>0</td>\n",
       "      <td>0</td>\n",
       "      <td>0</td>\n",
       "      <td>0</td>\n",
       "      <td>0</td>\n",
       "      <td>...</td>\n",
       "      <td>0</td>\n",
       "      <td>0</td>\n",
       "      <td>0</td>\n",
       "      <td>0</td>\n",
       "      <td>0</td>\n",
       "      <td>0</td>\n",
       "      <td>0</td>\n",
       "      <td>0</td>\n",
       "      <td>0</td>\n",
       "      <td>0</td>\n",
       "    </tr>\n",
       "    <tr>\n",
       "      <th>206</th>\n",
       "      <td>0</td>\n",
       "      <td>0</td>\n",
       "      <td>0</td>\n",
       "      <td>0</td>\n",
       "      <td>0</td>\n",
       "      <td>0</td>\n",
       "      <td>0</td>\n",
       "      <td>0</td>\n",
       "      <td>0</td>\n",
       "      <td>0</td>\n",
       "      <td>...</td>\n",
       "      <td>0</td>\n",
       "      <td>0</td>\n",
       "      <td>0</td>\n",
       "      <td>0</td>\n",
       "      <td>0</td>\n",
       "      <td>0</td>\n",
       "      <td>0</td>\n",
       "      <td>0</td>\n",
       "      <td>0</td>\n",
       "      <td>0</td>\n",
       "    </tr>\n",
       "    <tr>\n",
       "      <th>209</th>\n",
       "      <td>0</td>\n",
       "      <td>0</td>\n",
       "      <td>0</td>\n",
       "      <td>0</td>\n",
       "      <td>0</td>\n",
       "      <td>0</td>\n",
       "      <td>0</td>\n",
       "      <td>0</td>\n",
       "      <td>0</td>\n",
       "      <td>0</td>\n",
       "      <td>...</td>\n",
       "      <td>0</td>\n",
       "      <td>0</td>\n",
       "      <td>0</td>\n",
       "      <td>0</td>\n",
       "      <td>0</td>\n",
       "      <td>0</td>\n",
       "      <td>0</td>\n",
       "      <td>0</td>\n",
       "      <td>0</td>\n",
       "      <td>0</td>\n",
       "    </tr>\n",
       "  </tbody>\n",
       "</table>\n",
       "<p>5 rows × 8445 columns</p>\n",
       "</div>"
      ],
      "text/plain": [
       "4    ENST00000373020.9  ENST00000371588.9  ENST00000002165.11  \\\n",
       "uID                                                             \n",
       "203                  0                  0                   0   \n",
       "204                  0                  0                   0   \n",
       "205                  0                  0                   0   \n",
       "206                  0                  0                   0   \n",
       "209                  0                  0                   0   \n",
       "\n",
       "4    ENST00000650454.1  ENST00000341376.10  ENST00000374399.9  \\\n",
       "uID                                                             \n",
       "203                  0                   0                  0   \n",
       "204                  0                   0                  0   \n",
       "205                  0                   0                  0   \n",
       "206                  0                   0                  0   \n",
       "209                  0                   0                  0   \n",
       "\n",
       "4    ENST00000374811.7  ENST00000002829.8  ENST00000003100.13  \\\n",
       "uID                                                             \n",
       "203                  0                  0                   0   \n",
       "204                  0                  0                   0   \n",
       "205                  0                  0                   0   \n",
       "206                  0                  0                   0   \n",
       "209                  0                  0                   0   \n",
       "\n",
       "4    ENST00000394507.5  ...  ENST00000568641.1  ENST00000651235.1  \\\n",
       "uID                     ...                                         \n",
       "203                  0  ...                  0                  0   \n",
       "204                  0  ...                  0                  0   \n",
       "205                  0  ...                  0                  0   \n",
       "206                  0  ...                  0                  0   \n",
       "209                  0  ...                  0                  0   \n",
       "\n",
       "4    ENST00000652720.1  ENST00000650969.1  ENST00000651560.1  \\\n",
       "uID                                                            \n",
       "203                  0                  0                  0   \n",
       "204                  0                  0                  0   \n",
       "205                  0                  0                  0   \n",
       "206                  0                  0                  0   \n",
       "209                  0                  0                  0   \n",
       "\n",
       "4    ENST00000654051.1  ENST00000512194.2  ENST00000662216.1  \\\n",
       "uID                                                            \n",
       "203                  0                  0                  0   \n",
       "204                  0                  0                  0   \n",
       "205                  0                  0                  0   \n",
       "206                  0                  0                  0   \n",
       "209                  0                  0                  0   \n",
       "\n",
       "4    ENST00000474359.7  ENST00000504061.1  \n",
       "uID                                        \n",
       "203                  0                  0  \n",
       "204                  0                  0  \n",
       "205                  0                  0  \n",
       "206                  0                  0  \n",
       "209                  0                  0  \n",
       "\n",
       "[5 rows x 8445 columns]"
      ]
     },
     "execution_count": 2,
     "metadata": {},
     "output_type": "execute_result"
    }
   ],
   "source": [
    "three_utr.head()"
   ]
  },
  {
   "cell_type": "markdown",
   "metadata": {},
   "source": [
    "# similarity between cell lines"
   ]
  },
  {
   "cell_type": "code",
   "execution_count": 3,
   "metadata": {},
   "outputs": [],
   "source": [
    "eclip_bam = pd.read_csv('/home/hsher/projects/peak_calling/ENCODE_FINAL_ANNOTATIONS.uidsonly.txt.manifesthg38.txt', sep = '\\t', header= 0)"
   ]
  },
  {
   "cell_type": "code",
   "execution_count": 74,
   "metadata": {},
   "outputs": [
    {
     "data": {
      "text/html": [
       "<div>\n",
       "<style scoped>\n",
       "    .dataframe tbody tr th:only-of-type {\n",
       "        vertical-align: middle;\n",
       "    }\n",
       "\n",
       "    .dataframe tbody tr th {\n",
       "        vertical-align: top;\n",
       "    }\n",
       "\n",
       "    .dataframe thead th {\n",
       "        text-align: right;\n",
       "    }\n",
       "</style>\n",
       "<table border=\"1\" class=\"dataframe\">\n",
       "  <thead>\n",
       "    <tr style=\"text-align: right;\">\n",
       "      <th></th>\n",
       "      <th>uID</th>\n",
       "      <th>RBP</th>\n",
       "      <th>Cell line</th>\n",
       "      <th>CLIP_rep1</th>\n",
       "      <th>CLIP_rep2</th>\n",
       "      <th>INPUT</th>\n",
       "    </tr>\n",
       "  </thead>\n",
       "  <tbody>\n",
       "    <tr>\n",
       "      <th>77</th>\n",
       "      <td>414</td>\n",
       "      <td>PPIL4</td>\n",
       "      <td>K562</td>\n",
       "      <td>/projects/ps-yeolab3/encode/analysis/encode_GR...</td>\n",
       "      <td>/projects/ps-yeolab3/encode/analysis/encode_GR...</td>\n",
       "      <td>/projects/ps-yeolab3/encode/analysis/encode_GR...</td>\n",
       "    </tr>\n",
       "    <tr>\n",
       "      <th>106</th>\n",
       "      <td>495</td>\n",
       "      <td>PPIG</td>\n",
       "      <td>HepG2</td>\n",
       "      <td>/projects/ps-yeolab3/encode/analysis/encode_GR...</td>\n",
       "      <td>/projects/ps-yeolab3/encode/analysis/encode_GR...</td>\n",
       "      <td>/projects/ps-yeolab3/encode/analysis/encode_GR...</td>\n",
       "    </tr>\n",
       "  </tbody>\n",
       "</table>\n",
       "</div>"
      ],
      "text/plain": [
       "     uID    RBP Cell line                                          CLIP_rep1  \\\n",
       "77   414  PPIL4      K562  /projects/ps-yeolab3/encode/analysis/encode_GR...   \n",
       "106  495   PPIG     HepG2  /projects/ps-yeolab3/encode/analysis/encode_GR...   \n",
       "\n",
       "                                             CLIP_rep2  \\\n",
       "77   /projects/ps-yeolab3/encode/analysis/encode_GR...   \n",
       "106  /projects/ps-yeolab3/encode/analysis/encode_GR...   \n",
       "\n",
       "                                                 INPUT  \n",
       "77   /projects/ps-yeolab3/encode/analysis/encode_GR...  \n",
       "106  /projects/ps-yeolab3/encode/analysis/encode_GR...  "
      ]
     },
     "execution_count": 74,
     "metadata": {},
     "output_type": "execute_result"
    }
   ],
   "source": [
    "eclip_bam.loc[eclip_bam['RBP'].str.contains('PP')]"
   ]
  },
  {
   "cell_type": "code",
   "execution_count": 4,
   "metadata": {},
   "outputs": [],
   "source": [
    "all_pairs = []\n",
    "for name, g in eclip_bam.groupby(by = 'RBP'):\n",
    "    pair = g['uID'].tolist()\n",
    "    if len(pair) == 2:\n",
    "        all_pairs.append(pair)"
   ]
  },
  {
   "cell_type": "code",
   "execution_count": 6,
   "metadata": {},
   "outputs": [
    {
     "name": "stderr",
     "output_type": "stream",
     "text": [
      "/home/hsher/miniconda3/lib/python3.7/site-packages/sklearn/metrics/_classification.py:664: FutureWarning: jaccard_similarity_score has been deprecated and replaced with jaccard_score. It will be removed in version 0.23. This implementation has surprising behavior for binary and multiclass classification tasks.\n",
      "  FutureWarning)\n"
     ]
    }
   ],
   "source": [
    "intra_similarity = []\n",
    "from sklearn.metrics import jaccard_similarity_score \n",
    "for pair in all_pairs:\n",
    "    if pair[0] in three_utr.index and pair[1] in three_utr.index:\n",
    "        intra_similarity.append(jaccard_similarity_score(three_utr.loc[pair[1]].values, three_utr.loc[pair[0]].values))"
   ]
  },
  {
   "cell_type": "code",
   "execution_count": 7,
   "metadata": {},
   "outputs": [
    {
     "data": {
      "text/plain": [
       "(array([ 1.,  0.,  0.,  2.,  1.,  0.,  0.,  2.,  1.,  2.,  0.,  2.,  0.,\n",
       "         2.,  2.,  3.,  3.,  3., 12., 34.]),\n",
       " array([0.77205447, 0.78344583, 0.79483718, 0.80622854, 0.81761989,\n",
       "        0.82901125, 0.84040261, 0.85179396, 0.86318532, 0.87457667,\n",
       "        0.88596803, 0.89735938, 0.90875074, 0.9201421 , 0.93153345,\n",
       "        0.94292481, 0.95431616, 0.96570752, 0.97709888, 0.98849023,\n",
       "        0.99988159]),\n",
       " <a list of 20 Patch objects>)"
      ]
     },
     "execution_count": 7,
     "metadata": {},
     "output_type": "execute_result"
    },
    {
     "data": {
      "image/png": "[encoded data removed]",
      "text/plain": [
       "<Figure size 432x288 with 1 Axes>"
      ]
     },
     "metadata": {
      "needs_background": "light"
     },
     "output_type": "display_data"
    }
   ],
   "source": [
    "import matplotlib.pyplot as plt\n",
    "plt.hist(intra_similarity, bins = 20)"
   ]
  },
  {
   "cell_type": "code",
   "execution_count": 8,
   "metadata": {},
   "outputs": [
    {
     "name": "stderr",
     "output_type": "stream",
     "text": [
      "/home/hsher/miniconda3/lib/python3.7/site-packages/sklearn/metrics/_classification.py:664: FutureWarning: jaccard_similarity_score has been deprecated and replaced with jaccard_score. It will be removed in version 0.23. This implementation has surprising behavior for binary and multiclass classification tasks.\n",
      "  FutureWarning)\n"
     ]
    }
   ],
   "source": [
    "intra_similarity = []\n",
    "for pair in all_pairs:\n",
    "    if pair[0] in five_utr.index and pair[1] in five_utr.index:\n",
    "        intra_similarity.append(jaccard_similarity_score(five_utr.loc[pair[1]].values, five_utr.loc[pair[0]].values))"
   ]
  },
  {
   "cell_type": "code",
   "execution_count": 9,
   "metadata": {},
   "outputs": [
    {
     "data": {
      "text/plain": [
       "(array([ 1.,  0.,  0.,  0.,  0.,  0.,  0.,  0.,  1.,  0.,  0.,  0.,  0.,\n",
       "         0.,  1.,  1.,  4.,  3.,  8., 48.]),\n",
       " array([0.56657029, 0.58823489, 0.60989949, 0.63156409, 0.65322869,\n",
       "        0.67489329, 0.6965579 , 0.7182225 , 0.7398871 , 0.7615517 ,\n",
       "        0.7832163 , 0.8048809 , 0.8265455 , 0.84821011, 0.86987471,\n",
       "        0.89153931, 0.91320391, 0.93486851, 0.95653311, 0.97819771,\n",
       "        0.99986232]),\n",
       " <a list of 20 Patch objects>)"
      ]
     },
     "execution_count": 9,
     "metadata": {},
     "output_type": "execute_result"
    },
    {
     "data": {
      "image/png": "[encoded data removed]",
      "text/plain": [
       "<Figure size 432x288 with 1 Axes>"
      ]
     },
     "metadata": {
      "needs_background": "light"
     },
     "output_type": "display_data"
    }
   ],
   "source": [
    "plt.hist(intra_similarity, bins = 20)"
   ]
  },
  {
   "cell_type": "markdown",
   "metadata": {},
   "source": [
    "# Calculate overall binding\n",
    "since the two cell line replicates are quite similar, we shall merge the two entry"
   ]
  },
  {
   "cell_type": "code",
   "execution_count": 10,
   "metadata": {},
   "outputs": [],
   "source": [
    "def merge_cell_line_replicates(df):\n",
    "    ''' merge cell line replicates using only CONSENSUS peaks'''\n",
    "    merged_df = pd.DataFrame(columns = df.columns)\n",
    "    for name, g in eclip_bam.groupby(by = 'RBP'):\n",
    "        if len(set(g['uID']).intersection(df.index))== g.shape[0]:\n",
    "            if g.shape[0] == 1: # only in 1 cell line\n",
    "                merged_df = merged_df.append(df.loc[g['uID'].values], ignore_index = False)\n",
    "            else:\n",
    "                \n",
    "                combined_peak = df.loc[g['uID'].iloc[0]].multiply(df.loc[g['uID'].iloc[1]])\n",
    "                combined_peak.name = g['uID'].iloc[0]\n",
    "                #print(df.loc[g['uID']].append(combined_peak))\n",
    "                merged_df = merged_df.append(combined_peak, ignore_index = False)\n",
    "    return merged_df"
   ]
  },
  {
   "cell_type": "code",
   "execution_count": 11,
   "metadata": {},
   "outputs": [],
   "source": [
    "three_utr_merged = merge_cell_line_replicates(three_utr)"
   ]
  },
  {
   "cell_type": "code",
   "execution_count": 12,
   "metadata": {},
   "outputs": [
    {
     "data": {
      "text/plain": [
       "150"
      ]
     },
     "execution_count": 12,
     "metadata": {},
     "output_type": "execute_result"
    }
   ],
   "source": [
    "len(eclip_bam['RBP'].unique())"
   ]
  },
  {
   "cell_type": "code",
   "execution_count": 13,
   "metadata": {},
   "outputs": [
    {
     "data": {
      "text/plain": [
       "<matplotlib.axes._subplots.AxesSubplot at 0x2b39ba059890>"
      ]
     },
     "execution_count": 13,
     "metadata": {},
     "output_type": "execute_result"
    },
    {
     "data": {
      "image/png": "[encoded data removed]",
      "text/plain": [
       "<Figure size 432x288 with 1 Axes>"
      ]
     },
     "metadata": {
      "needs_background": "light"
     },
     "output_type": "display_data"
    }
   ],
   "source": [
    "three_utr_merged.sum(axis = 0).plot.hist(bins = 20)# number of RBP binding per transcript"
   ]
  },
  {
   "cell_type": "code",
   "execution_count": 14,
   "metadata": {},
   "outputs": [
    {
     "data": {
      "text/plain": [
       "<matplotlib.axes._subplots.AxesSubplot at 0x2b39ba0815d0>"
      ]
     },
     "execution_count": 14,
     "metadata": {},
     "output_type": "execute_result"
    },
    {
     "data": {
      "image/png": "[encoded data removed]",
      "text/plain": [
       "<Figure size 432x288 with 1 Axes>"
      ]
     },
     "metadata": {
      "needs_background": "light"
     },
     "output_type": "display_data"
    }
   ],
   "source": [
    "three_utr_merged.sum(axis = 1).plot.hist(bins = 20)# how many transcript one RBP binds to"
   ]
  },
  {
   "cell_type": "code",
   "execution_count": 15,
   "metadata": {},
   "outputs": [],
   "source": [
    "five_utr_merged = merge_cell_line_replicates(five_utr)"
   ]
  },
  {
   "cell_type": "code",
   "execution_count": 16,
   "metadata": {},
   "outputs": [
    {
     "data": {
      "text/plain": [
       "<matplotlib.axes._subplots.AxesSubplot at 0x2b39ba113550>"
      ]
     },
     "execution_count": 16,
     "metadata": {},
     "output_type": "execute_result"
    },
    {
     "data": {
      "image/png": "[encoded data removed]",
      "text/plain": [
       "<Figure size 432x288 with 1 Axes>"
      ]
     },
     "metadata": {
      "needs_background": "light"
     },
     "output_type": "display_data"
    }
   ],
   "source": [
    "five_utr_merged.sum(axis = 0).plot.hist(bins = 20)# number of RBP binding per transcript"
   ]
  },
  {
   "cell_type": "code",
   "execution_count": 17,
   "metadata": {},
   "outputs": [
    {
     "data": {
      "text/plain": [
       "<matplotlib.axes._subplots.AxesSubplot at 0x2b39b90237d0>"
      ]
     },
     "execution_count": 17,
     "metadata": {},
     "output_type": "execute_result"
    },
    {
     "data": {
      "image/png": "[encoded data removed]",
      "text/plain": [
       "<Figure size 432x288 with 1 Axes>"
      ]
     },
     "metadata": {
      "needs_background": "light"
     },
     "output_type": "display_data"
    }
   ],
   "source": [
    "five_utr_merged.sum(axis = 1).plot.hist(bins = 20)# how many transcript one RBP binds to"
   ]
  },
  {
   "cell_type": "code",
   "execution_count": 18,
   "metadata": {},
   "outputs": [],
   "source": [
    "from sklearn.metrics.pairwise import pairwise_distances\n",
    "import numpy as np\n",
    "def jaccard_distribution(df):\n",
    "    jac_sim = 1 - pairwise_distances(df.values, metric = \"jaccard\") # jaccard = disagree(does not include 0)\n",
    "    rbp_name = eclip_bam.loc[eclip_bam['uID'].isin(df.index), 'RBP']\n",
    "    print(rbp_name)\n",
    "    jac_df = pd.DataFrame(jac_sim, index = rbp_name.values, columns = rbp_name.values)\n",
    "    \n",
    "    # to edgelist\n",
    "    jac_df = jac_df.stack().reset_index()\n",
    "    # rename the columns\n",
    "    jac_df.columns = ['protein_one_name', 'protein_two_name', 'jaccard_similarity']\n",
    "\n",
    "    # create a mask to identify rows with duplicate features as mentioned above\n",
    "    mask_dups = (jac_df[['protein_one_name', 'protein_two_name']].apply(frozenset, axis=1).duplicated()) | (jac_df['protein_one_name']==jac_df['protein_two_name']) \n",
    "\n",
    "    # apply the mask to clean the correlation dataframe\n",
    "    jac_df = jac_df[~mask_dups]\n",
    "    \n",
    "    \n",
    "    return(jac_df)"
   ]
  },
  {
   "cell_type": "code",
   "execution_count": 19,
   "metadata": {},
   "outputs": [
    {
     "name": "stderr",
     "output_type": "stream",
     "text": [
      "/home/hsher/miniconda3/lib/python3.7/site-packages/sklearn/metrics/pairwise.py:1735: DataConversionWarning: Data was converted to boolean for metric jaccard\n",
      "  warnings.warn(msg, DataConversionWarning)\n"
     ]
    },
    {
     "name": "stdout",
     "output_type": "stream",
     "text": [
      "0        HNRNPC\n",
      "1        RBFOX2\n",
      "2       IGF2BP1\n",
      "3        HNRNPK\n",
      "4         SRSF7\n",
      "         ...   \n",
      "214      PABPN1\n",
      "215       PRPF4\n",
      "216       TIAL1\n",
      "221    APOBEC3C\n",
      "222        SUB1\n",
      "Name: RBP, Length: 140, dtype: object\n"
     ]
    },
    {
     "data": {
      "text/plain": [
       "(array([8.229e+03, 7.270e+02, 3.350e+02, 1.760e+02, 9.200e+01, 3.700e+01,\n",
       "        2.800e+01, 1.400e+01, 1.600e+01, 1.800e+01, 5.000e+00, 0.000e+00,\n",
       "        6.000e+00, 1.000e+00, 4.000e+00, 0.000e+00, 0.000e+00, 1.000e+00,\n",
       "        0.000e+00, 0.000e+00, 1.000e+00, 0.000e+00, 0.000e+00, 0.000e+00,\n",
       "        0.000e+00, 3.000e+00, 0.000e+00, 0.000e+00, 0.000e+00, 0.000e+00,\n",
       "        0.000e+00, 0.000e+00, 0.000e+00, 0.000e+00, 0.000e+00, 0.000e+00,\n",
       "        0.000e+00, 0.000e+00, 0.000e+00, 0.000e+00, 0.000e+00, 0.000e+00,\n",
       "        0.000e+00, 0.000e+00, 0.000e+00, 0.000e+00, 0.000e+00, 0.000e+00,\n",
       "        0.000e+00, 3.700e+01]),\n",
       " array([0.  , 0.02, 0.04, 0.06, 0.08, 0.1 , 0.12, 0.14, 0.16, 0.18, 0.2 ,\n",
       "        0.22, 0.24, 0.26, 0.28, 0.3 , 0.32, 0.34, 0.36, 0.38, 0.4 , 0.42,\n",
       "        0.44, 0.46, 0.48, 0.5 , 0.52, 0.54, 0.56, 0.58, 0.6 , 0.62, 0.64,\n",
       "        0.66, 0.68, 0.7 , 0.72, 0.74, 0.76, 0.78, 0.8 , 0.82, 0.84, 0.86,\n",
       "        0.88, 0.9 , 0.92, 0.94, 0.96, 0.98, 1.  ]),\n",
       " <a list of 50 Patch objects>)"
      ]
     },
     "execution_count": 19,
     "metadata": {},
     "output_type": "execute_result"
    },
    {
     "data": {
      "image/png": "[encoded data removed]",
      "text/plain": [
       "<Figure size 432x288 with 1 Axes>"
      ]
     },
     "metadata": {
      "needs_background": "light"
     },
     "output_type": "display_data"
    }
   ],
   "source": [
    "three_jac= jaccard_distribution(three_utr_merged)\n",
    "plt.hist(three_jac['jaccard_similarity'], bins = 50)"
   ]
  },
  {
   "cell_type": "code",
   "execution_count": 20,
   "metadata": {},
   "outputs": [
    {
     "name": "stderr",
     "output_type": "stream",
     "text": [
      "/home/hsher/miniconda3/lib/python3.7/site-packages/sklearn/metrics/pairwise.py:1735: DataConversionWarning: Data was converted to boolean for metric jaccard\n",
      "  warnings.warn(msg, DataConversionWarning)\n"
     ]
    },
    {
     "name": "stdout",
     "output_type": "stream",
     "text": [
      "0        HNRNPC\n",
      "1        RBFOX2\n",
      "2       IGF2BP1\n",
      "3        HNRNPK\n",
      "4         SRSF7\n",
      "         ...   \n",
      "214      PABPN1\n",
      "215       PRPF4\n",
      "216       TIAL1\n",
      "221    APOBEC3C\n",
      "222        SUB1\n",
      "Name: RBP, Length: 136, dtype: object\n"
     ]
    },
    {
     "data": {
      "text/plain": [
       "(array([8.209e+03, 5.020e+02, 1.850e+02, 9.500e+01, 5.800e+01, 3.300e+01,\n",
       "        1.100e+01, 1.200e+01, 1.000e+01, 1.500e+01, 0.000e+00, 3.000e+00,\n",
       "        8.000e+00, 2.000e+00, 0.000e+00, 0.000e+00, 2.000e+00, 0.000e+00,\n",
       "        0.000e+00, 0.000e+00, 1.000e+00, 0.000e+00, 0.000e+00, 0.000e+00,\n",
       "        1.000e+00, 4.000e+00, 0.000e+00, 0.000e+00, 0.000e+00, 0.000e+00,\n",
       "        0.000e+00, 0.000e+00, 0.000e+00, 0.000e+00, 0.000e+00, 0.000e+00,\n",
       "        0.000e+00, 0.000e+00, 0.000e+00, 0.000e+00, 0.000e+00, 0.000e+00,\n",
       "        0.000e+00, 0.000e+00, 0.000e+00, 0.000e+00, 0.000e+00, 0.000e+00,\n",
       "        0.000e+00, 2.900e+01]),\n",
       " array([0.  , 0.02, 0.04, 0.06, 0.08, 0.1 , 0.12, 0.14, 0.16, 0.18, 0.2 ,\n",
       "        0.22, 0.24, 0.26, 0.28, 0.3 , 0.32, 0.34, 0.36, 0.38, 0.4 , 0.42,\n",
       "        0.44, 0.46, 0.48, 0.5 , 0.52, 0.54, 0.56, 0.58, 0.6 , 0.62, 0.64,\n",
       "        0.66, 0.68, 0.7 , 0.72, 0.74, 0.76, 0.78, 0.8 , 0.82, 0.84, 0.86,\n",
       "        0.88, 0.9 , 0.92, 0.94, 0.96, 0.98, 1.  ]),\n",
       " <a list of 50 Patch objects>)"
      ]
     },
     "execution_count": 20,
     "metadata": {},
     "output_type": "execute_result"
    },
    {
     "data": {
      "image/png": "[encoded data removed]",
      "text/plain": [
       "<Figure size 432x288 with 1 Axes>"
      ]
     },
     "metadata": {
      "needs_background": "light"
     },
     "output_type": "display_data"
    }
   ],
   "source": [
    "five_jac= jaccard_distribution(five_utr_merged)\n",
    "plt.hist(five_jac['jaccard_similarity'], bins = 50)"
   ]
  },
  {
   "cell_type": "markdown",
   "metadata": {},
   "source": [
    "# Correlate with string ppi"
   ]
  },
  {
   "cell_type": "code",
   "execution_count": 21,
   "metadata": {},
   "outputs": [],
   "source": [
    "string = pd.read_pickle('~/projects/peak_calling/string_rbp_in.pickle')"
   ]
  },
  {
   "cell_type": "code",
   "execution_count": 22,
   "metadata": {},
   "outputs": [
    {
     "data": {
      "text/html": [
       "<div>\n",
       "<style scoped>\n",
       "    .dataframe tbody tr th:only-of-type {\n",
       "        vertical-align: middle;\n",
       "    }\n",
       "\n",
       "    .dataframe tbody tr th {\n",
       "        vertical-align: top;\n",
       "    }\n",
       "\n",
       "    .dataframe thead th {\n",
       "        text-align: right;\n",
       "    }\n",
       "</style>\n",
       "<table border=\"1\" class=\"dataframe\">\n",
       "  <thead>\n",
       "    <tr style=\"text-align: right;\">\n",
       "      <th></th>\n",
       "      <th>item_id_a</th>\n",
       "      <th>item_id_b</th>\n",
       "      <th>mode</th>\n",
       "      <th>action</th>\n",
       "      <th>is_directional</th>\n",
       "      <th>a_is_acting</th>\n",
       "      <th>score</th>\n",
       "      <th>protein_one</th>\n",
       "      <th>protein_two</th>\n",
       "    </tr>\n",
       "  </thead>\n",
       "  <tbody>\n",
       "    <tr>\n",
       "      <th>23473</th>\n",
       "      <td>9606.ENSP00000156109</td>\n",
       "      <td>9606.ENSP00000156471</td>\n",
       "      <td>binding</td>\n",
       "      <td>NaN</td>\n",
       "      <td>f</td>\n",
       "      <td>f</td>\n",
       "      <td>901</td>\n",
       "      <td>ENSP00000156109</td>\n",
       "      <td>ENSP00000156471</td>\n",
       "    </tr>\n",
       "    <tr>\n",
       "      <th>23474</th>\n",
       "      <td>9606.ENSP00000156109</td>\n",
       "      <td>9606.ENSP00000156471</td>\n",
       "      <td>catalysis</td>\n",
       "      <td>NaN</td>\n",
       "      <td>t</td>\n",
       "      <td>f</td>\n",
       "      <td>901</td>\n",
       "      <td>ENSP00000156109</td>\n",
       "      <td>ENSP00000156471</td>\n",
       "    </tr>\n",
       "    <tr>\n",
       "      <th>23475</th>\n",
       "      <td>9606.ENSP00000156109</td>\n",
       "      <td>9606.ENSP00000156471</td>\n",
       "      <td>catalysis</td>\n",
       "      <td>NaN</td>\n",
       "      <td>t</td>\n",
       "      <td>t</td>\n",
       "      <td>901</td>\n",
       "      <td>ENSP00000156109</td>\n",
       "      <td>ENSP00000156471</td>\n",
       "    </tr>\n",
       "    <tr>\n",
       "      <th>23476</th>\n",
       "      <td>9606.ENSP00000156109</td>\n",
       "      <td>9606.ENSP00000156471</td>\n",
       "      <td>reaction</td>\n",
       "      <td>NaN</td>\n",
       "      <td>f</td>\n",
       "      <td>f</td>\n",
       "      <td>901</td>\n",
       "      <td>ENSP00000156109</td>\n",
       "      <td>ENSP00000156471</td>\n",
       "    </tr>\n",
       "    <tr>\n",
       "      <th>23477</th>\n",
       "      <td>9606.ENSP00000156109</td>\n",
       "      <td>9606.ENSP00000156471</td>\n",
       "      <td>reaction</td>\n",
       "      <td>NaN</td>\n",
       "      <td>t</td>\n",
       "      <td>f</td>\n",
       "      <td>901</td>\n",
       "      <td>ENSP00000156109</td>\n",
       "      <td>ENSP00000156471</td>\n",
       "    </tr>\n",
       "  </tbody>\n",
       "</table>\n",
       "</div>"
      ],
      "text/plain": [
       "                  item_id_a             item_id_b       mode action  \\\n",
       "23473  9606.ENSP00000156109  9606.ENSP00000156471    binding    NaN   \n",
       "23474  9606.ENSP00000156109  9606.ENSP00000156471  catalysis    NaN   \n",
       "23475  9606.ENSP00000156109  9606.ENSP00000156471  catalysis    NaN   \n",
       "23476  9606.ENSP00000156109  9606.ENSP00000156471   reaction    NaN   \n",
       "23477  9606.ENSP00000156109  9606.ENSP00000156471   reaction    NaN   \n",
       "\n",
       "      is_directional a_is_acting  score      protein_one      protein_two  \n",
       "23473              f           f    901  ENSP00000156109  ENSP00000156471  \n",
       "23474              t           f    901  ENSP00000156109  ENSP00000156471  \n",
       "23475              t           t    901  ENSP00000156109  ENSP00000156471  \n",
       "23476              f           f    901  ENSP00000156109  ENSP00000156471  \n",
       "23477              t           f    901  ENSP00000156109  ENSP00000156471  "
      ]
     },
     "execution_count": 22,
     "metadata": {},
     "output_type": "execute_result"
    }
   ],
   "source": [
    "string.head()"
   ]
  },
  {
   "cell_type": "code",
   "execution_count": 23,
   "metadata": {},
   "outputs": [
    {
     "data": {
      "text/plain": [
       "<matplotlib.axes._subplots.AxesSubplot at 0x2b071a076490>"
      ]
     },
     "execution_count": 23,
     "metadata": {},
     "output_type": "execute_result"
    },
    {
     "data": {
      "image/png": "[encoded data removed]",
      "text/plain": [
       "<Figure size 432x288 with 1 Axes>"
      ]
     },
     "metadata": {
      "needs_background": "light"
     },
     "output_type": "display_data"
    }
   ],
   "source": [
    "string['score'].plot.hist()"
   ]
  },
  {
   "cell_type": "code",
   "execution_count": 23,
   "metadata": {},
   "outputs": [],
   "source": [
    "rbp_id = pd.read_pickle('~/projects/peak_calling/RBP_id.pickle')"
   ]
  },
  {
   "cell_type": "code",
   "execution_count": 24,
   "metadata": {},
   "outputs": [],
   "source": [
    "all_protein = list(set(string['protein_one'].append(string['protein_two'])))\n",
    "names = []\n",
    "for p in all_protein:\n",
    "    for id_set in rbp_id['esnp'].index:\n",
    "        if p in rbp_id.loc[id_set, 'esnp']:\n",
    "            names.append(id_set)"
   ]
  },
  {
   "cell_type": "code",
   "execution_count": 25,
   "metadata": {},
   "outputs": [],
   "source": [
    "id_to_name = dict(zip(all_protein, names))"
   ]
  },
  {
   "cell_type": "code",
   "execution_count": 26,
   "metadata": {},
   "outputs": [],
   "source": [
    "string['protein_one_name'] = string['protein_one'].map(id_to_name)\n",
    "string['protein_two_name'] = string['protein_two'].map(id_to_name)\n",
    "string['mapper'] = string[['protein_one_name', 'protein_two_name']].apply(frozenset, axis = 1)"
   ]
  },
  {
   "cell_type": "code",
   "execution_count": 27,
   "metadata": {},
   "outputs": [
    {
     "data": {
      "text/plain": [
       "(10524, 12)"
      ]
     },
     "execution_count": 27,
     "metadata": {},
     "output_type": "execute_result"
    }
   ],
   "source": [
    "string.shape"
   ]
  },
  {
   "cell_type": "code",
   "execution_count": 28,
   "metadata": {},
   "outputs": [],
   "source": [
    "string.drop_duplicates('mapper', inplace = True)"
   ]
  },
  {
   "cell_type": "code",
   "execution_count": 29,
   "metadata": {},
   "outputs": [],
   "source": [
    "three_jac['mapper'] = three_jac[['protein_one_name', 'protein_two_name']].apply(frozenset, axis = 1)\n",
    "five_jac['mapper'] = five_jac[['protein_one_name', 'protein_two_name']].apply(frozenset, axis = 1)\n"
   ]
  },
  {
   "cell_type": "code",
   "execution_count": 30,
   "metadata": {},
   "outputs": [],
   "source": [
    "string = string.merge(three_jac, on = 'mapper', how = 'outer', suffixes = ('', '_3UTR'))\n",
    "\n",
    "string = string.merge(five_jac, on = 'mapper', how = 'outer', suffixes = ('', '_5UTR'))"
   ]
  },
  {
   "cell_type": "code",
   "execution_count": 31,
   "metadata": {},
   "outputs": [
    {
     "data": {
      "text/plain": [
       "(10227, 18)"
      ]
     },
     "execution_count": 31,
     "metadata": {},
     "output_type": "execute_result"
    }
   ],
   "source": [
    "string.shape"
   ]
  },
  {
   "cell_type": "code",
   "execution_count": 32,
   "metadata": {},
   "outputs": [
    {
     "data": {
      "text/plain": [
       "item_id_a                   1057\n",
       "item_id_b                   1057\n",
       "mode                        1057\n",
       "action                        62\n",
       "is_directional              1057\n",
       "a_is_acting                 1057\n",
       "score                       1057\n",
       "protein_one                 1057\n",
       "protein_two                 1057\n",
       "protein_one_name            1057\n",
       "protein_two_name            1057\n",
       "mapper                     10227\n",
       "protein_one_name_3UTR       9730\n",
       "protein_two_name_3UTR       9730\n",
       "jaccard_similarity          9730\n",
       "protein_one_name_5UTR       9180\n",
       "protein_two_name_5UTR       9180\n",
       "jaccard_similarity_5UTR     9180\n",
       "dtype: int64"
      ]
     },
     "execution_count": 32,
     "metadata": {},
     "output_type": "execute_result"
    }
   ],
   "source": [
    "string.count()"
   ]
  },
  {
   "cell_type": "markdown",
   "metadata": {},
   "source": [
    "# interaction detected and not detected by STRING"
   ]
  },
  {
   "cell_type": "code",
   "execution_count": 33,
   "metadata": {},
   "outputs": [
    {
     "data": {
      "text/plain": [
       "array([<matplotlib.axes._subplots.AxesSubplot object at 0x2b39bba73710>,\n",
       "       <matplotlib.axes._subplots.AxesSubplot object at 0x2b39bbceef90>],\n",
       "      dtype=object)"
      ]
     },
     "execution_count": 33,
     "metadata": {},
     "output_type": "execute_result"
    },
    {
     "data": {
      "image/png": "[encoded data removed]",
      "text/plain": [
       "<Figure size 432x288 with 2 Axes>"
      ]
     },
     "metadata": {
      "needs_background": "light"
     },
     "output_type": "display_data"
    }
   ],
   "source": [
    "string['detected_by_string'] = string['score'].notnull()\n",
    "string.boxplot(column = ['jaccard_similarity', 'jaccard_similarity_5UTR'],by = 'detected_by_string')"
   ]
  },
  {
   "cell_type": "code",
   "execution_count": 34,
   "metadata": {},
   "outputs": [
    {
     "name": "stderr",
     "output_type": "stream",
     "text": [
      "/home/hsher/miniconda3/lib/python3.7/site-packages/ipykernel_launcher.py:1: FutureWarning: Indexing with multiple keys (implicitly converted to a tuple of keys) will be deprecated, use a list instead.\n",
      "  \"\"\"Entry point for launching an IPython kernel.\n"
     ]
    },
    {
     "data": {
      "text/html": [
       "<div>\n",
       "<style scoped>\n",
       "    .dataframe tbody tr th:only-of-type {\n",
       "        vertical-align: middle;\n",
       "    }\n",
       "\n",
       "    .dataframe tbody tr th {\n",
       "        vertical-align: top;\n",
       "    }\n",
       "\n",
       "    .dataframe thead th {\n",
       "        text-align: right;\n",
       "    }\n",
       "</style>\n",
       "<table border=\"1\" class=\"dataframe\">\n",
       "  <thead>\n",
       "    <tr style=\"text-align: right;\">\n",
       "      <th></th>\n",
       "      <th>jaccard_similarity</th>\n",
       "      <th>jaccard_similarity_5UTR</th>\n",
       "    </tr>\n",
       "    <tr>\n",
       "      <th>detected_by_string</th>\n",
       "      <th></th>\n",
       "      <th></th>\n",
       "    </tr>\n",
       "  </thead>\n",
       "  <tbody>\n",
       "    <tr>\n",
       "      <th>False</th>\n",
       "      <td>0.014267</td>\n",
       "      <td>0.010197</td>\n",
       "    </tr>\n",
       "    <tr>\n",
       "      <th>True</th>\n",
       "      <td>0.011460</td>\n",
       "      <td>0.010807</td>\n",
       "    </tr>\n",
       "  </tbody>\n",
       "</table>\n",
       "</div>"
      ],
      "text/plain": [
       "                    jaccard_similarity  jaccard_similarity_5UTR\n",
       "detected_by_string                                             \n",
       "False                         0.014267                 0.010197\n",
       "True                          0.011460                 0.010807"
      ]
     },
     "execution_count": 34,
     "metadata": {},
     "output_type": "execute_result"
    }
   ],
   "source": [
    "string.groupby(by = 'detected_by_string')['jaccard_similarity', 'jaccard_similarity_5UTR'].mean()"
   ]
  },
  {
   "cell_type": "markdown",
   "metadata": {},
   "source": [
    "## by percentile"
   ]
  },
  {
   "cell_type": "code",
   "execution_count": 35,
   "metadata": {},
   "outputs": [],
   "source": [
    "string['jaccard_similarity_perc'] = np.digitize(string['jaccard_similarity'].fillna(0), np.percentile(string['jaccard_similarity'].fillna(0), np.arange(100)))\n",
    "string['jaccard_similarity_5UTR_perc'] = np.digitize(string['jaccard_similarity_5UTR'].fillna(0), np.percentile(string['jaccard_similarity_5UTR'].fillna(0), np.arange(100)))\n",
    "string['score_perc'] = np.digitize(string['score'].fillna(0), np.percentile(string['score'].fillna(0), np.arange(100)))"
   ]
  },
  {
   "cell_type": "code",
   "execution_count": 36,
   "metadata": {},
   "outputs": [
    {
     "data": {
      "text/plain": [
       "array([<matplotlib.axes._subplots.AxesSubplot object at 0x2b39bbd192d0>,\n",
       "       <matplotlib.axes._subplots.AxesSubplot object at 0x2b39bbe08c10>],\n",
       "      dtype=object)"
      ]
     },
     "execution_count": 36,
     "metadata": {},
     "output_type": "execute_result"
    },
    {
     "data": {
      "image/png": "[encoded data removed]",
      "text/plain": [
       "<Figure size 432x288 with 2 Axes>"
      ]
     },
     "metadata": {
      "needs_background": "light"
     },
     "output_type": "display_data"
    }
   ],
   "source": [
    "string.boxplot(column = ['jaccard_similarity_perc', 'jaccard_similarity_5UTR_perc'],by = 'detected_by_string')"
   ]
  },
  {
   "cell_type": "code",
   "execution_count": 37,
   "metadata": {},
   "outputs": [
    {
     "data": {
      "text/plain": [
       "<matplotlib.axes._subplots.AxesSubplot at 0x2b39bbf05090>"
      ]
     },
     "execution_count": 37,
     "metadata": {},
     "output_type": "execute_result"
    },
    {
     "data": {
      "image/png": "[encoded data removed]",
      "text/plain": [
       "<Figure size 432x288 with 1 Axes>"
      ]
     },
     "metadata": {
      "needs_background": "light"
     },
     "output_type": "display_data"
    }
   ],
   "source": [
    "string.plot(kind = 'scatter', x = 'score', y = 'jaccard_similarity_5UTR')"
   ]
  },
  {
   "cell_type": "code",
   "execution_count": 38,
   "metadata": {},
   "outputs": [
    {
     "data": {
      "text/plain": [
       "<matplotlib.axes._subplots.AxesSubplot at 0x2b39bbf1c6d0>"
      ]
     },
     "execution_count": 38,
     "metadata": {},
     "output_type": "execute_result"
    },
    {
     "data": {
      "image/png": "[encoded data removed]",
      "text/plain": [
       "<Figure size 432x288 with 1 Axes>"
      ]
     },
     "metadata": {
      "needs_background": "light"
     },
     "output_type": "display_data"
    }
   ],
   "source": [
    "string.plot(kind = 'scatter', x = 'score_perc', y = 'jaccard_similarity_5UTR_perc')"
   ]
  },
  {
   "cell_type": "code",
   "execution_count": 39,
   "metadata": {},
   "outputs": [
    {
     "data": {
      "text/plain": [
       "<matplotlib.axes._subplots.AxesSubplot at 0x2b39bbf8c2d0>"
      ]
     },
     "execution_count": 39,
     "metadata": {},
     "output_type": "execute_result"
    },
    {
     "data": {
      "image/png": "[encoded data removed]",
      "text/plain": [
       "<Figure size 432x288 with 1 Axes>"
      ]
     },
     "metadata": {
      "needs_background": "light"
     },
     "output_type": "display_data"
    }
   ],
   "source": [
    "string.plot(kind = 'scatter', x = 'score', y = 'jaccard_similarity')"
   ]
  },
  {
   "cell_type": "code",
   "execution_count": 40,
   "metadata": {},
   "outputs": [
    {
     "data": {
      "text/plain": [
       "<matplotlib.axes._subplots.AxesSubplot at 0x2b39bbfe5f50>"
      ]
     },
     "execution_count": 40,
     "metadata": {},
     "output_type": "execute_result"
    },
    {
     "data": {
      "image/png": "[encoded data removed]",
      "text/plain": [
       "<Figure size 432x288 with 1 Axes>"
      ]
     },
     "metadata": {
      "needs_background": "light"
     },
     "output_type": "display_data"
    }
   ],
   "source": [
    "string.plot(kind = 'scatter', x = 'jaccard_similarity_5UTR', y = 'jaccard_similarity', alpha = 0.3)"
   ]
  },
  {
   "cell_type": "code",
   "execution_count": 41,
   "metadata": {},
   "outputs": [
    {
     "data": {
      "text/plain": [
       "<matplotlib.axes._subplots.AxesSubplot at 0x2b39bc04dbd0>"
      ]
     },
     "execution_count": 41,
     "metadata": {},
     "output_type": "execute_result"
    },
    {
     "data": {
      "image/png": "[encoded data removed]",
      "text/plain": [
       "<Figure size 432x288 with 1 Axes>"
      ]
     },
     "metadata": {
      "needs_background": "light"
     },
     "output_type": "display_data"
    }
   ],
   "source": [
    "string.plot(kind = 'scatter', x = 'jaccard_similarity_5UTR_perc', y = 'jaccard_similarity_perc', alpha = 0.3)"
   ]
  },
  {
   "cell_type": "code",
   "execution_count": 43,
   "metadata": {},
   "outputs": [],
   "source": [
    "string['protein_one'] = [list(i)[0] for i in string['mapper']]\n",
    "string['protein_two'] = [list(i)[1] for i in string['mapper']]"
   ]
  },
  {
   "cell_type": "markdown",
   "metadata": {},
   "source": [
    "# Do they exist in complex"
   ]
  },
  {
   "cell_type": "code",
   "execution_count": 44,
   "metadata": {},
   "outputs": [],
   "source": [
    "corum_complex = pd.read_csv('~/projects/allComplexes.txt', sep = '\\t')"
   ]
  },
  {
   "cell_type": "code",
   "execution_count": 45,
   "metadata": {},
   "outputs": [],
   "source": [
    "all_uniprot = set()\n",
    "_ = [all_uniprot.update(ids) for ids in rbp_id['uniprot.Swiss-Prot'] if type(ids) != float]"
   ]
  },
  {
   "cell_type": "code",
   "execution_count": 46,
   "metadata": {},
   "outputs": [],
   "source": [
    "selected_complex_index = []\n",
    "i = 0\n",
    "for complex_set in corum_complex['subunits(UniProt IDs)'].str.split(';').apply(set):\n",
    "    if len(complex_set.intersection(all_uniprot))>0:\n",
    "        selected_complex_index.append(i)\n",
    "    i+= 1\n"
   ]
  },
  {
   "cell_type": "code",
   "execution_count": 47,
   "metadata": {},
   "outputs": [],
   "source": [
    "corum_complex = corum_complex.loc[selected_complex_index]"
   ]
  },
  {
   "cell_type": "code",
   "execution_count": 48,
   "metadata": {
    "scrolled": true
   },
   "outputs": [],
   "source": [
    "corum_complex['composition'] = corum_complex['subunits(Gene name)'].str.split(';')"
   ]
  },
  {
   "cell_type": "markdown",
   "metadata": {},
   "source": [
    "## sample a random distribution"
   ]
  },
  {
   "cell_type": "code",
   "execution_count": 56,
   "metadata": {},
   "outputs": [],
   "source": [
    "# normalize string\n",
    "string['score'] = string['score'].fillna(0)/1000"
   ]
  },
  {
   "cell_type": "code",
   "execution_count": 59,
   "metadata": {},
   "outputs": [
    {
     "name": "stderr",
     "output_type": "stream",
     "text": [
      "/home/hsher/miniconda3/lib/python3.7/site-packages/ipykernel_launcher.py:6: DeprecationWarning: This function is deprecated. Please call randint(0, 147 + 1) instead\n",
      "  \n"
     ]
    }
   ],
   "source": [
    "# background_distribution\n",
    "mean_list = []\n",
    "all_protein = string['protein_one'].append(string['protein_two']).unique()\n",
    "for n in range(500):\n",
    "    \n",
    "    random_10_protein = all_protein[np.random.random_integers(low = 0, high = len(all_protein)-1, size = 10)]\n",
    "    sampled = string.loc[(string['protein_one'].isin(random_10_protein))&(string['protein_two'].isin(random_10_protein))]\n",
    "    mean_list.append(sampled[['score', 'jaccard_similarity_5UTR', 'jaccard_similarity']].mean(axis = 0).values)"
   ]
  },
  {
   "cell_type": "code",
   "execution_count": 60,
   "metadata": {},
   "outputs": [],
   "source": [
    "background_distribution = np.stack(mean_list)"
   ]
  },
  {
   "cell_type": "code",
   "execution_count": 52,
   "metadata": {},
   "outputs": [
    {
     "name": "stderr",
     "output_type": "stream",
     "text": [
      "/home/hsher/miniconda3/lib/python3.7/site-packages/numpy/lib/histograms.py:839: RuntimeWarning: invalid value encountered in greater_equal\n",
      "  keep = (tmp_a >= first_edge)\n",
      "/home/hsher/miniconda3/lib/python3.7/site-packages/numpy/lib/histograms.py:840: RuntimeWarning: invalid value encountered in less_equal\n",
      "  keep &= (tmp_a <= last_edge)\n"
     ]
    },
    {
     "data": {
      "text/plain": [
       "Text(0.5, 0.98, 'background distibution for scores')"
      ]
     },
     "execution_count": 52,
     "metadata": {},
     "output_type": "execute_result"
    },
    {
     "data": {
      "image/png": "[encoded data removed]",
      "text/plain": [
       "<Figure size 432x288 with 3 Axes>"
      ]
     },
     "metadata": {
      "needs_background": "light"
     },
     "output_type": "display_data"
    }
   ],
   "source": [
    "f, ax = plt.subplots(1,3, sharey = True)\n",
    "i = 0\n",
    "for score in ['score', 'jaccard_similarity', 'jacard_similarity_5UTR']:\n",
    "    ax[i].hist(background_distribution[:,i])\n",
    "    ax[i].set_title(score)\n",
    "    i+= 1\n",
    "plt.suptitle('background distibution for scores')"
   ]
  },
  {
   "cell_type": "code",
   "execution_count": 64,
   "metadata": {},
   "outputs": [
    {
     "data": {
      "image/png": "[encoded data removed]",
      "text/plain": [
       "<Figure size 1080x216 with 6 Axes>"
      ]
     },
     "metadata": {
      "needs_background": "light"
     },
     "output_type": "display_data"
    }
   ],
   "source": [
    "cols = ['score', 'jaccard_similarity', 'jaccard_similarity_5UTR']\n",
    "complex_score = pd.DataFrame(index = corum_complex.index, columns = cols )\n",
    "f,ax = plt.subplots(nrows = 1, ncols = corum_complex.shape[0]+1, figsize = (15,3), sharey = True)\n",
    "i = 0\n",
    "for c in corum_complex.index:\n",
    "    \n",
    "    complex_jaccard_score = string.loc[(string['protein_one'].isin(corum_complex.loc[c, 'composition']))&(string['protein_two'].isin(corum_complex.loc[c, 'composition']))]\n",
    "    complex_jaccard_score = complex_jaccard_score[cols]\n",
    "    complex_score.loc[c] = complex_jaccard_score.mean(axis = 0)\n",
    "    complex_jaccard_score.boxplot(column = cols, ax = ax[i])\n",
    "    ax[i].set_title(corum_complex.loc[c, 'ComplexName'])\n",
    "    ax[i].tick_params(labelrotation=60)\n",
    "    ax[i].set_ylabel('score')\n",
    "    i+=1\n",
    "complex_jaccard_score = string.loc[(string['protein_one'].isin(random_10_protein))&(string['protein_two'].isin(random_10_protein))]\n",
    "complex_jaccard_score.boxplot(column = cols, ax = ax[i])    \n",
    "ax[i].set_title('random 10 protein')\n",
    "ax[i].tick_params(labelrotation=60)\n"
   ]
  },
  {
   "cell_type": "code",
   "execution_count": 76,
   "metadata": {},
   "outputs": [
    {
     "ename": "TypeError",
     "evalue": "can only concatenate list (not \"str\") to list",
     "output_type": "error",
     "traceback": [
      "\u001b[0;31m---------------------------------------------------------------------------\u001b[0m",
      "\u001b[0;31mTypeError\u001b[0m                                 Traceback (most recent call last)",
      "\u001b[0;32m<ipython-input-76-37b32769b3a9>\u001b[0m in \u001b[0;36m<module>\u001b[0;34m\u001b[0m\n\u001b[0;32m----> 1\u001b[0;31m \u001b[0mstring\u001b[0m\u001b[0;34m.\u001b[0m\u001b[0mloc\u001b[0m\u001b[0;34m[\u001b[0m\u001b[0mstring\u001b[0m\u001b[0;34m[\u001b[0m\u001b[0;34m'jaccard_similarity'\u001b[0m\u001b[0;34m]\u001b[0m\u001b[0;34m>\u001b[0m\u001b[0;36m0.25\u001b[0m\u001b[0;34m,\u001b[0m \u001b[0mcols\u001b[0m\u001b[0;34m+\u001b[0m \u001b[0;34m'mapper'\u001b[0m\u001b[0;34m]\u001b[0m\u001b[0;34m\u001b[0m\u001b[0;34m\u001b[0m\u001b[0m\n\u001b[0m",
      "\u001b[0;31mTypeError\u001b[0m: can only concatenate list (not \"str\") to list"
     ]
    }
   ],
   "source": [
    "string.loc[string['jaccard_similarity']>0.25, cols+ 'mapper']"
   ]
  },
  {
   "cell_type": "code",
   "execution_count": 66,
   "metadata": {},
   "outputs": [
    {
     "data": {
      "text/html": [
       "<div>\n",
       "<style scoped>\n",
       "    .dataframe tbody tr th:only-of-type {\n",
       "        vertical-align: middle;\n",
       "    }\n",
       "\n",
       "    .dataframe tbody tr th {\n",
       "        vertical-align: top;\n",
       "    }\n",
       "\n",
       "    .dataframe thead th {\n",
       "        text-align: right;\n",
       "    }\n",
       "</style>\n",
       "<table border=\"1\" class=\"dataframe\">\n",
       "  <thead>\n",
       "    <tr style=\"text-align: right;\">\n",
       "      <th></th>\n",
       "      <th>score</th>\n",
       "      <th>jaccard_similarity</th>\n",
       "      <th>jaccard_similarity_5UTR</th>\n",
       "    </tr>\n",
       "  </thead>\n",
       "  <tbody>\n",
       "    <tr>\n",
       "      <th>314</th>\n",
       "      <td>0.478467</td>\n",
       "      <td>0.0121904</td>\n",
       "      <td>0.0106679</td>\n",
       "    </tr>\n",
       "    <tr>\n",
       "      <th>1061</th>\n",
       "      <td>0.1743</td>\n",
       "      <td>0.00194805</td>\n",
       "      <td>0.00829995</td>\n",
       "    </tr>\n",
       "    <tr>\n",
       "      <th>1101</th>\n",
       "      <td>0.812912</td>\n",
       "      <td>0.00887475</td>\n",
       "      <td>0.00631884</td>\n",
       "    </tr>\n",
       "    <tr>\n",
       "      <th>1781</th>\n",
       "      <td>0.731619</td>\n",
       "      <td>0.00683328</td>\n",
       "      <td>0.00961083</td>\n",
       "    </tr>\n",
       "    <tr>\n",
       "      <th>2067</th>\n",
       "      <td>0.167673</td>\n",
       "      <td>0.0129461</td>\n",
       "      <td>0.0133542</td>\n",
       "    </tr>\n",
       "  </tbody>\n",
       "</table>\n",
       "</div>"
      ],
      "text/plain": [
       "         score jaccard_similarity jaccard_similarity_5UTR\n",
       "314   0.478467          0.0121904               0.0106679\n",
       "1061    0.1743         0.00194805              0.00829995\n",
       "1101  0.812912         0.00887475              0.00631884\n",
       "1781  0.731619         0.00683328              0.00961083\n",
       "2067  0.167673          0.0129461               0.0133542"
      ]
     },
     "execution_count": 66,
     "metadata": {},
     "output_type": "execute_result"
    }
   ],
   "source": [
    "# statistical significance\n",
    "complex_score"
   ]
  },
  {
   "cell_type": "code",
   "execution_count": 61,
   "metadata": {},
   "outputs": [
    {
     "data": {
      "text/plain": [
       "0.20395161290322578"
      ]
     },
     "execution_count": 61,
     "metadata": {},
     "output_type": "execute_result"
    }
   ],
   "source": [
    "np.percentile(background_distribution[:,0], 95)"
   ]
  },
  {
   "cell_type": "code",
   "execution_count": 65,
   "metadata": {},
   "outputs": [
    {
     "data": {
      "text/plain": [
       "0.03134573213417679"
      ]
     },
     "execution_count": 65,
     "metadata": {},
     "output_type": "execute_result"
    }
   ],
   "source": [
    "np.percentile(background_distribution[:,1], 95)"
   ]
  },
  {
   "cell_type": "code",
   "execution_count": 67,
   "metadata": {},
   "outputs": [
    {
     "data": {
      "text/plain": [
       "0.03401494445705279"
      ]
     },
     "execution_count": 67,
     "metadata": {},
     "output_type": "execute_result"
    }
   ],
   "source": [
    "np.percentile(background_distribution[:,2], 95)"
   ]
  },
  {
   "cell_type": "markdown",
   "metadata": {},
   "source": [
    "# wilcoxin (pair with same/different complex)!!\n",
    "permutation\n",
    "\n",
    "# look for decapping in Gene Ontology/REactome/\n",
    "\n",
    "# extend to exon/intron/ncRNA\n",
    "# MS dataset\n",
    "\n",
    "# jaccrd --> directional (see one note)"
   ]
  }
 ],
 "metadata": {
  "kernelspec": {
   "display_name": "Python 3",
   "language": "python",
   "name": "python3"
  },
  "language_info": {
   "codemirror_mode": {
    "name": "ipython",
    "version": 3
   },
   "file_extension": ".py",
   "mimetype": "text/x-python",
   "name": "python",
   "nbconvert_exporter": "python",
   "pygments_lexer": "ipython3",
   "version": "3.7.6"
  }
 },
 "nbformat": 4,
 "nbformat_minor": 4
}
