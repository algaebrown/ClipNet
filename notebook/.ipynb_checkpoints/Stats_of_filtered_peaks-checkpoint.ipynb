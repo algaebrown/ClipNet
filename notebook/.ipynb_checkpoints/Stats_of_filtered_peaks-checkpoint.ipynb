{
 "cells": [
  {
   "cell_type": "markdown",
   "metadata": {},
   "source": [
    "# Statistics of filtered RBP peaks\n",
    "- how many peaks have we lost\n",
    "- how many peaks per feature (exon, intron)\n",
    "- how many feature is none-zeor\n",
    "- how many feature is shared?"
   ]
  },
  {
   "cell_type": "code",
   "execution_count": 1,
   "metadata": {},
   "outputs": [],
   "source": [
    "in_dir = '/home/hsher/seqdata/eclip_bed/'\n",
    "extension = '.01v02.IDR.out.0102merged.bed.blacklist_removed.bed.narrowPeak.bed'\n",
    "out_dir = '/home/hsher/seqdata/canonical_transcript_binding/_correct/'\n",
    "import pandas as pd\n",
    "eclip_bam = pd.read_csv('/home/hsher/projects/peak_calling/ENCODE_FINAL_ANNOTATIONS.uidsonly.txt.manifesthg38.txt', sep = '\\t', header= 0)"
   ]
  },
  {
   "cell_type": "markdown",
   "metadata": {},
   "source": [
    "# number of peaks v.s. number of features being 1"
   ]
  },
  {
   "cell_type": "code",
   "execution_count": 2,
   "metadata": {},
   "outputs": [],
   "source": [
    "from pybedtools import BedTool\n"
   ]
  },
  {
   "cell_type": "code",
   "execution_count": null,
   "metadata": {},
   "outputs": [],
   "source": [
    "eclip_bam.set_index('uID', inplace = True)"
   ]
  },
  {
   "cell_type": "code",
   "execution_count": 5,
   "metadata": {},
   "outputs": [],
   "source": [
    "\n",
    "no_peaks = []\n",
    "for fname in eclip_bam.index:\n",
    "    b1 = BedTool(in_dir+fname+extension)\n",
    "    eclip_bam.loc[fname, 'no_peaks'] = b1.count()"
   ]
  },
  {
   "cell_type": "code",
   "execution_count": null,
   "metadata": {},
   "outputs": [],
   "source": [
    "no_features = []\n",
    "for fname in eclip_bam.index:\n",
    "    b1 = BedTool(out_dir+fname)\n",
    "    no_features.append(b1.count())\n",
    "    eclip_bam.loc[fname, 'no_features'] = no_features"
   ]
  },
  {
   "cell_type": "code",
   "execution_count": null,
   "metadata": {},
   "outputs": [],
   "source": [
    "# save to df\n",
    "\n"
   ]
  },
  {
   "cell_type": "code",
   "execution_count": null,
   "metadata": {},
   "outputs": [],
   "source": [
    "eclip_bam.plot(kind = 'scatter', x = 'no_peaks', y='no_features')"
   ]
  },
  {
   "cell_type": "markdown",
   "metadata": {},
   "source": [
    "# length of feature vector\n",
    "609510"
   ]
  },
  {
   "cell_type": "markdown",
   "metadata": {},
   "source": [
    "# types of feature: intron, exon, 3UTR or 5UTR"
   ]
  },
  {
   "cell_type": "code",
   "execution_count": null,
   "metadata": {},
   "outputs": [],
   "source": [
    "import os\n",
    "\n",
    "for fname in onlyfiles[:5]:\n",
    "    x = os.popen('~/project/scripts/count_types_feature.sh {}'.format(out_dir+fname)).read()"
   ]
  },
  {
   "cell_type": "code",
   "execution_count": null,
   "metadata": {},
   "outputs": [],
   "source": [
    "new_cols = ['exon', 'intron', '5-UTR', '3-UTR']\n",
    "for col in new_cols:\n",
    "    eclip_bam[col] = 0"
   ]
  },
  {
   "cell_type": "code",
   "execution_count": null,
   "metadata": {},
   "outputs": [],
   "source": [
    "import subprocess\n",
    "\n",
    "for fname in onlyfiles:\n",
    "    batcmd='../scripts/count_types_feature.sh {}'.format(out_dir+fname)\n",
    "    result = subprocess.check_output(batcmd, shell=True)\n",
    "    eclip_bam.loc[fname, ['exon', 'intron', '5-UTR', '3-UTR']] = [int(i) for i in result.decode(\"utf-8\").rstrip('\\n').split(', ')]"
   ]
  },
  {
   "cell_type": "code",
   "execution_count": null,
   "metadata": {},
   "outputs": [],
   "source": [
    "import seaborn as sns\n",
    "type_of_feature = eclip_bam[new_cols]\n",
    "type_of_feature.index = eclip_bam['RBP']\n",
    "sns.clustermap(type_of_feature, standard_scale = 0, yticklabels = True)"
   ]
  },
  {
   "cell_type": "code",
   "execution_count": null,
   "metadata": {},
   "outputs": [],
   "source": [
    "sns.heatmap(type_of_feature.transpose(), annot = True)"
   ]
  },
  {
   "cell_type": "code",
   "execution_count": null,
   "metadata": {},
   "outputs": [],
   "source": [
    "# encode paper RBP --> compare \n",
    "# composition "
   ]
  },
  {
   "cell_type": "markdown",
   "metadata": {},
   "source": [
    "# type binding per transcript"
   ]
  },
  {
   "cell_type": "code",
   "execution_count": null,
   "metadata": {},
   "outputs": [],
   "source": [
    "# extract transcript id for each\n",
    "for fname in onlyfiles:\n",
    "    batcmd='../scripts/get_transcript_id.sh {}'.format(out_dir+fname)"
   ]
  }
 ],
 "metadata": {
  "kernelspec": {
   "display_name": "Python 3",
   "language": "python",
   "name": "python3"
  },
  "language_info": {
   "codemirror_mode": {
    "name": "ipython",
    "version": 3
   },
   "file_extension": ".py",
   "mimetype": "text/x-python",
   "name": "python",
   "nbconvert_exporter": "python",
   "pygments_lexer": "ipython3",
   "version": "3.7.6"
  }
 },
 "nbformat": 4,
 "nbformat_minor": 4
}
