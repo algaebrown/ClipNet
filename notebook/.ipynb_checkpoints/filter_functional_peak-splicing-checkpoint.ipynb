{
 "cells": [
  {
   "cell_type": "markdown",
   "metadata": {},
   "source": [
    "# filter for functional eCLIP peaks only!\n",
    "\n",
    "- eclip: `~/seqdata/canonical_transcript_binding/_correct/uID_exon_cds.gff3` field 9, Parent=ESNG\n",
    "- splicing: `~/projects/CELL_LINE/RBP_NAME` has ESNG"
   ]
  },
  {
   "cell_type": "code",
   "execution_count": 2,
   "metadata": {},
   "outputs": [],
   "source": [
    "import pandas as pd\n",
    "eclip_bam = pd.read_csv('/home/hsher/projects/peak_calling/ENCODE_FINAL_ANNOTATIONS.uidsonly.txt.manifesthg38.txt', sep = '\\t', header= 0, index_col = 0)"
   ]
  },
  {
   "cell_type": "code",
   "execution_count": 3,
   "metadata": {},
   "outputs": [
    {
     "data": {
      "text/html": [
       "<div>\n",
       "<style scoped>\n",
       "    .dataframe tbody tr th:only-of-type {\n",
       "        vertical-align: middle;\n",
       "    }\n",
       "\n",
       "    .dataframe tbody tr th {\n",
       "        vertical-align: top;\n",
       "    }\n",
       "\n",
       "    .dataframe thead th {\n",
       "        text-align: right;\n",
       "    }\n",
       "</style>\n",
       "<table border=\"1\" class=\"dataframe\">\n",
       "  <thead>\n",
       "    <tr style=\"text-align: right;\">\n",
       "      <th></th>\n",
       "      <th>RBP</th>\n",
       "      <th>Cell line</th>\n",
       "      <th>CLIP_rep1</th>\n",
       "      <th>CLIP_rep2</th>\n",
       "      <th>INPUT</th>\n",
       "    </tr>\n",
       "    <tr>\n",
       "      <th>uID</th>\n",
       "      <th></th>\n",
       "      <th></th>\n",
       "      <th></th>\n",
       "      <th></th>\n",
       "      <th></th>\n",
       "    </tr>\n",
       "  </thead>\n",
       "  <tbody>\n",
       "    <tr>\n",
       "      <th>624</th>\n",
       "      <td>AARS</td>\n",
       "      <td>K562</td>\n",
       "      <td>/projects/ps-yeolab3/encode/analysis/encode_GR...</td>\n",
       "      <td>/projects/ps-yeolab3/encode/analysis/encode_GR...</td>\n",
       "      <td>/projects/ps-yeolab3/encode/analysis/encode_GR...</td>\n",
       "    </tr>\n",
       "  </tbody>\n",
       "</table>\n",
       "</div>"
      ],
      "text/plain": [
       "      RBP Cell line                                          CLIP_rep1  \\\n",
       "uID                                                                      \n",
       "624  AARS      K562  /projects/ps-yeolab3/encode/analysis/encode_GR...   \n",
       "\n",
       "                                             CLIP_rep2  \\\n",
       "uID                                                      \n",
       "624  /projects/ps-yeolab3/encode/analysis/encode_GR...   \n",
       "\n",
       "                                                 INPUT  \n",
       "uID                                                     \n",
       "624  /projects/ps-yeolab3/encode/analysis/encode_GR...  "
      ]
     },
     "execution_count": 3,
     "metadata": {},
     "output_type": "execute_result"
    }
   ],
   "source": [
    "eclip_bam.loc[eclip_bam['RBP']=='AARS']"
   ]
  },
  {
   "cell_type": "code",
   "execution_count": 11,
   "metadata": {},
   "outputs": [],
   "source": [
    "import os\n",
    "outpath = '~/seqdata/canonoical_transcript_binding/_overlap_splice/'\n",
    "for uID in eclip_bam.index:\n",
    "    for ploc in ['exon', 'intron']:\n",
    "        splicing_file = '~/projects/alt_splice/{}/{}'.format(eclip_bam.loc[uID, 'Cell line'], eclip_bam.loc[uID, 'RBP'])\n",
    "        peak_file = '/home/hsher/seqdata/canonical_transcript_binding/_correct/{}_{}_cds.gff3'.format(uID, ploc)\n",
    "        out = outpath + str(uID) + '_' + ploc +'.gff3'\n",
    "        os.system('~/projects/ClipNet/scripts/overlap_peak_splicing.sh {} {} {}'.format(splicing_file, peak_file, out))"
   ]
  },
  {
   "cell_type": "code",
   "execution_count": 7,
   "metadata": {},
   "outputs": [
    {
     "data": {
      "text/plain": [
       "'~/projects/alt_splice/HepG2/SUB1'"
      ]
     },
     "execution_count": 7,
     "metadata": {},
     "output_type": "execute_result"
    }
   ],
   "source": [
    "splicing_file"
   ]
  },
  {
   "cell_type": "code",
   "execution_count": 8,
   "metadata": {},
   "outputs": [
    {
     "data": {
      "text/plain": [
       "'~/seqdata/canonoical_transcript_binding/_correct/632x_intron_cds.gff3'"
      ]
     },
     "execution_count": 8,
     "metadata": {},
     "output_type": "execute_result"
    }
   ],
   "source": [
    "peak_file"
   ]
  },
  {
   "cell_type": "code",
   "execution_count": 9,
   "metadata": {},
   "outputs": [
    {
     "data": {
      "text/plain": [
       "'~/seqdata/canonoical_transcript_binding/_overlap_splice/632x.gff3'"
      ]
     },
     "execution_count": 9,
     "metadata": {},
     "output_type": "execute_result"
    }
   ],
   "source": [
    "out"
   ]
  },
  {
   "cell_type": "code",
   "execution_count": 10,
   "metadata": {},
   "outputs": [
    {
     "data": {
      "text/plain": [
       "'~/seqdata/canonoical_transcript_binding/_overlap_splice/632x.gff3'"
      ]
     },
     "execution_count": 10,
     "metadata": {},
     "output_type": "execute_result"
    }
   ],
   "source": [
    "out"
   ]
  },
  {
   "cell_type": "code",
   "execution_count": null,
   "metadata": {},
   "outputs": [],
   "source": []
  }
 ],
 "metadata": {
  "kernelspec": {
   "display_name": "Python 3",
   "language": "python",
   "name": "python3"
  },
  "language_info": {
   "codemirror_mode": {
    "name": "ipython",
    "version": 3
   },
   "file_extension": ".py",
   "mimetype": "text/x-python",
   "name": "python",
   "nbconvert_exporter": "python",
   "pygments_lexer": "ipython3",
   "version": "3.7.6"
  }
 },
 "nbformat": 4,
 "nbformat_minor": 4
}
