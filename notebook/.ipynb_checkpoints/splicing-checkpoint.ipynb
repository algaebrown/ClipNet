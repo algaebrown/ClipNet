{
 "cells": [
  {
   "cell_type": "code",
   "execution_count": 1,
   "metadata": {},
   "outputs": [],
   "source": [
    "import pandas as pd\n",
    "intron = pd.read_pickle('~/projects/intron.pickle')\n",
    "exon = pd.read_pickle('~/projects/exon.pickle')\n",
    "eclip_bam = pd.read_csv('/home/hsher/projects/peak_calling/ENCODE_FINAL_ANNOTATIONS.uidsonly.txt.manifesthg38.txt', sep = '\\t', header= 0, index_col = 0)"
   ]
  },
  {
   "cell_type": "code",
   "execution_count": 2,
   "metadata": {},
   "outputs": [
    {
     "data": {
      "text/html": [
       "<div>\n",
       "<style scoped>\n",
       "    .dataframe tbody tr th:only-of-type {\n",
       "        vertical-align: middle;\n",
       "    }\n",
       "\n",
       "    .dataframe tbody tr th {\n",
       "        vertical-align: top;\n",
       "    }\n",
       "\n",
       "    .dataframe thead th {\n",
       "        text-align: right;\n",
       "    }\n",
       "</style>\n",
       "<table border=\"1\" class=\"dataframe\">\n",
       "  <thead>\n",
       "    <tr style=\"text-align: right;\">\n",
       "      <th></th>\n",
       "      <th>RBP</th>\n",
       "      <th>Cell line</th>\n",
       "      <th>CLIP_rep1</th>\n",
       "      <th>CLIP_rep2</th>\n",
       "      <th>INPUT</th>\n",
       "    </tr>\n",
       "    <tr>\n",
       "      <th>uID</th>\n",
       "      <th></th>\n",
       "      <th></th>\n",
       "      <th></th>\n",
       "      <th></th>\n",
       "      <th></th>\n",
       "    </tr>\n",
       "  </thead>\n",
       "  <tbody>\n",
       "    <tr>\n",
       "      <th>203</th>\n",
       "      <td>HNRNPC</td>\n",
       "      <td>HepG2</td>\n",
       "      <td>/projects/ps-yeolab3/encode/analysis/encode_GR...</td>\n",
       "      <td>/projects/ps-yeolab3/encode/analysis/encode_GR...</td>\n",
       "      <td>/projects/ps-yeolab3/encode/analysis/encode_GR...</td>\n",
       "    </tr>\n",
       "    <tr>\n",
       "      <th>204</th>\n",
       "      <td>RBFOX2</td>\n",
       "      <td>HepG2</td>\n",
       "      <td>/projects/ps-yeolab3/encode/analysis/encode_GR...</td>\n",
       "      <td>/projects/ps-yeolab3/encode/analysis/encode_GR...</td>\n",
       "      <td>/projects/ps-yeolab3/encode/analysis/encode_GR...</td>\n",
       "    </tr>\n",
       "    <tr>\n",
       "      <th>205</th>\n",
       "      <td>IGF2BP1</td>\n",
       "      <td>HepG2</td>\n",
       "      <td>/projects/ps-yeolab3/encode/analysis/encode_GR...</td>\n",
       "      <td>/projects/ps-yeolab3/encode/analysis/encode_GR...</td>\n",
       "      <td>/projects/ps-yeolab3/encode/analysis/encode_GR...</td>\n",
       "    </tr>\n",
       "    <tr>\n",
       "      <th>206</th>\n",
       "      <td>HNRNPK</td>\n",
       "      <td>HepG2</td>\n",
       "      <td>/projects/ps-yeolab3/encode/analysis/encode_GR...</td>\n",
       "      <td>/projects/ps-yeolab3/encode/analysis/encode_GR...</td>\n",
       "      <td>/projects/ps-yeolab3/encode/analysis/encode_GR...</td>\n",
       "    </tr>\n",
       "    <tr>\n",
       "      <th>209</th>\n",
       "      <td>SRSF7</td>\n",
       "      <td>HepG2</td>\n",
       "      <td>/projects/ps-yeolab3/encode/analysis/encode_GR...</td>\n",
       "      <td>/projects/ps-yeolab3/encode/analysis/encode_GR...</td>\n",
       "      <td>/projects/ps-yeolab3/encode/analysis/encode_GR...</td>\n",
       "    </tr>\n",
       "  </tbody>\n",
       "</table>\n",
       "</div>"
      ],
      "text/plain": [
       "         RBP Cell line                                          CLIP_rep1  \\\n",
       "uID                                                                         \n",
       "203   HNRNPC     HepG2  /projects/ps-yeolab3/encode/analysis/encode_GR...   \n",
       "204   RBFOX2     HepG2  /projects/ps-yeolab3/encode/analysis/encode_GR...   \n",
       "205  IGF2BP1     HepG2  /projects/ps-yeolab3/encode/analysis/encode_GR...   \n",
       "206   HNRNPK     HepG2  /projects/ps-yeolab3/encode/analysis/encode_GR...   \n",
       "209    SRSF7     HepG2  /projects/ps-yeolab3/encode/analysis/encode_GR...   \n",
       "\n",
       "                                             CLIP_rep2  \\\n",
       "uID                                                      \n",
       "203  /projects/ps-yeolab3/encode/analysis/encode_GR...   \n",
       "204  /projects/ps-yeolab3/encode/analysis/encode_GR...   \n",
       "205  /projects/ps-yeolab3/encode/analysis/encode_GR...   \n",
       "206  /projects/ps-yeolab3/encode/analysis/encode_GR...   \n",
       "209  /projects/ps-yeolab3/encode/analysis/encode_GR...   \n",
       "\n",
       "                                                 INPUT  \n",
       "uID                                                     \n",
       "203  /projects/ps-yeolab3/encode/analysis/encode_GR...  \n",
       "204  /projects/ps-yeolab3/encode/analysis/encode_GR...  \n",
       "205  /projects/ps-yeolab3/encode/analysis/encode_GR...  \n",
       "206  /projects/ps-yeolab3/encode/analysis/encode_GR...  \n",
       "209  /projects/ps-yeolab3/encode/analysis/encode_GR...  "
      ]
     },
     "execution_count": 2,
     "metadata": {},
     "output_type": "execute_result"
    }
   ],
   "source": [
    "eclip_bam.head()"
   ]
  },
  {
   "cell_type": "code",
   "execution_count": 6,
   "metadata": {},
   "outputs": [
    {
     "data": {
      "text/plain": [
       "150"
      ]
     },
     "execution_count": 6,
     "metadata": {},
     "output_type": "execute_result"
    }
   ],
   "source": [
    "len(eclip_bam['RBP'].unique())"
   ]
  },
  {
   "cell_type": "code",
   "execution_count": 42,
   "metadata": {},
   "outputs": [],
   "source": []
  },
  {
   "cell_type": "code",
   "execution_count": 45,
   "metadata": {},
   "outputs": [],
   "source": [
    "# take a look at event type for RBPs\n",
    "hep = pd.read_csv('~/projects/alt_splice/HepG2/RBP_eventtype.count',sep = r'\\s+', header = None, names = ['count', 'event', 'RBP'])\n",
    "k562 = pd.read_csv('~/projects/alt_splice/HepG2/RBP_eventtype.count', sep = r'\\s+', header = None, names = ['count', 'event', 'RBP'])\n",
    "hep = hep.pivot(index = 'event', columns = 'RBP').drop('event').fillna(0)\n",
    "hep.columns = hep.columns.droplevel()\n",
    "\n",
    "k562 = k562.pivot(index = 'event', columns = 'RBP').drop('event').fillna(0)\n",
    "k562.columns = k562.columns.droplevel()\n"
   ]
  },
  {
   "cell_type": "code",
   "execution_count": 55,
   "metadata": {},
   "outputs": [
    {
     "data": {
      "text/plain": [
       "<matplotlib.axes._subplots.AxesSubplot at 0x2ac7f506dcd0>"
      ]
     },
     "execution_count": 55,
     "metadata": {},
     "output_type": "execute_result"
    },
    {
     "data": {
      "image/png": "[encoded data removed]",
      "text/plain": [
       "<Figure size 432x288 with 1 Axes>"
      ]
     },
     "metadata": {
      "needs_background": "light"
     },
     "output_type": "display_data"
    }
   ],
   "source": [
    "import matplotlib.pyplot as plt\n",
    "k562.transpose().plot.hist(bins = 20, alpha = 0.3)"
   ]
  },
  {
   "cell_type": "code",
   "execution_count": 56,
   "metadata": {},
   "outputs": [
    {
     "data": {
      "text/plain": [
       "<matplotlib.axes._subplots.AxesSubplot at 0x2ac7f5ee22d0>"
      ]
     },
     "execution_count": 56,
     "metadata": {},
     "output_type": "execute_result"
    },
    {
     "data": {
      "image/png": "[encoded data removed]",
      "text/plain": [
       "<Figure size 432x288 with 1 Axes>"
      ]
     },
     "metadata": {
      "needs_background": "light"
     },
     "output_type": "display_data"
    }
   ],
   "source": [
    "hep.transpose().plot.hist(bins = 20, alpha = 0.3)"
   ]
  },
  {
   "cell_type": "markdown",
   "metadata": {},
   "source": [
    "# do number of eclip binding correspond to number of events?"
   ]
  },
  {
   "cell_type": "code",
   "execution_count": 87,
   "metadata": {},
   "outputs": [],
   "source": [
    "def eclip_kd_comparison(kd, eclip_bam = eclip_bam, discretized_binding = intron, cell_line = 'HepG2'):\n",
    "    rbp_id = eclip_bam.loc[eclip_bam['Cell line']== cell_line].index\n",
    "    no_feature = discretized_binding.loc[discretized_binding.index.isin(rbp_id)].sum(axis = 1)\n",
    "    no_feature.index = eclip_bam.loc[no_feature.index, 'RBP']\n",
    "    effect = kd.loc[:,kd.columns.isin(eclip_bam.loc[rbp_id, 'RBP'])]\n",
    "    \n",
    "    # join data\n",
    "    d = pd.concat([effect, no_feature.to_frame(name= 'no_feature').transpose()])\n",
    "    return d.dropna(axis = 1)\n",
    "    "
   ]
  },
  {
   "cell_type": "code",
   "execution_count": 92,
   "metadata": {},
   "outputs": [],
   "source": [
    "hep_d = eclip_kd_comparison(hep)\n",
    "k562_d = eclip_kd_comparison(k562, cell_line = 'K562')"
   ]
  },
  {
   "cell_type": "code",
   "execution_count": 110,
   "metadata": {},
   "outputs": [
    {
     "data": {
      "text/plain": [
       "A3SS            6.0\n",
       "A5SS            4.0\n",
       "MXE            78.0\n",
       "RI             19.0\n",
       "SE             72.0\n",
       "no_feature    547.0\n",
       "Name: TIA1, dtype: float64"
      ]
     },
     "execution_count": 110,
     "metadata": {},
     "output_type": "execute_result"
    }
   ],
   "source": [
    "hep_d['TIA1']"
   ]
  },
  {
   "cell_type": "code",
   "execution_count": 107,
   "metadata": {},
   "outputs": [
    {
     "data": {
      "image/png": "[encoded data removed]",
      "text/plain": [
       "<Figure size 1080x432 with 10 Axes>"
      ]
     },
     "metadata": {
      "needs_background": "light"
     },
     "output_type": "display_data"
    }
   ],
   "source": [
    "f,ax = plt.subplots(2,5, figsize = (15,6))\n",
    "c = 0\n",
    "\n",
    "for cell_line in [hep_d, k562_d]:\n",
    "    i = 0\n",
    "    for y in d.index[:-1]:\n",
    "        cell_line.transpose().plot(x = 'no_feature', y = y, kind = 'scatter', ax = ax[c, i])\n",
    "        ax[c,i].set_title('$r^2=${:.2f}'.format(cell_line.transpose().corr().loc[y, 'no_feature']))\n",
    "        i+=1\n",
    "    c+= 1\n",
    "        "
   ]
  },
  {
   "cell_type": "code",
   "execution_count": 98,
   "metadata": {},
   "outputs": [
    {
     "data": {
      "text/plain": [
       "A3SS          0.175318\n",
       "A5SS          0.119623\n",
       "MXE           0.134975\n",
       "RI            0.080897\n",
       "SE            0.200555\n",
       "no_feature    1.000000\n",
       "Name: no_feature, dtype: float64"
      ]
     },
     "execution_count": 98,
     "metadata": {},
     "output_type": "execute_result"
    }
   ],
   "source": [
    "# find out things that their binding tend to have more events"
   ]
  },
  {
   "cell_type": "markdown",
   "metadata": {},
   "source": [
    "# Does network components have similar effects in splicing?"
   ]
  },
  {
   "cell_type": "code",
   "execution_count": null,
   "metadata": {},
   "outputs": [],
   "source": []
  },
  {
   "cell_type": "code",
   "execution_count": 113,
   "metadata": {},
   "outputs": [],
   "source": [
    "network = pd.read_csv('~/projects/network/intron_exon_network', header = 0, index_col = 0)"
   ]
  },
  {
   "cell_type": "code",
   "execution_count": 114,
   "metadata": {},
   "outputs": [
    {
     "data": {
      "text/html": [
       "<div>\n",
       "<style scoped>\n",
       "    .dataframe tbody tr th:only-of-type {\n",
       "        vertical-align: middle;\n",
       "    }\n",
       "\n",
       "    .dataframe tbody tr th {\n",
       "        vertical-align: top;\n",
       "    }\n",
       "\n",
       "    .dataframe thead th {\n",
       "        text-align: right;\n",
       "    }\n",
       "</style>\n",
       "<table border=\"1\" class=\"dataframe\">\n",
       "  <thead>\n",
       "    <tr style=\"text-align: right;\">\n",
       "      <th></th>\n",
       "      <th>score</th>\n",
       "      <th>jaccard_similarity_INTRON</th>\n",
       "      <th>jaccard_similarity_EXON</th>\n",
       "      <th>protein_one</th>\n",
       "      <th>protein_two</th>\n",
       "    </tr>\n",
       "  </thead>\n",
       "  <tbody>\n",
       "    <tr>\n",
       "      <th>0</th>\n",
       "      <td>0.901</td>\n",
       "      <td>0.108018</td>\n",
       "      <td>0.032787</td>\n",
       "      <td>AQR</td>\n",
       "      <td>GPKOW</td>\n",
       "    </tr>\n",
       "    <tr>\n",
       "      <th>1</th>\n",
       "      <td>0.902</td>\n",
       "      <td>0.018849</td>\n",
       "      <td>0.007874</td>\n",
       "      <td>RBM22</td>\n",
       "      <td>GPKOW</td>\n",
       "    </tr>\n",
       "    <tr>\n",
       "      <th>2</th>\n",
       "      <td>0.903</td>\n",
       "      <td>0.019529</td>\n",
       "      <td>0.018182</td>\n",
       "      <td>GPKOW</td>\n",
       "      <td>PABPN1</td>\n",
       "    </tr>\n",
       "    <tr>\n",
       "      <th>3</th>\n",
       "      <td>0.900</td>\n",
       "      <td>0.063001</td>\n",
       "      <td>0.004373</td>\n",
       "      <td>GPKOW</td>\n",
       "      <td>HNRNPL</td>\n",
       "    </tr>\n",
       "    <tr>\n",
       "      <th>4</th>\n",
       "      <td>0.901</td>\n",
       "      <td>0.023862</td>\n",
       "      <td>0.000201</td>\n",
       "      <td>GPKOW</td>\n",
       "      <td>SRSF9</td>\n",
       "    </tr>\n",
       "    <tr>\n",
       "      <th>...</th>\n",
       "      <td>...</td>\n",
       "      <td>...</td>\n",
       "      <td>...</td>\n",
       "      <td>...</td>\n",
       "      <td>...</td>\n",
       "    </tr>\n",
       "    <tr>\n",
       "      <th>11167</th>\n",
       "      <td>0.000</td>\n",
       "      <td>NaN</td>\n",
       "      <td>0.006678</td>\n",
       "      <td>PRPF4</td>\n",
       "      <td>PUS1</td>\n",
       "    </tr>\n",
       "    <tr>\n",
       "      <th>11168</th>\n",
       "      <td>0.000</td>\n",
       "      <td>NaN</td>\n",
       "      <td>0.012658</td>\n",
       "      <td>TIAL1</td>\n",
       "      <td>PUS1</td>\n",
       "    </tr>\n",
       "    <tr>\n",
       "      <th>11169</th>\n",
       "      <td>0.000</td>\n",
       "      <td>NaN</td>\n",
       "      <td>0.000386</td>\n",
       "      <td>DDX21</td>\n",
       "      <td>PUS1</td>\n",
       "    </tr>\n",
       "    <tr>\n",
       "      <th>11170</th>\n",
       "      <td>0.000</td>\n",
       "      <td>NaN</td>\n",
       "      <td>0.001350</td>\n",
       "      <td>APOBEC3C</td>\n",
       "      <td>PUS1</td>\n",
       "    </tr>\n",
       "    <tr>\n",
       "      <th>11171</th>\n",
       "      <td>0.000</td>\n",
       "      <td>NaN</td>\n",
       "      <td>0.000000</td>\n",
       "      <td>SUB1</td>\n",
       "      <td>PUS1</td>\n",
       "    </tr>\n",
       "  </tbody>\n",
       "</table>\n",
       "<p>11172 rows × 5 columns</p>\n",
       "</div>"
      ],
      "text/plain": [
       "       score  jaccard_similarity_INTRON  jaccard_similarity_EXON protein_one  \\\n",
       "0      0.901                   0.108018                 0.032787         AQR   \n",
       "1      0.902                   0.018849                 0.007874       RBM22   \n",
       "2      0.903                   0.019529                 0.018182       GPKOW   \n",
       "3      0.900                   0.063001                 0.004373       GPKOW   \n",
       "4      0.901                   0.023862                 0.000201       GPKOW   \n",
       "...      ...                        ...                      ...         ...   \n",
       "11167  0.000                        NaN                 0.006678       PRPF4   \n",
       "11168  0.000                        NaN                 0.012658       TIAL1   \n",
       "11169  0.000                        NaN                 0.000386       DDX21   \n",
       "11170  0.000                        NaN                 0.001350    APOBEC3C   \n",
       "11171  0.000                        NaN                 0.000000        SUB1   \n",
       "\n",
       "      protein_two  \n",
       "0           GPKOW  \n",
       "1           GPKOW  \n",
       "2          PABPN1  \n",
       "3          HNRNPL  \n",
       "4           SRSF9  \n",
       "...           ...  \n",
       "11167        PUS1  \n",
       "11168        PUS1  \n",
       "11169        PUS1  \n",
       "11170        PUS1  \n",
       "11171        PUS1  \n",
       "\n",
       "[11172 rows x 5 columns]"
      ]
     },
     "execution_count": 114,
     "metadata": {},
     "output_type": "execute_result"
    }
   ],
   "source": [
    "network"
   ]
  },
  {
   "cell_type": "code",
   "execution_count": null,
   "metadata": {},
   "outputs": [],
   "source": []
  }
 ],
 "metadata": {
  "kernelspec": {
   "display_name": "Python 3",
   "language": "python",
   "name": "python3"
  },
  "language_info": {
   "codemirror_mode": {
    "name": "ipython",
    "version": 3
   },
   "file_extension": ".py",
   "mimetype": "text/x-python",
   "name": "python",
   "nbconvert_exporter": "python",
   "pygments_lexer": "ipython3",
   "version": "3.7.6"
  }
 },
 "nbformat": 4,
 "nbformat_minor": 4
}
