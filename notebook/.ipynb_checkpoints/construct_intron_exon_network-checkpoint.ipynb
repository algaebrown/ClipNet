{
 "cells": [
  {
   "cell_type": "code",
   "execution_count": 36,
   "metadata": {},
   "outputs": [],
   "source": [
    "out_dir = '/home/hsher/seqdata/canonical_transcript_binding/_correct/'\n",
    "import pandas as pd\n",
    "eclip_bam = pd.read_csv('/home/hsher/projects/peak_calling/ENCODE_FINAL_ANNOTATIONS.uidsonly.txt.manifesthg38.txt', sep = '\\t', header= 0, index_col = 0)"
   ]
  },
  {
   "cell_type": "code",
   "execution_count": 7,
   "metadata": {},
   "outputs": [],
   "source": [
    "all_intron_exon = pd.read_csv('~/projects/gencode_cds_annot.gff3', skiprows = 0, sep = '\\t', header = None)"
   ]
  },
  {
   "cell_type": "code",
   "execution_count": 19,
   "metadata": {},
   "outputs": [],
   "source": [
    "all_intron = all_intron_exon.loc[all_intron_exon[2]=='transcript', 8]\n",
    "all_exon = all_intron_exon.loc[all_intron_exon[2]=='exon', 8]"
   ]
  },
  {
   "cell_type": "code",
   "execution_count": 20,
   "metadata": {},
   "outputs": [
    {
     "data": {
      "text/plain": [
       "4         ID=intron:ENST00000342066.8:1\n",
       "6         ID=intron:ENST00000342066.8:2\n",
       "8         ID=intron:ENST00000342066.8:3\n",
       "10        ID=intron:ENST00000342066.8:4\n",
       "12        ID=intron:ENST00000342066.8:5\n",
       "                      ...              \n",
       "406078    ID=intron:ENST00000382287.5:5\n",
       "406080    ID=intron:ENST00000382287.5:4\n",
       "406082    ID=intron:ENST00000382287.5:3\n",
       "406084    ID=intron:ENST00000382287.5:2\n",
       "406087    ID=intron:ENST00000306609.4:1\n",
       "Name: 8, Length: 203506, dtype: object"
      ]
     },
     "execution_count": 20,
     "metadata": {},
     "output_type": "execute_result"
    }
   ],
   "source": [
    "all_intron"
   ]
  },
  {
   "cell_type": "code",
   "execution_count": 43,
   "metadata": {},
   "outputs": [],
   "source": [
    "intron = pd.DataFrame(columns = all_intron, index = eclip_bam.index)\n",
    "exon = pd.DataFrame(columns = all_exon, index = eclip_bam.index)\n",
    "for fname in eclip_bam.index:\n",
    "    peaks = pd.read_csv(out_dir + fname + '.cds', header = None, skiprows = 1, sep = '\\t')\n",
    "    peaks = peaks[8].unique()\n",
    "    intron.loc[fname, intron.columns.isin(peaks)] = 1\n",
    "    exon.loc[fname, exon.columns.isin(peaks)] = 1\n",
    "intron.fillna(0, inplace = True)\n",
    "exon.fillna(0, inplace = True)\n",
    "        "
   ]
  },
  {
   "cell_type": "code",
   "execution_count": 44,
   "metadata": {},
   "outputs": [],
   "source": [
    "intron = intron.loc[intron.sum(axis = 1)> 0, intron.sum(axis = 0)> 0]\n",
    "exon = exon.loc[exon.sum(axis = 1)> 0, exon.sum(axis = 0)> 0]\n",
    "exon.to_pickle('~/projects/exon.pickle')\n",
    "intron.to_pickle('~/projects/intron.pickle')"
   ]
  },
  {
   "cell_type": "code",
   "execution_count": null,
   "metadata": {},
   "outputs": [],
   "source": []
  }
 ],
 "metadata": {
  "kernelspec": {
   "display_name": "Python 3",
   "language": "python",
   "name": "python3"
  },
  "language_info": {
   "codemirror_mode": {
    "name": "ipython",
    "version": 3
   },
   "file_extension": ".py",
   "mimetype": "text/x-python",
   "name": "python",
   "nbconvert_exporter": "python",
   "pygments_lexer": "ipython3",
   "version": "3.7.6"
  }
 },
 "nbformat": 4,
 "nbformat_minor": 4
}
