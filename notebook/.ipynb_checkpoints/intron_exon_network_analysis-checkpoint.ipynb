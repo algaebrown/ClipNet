{
 "cells": [
  {
   "cell_type": "markdown",
   "metadata": {},
   "source": [
    "# build 3'UTR and 5' UTR RBP networks\n",
    "\n",
    "- intra cell line similarity (dominant by RNA level)\n",
    "- compare with STRING and known complexes"
   ]
  },
  {
   "cell_type": "code",
   "execution_count": 1,
   "metadata": {},
   "outputs": [],
   "source": [
    "import pandas as pd\n",
    "three_utr = pd.read_pickle('~/projects/three_utr.pickle')\n",
    "five_utr = pd.read_pickle('~/projects/five_utr.pickle')"
   ]
  },
  {
   "cell_type": "code",
   "execution_count": 2,
   "metadata": {},
   "outputs": [
    {
     "data": {
      "text/html": [
       "<div>\n",
       "<style scoped>\n",
       "    .dataframe tbody tr th:only-of-type {\n",
       "        vertical-align: middle;\n",
       "    }\n",
       "\n",
       "    .dataframe tbody tr th {\n",
       "        vertical-align: top;\n",
       "    }\n",
       "\n",
       "    .dataframe thead th {\n",
       "        text-align: right;\n",
       "    }\n",
       "</style>\n",
       "<table border=\"1\" class=\"dataframe\">\n",
       "  <thead>\n",
       "    <tr style=\"text-align: right;\">\n",
       "      <th>4</th>\n",
       "      <th>ENST00000373020.9</th>\n",
       "      <th>ENST00000371588.9</th>\n",
       "      <th>ENST00000002165.11</th>\n",
       "      <th>ENST00000650454.1</th>\n",
       "      <th>ENST00000341376.10</th>\n",
       "      <th>ENST00000374399.9</th>\n",
       "      <th>ENST00000374811.7</th>\n",
       "      <th>ENST00000002829.8</th>\n",
       "      <th>ENST00000003100.13</th>\n",
       "      <th>ENST00000394507.5</th>\n",
       "      <th>...</th>\n",
       "      <th>ENST00000568641.1</th>\n",
       "      <th>ENST00000651235.1</th>\n",
       "      <th>ENST00000652720.1</th>\n",
       "      <th>ENST00000650969.1</th>\n",
       "      <th>ENST00000651560.1</th>\n",
       "      <th>ENST00000654051.1</th>\n",
       "      <th>ENST00000512194.2</th>\n",
       "      <th>ENST00000662216.1</th>\n",
       "      <th>ENST00000474359.7</th>\n",
       "      <th>ENST00000504061.1</th>\n",
       "    </tr>\n",
       "    <tr>\n",
       "      <th>uID</th>\n",
       "      <th></th>\n",
       "      <th></th>\n",
       "      <th></th>\n",
       "      <th></th>\n",
       "      <th></th>\n",
       "      <th></th>\n",
       "      <th></th>\n",
       "      <th></th>\n",
       "      <th></th>\n",
       "      <th></th>\n",
       "      <th></th>\n",
       "      <th></th>\n",
       "      <th></th>\n",
       "      <th></th>\n",
       "      <th></th>\n",
       "      <th></th>\n",
       "      <th></th>\n",
       "      <th></th>\n",
       "      <th></th>\n",
       "      <th></th>\n",
       "      <th></th>\n",
       "    </tr>\n",
       "  </thead>\n",
       "  <tbody>\n",
       "    <tr>\n",
       "      <th>203</th>\n",
       "      <td>0</td>\n",
       "      <td>0</td>\n",
       "      <td>0</td>\n",
       "      <td>0</td>\n",
       "      <td>0</td>\n",
       "      <td>0</td>\n",
       "      <td>0</td>\n",
       "      <td>0</td>\n",
       "      <td>0</td>\n",
       "      <td>0</td>\n",
       "      <td>...</td>\n",
       "      <td>0</td>\n",
       "      <td>0</td>\n",
       "      <td>0</td>\n",
       "      <td>0</td>\n",
       "      <td>0</td>\n",
       "      <td>0</td>\n",
       "      <td>0</td>\n",
       "      <td>0</td>\n",
       "      <td>0</td>\n",
       "      <td>0</td>\n",
       "    </tr>\n",
       "    <tr>\n",
       "      <th>204</th>\n",
       "      <td>0</td>\n",
       "      <td>0</td>\n",
       "      <td>0</td>\n",
       "      <td>0</td>\n",
       "      <td>0</td>\n",
       "      <td>0</td>\n",
       "      <td>0</td>\n",
       "      <td>0</td>\n",
       "      <td>0</td>\n",
       "      <td>0</td>\n",
       "      <td>...</td>\n",
       "      <td>0</td>\n",
       "      <td>0</td>\n",
       "      <td>0</td>\n",
       "      <td>0</td>\n",
       "      <td>0</td>\n",
       "      <td>0</td>\n",
       "      <td>0</td>\n",
       "      <td>0</td>\n",
       "      <td>0</td>\n",
       "      <td>0</td>\n",
       "    </tr>\n",
       "    <tr>\n",
       "      <th>205</th>\n",
       "      <td>0</td>\n",
       "      <td>0</td>\n",
       "      <td>0</td>\n",
       "      <td>0</td>\n",
       "      <td>0</td>\n",
       "      <td>0</td>\n",
       "      <td>0</td>\n",
       "      <td>0</td>\n",
       "      <td>0</td>\n",
       "      <td>0</td>\n",
       "      <td>...</td>\n",
       "      <td>0</td>\n",
       "      <td>0</td>\n",
       "      <td>0</td>\n",
       "      <td>0</td>\n",
       "      <td>0</td>\n",
       "      <td>0</td>\n",
       "      <td>0</td>\n",
       "      <td>0</td>\n",
       "      <td>0</td>\n",
       "      <td>0</td>\n",
       "    </tr>\n",
       "    <tr>\n",
       "      <th>206</th>\n",
       "      <td>0</td>\n",
       "      <td>0</td>\n",
       "      <td>0</td>\n",
       "      <td>0</td>\n",
       "      <td>0</td>\n",
       "      <td>0</td>\n",
       "      <td>0</td>\n",
       "      <td>0</td>\n",
       "      <td>0</td>\n",
       "      <td>0</td>\n",
       "      <td>...</td>\n",
       "      <td>0</td>\n",
       "      <td>0</td>\n",
       "      <td>0</td>\n",
       "      <td>0</td>\n",
       "      <td>0</td>\n",
       "      <td>0</td>\n",
       "      <td>0</td>\n",
       "      <td>0</td>\n",
       "      <td>0</td>\n",
       "      <td>0</td>\n",
       "    </tr>\n",
       "    <tr>\n",
       "      <th>209</th>\n",
       "      <td>0</td>\n",
       "      <td>0</td>\n",
       "      <td>0</td>\n",
       "      <td>0</td>\n",
       "      <td>0</td>\n",
       "      <td>0</td>\n",
       "      <td>0</td>\n",
       "      <td>0</td>\n",
       "      <td>0</td>\n",
       "      <td>0</td>\n",
       "      <td>...</td>\n",
       "      <td>0</td>\n",
       "      <td>0</td>\n",
       "      <td>0</td>\n",
       "      <td>0</td>\n",
       "      <td>0</td>\n",
       "      <td>0</td>\n",
       "      <td>0</td>\n",
       "      <td>0</td>\n",
       "      <td>0</td>\n",
       "      <td>0</td>\n",
       "    </tr>\n",
       "  </tbody>\n",
       "</table>\n",
       "<p>5 rows × 8445 columns</p>\n",
       "</div>"
      ],
      "text/plain": [
       "4    ENST00000373020.9  ENST00000371588.9  ENST00000002165.11  \\\n",
       "uID                                                             \n",
       "203                  0                  0                   0   \n",
       "204                  0                  0                   0   \n",
       "205                  0                  0                   0   \n",
       "206                  0                  0                   0   \n",
       "209                  0                  0                   0   \n",
       "\n",
       "4    ENST00000650454.1  ENST00000341376.10  ENST00000374399.9  \\\n",
       "uID                                                             \n",
       "203                  0                   0                  0   \n",
       "204                  0                   0                  0   \n",
       "205                  0                   0                  0   \n",
       "206                  0                   0                  0   \n",
       "209                  0                   0                  0   \n",
       "\n",
       "4    ENST00000374811.7  ENST00000002829.8  ENST00000003100.13  \\\n",
       "uID                                                             \n",
       "203                  0                  0                   0   \n",
       "204                  0                  0                   0   \n",
       "205                  0                  0                   0   \n",
       "206                  0                  0                   0   \n",
       "209                  0                  0                   0   \n",
       "\n",
       "4    ENST00000394507.5  ...  ENST00000568641.1  ENST00000651235.1  \\\n",
       "uID                     ...                                         \n",
       "203                  0  ...                  0                  0   \n",
       "204                  0  ...                  0                  0   \n",
       "205                  0  ...                  0                  0   \n",
       "206                  0  ...                  0                  0   \n",
       "209                  0  ...                  0                  0   \n",
       "\n",
       "4    ENST00000652720.1  ENST00000650969.1  ENST00000651560.1  \\\n",
       "uID                                                            \n",
       "203                  0                  0                  0   \n",
       "204                  0                  0                  0   \n",
       "205                  0                  0                  0   \n",
       "206                  0                  0                  0   \n",
       "209                  0                  0                  0   \n",
       "\n",
       "4    ENST00000654051.1  ENST00000512194.2  ENST00000662216.1  \\\n",
       "uID                                                            \n",
       "203                  0                  0                  0   \n",
       "204                  0                  0                  0   \n",
       "205                  0                  0                  0   \n",
       "206                  0                  0                  0   \n",
       "209                  0                  0                  0   \n",
       "\n",
       "4    ENST00000474359.7  ENST00000504061.1  \n",
       "uID                                        \n",
       "203                  0                  0  \n",
       "204                  0                  0  \n",
       "205                  0                  0  \n",
       "206                  0                  0  \n",
       "209                  0                  0  \n",
       "\n",
       "[5 rows x 8445 columns]"
      ]
     },
     "execution_count": 2,
     "metadata": {},
     "output_type": "execute_result"
    }
   ],
   "source": [
    "three_utr.head()"
   ]
  },
  {
   "cell_type": "markdown",
   "metadata": {},
   "source": [
    "# similarity between cell lines"
   ]
  },
  {
   "cell_type": "code",
   "execution_count": 3,
   "metadata": {},
   "outputs": [],
   "source": [
    "eclip_bam = pd.read_csv('/home/hsher/projects/peak_calling/ENCODE_FINAL_ANNOTATIONS.uidsonly.txt.manifesthg38.txt', sep = '\\t', header= 0)"
   ]
  },
  {
   "cell_type": "code",
   "execution_count": 4,
   "metadata": {},
   "outputs": [],
   "source": [
    "all_pairs = []\n",
    "for name, g in eclip_bam.groupby(by = 'RBP'):\n",
    "    pair = g['uID'].tolist()\n",
    "    if len(pair) == 2:\n",
    "        all_pairs.append(pair)"
   ]
  },
  {
   "cell_type": "code",
   "execution_count": 5,
   "metadata": {},
   "outputs": [
    {
     "data": {
      "text/plain": [
       "[['537', '543'],\n",
       " ['697', '708'],\n",
       " ['670', '762'],\n",
       " ['497', '508'],\n",
       " ['275', '292'],\n",
       " ['350', '492'],\n",
       " ['642', '681'],\n",
       " ['550', '595'],\n",
       " ['577', '589'],\n",
       " ['341', '383'],\n",
       " ['654', '682'],\n",
       " ['481', '575'],\n",
       " ['582', '631'],\n",
       " ['491', '722reseq2'],\n",
       " ['279', '297'],\n",
       " ['460', '649'],\n",
       " ['464', '723reseq1'],\n",
       " ['689', '694'],\n",
       " ['237', '713'],\n",
       " ['628', '645'],\n",
       " ['342', '384'],\n",
       " ['522', '651'],\n",
       " ['247', '283'],\n",
       " ['203', '699'],\n",
       " ['206', '326'],\n",
       " ['560', '678'],\n",
       " ['222', '224'],\n",
       " ['249', '281'],\n",
       " ['289', '321'],\n",
       " ['205', '220'],\n",
       " ['338', '493'],\n",
       " ['439', '755'],\n",
       " ['461', '558'],\n",
       " ['243', '298'],\n",
       " ['325', '387'],\n",
       " ['444', '592'],\n",
       " ['695', '716'],\n",
       " ['477', '566'],\n",
       " ['516', '553'],\n",
       " ['692', '719'],\n",
       " ['278', '291'],\n",
       " ['368', '696'],\n",
       " ['466', '478'],\n",
       " ['204', '676'],\n",
       " ['514', '552'],\n",
       " ['331', '494'],\n",
       " ['530', '540'],\n",
       " ['745', '746'],\n",
       " ['740', '744'],\n",
       " ['228', '507'],\n",
       " ['227', '256'],\n",
       " ['344', '445'],\n",
       " ['302', '316'],\n",
       " ['301', '312'],\n",
       " ['209', '376'],\n",
       " ['730', '738'],\n",
       " ['650', '663'],\n",
       " ['339', '388'],\n",
       " ['584', '617'],\n",
       " ['215', '285'],\n",
       " ['218', '240'],\n",
       " ['447', '503'],\n",
       " ['244', '282'],\n",
       " ['242', '272'],\n",
       " ['610', '629'],\n",
       " ['465', '726'],\n",
       " ['621', '686'],\n",
       " ['517', '602'],\n",
       " ['311', '480'],\n",
       " ['245', '235x4000'],\n",
       " ['551', '729'],\n",
       " ['641', '684'],\n",
       " ['737', '743']]"
      ]
     },
     "execution_count": 5,
     "metadata": {},
     "output_type": "execute_result"
    }
   ],
   "source": [
    "all_pairs"
   ]
  },
  {
   "cell_type": "code",
   "execution_count": 6,
   "metadata": {},
   "outputs": [
    {
     "name": "stderr",
     "output_type": "stream",
     "text": [
      "/home/hsher/miniconda3/lib/python3.7/site-packages/sklearn/metrics/_classification.py:664: FutureWarning: jaccard_similarity_score has been deprecated and replaced with jaccard_score. It will be removed in version 0.23. This implementation has surprising behavior for binary and multiclass classification tasks.\n",
      "  FutureWarning)\n"
     ]
    }
   ],
   "source": [
    "intra_similarity = []\n",
    "from sklearn.metrics import jaccard_similarity_score \n",
    "for pair in all_pairs:\n",
    "    if pair[0] in three_utr.index and pair[1] in three_utr.index:\n",
    "        intra_similarity.append(jaccard_similarity_score(three_utr.loc[pair[1]].values, three_utr.loc[pair[0]].values))"
   ]
  },
  {
   "cell_type": "code",
   "execution_count": 7,
   "metadata": {},
   "outputs": [
    {
     "data": {
      "text/plain": [
       "(array([ 1.,  0.,  0.,  2.,  1.,  0.,  0.,  2.,  1.,  2.,  0.,  2.,  0.,\n",
       "         2.,  2.,  3.,  3.,  3., 12., 34.]),\n",
       " array([0.77205447, 0.78344583, 0.79483718, 0.80622854, 0.81761989,\n",
       "        0.82901125, 0.84040261, 0.85179396, 0.86318532, 0.87457667,\n",
       "        0.88596803, 0.89735938, 0.90875074, 0.9201421 , 0.93153345,\n",
       "        0.94292481, 0.95431616, 0.96570752, 0.97709888, 0.98849023,\n",
       "        0.99988159]),\n",
       " <a list of 20 Patch objects>)"
      ]
     },
     "execution_count": 7,
     "metadata": {},
     "output_type": "execute_result"
    },
    {
     "data": {
      "image/png": "[encoded data removed]",
      "text/plain": [
       "<Figure size 432x288 with 1 Axes>"
      ]
     },
     "metadata": {
      "needs_background": "light"
     },
     "output_type": "display_data"
    }
   ],
   "source": [
    "import matplotlib.pyplot as plt\n",
    "plt.hist(intra_similarity, bins = 20)"
   ]
  },
  {
   "cell_type": "code",
   "execution_count": 8,
   "metadata": {},
   "outputs": [
    {
     "name": "stderr",
     "output_type": "stream",
     "text": [
      "/home/hsher/miniconda3/lib/python3.7/site-packages/sklearn/metrics/_classification.py:664: FutureWarning: jaccard_similarity_score has been deprecated and replaced with jaccard_score. It will be removed in version 0.23. This implementation has surprising behavior for binary and multiclass classification tasks.\n",
      "  FutureWarning)\n"
     ]
    }
   ],
   "source": [
    "intra_similarity = []\n",
    "for pair in all_pairs:\n",
    "    if pair[0] in five_utr.index and pair[1] in five_utr.index:\n",
    "        intra_similarity.append(jaccard_similarity_score(five_utr.loc[pair[1]].values, five_utr.loc[pair[0]].values))"
   ]
  },
  {
   "cell_type": "code",
   "execution_count": 9,
   "metadata": {},
   "outputs": [
    {
     "data": {
      "text/plain": [
       "(array([ 1.,  0.,  0.,  0.,  0.,  0.,  0.,  0.,  1.,  0.,  0.,  0.,  0.,\n",
       "         0.,  1.,  1.,  4.,  3.,  8., 48.]),\n",
       " array([0.56657029, 0.58823489, 0.60989949, 0.63156409, 0.65322869,\n",
       "        0.67489329, 0.6965579 , 0.7182225 , 0.7398871 , 0.7615517 ,\n",
       "        0.7832163 , 0.8048809 , 0.8265455 , 0.84821011, 0.86987471,\n",
       "        0.89153931, 0.91320391, 0.93486851, 0.95653311, 0.97819771,\n",
       "        0.99986232]),\n",
       " <a list of 20 Patch objects>)"
      ]
     },
     "execution_count": 9,
     "metadata": {},
     "output_type": "execute_result"
    },
    {
     "data": {
      "image/png": "[encoded data removed]",
      "text/plain": [
       "<Figure size 432x288 with 1 Axes>"
      ]
     },
     "metadata": {
      "needs_background": "light"
     },
     "output_type": "display_data"
    }
   ],
   "source": [
    "plt.hist(intra_similarity, bins = 20)"
   ]
  },
  {
   "cell_type": "markdown",
   "metadata": {},
   "source": [
    "# Calculate overall binding\n",
    "since the two cell line replicates are quite similar, we shall merge the two entry"
   ]
  },
  {
   "cell_type": "code",
   "execution_count": 10,
   "metadata": {},
   "outputs": [],
   "source": [
    "def merge_cell_line_replicates(df):\n",
    "    merged_df = pd.DataFrame(columns = df.columns)\n",
    "    for name, g in eclip_bam.groupby(by = 'RBP'):\n",
    "        if len(set(g['uID']).intersection(df.index))== g.shape[0]:\n",
    "            if g.shape[0] == 1: # only in 1 cell line\n",
    "                merged_df = merged_df.append(df.loc[g['uID'].values], ignore_index = False)\n",
    "            else:\n",
    "                \n",
    "                combined_peak = 1-(1-df.loc[g['uID'].iloc[0]]).multiply(1-df.loc[g['uID'].iloc[1]])\n",
    "                combined_peak.name = g['uID'].iloc[0]\n",
    "                #print(df.loc[g['uID']].append(combined_peak))\n",
    "                merged_df = merged_df.append(combined_peak, ignore_index = False)\n",
    "    return merged_df"
   ]
  },
  {
   "cell_type": "code",
   "execution_count": 11,
   "metadata": {},
   "outputs": [],
   "source": [
    "three_utr_merged = merge_cell_line_replicates(three_utr)"
   ]
  },
  {
   "cell_type": "code",
   "execution_count": 12,
   "metadata": {},
   "outputs": [
    {
     "data": {
      "text/plain": [
       "150"
      ]
     },
     "execution_count": 12,
     "metadata": {},
     "output_type": "execute_result"
    }
   ],
   "source": [
    "len(eclip_bam['RBP'].unique())"
   ]
  },
  {
   "cell_type": "code",
   "execution_count": 13,
   "metadata": {},
   "outputs": [
    {
     "data": {
      "text/plain": [
       "<matplotlib.axes._subplots.AxesSubplot at 0x2b4ef879bcd0>"
      ]
     },
     "execution_count": 13,
     "metadata": {},
     "output_type": "execute_result"
    },
    {
     "data": {
      "image/png": "[encoded data removed]",
      "text/plain": [
       "<Figure size 432x288 with 1 Axes>"
      ]
     },
     "metadata": {
      "needs_background": "light"
     },
     "output_type": "display_data"
    }
   ],
   "source": [
    "three_utr_merged.sum(axis = 0).plot.hist(bins = 20)# number of RBP binding per transcript"
   ]
  },
  {
   "cell_type": "code",
   "execution_count": 14,
   "metadata": {},
   "outputs": [
    {
     "data": {
      "text/plain": [
       "<matplotlib.axes._subplots.AxesSubplot at 0x2b4ef9621390>"
      ]
     },
     "execution_count": 14,
     "metadata": {},
     "output_type": "execute_result"
    },
    {
     "data": {
      "image/png": "[encoded data removed]",
      "text/plain": [
       "<Figure size 432x288 with 1 Axes>"
      ]
     },
     "metadata": {
      "needs_background": "light"
     },
     "output_type": "display_data"
    }
   ],
   "source": [
    "three_utr_merged.sum(axis = 1).plot.hist(bins = 20)# how many transcript one RBP binds to"
   ]
  },
  {
   "cell_type": "code",
   "execution_count": 15,
   "metadata": {},
   "outputs": [],
   "source": [
    "five_utr_merged = merge_cell_line_replicates(five_utr)"
   ]
  },
  {
   "cell_type": "code",
   "execution_count": 16,
   "metadata": {},
   "outputs": [
    {
     "data": {
      "text/plain": [
       "<matplotlib.axes._subplots.AxesSubplot at 0x2b4ef943fd10>"
      ]
     },
     "execution_count": 16,
     "metadata": {},
     "output_type": "execute_result"
    },
    {
     "data": {
      "image/png": "[encoded data removed]",
      "text/plain": [
       "<Figure size 432x288 with 1 Axes>"
      ]
     },
     "metadata": {
      "needs_background": "light"
     },
     "output_type": "display_data"
    }
   ],
   "source": [
    "five_utr_merged.sum(axis = 0).plot.hist(bins = 20)# number of RBP binding per transcript"
   ]
  },
  {
   "cell_type": "code",
   "execution_count": 17,
   "metadata": {},
   "outputs": [
    {
     "data": {
      "text/plain": [
       "<matplotlib.axes._subplots.AxesSubplot at 0x2b4ef96f7490>"
      ]
     },
     "execution_count": 17,
     "metadata": {},
     "output_type": "execute_result"
    },
    {
     "data": {
      "image/png": "[encoded data removed]",
      "text/plain": [
       "<Figure size 432x288 with 1 Axes>"
      ]
     },
     "metadata": {
      "needs_background": "light"
     },
     "output_type": "display_data"
    }
   ],
   "source": [
    "five_utr_merged.sum(axis = 1).plot.hist(bins = 20)# how many transcript one RBP binds to"
   ]
  },
  {
   "cell_type": "code",
   "execution_count": 18,
   "metadata": {},
   "outputs": [],
   "source": [
    "from sklearn.metrics.pairwise import pairwise_distances\n",
    "import numpy as np\n",
    "def jaccard_distribution(df):\n",
    "    jac_sim = 1 - pairwise_distances(df.values, metric = \"jaccard\") # jaccard = disagree(does not include 0)\n",
    "    rbp_name = eclip_bam.loc[eclip_bam['uID'].isin(df.index), 'RBP']\n",
    "    print(rbp_name)\n",
    "    jac_df = pd.DataFrame(jac_sim, index = rbp_name.values, columns = rbp_name.values)\n",
    "    \n",
    "    # to edgelist\n",
    "    jac_df = jac_df.stack().reset_index()\n",
    "    # rename the columns\n",
    "    jac_df.columns = ['protein_one_name', 'protein_two_name', 'jaccard_similarity']\n",
    "\n",
    "    # create a mask to identify rows with duplicate features as mentioned above\n",
    "    mask_dups = (jac_df[['protein_one_name', 'protein_two_name']].apply(frozenset, axis=1).duplicated()) | (jac_df['protein_one_name']==jac_df['protein_two_name']) \n",
    "\n",
    "    # apply the mask to clean the correlation dataframe\n",
    "    jac_df = jac_df[~mask_dups]\n",
    "    \n",
    "    \n",
    "    return(jac_df)"
   ]
  },
  {
   "cell_type": "code",
   "execution_count": 19,
   "metadata": {},
   "outputs": [
    {
     "name": "stderr",
     "output_type": "stream",
     "text": [
      "/home/hsher/miniconda3/lib/python3.7/site-packages/sklearn/metrics/pairwise.py:1735: DataConversionWarning: Data was converted to boolean for metric jaccard\n",
      "  warnings.warn(msg, DataConversionWarning)\n"
     ]
    },
    {
     "name": "stdout",
     "output_type": "stream",
     "text": [
      "0        HNRNPC\n",
      "1        RBFOX2\n",
      "2       IGF2BP1\n",
      "3        HNRNPK\n",
      "4         SRSF7\n",
      "         ...   \n",
      "214      PABPN1\n",
      "215       PRPF4\n",
      "216       TIAL1\n",
      "221    APOBEC3C\n",
      "222        SUB1\n",
      "Name: RBP, Length: 140, dtype: object\n"
     ]
    },
    {
     "data": {
      "text/plain": [
       "(array([7.055e+03, 1.309e+03, 6.070e+02, 2.680e+02, 1.700e+02, 8.600e+01,\n",
       "        6.500e+01, 4.900e+01, 3.600e+01, 3.100e+01, 1.800e+01, 1.200e+01,\n",
       "        7.000e+00, 3.000e+00, 4.000e+00, 4.000e+00, 2.000e+00, 0.000e+00,\n",
       "        0.000e+00, 1.000e+00, 0.000e+00, 0.000e+00, 0.000e+00, 0.000e+00,\n",
       "        0.000e+00, 2.000e+00, 0.000e+00, 0.000e+00, 0.000e+00, 0.000e+00,\n",
       "        0.000e+00, 0.000e+00, 0.000e+00, 0.000e+00, 0.000e+00, 0.000e+00,\n",
       "        0.000e+00, 0.000e+00, 0.000e+00, 0.000e+00, 0.000e+00, 0.000e+00,\n",
       "        0.000e+00, 0.000e+00, 0.000e+00, 0.000e+00, 0.000e+00, 0.000e+00,\n",
       "        0.000e+00, 1.000e+00]),\n",
       " array([0.  , 0.02, 0.04, 0.06, 0.08, 0.1 , 0.12, 0.14, 0.16, 0.18, 0.2 ,\n",
       "        0.22, 0.24, 0.26, 0.28, 0.3 , 0.32, 0.34, 0.36, 0.38, 0.4 , 0.42,\n",
       "        0.44, 0.46, 0.48, 0.5 , 0.52, 0.54, 0.56, 0.58, 0.6 , 0.62, 0.64,\n",
       "        0.66, 0.68, 0.7 , 0.72, 0.74, 0.76, 0.78, 0.8 , 0.82, 0.84, 0.86,\n",
       "        0.88, 0.9 , 0.92, 0.94, 0.96, 0.98, 1.  ]),\n",
       " <a list of 50 Patch objects>)"
      ]
     },
     "execution_count": 19,
     "metadata": {},
     "output_type": "execute_result"
    },
    {
     "data": {
      "image/png": "[encoded data removed]",
      "text/plain": [
       "<Figure size 432x288 with 1 Axes>"
      ]
     },
     "metadata": {
      "needs_background": "light"
     },
     "output_type": "display_data"
    }
   ],
   "source": [
    "three_jac= jaccard_distribution(three_utr_merged)\n",
    "plt.hist(three_jac['jaccard_similarity'], bins = 50)"
   ]
  },
  {
   "cell_type": "code",
   "execution_count": 20,
   "metadata": {},
   "outputs": [
    {
     "name": "stderr",
     "output_type": "stream",
     "text": [
      "/home/hsher/miniconda3/lib/python3.7/site-packages/sklearn/metrics/pairwise.py:1735: DataConversionWarning: Data was converted to boolean for metric jaccard\n",
      "  warnings.warn(msg, DataConversionWarning)\n"
     ]
    },
    {
     "name": "stdout",
     "output_type": "stream",
     "text": [
      "0        HNRNPC\n",
      "1        RBFOX2\n",
      "2       IGF2BP1\n",
      "3        HNRNPK\n",
      "4         SRSF7\n",
      "         ...   \n",
      "214      PABPN1\n",
      "215       PRPF4\n",
      "216       TIAL1\n",
      "221    APOBEC3C\n",
      "222        SUB1\n",
      "Name: RBP, Length: 136, dtype: object\n"
     ]
    },
    {
     "data": {
      "text/plain": [
       "(array([6.163e+03, 1.187e+03, 6.800e+02, 3.520e+02, 2.400e+02, 1.330e+02,\n",
       "        8.700e+01, 8.500e+01, 5.200e+01, 5.500e+01, 3.000e+01, 2.500e+01,\n",
       "        2.000e+01, 7.000e+00, 1.000e+01, 6.000e+00, 9.000e+00, 2.000e+00,\n",
       "        2.000e+00, 8.000e+00, 2.000e+00, 2.000e+00, 2.000e+00, 2.000e+00,\n",
       "        0.000e+00, 7.000e+00, 0.000e+00, 0.000e+00, 4.000e+00, 0.000e+00,\n",
       "        2.000e+00, 0.000e+00, 0.000e+00, 1.000e+00, 1.000e+00, 0.000e+00,\n",
       "        0.000e+00, 0.000e+00, 0.000e+00, 0.000e+00, 0.000e+00, 1.000e+00,\n",
       "        0.000e+00, 1.000e+00, 0.000e+00, 0.000e+00, 0.000e+00, 0.000e+00,\n",
       "        1.000e+00, 1.000e+00]),\n",
       " array([0.  , 0.01, 0.02, 0.03, 0.04, 0.05, 0.06, 0.07, 0.08, 0.09, 0.1 ,\n",
       "        0.11, 0.12, 0.13, 0.14, 0.15, 0.16, 0.17, 0.18, 0.19, 0.2 , 0.21,\n",
       "        0.22, 0.23, 0.24, 0.25, 0.26, 0.27, 0.28, 0.29, 0.3 , 0.31, 0.32,\n",
       "        0.33, 0.34, 0.35, 0.36, 0.37, 0.38, 0.39, 0.4 , 0.41, 0.42, 0.43,\n",
       "        0.44, 0.45, 0.46, 0.47, 0.48, 0.49, 0.5 ]),\n",
       " <a list of 50 Patch objects>)"
      ]
     },
     "execution_count": 20,
     "metadata": {},
     "output_type": "execute_result"
    },
    {
     "data": {
      "image/png": "[encoded data removed]",
      "text/plain": [
       "<Figure size 432x288 with 1 Axes>"
      ]
     },
     "metadata": {
      "needs_background": "light"
     },
     "output_type": "display_data"
    }
   ],
   "source": [
    "five_jac= jaccard_distribution(five_utr_merged)\n",
    "plt.hist(five_jac['jaccard_similarity'], bins = 50)"
   ]
  },
  {
   "cell_type": "markdown",
   "metadata": {},
   "source": [
    "# Correlate with string ppi"
   ]
  },
  {
   "cell_type": "code",
   "execution_count": 21,
   "metadata": {},
   "outputs": [],
   "source": [
    "string = pd.read_pickle('~/projects/peak_calling/string_rbp_in.pickle')"
   ]
  },
  {
   "cell_type": "code",
   "execution_count": 22,
   "metadata": {},
   "outputs": [
    {
     "data": {
      "text/html": [
       "<div>\n",
       "<style scoped>\n",
       "    .dataframe tbody tr th:only-of-type {\n",
       "        vertical-align: middle;\n",
       "    }\n",
       "\n",
       "    .dataframe tbody tr th {\n",
       "        vertical-align: top;\n",
       "    }\n",
       "\n",
       "    .dataframe thead th {\n",
       "        text-align: right;\n",
       "    }\n",
       "</style>\n",
       "<table border=\"1\" class=\"dataframe\">\n",
       "  <thead>\n",
       "    <tr style=\"text-align: right;\">\n",
       "      <th></th>\n",
       "      <th>item_id_a</th>\n",
       "      <th>item_id_b</th>\n",
       "      <th>mode</th>\n",
       "      <th>action</th>\n",
       "      <th>is_directional</th>\n",
       "      <th>a_is_acting</th>\n",
       "      <th>score</th>\n",
       "      <th>protein_one</th>\n",
       "      <th>protein_two</th>\n",
       "    </tr>\n",
       "  </thead>\n",
       "  <tbody>\n",
       "    <tr>\n",
       "      <th>23473</th>\n",
       "      <td>9606.ENSP00000156109</td>\n",
       "      <td>9606.ENSP00000156471</td>\n",
       "      <td>binding</td>\n",
       "      <td>NaN</td>\n",
       "      <td>f</td>\n",
       "      <td>f</td>\n",
       "      <td>901</td>\n",
       "      <td>ENSP00000156109</td>\n",
       "      <td>ENSP00000156471</td>\n",
       "    </tr>\n",
       "    <tr>\n",
       "      <th>23474</th>\n",
       "      <td>9606.ENSP00000156109</td>\n",
       "      <td>9606.ENSP00000156471</td>\n",
       "      <td>catalysis</td>\n",
       "      <td>NaN</td>\n",
       "      <td>t</td>\n",
       "      <td>f</td>\n",
       "      <td>901</td>\n",
       "      <td>ENSP00000156109</td>\n",
       "      <td>ENSP00000156471</td>\n",
       "    </tr>\n",
       "    <tr>\n",
       "      <th>23475</th>\n",
       "      <td>9606.ENSP00000156109</td>\n",
       "      <td>9606.ENSP00000156471</td>\n",
       "      <td>catalysis</td>\n",
       "      <td>NaN</td>\n",
       "      <td>t</td>\n",
       "      <td>t</td>\n",
       "      <td>901</td>\n",
       "      <td>ENSP00000156109</td>\n",
       "      <td>ENSP00000156471</td>\n",
       "    </tr>\n",
       "    <tr>\n",
       "      <th>23476</th>\n",
       "      <td>9606.ENSP00000156109</td>\n",
       "      <td>9606.ENSP00000156471</td>\n",
       "      <td>reaction</td>\n",
       "      <td>NaN</td>\n",
       "      <td>f</td>\n",
       "      <td>f</td>\n",
       "      <td>901</td>\n",
       "      <td>ENSP00000156109</td>\n",
       "      <td>ENSP00000156471</td>\n",
       "    </tr>\n",
       "    <tr>\n",
       "      <th>23477</th>\n",
       "      <td>9606.ENSP00000156109</td>\n",
       "      <td>9606.ENSP00000156471</td>\n",
       "      <td>reaction</td>\n",
       "      <td>NaN</td>\n",
       "      <td>t</td>\n",
       "      <td>f</td>\n",
       "      <td>901</td>\n",
       "      <td>ENSP00000156109</td>\n",
       "      <td>ENSP00000156471</td>\n",
       "    </tr>\n",
       "  </tbody>\n",
       "</table>\n",
       "</div>"
      ],
      "text/plain": [
       "                  item_id_a             item_id_b       mode action  \\\n",
       "23473  9606.ENSP00000156109  9606.ENSP00000156471    binding    NaN   \n",
       "23474  9606.ENSP00000156109  9606.ENSP00000156471  catalysis    NaN   \n",
       "23475  9606.ENSP00000156109  9606.ENSP00000156471  catalysis    NaN   \n",
       "23476  9606.ENSP00000156109  9606.ENSP00000156471   reaction    NaN   \n",
       "23477  9606.ENSP00000156109  9606.ENSP00000156471   reaction    NaN   \n",
       "\n",
       "      is_directional a_is_acting  score      protein_one      protein_two  \n",
       "23473              f           f    901  ENSP00000156109  ENSP00000156471  \n",
       "23474              t           f    901  ENSP00000156109  ENSP00000156471  \n",
       "23475              t           t    901  ENSP00000156109  ENSP00000156471  \n",
       "23476              f           f    901  ENSP00000156109  ENSP00000156471  \n",
       "23477              t           f    901  ENSP00000156109  ENSP00000156471  "
      ]
     },
     "execution_count": 22,
     "metadata": {},
     "output_type": "execute_result"
    }
   ],
   "source": [
    "string.head()"
   ]
  },
  {
   "cell_type": "code",
   "execution_count": 23,
   "metadata": {},
   "outputs": [
    {
     "data": {
      "text/plain": [
       "<matplotlib.axes._subplots.AxesSubplot at 0x2b4ef9b70090>"
      ]
     },
     "execution_count": 23,
     "metadata": {},
     "output_type": "execute_result"
    },
    {
     "data": {
      "image/png": "[encoded data removed]",
      "text/plain": [
       "<Figure size 432x288 with 1 Axes>"
      ]
     },
     "metadata": {
      "needs_background": "light"
     },
     "output_type": "display_data"
    }
   ],
   "source": [
    "string['score'].plot.hist()"
   ]
  },
  {
   "cell_type": "code",
   "execution_count": 24,
   "metadata": {},
   "outputs": [],
   "source": [
    "rbp_id = pd.read_pickle('~/projects/peak_calling/RBP_id.pickle')"
   ]
  },
  {
   "cell_type": "code",
   "execution_count": 25,
   "metadata": {},
   "outputs": [],
   "source": [
    "all_protein = list(set(string['protein_one'].append(string['protein_two'])))\n",
    "names = []\n",
    "for p in all_protein:\n",
    "    for id_set in rbp_id['esnp'].index:\n",
    "        if p in rbp_id.loc[id_set, 'esnp']:\n",
    "            names.append(id_set)"
   ]
  },
  {
   "cell_type": "code",
   "execution_count": 26,
   "metadata": {},
   "outputs": [],
   "source": [
    "id_to_name = dict(zip(all_protein, names))"
   ]
  },
  {
   "cell_type": "code",
   "execution_count": 27,
   "metadata": {},
   "outputs": [],
   "source": [
    "string['protein_one_name'] = string['protein_one'].map(id_to_name)\n",
    "string['protein_two_name'] = string['protein_two'].map(id_to_name)\n",
    "string['mapper'] = string[['protein_one_name', 'protein_two_name']].apply(frozenset, axis = 1)"
   ]
  },
  {
   "cell_type": "code",
   "execution_count": 28,
   "metadata": {},
   "outputs": [
    {
     "data": {
      "text/plain": [
       "(10524, 12)"
      ]
     },
     "execution_count": 28,
     "metadata": {},
     "output_type": "execute_result"
    }
   ],
   "source": [
    "string.shape"
   ]
  },
  {
   "cell_type": "code",
   "execution_count": 29,
   "metadata": {},
   "outputs": [],
   "source": [
    "string.drop_duplicates('mapper', inplace = True)"
   ]
  },
  {
   "cell_type": "code",
   "execution_count": 30,
   "metadata": {},
   "outputs": [],
   "source": [
    "three_jac['mapper'] = three_jac[['protein_one_name', 'protein_two_name']].apply(frozenset, axis = 1)\n",
    "five_jac['mapper'] = five_jac[['protein_one_name', 'protein_two_name']].apply(frozenset, axis = 1)\n"
   ]
  },
  {
   "cell_type": "code",
   "execution_count": 31,
   "metadata": {},
   "outputs": [],
   "source": [
    "string = string.merge(three_jac, on = 'mapper', how = 'outer', suffixes = ('', '_3UTR'))\n",
    "\n",
    "string = string.merge(five_jac, on = 'mapper', how = 'outer', suffixes = ('', '_5UTR'))"
   ]
  },
  {
   "cell_type": "code",
   "execution_count": 32,
   "metadata": {},
   "outputs": [
    {
     "data": {
      "text/html": [
       "<div>\n",
       "<style scoped>\n",
       "    .dataframe tbody tr th:only-of-type {\n",
       "        vertical-align: middle;\n",
       "    }\n",
       "\n",
       "    .dataframe tbody tr th {\n",
       "        vertical-align: top;\n",
       "    }\n",
       "\n",
       "    .dataframe thead th {\n",
       "        text-align: right;\n",
       "    }\n",
       "</style>\n",
       "<table border=\"1\" class=\"dataframe\">\n",
       "  <thead>\n",
       "    <tr style=\"text-align: right;\">\n",
       "      <th></th>\n",
       "      <th>item_id_a</th>\n",
       "      <th>item_id_b</th>\n",
       "      <th>mode</th>\n",
       "      <th>action</th>\n",
       "      <th>is_directional</th>\n",
       "      <th>a_is_acting</th>\n",
       "      <th>score</th>\n",
       "      <th>protein_one</th>\n",
       "      <th>protein_two</th>\n",
       "      <th>protein_one_name</th>\n",
       "      <th>protein_two_name</th>\n",
       "      <th>mapper</th>\n",
       "      <th>protein_one_name_3UTR</th>\n",
       "      <th>protein_two_name_3UTR</th>\n",
       "      <th>jaccard_similarity</th>\n",
       "      <th>protein_one_name_5UTR</th>\n",
       "      <th>protein_two_name_5UTR</th>\n",
       "      <th>jaccard_similarity_5UTR</th>\n",
       "    </tr>\n",
       "  </thead>\n",
       "  <tbody>\n",
       "    <tr>\n",
       "      <th>0</th>\n",
       "      <td>9606.ENSP00000156109</td>\n",
       "      <td>9606.ENSP00000156471</td>\n",
       "      <td>binding</td>\n",
       "      <td>NaN</td>\n",
       "      <td>f</td>\n",
       "      <td>f</td>\n",
       "      <td>901.0</td>\n",
       "      <td>ENSP00000156109</td>\n",
       "      <td>ENSP00000156471</td>\n",
       "      <td>GPKOW</td>\n",
       "      <td>AQR</td>\n",
       "      <td>(AQR, GPKOW)</td>\n",
       "      <td>GPKOW</td>\n",
       "      <td>AQR</td>\n",
       "      <td>0.139045</td>\n",
       "      <td>GPKOW</td>\n",
       "      <td>AQR</td>\n",
       "      <td>0.000000</td>\n",
       "    </tr>\n",
       "    <tr>\n",
       "      <th>1</th>\n",
       "      <td>9606.ENSP00000156109</td>\n",
       "      <td>9606.ENSP00000199814</td>\n",
       "      <td>binding</td>\n",
       "      <td>NaN</td>\n",
       "      <td>f</td>\n",
       "      <td>f</td>\n",
       "      <td>902.0</td>\n",
       "      <td>ENSP00000156109</td>\n",
       "      <td>ENSP00000199814</td>\n",
       "      <td>GPKOW</td>\n",
       "      <td>RBM22</td>\n",
       "      <td>(GPKOW, RBM22)</td>\n",
       "      <td>RBM22</td>\n",
       "      <td>GPKOW</td>\n",
       "      <td>0.009101</td>\n",
       "      <td>RBM22</td>\n",
       "      <td>GPKOW</td>\n",
       "      <td>0.000000</td>\n",
       "    </tr>\n",
       "    <tr>\n",
       "      <th>2</th>\n",
       "      <td>9606.ENSP00000156109</td>\n",
       "      <td>9606.ENSP00000216727</td>\n",
       "      <td>binding</td>\n",
       "      <td>NaN</td>\n",
       "      <td>f</td>\n",
       "      <td>f</td>\n",
       "      <td>903.0</td>\n",
       "      <td>ENSP00000156109</td>\n",
       "      <td>ENSP00000216727</td>\n",
       "      <td>GPKOW</td>\n",
       "      <td>PABPN1</td>\n",
       "      <td>(PABPN1, GPKOW)</td>\n",
       "      <td>GPKOW</td>\n",
       "      <td>PABPN1</td>\n",
       "      <td>0.086624</td>\n",
       "      <td>GPKOW</td>\n",
       "      <td>PABPN1</td>\n",
       "      <td>0.000000</td>\n",
       "    </tr>\n",
       "    <tr>\n",
       "      <th>3</th>\n",
       "      <td>9606.ENSP00000156109</td>\n",
       "      <td>9606.ENSP00000221419</td>\n",
       "      <td>binding</td>\n",
       "      <td>NaN</td>\n",
       "      <td>f</td>\n",
       "      <td>f</td>\n",
       "      <td>900.0</td>\n",
       "      <td>ENSP00000156109</td>\n",
       "      <td>ENSP00000221419</td>\n",
       "      <td>GPKOW</td>\n",
       "      <td>HNRNPL</td>\n",
       "      <td>(HNRNPL, GPKOW)</td>\n",
       "      <td>GPKOW</td>\n",
       "      <td>HNRNPL</td>\n",
       "      <td>0.002909</td>\n",
       "      <td>GPKOW</td>\n",
       "      <td>HNRNPL</td>\n",
       "      <td>0.000000</td>\n",
       "    </tr>\n",
       "    <tr>\n",
       "      <th>4</th>\n",
       "      <td>9606.ENSP00000156109</td>\n",
       "      <td>9606.ENSP00000229390</td>\n",
       "      <td>binding</td>\n",
       "      <td>NaN</td>\n",
       "      <td>f</td>\n",
       "      <td>f</td>\n",
       "      <td>901.0</td>\n",
       "      <td>ENSP00000156109</td>\n",
       "      <td>ENSP00000229390</td>\n",
       "      <td>GPKOW</td>\n",
       "      <td>SRSF9</td>\n",
       "      <td>(GPKOW, SRSF9)</td>\n",
       "      <td>SRSF9</td>\n",
       "      <td>GPKOW</td>\n",
       "      <td>0.000000</td>\n",
       "      <td>SRSF9</td>\n",
       "      <td>GPKOW</td>\n",
       "      <td>0.002924</td>\n",
       "    </tr>\n",
       "  </tbody>\n",
       "</table>\n",
       "</div>"
      ],
      "text/plain": [
       "              item_id_a             item_id_b     mode action is_directional  \\\n",
       "0  9606.ENSP00000156109  9606.ENSP00000156471  binding    NaN              f   \n",
       "1  9606.ENSP00000156109  9606.ENSP00000199814  binding    NaN              f   \n",
       "2  9606.ENSP00000156109  9606.ENSP00000216727  binding    NaN              f   \n",
       "3  9606.ENSP00000156109  9606.ENSP00000221419  binding    NaN              f   \n",
       "4  9606.ENSP00000156109  9606.ENSP00000229390  binding    NaN              f   \n",
       "\n",
       "  a_is_acting  score      protein_one      protein_two protein_one_name  \\\n",
       "0           f  901.0  ENSP00000156109  ENSP00000156471            GPKOW   \n",
       "1           f  902.0  ENSP00000156109  ENSP00000199814            GPKOW   \n",
       "2           f  903.0  ENSP00000156109  ENSP00000216727            GPKOW   \n",
       "3           f  900.0  ENSP00000156109  ENSP00000221419            GPKOW   \n",
       "4           f  901.0  ENSP00000156109  ENSP00000229390            GPKOW   \n",
       "\n",
       "  protein_two_name           mapper protein_one_name_3UTR  \\\n",
       "0              AQR     (AQR, GPKOW)                 GPKOW   \n",
       "1            RBM22   (GPKOW, RBM22)                 RBM22   \n",
       "2           PABPN1  (PABPN1, GPKOW)                 GPKOW   \n",
       "3           HNRNPL  (HNRNPL, GPKOW)                 GPKOW   \n",
       "4            SRSF9   (GPKOW, SRSF9)                 SRSF9   \n",
       "\n",
       "  protein_two_name_3UTR  jaccard_similarity protein_one_name_5UTR  \\\n",
       "0                   AQR            0.139045                 GPKOW   \n",
       "1                 GPKOW            0.009101                 RBM22   \n",
       "2                PABPN1            0.086624                 GPKOW   \n",
       "3                HNRNPL            0.002909                 GPKOW   \n",
       "4                 GPKOW            0.000000                 SRSF9   \n",
       "\n",
       "  protein_two_name_5UTR  jaccard_similarity_5UTR  \n",
       "0                   AQR                 0.000000  \n",
       "1                 GPKOW                 0.000000  \n",
       "2                PABPN1                 0.000000  \n",
       "3                HNRNPL                 0.000000  \n",
       "4                 GPKOW                 0.002924  "
      ]
     },
     "execution_count": 32,
     "metadata": {},
     "output_type": "execute_result"
    }
   ],
   "source": [
    "string.head()"
   ]
  },
  {
   "cell_type": "code",
   "execution_count": 33,
   "metadata": {},
   "outputs": [
    {
     "data": {
      "text/plain": [
       "(10227, 18)"
      ]
     },
     "execution_count": 33,
     "metadata": {},
     "output_type": "execute_result"
    }
   ],
   "source": [
    "string.shape"
   ]
  },
  {
   "cell_type": "code",
   "execution_count": 34,
   "metadata": {},
   "outputs": [
    {
     "data": {
      "text/plain": [
       "item_id_a                   1057\n",
       "item_id_b                   1057\n",
       "mode                        1057\n",
       "action                        62\n",
       "is_directional              1057\n",
       "a_is_acting                 1057\n",
       "score                       1057\n",
       "protein_one                 1057\n",
       "protein_two                 1057\n",
       "protein_one_name            1057\n",
       "protein_two_name            1057\n",
       "mapper                     10227\n",
       "protein_one_name_3UTR       9730\n",
       "protein_two_name_3UTR       9730\n",
       "jaccard_similarity          9730\n",
       "protein_one_name_5UTR       9180\n",
       "protein_two_name_5UTR       9180\n",
       "jaccard_similarity_5UTR     9180\n",
       "dtype: int64"
      ]
     },
     "execution_count": 34,
     "metadata": {},
     "output_type": "execute_result"
    }
   ],
   "source": [
    "string.count()"
   ]
  },
  {
   "cell_type": "markdown",
   "metadata": {},
   "source": [
    "# interaction detected and not detected by STRING"
   ]
  },
  {
   "cell_type": "code",
   "execution_count": 39,
   "metadata": {},
   "outputs": [
    {
     "data": {
      "text/plain": [
       "array([<matplotlib.axes._subplots.AxesSubplot object at 0x2b4efb78ec50>,\n",
       "       <matplotlib.axes._subplots.AxesSubplot object at 0x2b4efb7ac650>],\n",
       "      dtype=object)"
      ]
     },
     "execution_count": 39,
     "metadata": {},
     "output_type": "execute_result"
    },
    {
     "data": {
      "image/png": "[encoded data removed]",
      "text/plain": [
       "<Figure size 432x288 with 2 Axes>"
      ]
     },
     "metadata": {
      "needs_background": "light"
     },
     "output_type": "display_data"
    }
   ],
   "source": [
    "string['detected_by_string'] = string['score'].notnull()\n",
    "string.boxplot(column = ['jaccard_similarity', 'jaccard_similarity_5UTR'],by = 'detected_by_string')"
   ]
  },
  {
   "cell_type": "code",
   "execution_count": 133,
   "metadata": {},
   "outputs": [
    {
     "name": "stderr",
     "output_type": "stream",
     "text": [
      "/home/hsher/miniconda3/lib/python3.7/site-packages/ipykernel_launcher.py:1: FutureWarning: Indexing with multiple keys (implicitly converted to a tuple of keys) will be deprecated, use a list instead.\n",
      "  \"\"\"Entry point for launching an IPython kernel.\n"
     ]
    },
    {
     "data": {
      "text/html": [
       "<div>\n",
       "<style scoped>\n",
       "    .dataframe tbody tr th:only-of-type {\n",
       "        vertical-align: middle;\n",
       "    }\n",
       "\n",
       "    .dataframe tbody tr th {\n",
       "        vertical-align: top;\n",
       "    }\n",
       "\n",
       "    .dataframe thead th {\n",
       "        text-align: right;\n",
       "    }\n",
       "</style>\n",
       "<table border=\"1\" class=\"dataframe\">\n",
       "  <thead>\n",
       "    <tr style=\"text-align: right;\">\n",
       "      <th></th>\n",
       "      <th>jaccard_similarity</th>\n",
       "      <th>jaccard_similarity_5UTR</th>\n",
       "    </tr>\n",
       "    <tr>\n",
       "      <th>detected_by_string</th>\n",
       "      <th></th>\n",
       "      <th></th>\n",
       "    </tr>\n",
       "  </thead>\n",
       "  <tbody>\n",
       "    <tr>\n",
       "      <th>False</th>\n",
       "      <td>0.019397</td>\n",
       "      <td>0.012671</td>\n",
       "    </tr>\n",
       "    <tr>\n",
       "      <th>True</th>\n",
       "      <td>0.014990</td>\n",
       "      <td>0.014426</td>\n",
       "    </tr>\n",
       "  </tbody>\n",
       "</table>\n",
       "</div>"
      ],
      "text/plain": [
       "                    jaccard_similarity  jaccard_similarity_5UTR\n",
       "detected_by_string                                             \n",
       "False                         0.019397                 0.012671\n",
       "True                          0.014990                 0.014426"
      ]
     },
     "execution_count": 133,
     "metadata": {},
     "output_type": "execute_result"
    }
   ],
   "source": [
    "string.groupby(by = 'detected_by_string')['jaccard_similarity', 'jaccard_similarity_5UTR'].mean()"
   ]
  },
  {
   "cell_type": "markdown",
   "metadata": {},
   "source": [
    "## by percentile"
   ]
  },
  {
   "cell_type": "code",
   "execution_count": 49,
   "metadata": {},
   "outputs": [],
   "source": [
    "string['jaccard_similarity_perc'] = np.digitize(string['jaccard_similarity'].fillna(0), np.percentile(string['jaccard_similarity'].fillna(0), np.arange(100)))\n",
    "string['jaccard_similarity_5UTR_perc'] = np.digitize(string['jaccard_similarity_5UTR'].fillna(0), np.percentile(string['jaccard_similarity_5UTR'].fillna(0), np.arange(100)))\n",
    "string['score_perc'] = np.digitize(string['score'].fillna(0), np.percentile(string['score'].fillna(0), np.arange(100)))"
   ]
  },
  {
   "cell_type": "code",
   "execution_count": 50,
   "metadata": {},
   "outputs": [
    {
     "data": {
      "text/plain": [
       "array([<matplotlib.axes._subplots.AxesSubplot object at 0x2b4efbdad4d0>,\n",
       "       <matplotlib.axes._subplots.AxesSubplot object at 0x2b4efbf54f90>],\n",
       "      dtype=object)"
      ]
     },
     "execution_count": 50,
     "metadata": {},
     "output_type": "execute_result"
    },
    {
     "data": {
      "image/png": "[encoded data removed]",
      "text/plain": [
       "<Figure size 432x288 with 2 Axes>"
      ]
     },
     "metadata": {
      "needs_background": "light"
     },
     "output_type": "display_data"
    }
   ],
   "source": [
    "string.boxplot(column = ['jaccard_similarity_perc', 'jaccard_similarity_5UTR_perc'],by = 'detected_by_string')"
   ]
  },
  {
   "cell_type": "code",
   "execution_count": 51,
   "metadata": {},
   "outputs": [
    {
     "data": {
      "text/plain": [
       "<matplotlib.axes._subplots.AxesSubplot at 0x2b4efbdae710>"
      ]
     },
     "execution_count": 51,
     "metadata": {},
     "output_type": "execute_result"
    },
    {
     "data": {
      "image/png": "[encoded data removed]",
      "text/plain": [
       "<Figure size 432x288 with 1 Axes>"
      ]
     },
     "metadata": {
      "needs_background": "light"
     },
     "output_type": "display_data"
    }
   ],
   "source": [
    "string.plot(kind = 'scatter', x = 'score', y = 'jaccard_similarity_5UTR')"
   ]
  },
  {
   "cell_type": "code",
   "execution_count": 52,
   "metadata": {},
   "outputs": [
    {
     "data": {
      "text/plain": [
       "<matplotlib.axes._subplots.AxesSubplot at 0x2b4efbe6c3d0>"
      ]
     },
     "execution_count": 52,
     "metadata": {},
     "output_type": "execute_result"
    },
    {
     "data": {
      "image/png": "[encoded data removed]",
      "text/plain": [
       "<Figure size 432x288 with 1 Axes>"
      ]
     },
     "metadata": {
      "needs_background": "light"
     },
     "output_type": "display_data"
    }
   ],
   "source": [
    "string.plot(kind = 'scatter', x = 'score_perc', y = 'jaccard_similarity_5UTR_perc')"
   ]
  },
  {
   "cell_type": "code",
   "execution_count": 41,
   "metadata": {},
   "outputs": [
    {
     "data": {
      "text/plain": [
       "<matplotlib.axes._subplots.AxesSubplot at 0x2b4efb8f0950>"
      ]
     },
     "execution_count": 41,
     "metadata": {},
     "output_type": "execute_result"
    },
    {
     "data": {
      "image/png": "[encoded data removed]",
      "text/plain": [
       "<Figure size 432x288 with 1 Axes>"
      ]
     },
     "metadata": {
      "needs_background": "light"
     },
     "output_type": "display_data"
    }
   ],
   "source": [
    "string.plot(kind = 'scatter', x = 'score', y = 'jaccard_similarity')"
   ]
  },
  {
   "cell_type": "code",
   "execution_count": 42,
   "metadata": {},
   "outputs": [
    {
     "data": {
      "text/plain": [
       "<matplotlib.axes._subplots.AxesSubplot at 0x2b4efb954050>"
      ]
     },
     "execution_count": 42,
     "metadata": {},
     "output_type": "execute_result"
    },
    {
     "data": {
      "image/png": "[encoded data removed]",
      "text/plain": [
       "<Figure size 432x288 with 1 Axes>"
      ]
     },
     "metadata": {
      "needs_background": "light"
     },
     "output_type": "display_data"
    }
   ],
   "source": [
    "string.plot(kind = 'scatter', x = 'jaccard_similarity_5UTR', y = 'jaccard_similarity', alpha = 0.3)"
   ]
  },
  {
   "cell_type": "code",
   "execution_count": 53,
   "metadata": {},
   "outputs": [
    {
     "data": {
      "text/plain": [
       "<matplotlib.axes._subplots.AxesSubplot at 0x2b4efbee1d50>"
      ]
     },
     "execution_count": 53,
     "metadata": {},
     "output_type": "execute_result"
    },
    {
     "data": {
      "image/png": "[encoded data removed]",
      "text/plain": [
       "<Figure size 432x288 with 1 Axes>"
      ]
     },
     "metadata": {
      "needs_background": "light"
     },
     "output_type": "display_data"
    }
   ],
   "source": [
    "string.plot(kind = 'scatter', x = 'jaccard_similarity_5UTR_perc', y = 'jaccard_similarity_perc', alpha = 0.3)"
   ]
  },
  {
   "cell_type": "code",
   "execution_count": 60,
   "metadata": {},
   "outputs": [
    {
     "data": {
      "text/html": [
       "<div>\n",
       "<style scoped>\n",
       "    .dataframe tbody tr th:only-of-type {\n",
       "        vertical-align: middle;\n",
       "    }\n",
       "\n",
       "    .dataframe tbody tr th {\n",
       "        vertical-align: top;\n",
       "    }\n",
       "\n",
       "    .dataframe thead th {\n",
       "        text-align: right;\n",
       "    }\n",
       "</style>\n",
       "<table border=\"1\" class=\"dataframe\">\n",
       "  <thead>\n",
       "    <tr style=\"text-align: right;\">\n",
       "      <th></th>\n",
       "      <th>mapper</th>\n",
       "      <th>score</th>\n",
       "      <th>jaccard_similarity_5UTR</th>\n",
       "      <th>jaccard_similarity</th>\n",
       "    </tr>\n",
       "  </thead>\n",
       "  <tbody>\n",
       "    <tr>\n",
       "      <th>18</th>\n",
       "      <td>(HNRNPA1, GPKOW)</td>\n",
       "      <td>901.0</td>\n",
       "      <td>NaN</td>\n",
       "      <td>0.166134</td>\n",
       "    </tr>\n",
       "    <tr>\n",
       "      <th>27</th>\n",
       "      <td>(GPKOW, HNRNPK)</td>\n",
       "      <td>900.0</td>\n",
       "      <td>0.000000</td>\n",
       "      <td>0.204607</td>\n",
       "    </tr>\n",
       "    <tr>\n",
       "      <th>54</th>\n",
       "      <td>(HNRNPA1, AQR)</td>\n",
       "      <td>922.0</td>\n",
       "      <td>NaN</td>\n",
       "      <td>0.181004</td>\n",
       "    </tr>\n",
       "    <tr>\n",
       "      <th>133</th>\n",
       "      <td>(HNRNPA1, PABPN1)</td>\n",
       "      <td>915.0</td>\n",
       "      <td>NaN</td>\n",
       "      <td>0.164331</td>\n",
       "    </tr>\n",
       "    <tr>\n",
       "      <th>398</th>\n",
       "      <td>(SRSF1, SRSF7)</td>\n",
       "      <td>940.0</td>\n",
       "      <td>0.000000</td>\n",
       "      <td>0.163265</td>\n",
       "    </tr>\n",
       "    <tr>\n",
       "      <th>...</th>\n",
       "      <td>...</td>\n",
       "      <td>...</td>\n",
       "      <td>...</td>\n",
       "      <td>...</td>\n",
       "    </tr>\n",
       "    <tr>\n",
       "      <th>9664</th>\n",
       "      <td>(ABCF1, AQR)</td>\n",
       "      <td>NaN</td>\n",
       "      <td>0.000000</td>\n",
       "      <td>0.186858</td>\n",
       "    </tr>\n",
       "    <tr>\n",
       "      <th>9723</th>\n",
       "      <td>(PUM1, FUS)</td>\n",
       "      <td>NaN</td>\n",
       "      <td>0.018182</td>\n",
       "      <td>0.173077</td>\n",
       "    </tr>\n",
       "    <tr>\n",
       "      <th>9759</th>\n",
       "      <td>(PCBP1, TIAL1)</td>\n",
       "      <td>NaN</td>\n",
       "      <td>0.001931</td>\n",
       "      <td>0.262821</td>\n",
       "    </tr>\n",
       "    <tr>\n",
       "      <th>9768</th>\n",
       "      <td>(ABCF1, SERBP1)</td>\n",
       "      <td>NaN</td>\n",
       "      <td>0.028571</td>\n",
       "      <td>0.223435</td>\n",
       "    </tr>\n",
       "    <tr>\n",
       "      <th>9848</th>\n",
       "      <td>(TIAL1, APOBEC3C)</td>\n",
       "      <td>NaN</td>\n",
       "      <td>0.046281</td>\n",
       "      <td>0.159269</td>\n",
       "    </tr>\n",
       "  </tbody>\n",
       "</table>\n",
       "<p>146 rows × 4 columns</p>\n",
       "</div>"
      ],
      "text/plain": [
       "                 mapper  score  jaccard_similarity_5UTR  jaccard_similarity\n",
       "18     (HNRNPA1, GPKOW)  901.0                      NaN            0.166134\n",
       "27      (GPKOW, HNRNPK)  900.0                 0.000000            0.204607\n",
       "54       (HNRNPA1, AQR)  922.0                      NaN            0.181004\n",
       "133   (HNRNPA1, PABPN1)  915.0                      NaN            0.164331\n",
       "398      (SRSF1, SRSF7)  940.0                 0.000000            0.163265\n",
       "...                 ...    ...                      ...                 ...\n",
       "9664       (ABCF1, AQR)    NaN                 0.000000            0.186858\n",
       "9723        (PUM1, FUS)    NaN                 0.018182            0.173077\n",
       "9759     (PCBP1, TIAL1)    NaN                 0.001931            0.262821\n",
       "9768    (ABCF1, SERBP1)    NaN                 0.028571            0.223435\n",
       "9848  (TIAL1, APOBEC3C)    NaN                 0.046281            0.159269\n",
       "\n",
       "[146 rows x 4 columns]"
      ]
     },
     "execution_count": 60,
     "metadata": {},
     "output_type": "execute_result"
    }
   ],
   "source": [
    "string.loc[string['jaccard_similarity']>0.15,['mapper', 'score', 'jaccard_similarity_5UTR', 'jaccard_similarity']]"
   ]
  },
  {
   "cell_type": "code",
   "execution_count": 98,
   "metadata": {},
   "outputs": [],
   "source": [
    "string['protein_one'] = [list(i)[0] for i in string['mapper']]\n",
    "string['protein_two'] = [list(i)[1] for i in string['mapper']]"
   ]
  },
  {
   "cell_type": "markdown",
   "metadata": {},
   "source": [
    "# Do they exist in complex"
   ]
  },
  {
   "cell_type": "code",
   "execution_count": 44,
   "metadata": {},
   "outputs": [],
   "source": [
    "corum_complex = pd.read_csv('~/projects/allComplexes.txt', sep = '\\t')"
   ]
  },
  {
   "cell_type": "code",
   "execution_count": 45,
   "metadata": {},
   "outputs": [],
   "source": [
    "all_uniprot = set()\n",
    "_ = [all_uniprot.update(ids) for ids in rbp_id['uniprot.Swiss-Prot'] if type(ids) != float]"
   ]
  },
  {
   "cell_type": "code",
   "execution_count": 46,
   "metadata": {},
   "outputs": [],
   "source": [
    "selected_complex_index = []\n",
    "i = 0\n",
    "for complex_set in corum_complex['subunits(UniProt IDs)'].str.split(';').apply(set):\n",
    "    if len(complex_set.intersection(all_uniprot))>0:\n",
    "        selected_complex_index.append(i)\n",
    "    i+= 1\n"
   ]
  },
  {
   "cell_type": "code",
   "execution_count": 47,
   "metadata": {},
   "outputs": [],
   "source": [
    "corum_complex = corum_complex.loc[selected_complex_index]"
   ]
  },
  {
   "cell_type": "code",
   "execution_count": 48,
   "metadata": {
    "scrolled": true
   },
   "outputs": [],
   "source": [
    "corum_complex['composition'] = corum_complex['subunits(Gene name)'].str.split(';')"
   ]
  },
  {
   "cell_type": "markdown",
   "metadata": {},
   "source": [
    "## sample a random distribution"
   ]
  },
  {
   "cell_type": "code",
   "execution_count": 130,
   "metadata": {},
   "outputs": [
    {
     "name": "stderr",
     "output_type": "stream",
     "text": [
      "/home/hsher/miniconda3/lib/python3.7/site-packages/ipykernel_launcher.py:4: DeprecationWarning: This function is deprecated. Please call randint(1, 5 + 1) instead\n",
      "  after removing the cwd from sys.path.\n"
     ]
    }
   ],
   "source": [
    "# background_distribution\n",
    "mean_list = []\n",
    "for n in range(100):\n",
    "    random_10_protein = string['protein_one_name'].append(string['protein_two_name'])[np.random.random_integers(5, size = 10)]\n",
    "    sampled = string.loc[(string['protein_one_name'].isin(random_10_protein))&(string['protein_two_name'].isin(corum_complex.loc[c, 'composition']))]\n",
    "    mean_list.append(sampled[['score', 'jaccard_similarity', 'jaccard_similarity_5UTR']].mean(axis = 0).values)"
   ]
  },
  {
   "cell_type": "code",
   "execution_count": 132,
   "metadata": {},
   "outputs": [],
   "source": [
    "background_distribution = np.stack(mean_list)"
   ]
  },
  {
   "cell_type": "code",
   "execution_count": 127,
   "metadata": {},
   "outputs": [
    {
     "ename": "NameError",
     "evalue": "name 'random_10_protein' is not defined",
     "output_type": "error",
     "traceback": [
      "\u001b[0;31m---------------------------------------------------------------------------\u001b[0m",
      "\u001b[0;31mNameError\u001b[0m                                 Traceback (most recent call last)",
      "\u001b[0;32m<ipython-input-127-011c49937cfe>\u001b[0m in \u001b[0;36m<module>\u001b[0;34m\u001b[0m\n\u001b[1;32m     10\u001b[0m     \u001b[0max\u001b[0m\u001b[0;34m[\u001b[0m\u001b[0mi\u001b[0m\u001b[0;34m]\u001b[0m\u001b[0;34m.\u001b[0m\u001b[0mset_ylabel\u001b[0m\u001b[0;34m(\u001b[0m\u001b[0;34m'score/max(score)'\u001b[0m\u001b[0;34m)\u001b[0m\u001b[0;34m\u001b[0m\u001b[0;34m\u001b[0m\u001b[0m\n\u001b[1;32m     11\u001b[0m     \u001b[0mi\u001b[0m\u001b[0;34m+=\u001b[0m\u001b[0;36m1\u001b[0m\u001b[0;34m\u001b[0m\u001b[0;34m\u001b[0m\u001b[0m\n\u001b[0;32m---> 12\u001b[0;31m \u001b[0mcomplex_jaccard_score\u001b[0m \u001b[0;34m=\u001b[0m \u001b[0mstring\u001b[0m\u001b[0;34m.\u001b[0m\u001b[0mloc\u001b[0m\u001b[0;34m[\u001b[0m\u001b[0;34m(\u001b[0m\u001b[0mstring\u001b[0m\u001b[0;34m[\u001b[0m\u001b[0;34m'protein_one_name'\u001b[0m\u001b[0;34m]\u001b[0m\u001b[0;34m.\u001b[0m\u001b[0misin\u001b[0m\u001b[0;34m(\u001b[0m\u001b[0mrandom_10_protein\u001b[0m\u001b[0;34m)\u001b[0m\u001b[0;34m)\u001b[0m\u001b[0;34m&\u001b[0m\u001b[0;34m(\u001b[0m\u001b[0mstring\u001b[0m\u001b[0;34m[\u001b[0m\u001b[0;34m'protein_two_name'\u001b[0m\u001b[0;34m]\u001b[0m\u001b[0;34m.\u001b[0m\u001b[0misin\u001b[0m\u001b[0;34m(\u001b[0m\u001b[0mcorum_complex\u001b[0m\u001b[0;34m.\u001b[0m\u001b[0mloc\u001b[0m\u001b[0;34m[\u001b[0m\u001b[0mc\u001b[0m\u001b[0;34m,\u001b[0m \u001b[0;34m'composition'\u001b[0m\u001b[0;34m]\u001b[0m\u001b[0;34m)\u001b[0m\u001b[0;34m)\u001b[0m\u001b[0;34m]\u001b[0m\u001b[0;34m\u001b[0m\u001b[0;34m\u001b[0m\u001b[0m\n\u001b[0m\u001b[1;32m     13\u001b[0m \u001b[0mcomplex_jaccard_score\u001b[0m\u001b[0;34m.\u001b[0m\u001b[0mboxplot\u001b[0m\u001b[0;34m(\u001b[0m\u001b[0mcolumn\u001b[0m \u001b[0;34m=\u001b[0m \u001b[0;34m[\u001b[0m\u001b[0;34m'score'\u001b[0m\u001b[0;34m,\u001b[0m \u001b[0;34m'jaccard_similarity'\u001b[0m\u001b[0;34m,\u001b[0m \u001b[0;34m'jaccard_similarity_5UTR'\u001b[0m\u001b[0;34m]\u001b[0m\u001b[0;34m,\u001b[0m \u001b[0max\u001b[0m \u001b[0;34m=\u001b[0m \u001b[0max\u001b[0m\u001b[0;34m[\u001b[0m\u001b[0mi\u001b[0m\u001b[0;34m]\u001b[0m\u001b[0;34m)\u001b[0m\u001b[0;34m\u001b[0m\u001b[0;34m\u001b[0m\u001b[0m\n\u001b[1;32m     14\u001b[0m \u001b[0max\u001b[0m\u001b[0;34m[\u001b[0m\u001b[0mi\u001b[0m\u001b[0;34m]\u001b[0m\u001b[0;34m.\u001b[0m\u001b[0mset_title\u001b[0m\u001b[0;34m(\u001b[0m\u001b[0;34m'random 10 protein'\u001b[0m\u001b[0;34m)\u001b[0m\u001b[0;34m\u001b[0m\u001b[0;34m\u001b[0m\u001b[0m\n",
      "\u001b[0;31mNameError\u001b[0m: name 'random_10_protein' is not defined"
     ]
    },
    {
     "data": {
      "image/png": "[encoded data removed]",
      "text/plain": [
       "<Figure size 1080x216 with 6 Axes>"
      ]
     },
     "metadata": {
      "needs_background": "light"
     },
     "output_type": "display_data"
    }
   ],
   "source": [
    "\n",
    "f,ax = plt.subplots(nrows = 1, ncols = corum_complex.shape[0]+1, figsize = (15,3), sharey = True)\n",
    "i = 0\n",
    "for c in corum_complex.index:\n",
    "    \n",
    "    complex_jaccard_score = string.loc[(string['protein_one_name'].isin(corum_complex.loc[c, 'composition']))&(string['protein_two_name'].isin(corum_complex.loc[c, 'composition']))]\n",
    "    complex_jaccard_score = complex_jaccard_score[['score', 'jaccard_similarity', 'jaccard_similarity_5UTR']].div(complex_jaccard_score[['score', 'jaccard_similarity', 'jaccard_similarity_5UTR']].max(axis = 0), axis = 1)\n",
    "    complex_jaccard_score.boxplot(column = ['score', 'jaccard_similarity', 'jaccard_similarity_5UTR'], ax = ax[i])\n",
    "    ax[i].set_title(corum_complex.loc[c, 'ComplexName'])\n",
    "    ax[i].tick_params(labelrotation=60)\n",
    "    ax[i].set_ylabel('score/max(score)')\n",
    "    i+=1\n",
    "complex_jaccard_score = string.loc[(string['protein_one_name'].isin(random_10_protein))&(string['protein_two_name'].isin(corum_complex.loc[c, 'composition']))]\n",
    "complex_jaccard_score.boxplot(column = ['score', 'jaccard_similarity', 'jaccard_similarity_5UTR'], ax = ax[i])    \n",
    "ax[i].set_title('random 10 protein')\n",
    "ax[i].tick_params(labelrotation=60)\n",
    "ax[i].set_ylabel('score percentile')\n"
   ]
  },
  {
   "cell_type": "markdown",
   "metadata": {},
   "source": [
    "# print by percentile `qcut`"
   ]
  },
  {
   "cell_type": "code",
   "execution_count": 44,
   "metadata": {},
   "outputs": [],
   "source": []
  },
  {
   "cell_type": "code",
   "execution_count": 54,
   "metadata": {},
   "outputs": [
    {
     "data": {
      "text/plain": [
       "105"
      ]
     },
     "execution_count": 54,
     "metadata": {},
     "output_type": "execute_result"
    }
   ],
   "source": [
    "len(corum_complex.loc[c, 'composition'])"
   ]
  },
  {
   "cell_type": "code",
   "execution_count": 68,
   "metadata": {},
   "outputs": [
    {
     "data": {
      "text/plain": [
       "Text(0, 0.5, 'score percentile')"
      ]
     },
     "execution_count": 68,
     "metadata": {},
     "output_type": "execute_result"
    },
    {
     "data": {
      "image/png": "[encoded data removed]",
      "text/plain": [
       "<Figure size 1080x216 with 6 Axes>"
      ]
     },
     "metadata": {
      "needs_background": "light"
     },
     "output_type": "display_data"
    }
   ],
   "source": [
    "\n",
    "f,ax = plt.subplots(nrows = 1, ncols = corum_complex.shape[0]+1, figsize = (15,3), sharey = True, sharex = True)\n",
    "i = 0\n",
    "for c in corum_complex.index:\n",
    "    \n",
    "    complex_jaccard_score = string.loc[(string['protein_one_name'].isin(corum_complex.loc[c, 'composition']))&(string['protein_two_name'].isin(corum_complex.loc[c, 'composition']))]\n",
    "    \n",
    "    complex_jaccard_score.boxplot(column = ['score_perc', 'jaccard_similarity_perc', 'jaccard_similarity_5UTR_perc'], ax = ax[i])\n",
    "    ax[i].set_title(corum_complex.loc[c, 'ComplexName'])\n",
    "    ax[i].tick_params(labelrotation=60)\n",
    "    ax[i].set_ylabel('score percentile')\n",
    "    i+=1\n",
    "\n",
    "\n",
    "complex_jaccard_score = string.loc[(string['protein_one_name'].isin(random_10_protein))&(string['protein_two_name'].isin(random_10_protein))]\n",
    "    \n",
    "complex_jaccard_score.boxplot(column = ['score_perc', 'jaccard_similarity_perc', 'jaccard_similarity_5UTR_perc'], ax = ax[i])    \n",
    "ax[i].set_title('random 10 protein')\n",
    "ax[i].tick_params(labelrotation=60)\n",
    "ax[i].set_ylabel('score percentile')\n",
    "\n"
   ]
  },
  {
   "cell_type": "code",
   "execution_count": 70,
   "metadata": {},
   "outputs": [
    {
     "data": {
      "text/html": [
       "<div>\n",
       "<style scoped>\n",
       "    .dataframe tbody tr th:only-of-type {\n",
       "        vertical-align: middle;\n",
       "    }\n",
       "\n",
       "    .dataframe tbody tr th {\n",
       "        vertical-align: top;\n",
       "    }\n",
       "\n",
       "    .dataframe thead th {\n",
       "        text-align: right;\n",
       "    }\n",
       "</style>\n",
       "<table border=\"1\" class=\"dataframe\">\n",
       "  <thead>\n",
       "    <tr style=\"text-align: right;\">\n",
       "      <th></th>\n",
       "      <th>ComplexID</th>\n",
       "      <th>ComplexName</th>\n",
       "      <th>Organism</th>\n",
       "      <th>Synonyms</th>\n",
       "      <th>Cell line</th>\n",
       "      <th>subunits(UniProt IDs)</th>\n",
       "      <th>subunits(Entrez IDs)</th>\n",
       "      <th>Protein complex purification method</th>\n",
       "      <th>GO ID</th>\n",
       "      <th>GO description</th>\n",
       "      <th>...</th>\n",
       "      <th>FunCat description</th>\n",
       "      <th>subunits(Gene name)</th>\n",
       "      <th>Subunits comment</th>\n",
       "      <th>PubMed ID</th>\n",
       "      <th>Complex comment</th>\n",
       "      <th>Disease comment</th>\n",
       "      <th>SWISSPROT organism</th>\n",
       "      <th>subunits(Gene name syn)</th>\n",
       "      <th>subunits(Protein name)</th>\n",
       "      <th>composition</th>\n",
       "    </tr>\n",
       "  </thead>\n",
       "  <tbody>\n",
       "    <tr>\n",
       "      <th>314</th>\n",
       "      <td>351</td>\n",
       "      <td>Spliceosome</td>\n",
       "      <td>Human</td>\n",
       "      <td>U2-type spliceosome</td>\n",
       "      <td>None</td>\n",
       "      <td>O00425;O00571;O14776;O15042;O15355;O43143;O431...</td>\n",
       "      <td>10643;1654;10915;23350;5496;1665;9128;9092;912...</td>\n",
       "      <td>MI:0007- anti tag coimmunoprecipitation; MI:00...</td>\n",
       "      <td>GO:0008380;GO:0003723;GO:0005634</td>\n",
       "      <td>RNA splicing;RNA binding;nucleus</td>\n",
       "      <td>...</td>\n",
       "      <td>splicing;RNA binding;nucleus</td>\n",
       "      <td>IGF2BP3;DDX3X;TCERG1;U2SURP;PPM1G;DHX15;PRPF4;...</td>\n",
       "      <td>None</td>\n",
       "      <td>12226669</td>\n",
       "      <td>In eukaryotes, the removal of introns from nas...</td>\n",
       "      <td>None</td>\n",
       "      <td>Homo sapiens (Human);Homo sapiens (Human);Homo...</td>\n",
       "      <td>IMP3 KOC1 VICKZ3;DBX DDX3;CA150 TAF2S;KIAA0332...</td>\n",
       "      <td>Insulin-like growth factor 2 mRNA-binding prot...</td>\n",
       "      <td>[IGF2BP3, DDX3X, TCERG1, U2SURP, PPM1G, DHX15,...</td>\n",
       "    </tr>\n",
       "    <tr>\n",
       "      <th>1061</th>\n",
       "      <td>1141</td>\n",
       "      <td>CF IIAm complex (Cleavage factor IIAm complex)</td>\n",
       "      <td>Human</td>\n",
       "      <td>None</td>\n",
       "      <td>None</td>\n",
       "      <td>O43809;O60231;O94913;P19447;P23246;P26368;P265...</td>\n",
       "      <td>11051;8449;51585;2071;6421;11338;5725;4361;730...</td>\n",
       "      <td>MI:0226- ion exchange chromatography</td>\n",
       "      <td>GO:0031123;GO:0031124;GO:0005634</td>\n",
       "      <td>RNA 3'-end processing;mRNA 3'-end processing;n...</td>\n",
       "      <td>...</td>\n",
       "      <td>3'-end processing;nucleus</td>\n",
       "      <td>NUDT21;DHX16;PCF11;ERCC3;SFPQ;U2AF2;PTBP1;MRE1...</td>\n",
       "      <td>None</td>\n",
       "      <td>11060040</td>\n",
       "      <td>Eukaryotic mRNA precursors (pre-mRNAs) undergo...</td>\n",
       "      <td>None</td>\n",
       "      <td>Homo sapiens (Human);Homo sapiens (Human);Homo...</td>\n",
       "      <td>CFIM25 CPSF25 CPSF5;DBP2 DDX16 KIAA0577;KIAA08...</td>\n",
       "      <td>Cleavage and polyadenylation specificity facto...</td>\n",
       "      <td>[NUDT21, DHX16, PCF11, ERCC3, SFPQ, U2AF2, PTB...</td>\n",
       "    </tr>\n",
       "    <tr>\n",
       "      <th>1101</th>\n",
       "      <td>1181</td>\n",
       "      <td>C complex spliceosome</td>\n",
       "      <td>Human</td>\n",
       "      <td>None</td>\n",
       "      <td>None</td>\n",
       "      <td>O43290;O43390;O43660;O60306;O60506;O60508;O755...</td>\n",
       "      <td>9092;10236;5356;9716;10492;51362;23451;23020;2...</td>\n",
       "      <td>MI:0028- cosedimentation in solution; MI:0096-...</td>\n",
       "      <td>GO:0008380;GO:0003723;GO:0005634</td>\n",
       "      <td>RNA splicing;RNA binding;nucleus</td>\n",
       "      <td>...</td>\n",
       "      <td>splicing;RNA binding;nucleus</td>\n",
       "      <td>SART1;HNRNPR;PLRG1;AQR;SYNCRIP;CDC40;SF3B1;SNR...</td>\n",
       "      <td>None</td>\n",
       "      <td>11991638</td>\n",
       "      <td>In eukaryotes, the removal of introns from nas...</td>\n",
       "      <td>None</td>\n",
       "      <td>Homo sapiens (Human);Homo sapiens (Human);Homo...</td>\n",
       "      <td>;HNRPR;;KIAA0560;HNRPQ NSAP1;EHB3 PRP17 PRPF17...</td>\n",
       "      <td>U4/U6.U5 tri-snRNP-associated protein 1 ;Heter...</td>\n",
       "      <td>[SART1, HNRNPR, PLRG1, AQR, SYNCRIP, CDC40, SF...</td>\n",
       "    </tr>\n",
       "    <tr>\n",
       "      <th>1781</th>\n",
       "      <td>2755</td>\n",
       "      <td>17S U2 snRNP</td>\n",
       "      <td>Human</td>\n",
       "      <td>None</td>\n",
       "      <td>None</td>\n",
       "      <td>O15042;O43143;O75533;O75937;O75940;P08579;P096...</td>\n",
       "      <td>23350;1665;23451;22826;10285;6629;6627;3329;66...</td>\n",
       "      <td>MI:0019- coimmunoprecipitation</td>\n",
       "      <td>GO:0008380;GO:0005634</td>\n",
       "      <td>RNA splicing;nucleus</td>\n",
       "      <td>...</td>\n",
       "      <td>splicing;nucleus</td>\n",
       "      <td>U2SURP;DHX15;SF3B1;DNAJC8;SMNDC1;SNRPB2;SNRPA1...</td>\n",
       "      <td>None</td>\n",
       "      <td>12234937</td>\n",
       "      <td>Spliceosome assembly is initiated by the inter...</td>\n",
       "      <td>None</td>\n",
       "      <td>Homo sapiens (Human);Homo sapiens (Human);Homo...</td>\n",
       "      <td>KIAA0332 SR140;DBP1 DDX15;SAP155;SPF31;SMNR SP...</td>\n",
       "      <td>U2 snRNP-associated SURP motif-containing prot...</td>\n",
       "      <td>[U2SURP, DHX15, SF3B1, DNAJC8, SMNDC1, SNRPB2,...</td>\n",
       "    </tr>\n",
       "    <tr>\n",
       "      <th>2067</th>\n",
       "      <td>3055</td>\n",
       "      <td>Nop56p-associated pre-rRNA complex</td>\n",
       "      <td>Human</td>\n",
       "      <td>Nop56p-associated pre-ribosomal ribonucleoprot...</td>\n",
       "      <td>None</td>\n",
       "      <td>O00567;O76021;P05141;P05386;P05387;P05388;P067...</td>\n",
       "      <td>10528;26156;292;6176;6181;6175;4869;6218;3178;...</td>\n",
       "      <td>MI:0007- anti tag coimmunoprecipitation; MI:00...</td>\n",
       "      <td>GO:0042254;GO:0005634</td>\n",
       "      <td>ribosome biogenesis;nucleus</td>\n",
       "      <td>...</td>\n",
       "      <td>ribosome biogenesis;nucleus</td>\n",
       "      <td>NOP56;RSL1D1;SLC25A5;RPLP1;RPLP2;RPLP0;NPM1;RP...</td>\n",
       "      <td>None</td>\n",
       "      <td>12777385</td>\n",
       "      <td>Identification of pre-rRNA species within hNop...</td>\n",
       "      <td>None</td>\n",
       "      <td>Homo sapiens (Human);Homo sapiens (Human);Homo...</td>\n",
       "      <td>NOL5A;CATX11 CSIG PBK1;ANT2;RRP1;D11S2243E RPP...</td>\n",
       "      <td>Nucleolar protein 56 ;Ribosomal L1 domain-cont...</td>\n",
       "      <td>[NOP56, RSL1D1, SLC25A5, RPLP1, RPLP2, RPLP0, ...</td>\n",
       "    </tr>\n",
       "  </tbody>\n",
       "</table>\n",
       "<p>5 rows × 21 columns</p>\n",
       "</div>"
      ],
      "text/plain": [
       "      ComplexID                                     ComplexName Organism  \\\n",
       "314         351                                     Spliceosome    Human   \n",
       "1061       1141  CF IIAm complex (Cleavage factor IIAm complex)    Human   \n",
       "1101       1181                           C complex spliceosome    Human   \n",
       "1781       2755                                    17S U2 snRNP    Human   \n",
       "2067       3055              Nop56p-associated pre-rRNA complex    Human   \n",
       "\n",
       "                                               Synonyms Cell line  \\\n",
       "314                                 U2-type spliceosome      None   \n",
       "1061                                               None      None   \n",
       "1101                                               None      None   \n",
       "1781                                               None      None   \n",
       "2067  Nop56p-associated pre-ribosomal ribonucleoprot...      None   \n",
       "\n",
       "                                  subunits(UniProt IDs)  \\\n",
       "314   O00425;O00571;O14776;O15042;O15355;O43143;O431...   \n",
       "1061  O43809;O60231;O94913;P19447;P23246;P26368;P265...   \n",
       "1101  O43290;O43390;O43660;O60306;O60506;O60508;O755...   \n",
       "1781  O15042;O43143;O75533;O75937;O75940;P08579;P096...   \n",
       "2067  O00567;O76021;P05141;P05386;P05387;P05388;P067...   \n",
       "\n",
       "                                   subunits(Entrez IDs)  \\\n",
       "314   10643;1654;10915;23350;5496;1665;9128;9092;912...   \n",
       "1061  11051;8449;51585;2071;6421;11338;5725;4361;730...   \n",
       "1101  9092;10236;5356;9716;10492;51362;23451;23020;2...   \n",
       "1781  23350;1665;23451;22826;10285;6629;6627;3329;66...   \n",
       "2067  10528;26156;292;6176;6181;6175;4869;6218;3178;...   \n",
       "\n",
       "                    Protein complex purification method  \\\n",
       "314   MI:0007- anti tag coimmunoprecipitation; MI:00...   \n",
       "1061               MI:0226- ion exchange chromatography   \n",
       "1101  MI:0028- cosedimentation in solution; MI:0096-...   \n",
       "1781                     MI:0019- coimmunoprecipitation   \n",
       "2067  MI:0007- anti tag coimmunoprecipitation; MI:00...   \n",
       "\n",
       "                                 GO ID  \\\n",
       "314   GO:0008380;GO:0003723;GO:0005634   \n",
       "1061  GO:0031123;GO:0031124;GO:0005634   \n",
       "1101  GO:0008380;GO:0003723;GO:0005634   \n",
       "1781             GO:0008380;GO:0005634   \n",
       "2067             GO:0042254;GO:0005634   \n",
       "\n",
       "                                         GO description  ...  \\\n",
       "314                    RNA splicing;RNA binding;nucleus  ...   \n",
       "1061  RNA 3'-end processing;mRNA 3'-end processing;n...  ...   \n",
       "1101                   RNA splicing;RNA binding;nucleus  ...   \n",
       "1781                               RNA splicing;nucleus  ...   \n",
       "2067                        ribosome biogenesis;nucleus  ...   \n",
       "\n",
       "                FunCat description  \\\n",
       "314   splicing;RNA binding;nucleus   \n",
       "1061     3'-end processing;nucleus   \n",
       "1101  splicing;RNA binding;nucleus   \n",
       "1781              splicing;nucleus   \n",
       "2067   ribosome biogenesis;nucleus   \n",
       "\n",
       "                                    subunits(Gene name) Subunits comment  \\\n",
       "314   IGF2BP3;DDX3X;TCERG1;U2SURP;PPM1G;DHX15;PRPF4;...             None   \n",
       "1061  NUDT21;DHX16;PCF11;ERCC3;SFPQ;U2AF2;PTBP1;MRE1...             None   \n",
       "1101  SART1;HNRNPR;PLRG1;AQR;SYNCRIP;CDC40;SF3B1;SNR...             None   \n",
       "1781  U2SURP;DHX15;SF3B1;DNAJC8;SMNDC1;SNRPB2;SNRPA1...             None   \n",
       "2067  NOP56;RSL1D1;SLC25A5;RPLP1;RPLP2;RPLP0;NPM1;RP...             None   \n",
       "\n",
       "     PubMed ID                                    Complex comment  \\\n",
       "314   12226669  In eukaryotes, the removal of introns from nas...   \n",
       "1061  11060040  Eukaryotic mRNA precursors (pre-mRNAs) undergo...   \n",
       "1101  11991638  In eukaryotes, the removal of introns from nas...   \n",
       "1781  12234937  Spliceosome assembly is initiated by the inter...   \n",
       "2067  12777385  Identification of pre-rRNA species within hNop...   \n",
       "\n",
       "     Disease comment                                 SWISSPROT organism  \\\n",
       "314             None  Homo sapiens (Human);Homo sapiens (Human);Homo...   \n",
       "1061            None  Homo sapiens (Human);Homo sapiens (Human);Homo...   \n",
       "1101            None  Homo sapiens (Human);Homo sapiens (Human);Homo...   \n",
       "1781            None  Homo sapiens (Human);Homo sapiens (Human);Homo...   \n",
       "2067            None  Homo sapiens (Human);Homo sapiens (Human);Homo...   \n",
       "\n",
       "                                subunits(Gene name syn)  \\\n",
       "314   IMP3 KOC1 VICKZ3;DBX DDX3;CA150 TAF2S;KIAA0332...   \n",
       "1061  CFIM25 CPSF25 CPSF5;DBP2 DDX16 KIAA0577;KIAA08...   \n",
       "1101  ;HNRPR;;KIAA0560;HNRPQ NSAP1;EHB3 PRP17 PRPF17...   \n",
       "1781  KIAA0332 SR140;DBP1 DDX15;SAP155;SPF31;SMNR SP...   \n",
       "2067  NOL5A;CATX11 CSIG PBK1;ANT2;RRP1;D11S2243E RPP...   \n",
       "\n",
       "                                 subunits(Protein name)  \\\n",
       "314   Insulin-like growth factor 2 mRNA-binding prot...   \n",
       "1061  Cleavage and polyadenylation specificity facto...   \n",
       "1101  U4/U6.U5 tri-snRNP-associated protein 1 ;Heter...   \n",
       "1781  U2 snRNP-associated SURP motif-containing prot...   \n",
       "2067  Nucleolar protein 56 ;Ribosomal L1 domain-cont...   \n",
       "\n",
       "                                            composition  \n",
       "314   [IGF2BP3, DDX3X, TCERG1, U2SURP, PPM1G, DHX15,...  \n",
       "1061  [NUDT21, DHX16, PCF11, ERCC3, SFPQ, U2AF2, PTB...  \n",
       "1101  [SART1, HNRNPR, PLRG1, AQR, SYNCRIP, CDC40, SF...  \n",
       "1781  [U2SURP, DHX15, SF3B1, DNAJC8, SMNDC1, SNRPB2,...  \n",
       "2067  [NOP56, RSL1D1, SLC25A5, RPLP1, RPLP2, RPLP0, ...  \n",
       "\n",
       "[5 rows x 21 columns]"
      ]
     },
     "execution_count": 70,
     "metadata": {},
     "output_type": "execute_result"
    }
   ],
   "source": [
    "corum_complex"
   ]
  },
  {
   "cell_type": "code",
   "execution_count": null,
   "metadata": {},
   "outputs": [],
   "source": []
  },
  {
   "cell_type": "code",
   "execution_count": 71,
   "metadata": {},
   "outputs": [
    {
     "data": {
      "text/plain": [
       "[143, 16, 80, 33, 105]"
      ]
     },
     "execution_count": 71,
     "metadata": {},
     "output_type": "execute_result"
    }
   ],
   "source": [
    "[len(i) for i in corum_complex['composition']]"
   ]
  },
  {
   "cell_type": "code",
   "execution_count": 74,
   "metadata": {},
   "outputs": [
    {
     "data": {
      "text/plain": [
       "[19, 5, 14, 7, 12]"
      ]
     },
     "execution_count": 74,
     "metadata": {},
     "output_type": "execute_result"
    }
   ],
   "source": [
    "allp  = string['protein_one_name'].append(string['protein_two_name'])\n",
    "[len(set(i).intersection(set(allp))) for i in corum_complex['composition']]"
   ]
  },
  {
   "cell_type": "markdown",
   "metadata": {},
   "source": [
    "# wilcoxin (pair with same/different complex)!!\n",
    "permutation\n",
    "\n",
    "# look for decapping in Gene Ontology/REactome/\n",
    "\n",
    "# extend to exon/intron/ncRNA\n",
    "# MS dataset\n",
    "\n",
    "# jaccrd --> directional (see one note)"
   ]
  }
 ],
 "metadata": {
  "kernelspec": {
   "display_name": "Python 3",
   "language": "python",
   "name": "python3"
  },
  "language_info": {
   "codemirror_mode": {
    "name": "ipython",
    "version": 3
   },
   "file_extension": ".py",
   "mimetype": "text/x-python",
   "name": "python",
   "nbconvert_exporter": "python",
   "pygments_lexer": "ipython3",
   "version": "3.7.6"
  }
 },
 "nbformat": 4,
 "nbformat_minor": 4
}
