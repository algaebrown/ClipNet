{
 "cells": [
  {
   "cell_type": "markdown",
   "metadata": {},
   "source": [
    "# Notebook for demonstrating how to access encodeproject.org metadata for RBP clip and rna-seq data"
   ]
  },
  {
   "cell_type": "code",
   "execution_count": 1,
   "metadata": {},
   "outputs": [],
   "source": [
    "import pandas as pd\n",
    "import urllib\n",
    "import json\n",
    "import requests\n",
    "import os\n",
    "import glob\n",
    "from collections import defaultdict\n",
    "import qtools\n",
    "from tqdm import tnrange, tqdm_notebook\n",
    "\n",
    "pd.set_option(\"display.max_columns\",500)\n",
    "host = 'https://www.encodeproject.org'\n",
    "experiments = \"https://www.encodeproject.org/experiments/\""
   ]
  },
  {
   "cell_type": "code",
   "execution_count": 166,
   "metadata": {},
   "outputs": [],
   "source": [
    "def get_bams_from_expt_id(\n",
    "    expt_id, assembly, lab\n",
    "):\n",
    "    \"\"\"\n",
    "    Given an expt id, return a list: [rbp name, [rep1bam, rep2bam], control_expt_id]\n",
    "    control_expt_id is None if the expt_id given to this function is itself a control.\n",
    "    \n",
    "    params:\n",
    "    \n",
    "    expt_id: string\n",
    "        ie. \"ENCSR767LLP\"\n",
    "    assembly: string\n",
    "        ie. \"hg19\"\n",
    "    lab: string\n",
    "        ie. \"brenton-graveley\"\n",
    "          \n",
    "    returns:\n",
    "        \n",
    "    result: tuple\n",
    "        (rbp_name, replicate_bams, control_expts) where:\n",
    "        rbp_name is the str representation of the name\n",
    "        replicate_bams is a dictionary with keys=(filename, md5sum), and\n",
    "        control_expts is a list of expt_ids associated with control experiments. \n",
    "    \"\"\"\n",
    "    sample_bams = []\n",
    "    control_expts = []\n",
    "    \n",
    "    experiments = \"https://www.encodeproject.org/experiments/\"\n",
    "    url = experiments+expt_id+\"/?format=json\"\n",
    "    response = urllib.urlopen(url)\n",
    "    data = json.loads(response.read())\n",
    "    if 'code' in data.keys():\n",
    "        next\n",
    "    else:\n",
    "        \n",
    "        for i in range(0,len(data['files'])):\n",
    "            try:\n",
    "                cell_line = data['files'][i]['replicate']['experiment']['biosample_summary']\n",
    "            except:\n",
    "                pass\n",
    "            if (\n",
    "                (host+data['files'][i]['href']).endswith('bam') & \n",
    "                (data['files'][i]['output_type'] == u'alignments') &\n",
    "                (data['files'][i]['lab'][u'name'] == lab)\n",
    "            ):\n",
    "                if(data['files'][i]['assembly'] == assembly):\n",
    "                    metadata_dict = {}\n",
    "                    sample_bams.append(\n",
    "                        {\n",
    "                            'filename':os.path.basename(data['files'][i]['href']),\n",
    "                            'md5sum':data['files'][i]['md5sum'],\n",
    "                            # 'rep':int(data['files'][i]['replicate']['biological_replicate_number'])\n",
    "                        }\n",
    "                    )\n",
    "                    # print(data['files'][i].keys())\n",
    "        for i in range(len(data['files'])):\n",
    "            # need to get bams first\n",
    "            if (data['files'][i]['href'].endswith('bigWig'))and (data['files'][i]['assembly'] == assembly):\n",
    "                bam_from = os.path.basename(os.path.split(data['files'][i]['derived_from'][0])[0])+'.bam'\n",
    "                strand = data['files'][i]['output_type'].split(' ')[0]\n",
    "                \n",
    "                \n",
    "                \n",
    "                for bam in sample_bams:\n",
    "                    \n",
    "                    if bam['filename'] == bam_from:\n",
    "                        #print(strand, i)\n",
    "                        bam[strand] = os.path.basename(data['files'][i]['href'])\n",
    "        try:\n",
    "            control_expts.append(data['possible_controls'][0]['accession'])\n",
    "        except IndexError:\n",
    "            pass\n",
    "            # print(\"this is a control\")\n",
    "        \n",
    "        try: \n",
    "            target = data['target']['label']\n",
    "        except:\n",
    "            target = None # control experiment\n",
    "    if(len(control_expts) > 1):\n",
    "        print(\"Warning, this expt {} has more than 1 associated control expt\".format(expt_id))\n",
    "    return target, sample_bams, control_expts, cell_line\n"
   ]
  },
  {
   "cell_type": "markdown",
   "metadata": {},
   "source": [
    "# If you want to pull metadata for RNASeq Knockdown studies (Graveley lab):"
   ]
  },
  {
   "cell_type": "code",
   "execution_count": 5,
   "metadata": {},
   "outputs": [],
   "source": [
    "RBP, bams, controls = get_bams_from_expt_id(\n",
    "    expt_id='ENCSR767LLP', \n",
    "    assembly='hg19', \n",
    "    lab='brenton-graveley'\n",
    ")"
   ]
  },
  {
   "cell_type": "markdown",
   "metadata": {},
   "source": [
    "# If you want to pull metadata for eCLIP studies (Yeo lab):"
   ]
  },
  {
   "cell_type": "code",
   "execution_count": 167,
   "metadata": {},
   "outputs": [
    {
     "data": {
      "text/plain": [
       "[]"
      ]
     },
     "execution_count": 167,
     "metadata": {},
     "output_type": "execute_result"
    }
   ],
   "source": [
    "RBP, bams, controls, cell_line = get_bams_from_expt_id(\n",
    "    expt_id='ENCSR550DVK', \n",
    "    assembly='hg19', \n",
    "    lab='gene-yeo'\n",
    ")\n",
    "controls"
   ]
  },
  {
   "cell_type": "code",
   "execution_count": 3,
   "metadata": {},
   "outputs": [],
   "source": [
    "df = pd.read_csv('~/projects/allbigwig.tsv', header = None, sep = '\\t')"
   ]
  },
  {
   "cell_type": "code",
   "execution_count": 4,
   "metadata": {},
   "outputs": [],
   "source": [
    "all_experiment = df[6].unique()"
   ]
  },
  {
   "cell_type": "code",
   "execution_count": 91,
   "metadata": {},
   "outputs": [],
   "source": []
  },
  {
   "cell_type": "code",
   "execution_count": 134,
   "metadata": {},
   "outputs": [],
   "source": [
    "all_data_id = pd.DataFrame(index = all_experiment)\n",
    "control= []\n",
    "for exp_id in all_experiment:\n",
    "    try:\n",
    "        RBP, bams, controls, cell_line = get_bams_from_expt_id(\n",
    "            expt_id=exp_id, \n",
    "            assembly='GRCh38', \n",
    "            lab='gene-yeo'\n",
    "            )\n",
    "        for i in range(len(bams)):\n",
    "            \n",
    "            all_data_id.loc[exp_id, 'bam_'+str(i)] = bams[i]['filename']\n",
    "            all_data_id.loc[exp_id, 'minus_'+str(i)] = bams[i]['minus']\n",
    "            all_data_id.loc[exp_id, 'plus_'+str(i)] = bams[i]['plus']\n",
    "            \n",
    "        all_data_id.loc[exp_id, 'control experiment'] = controls[0]\n",
    "        all_data_id.loc[exp_id, 'RBP'] = RBP\n",
    "        all_data_id.loc[exp_id, 'cell_line'] = cell_line\n",
    "    except:\n",
    "        control.append(exp_id)\n",
    "all_data_id.dropna(inplace = True)"
   ]
  },
  {
   "cell_type": "code",
   "execution_count": 132,
   "metadata": {},
   "outputs": [],
   "source": []
  },
  {
   "cell_type": "markdown",
   "metadata": {},
   "source": [
    "# get control"
   ]
  },
  {
   "cell_type": "code",
   "execution_count": 169,
   "metadata": {},
   "outputs": [],
   "source": [
    "for exp_id in all_data_id.index:\n",
    "    control_id = all_data_id.loc[exp_id, 'control experiment']\n",
    "    RBP, bams, controls, cell_line = get_bams_from_expt_id(\n",
    "            expt_id=control_id, \n",
    "            assembly='GRCh38', \n",
    "            lab='gene-yeo'\n",
    "            )\n",
    "    all_data_id.loc[exp_id, 'bam_control'] = bams[0]['filename']\n",
    "    all_data_id.loc[exp_id, 'minus_control'] = bams[0]['minus']\n",
    "    all_data_id.loc[exp_id, 'plus_control'] = bams[0]['plus']"
   ]
  },
  {
   "cell_type": "code",
   "execution_count": 171,
   "metadata": {},
   "outputs": [],
   "source": [
    "all_data_id.to_pickle('~/projects/eclip_encode_id.pickle')"
   ]
  }
 ],
 "metadata": {
  "kernelspec": {
   "display_name": "py2",
   "language": "python",
   "name": "py2"
  },
  "language_info": {
   "codemirror_mode": {
    "name": "ipython",
    "version": 2
   },
   "file_extension": ".py",
   "mimetype": "text/x-python",
   "name": "python",
   "nbconvert_exporter": "python",
   "pygments_lexer": "ipython2",
   "version": "2.7.18"
  }
 },
 "nbformat": 4,
 "nbformat_minor": 2
}
