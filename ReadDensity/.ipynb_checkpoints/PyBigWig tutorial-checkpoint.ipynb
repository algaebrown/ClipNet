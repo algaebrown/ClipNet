{
 "cells": [
  {
   "cell_type": "markdown",
   "metadata": {},
   "source": [
    "[BigWigFormat documentation](http://genome.ucsc.edu/goldenPath/help/bigWig.html)"
   ]
  },
  {
   "cell_type": "code",
   "execution_count": 1,
   "metadata": {},
   "outputs": [],
   "source": [
    "import pyBigWig"
   ]
  },
  {
   "cell_type": "code",
   "execution_count": 3,
   "metadata": {},
   "outputs": [],
   "source": [
    "# open file\n",
    "bw = pyBigWig.open(\"/home/hsher/seqdata/eclip_raw/ENCFF999RGE.bigWig\")"
   ]
  },
  {
   "cell_type": "code",
   "execution_count": 5,
   "metadata": {},
   "outputs": [
    {
     "data": {
      "text/plain": [
       "True"
      ]
     },
     "execution_count": 5,
     "metadata": {},
     "output_type": "execute_result"
    }
   ],
   "source": [
    "# determine file type\n",
    "bw.isBigWig()"
   ]
  },
  {
   "cell_type": "code",
   "execution_count": 6,
   "metadata": {},
   "outputs": [
    {
     "data": {
      "text/plain": [
       "{'chr1': 248956422,\n",
       " 'chr2': 242193529,\n",
       " 'chr3': 198295559,\n",
       " 'chr4': 190214555,\n",
       " 'chr5': 181538259,\n",
       " 'chr6': 170805979,\n",
       " 'chr7': 159345973,\n",
       " 'chr8': 145138636,\n",
       " 'chr9': 138394717,\n",
       " 'chr10': 133797422,\n",
       " 'chr11': 135086622,\n",
       " 'chr12': 133275309,\n",
       " 'chr13': 114364328,\n",
       " 'chr14': 107043718,\n",
       " 'chr15': 101991189,\n",
       " 'chr16': 90338345,\n",
       " 'chr17': 83257441,\n",
       " 'chr18': 80373285,\n",
       " 'chr19': 58617616,\n",
       " 'chr20': 64444167,\n",
       " 'chr21': 46709983,\n",
       " 'chr22': 50818468,\n",
       " 'chrX': 156040895,\n",
       " 'chrY': 57227415,\n",
       " 'chrM': 16569,\n",
       " 'chr1_KI270706v1_random': 175055,\n",
       " 'chr1_KI270707v1_random': 32032,\n",
       " 'chr1_KI270709v1_random': 66860,\n",
       " 'chr1_KI270711v1_random': 42210,\n",
       " 'chr1_KI270713v1_random': 40745,\n",
       " 'chr1_KI270714v1_random': 41717,\n",
       " 'chr3_GL000221v1_random': 155397,\n",
       " 'chr4_GL000008v2_random': 209709,\n",
       " 'chr9_KI270719v1_random': 176845,\n",
       " 'chr9_KI270720v1_random': 39050,\n",
       " 'chr14_GL000009v2_random': 201709,\n",
       " 'chr14_GL000225v1_random': 211173,\n",
       " 'chr14_KI270722v1_random': 194050,\n",
       " 'chr14_GL000194v1_random': 191469,\n",
       " 'chr14_KI270723v1_random': 38115,\n",
       " 'chr14_KI270724v1_random': 39555,\n",
       " 'chr14_KI270726v1_random': 43739,\n",
       " 'chr15_KI270727v1_random': 448248,\n",
       " 'chr16_KI270728v1_random': 1872759,\n",
       " 'chr17_GL000205v2_random': 185591,\n",
       " 'chr17_KI270729v1_random': 280839,\n",
       " 'chr17_KI270730v1_random': 112551,\n",
       " 'chr22_KI270731v1_random': 150754,\n",
       " 'chr22_KI270733v1_random': 179772,\n",
       " 'chr22_KI270734v1_random': 165050,\n",
       " 'chr22_KI270735v1_random': 42811,\n",
       " 'chr22_KI270736v1_random': 181920,\n",
       " 'chr22_KI270738v1_random': 99375,\n",
       " 'chrUn_KI270442v1': 392061,\n",
       " 'chrUn_KI270466v1': 1233,\n",
       " 'chrUn_KI270467v1': 3920,\n",
       " 'chrUn_KI270435v1': 92983,\n",
       " 'chrUn_KI270438v1': 112505,\n",
       " 'chrUn_KI270519v1': 138126,\n",
       " 'chrUn_KI270583v1': 1400,\n",
       " 'chrUn_KI270589v1': 44474,\n",
       " 'chrUn_GL000195v1': 182896,\n",
       " 'chrUn_GL000219v1': 179198,\n",
       " 'chrUn_GL000224v1': 179693,\n",
       " 'chrUn_KI270743v1': 210658,\n",
       " 'chrUn_KI270744v1': 168472,\n",
       " 'chrUn_KI270745v1': 41891,\n",
       " 'chrUn_KI270746v1': 66486,\n",
       " 'chrUn_KI270750v1': 148850,\n",
       " 'chrUn_KI270751v1': 150742,\n",
       " 'chrUn_KI270753v1': 62944,\n",
       " 'chrUn_KI270754v1': 40191,\n",
       " 'chrUn_GL000214v1': 137718,\n",
       " 'chrUn_KI270742v1': 186739,\n",
       " 'chrUn_GL000216v2': 176608,\n",
       " 'chrUn_GL000218v1': 161147}"
      ]
     },
     "execution_count": 6,
     "metadata": {},
     "output_type": "execute_result"
    }
   ],
   "source": [
    "# access chromosome and length\n",
    "bw.chroms()"
   ]
  },
  {
   "cell_type": "code",
   "execution_count": 7,
   "metadata": {},
   "outputs": [
    {
     "data": {
      "text/plain": [
       "{'version': 4,\n",
       " 'nLevels': 10,\n",
       " 'nBasesCovered': 63864464,\n",
       " 'minVal': -601,\n",
       " 'maxVal': 0,\n",
       " 'sumData': -18593216,\n",
       " 'sumSquared': 113940946}"
      ]
     },
     "execution_count": 7,
     "metadata": {},
     "output_type": "execute_result"
    }
   ],
   "source": [
    "bw.header()"
   ]
  },
  {
   "cell_type": "markdown",
   "metadata": {},
   "source": [
    "# Retrieve interval statistics (pay attention to zoom level)"
   ]
  },
  {
   "cell_type": "code",
   "execution_count": 14,
   "metadata": {},
   "outputs": [
    {
     "data": {
      "text/plain": [
       "[-0.26766204978410074]"
      ]
     },
     "execution_count": 14,
     "metadata": {},
     "output_type": "execute_result"
    }
   ],
   "source": [
    "# compute statistics for a region in the genome\n",
    "bw.stats(\"chr1\", 1, 920789, exact = True) # first chromosome, base 1 to 920789"
   ]
  },
  {
   "cell_type": "code",
   "execution_count": 13,
   "metadata": {},
   "outputs": [
    {
     "name": "stdout",
     "output_type": "stream",
     "text": [
      "Help on built-in function stats:\n",
      "\n",
      "stats(...) method of pyBigWig.bigWigFile instance\n",
      "    Return summary statistics for a given range. On error, this function throws a\n",
      "    runtime exception.\n",
      "    \n",
      "    Positional arguments:\n",
      "        chr:   Chromosome name\n",
      "    \n",
      "    Keyword arguments:\n",
      "        start: Starting position\n",
      "        end:   Ending position\n",
      "        type:  Summary type (mean, min, max, coverage, std), default 'mean'.\n",
      "        nBins: Number of bins into which the range should be divided before\n",
      "               computing summary statistics. The default is 1.\n",
      "        exact: By default, pyBigWig uses the same method as Kent's tools from UCSC\n",
      "               for computing statistics. This means that 'zoom levels' may be\n",
      "               used, rather than actual values (please see the pyBigWig repository\n",
      "               on github for further information on this). To avoid this behaviour,\n",
      "               simply specify 'exact=True'. Note that values returned will then\n",
      "               differ from what UCSC, IGV, and similar other tools will report.\n",
      "    \n",
      "    >>> import pyBigWig\n",
      "    >>> bw = pyBigWig.open(\"test/test.bw\")\n",
      "    >>> bw.stats(\"1\", 0, 3)\n",
      "    [0.2000000054637591]\n",
      "    \n",
      "    This is the mean value over the range 1:1-3 (in 1-based coordinates). If\n",
      "    the start and end positions aren't given the entire chromosome is used.\n",
      "    There are additional optional parameters 'type' and 'nBins'. 'type'\n",
      "    specifies the type of summary information to calculate, which is 'mean'\n",
      "    by default. Other possibilites for 'type' are: 'min' (minimum value),\n",
      "    'max' (maximum value), 'coverage' (number of covered bases), and 'std'\n",
      "     (standard deviation). 'nBins' defines how many bins the region will be\n",
      "     divided into and defaults to 1.\n",
      "    \n",
      "    >>> bw.stats(\"1\", 0, 3, type=\"min\")\n",
      "    [0.10000000149011612]\n",
      "    >>> bw.stats(\"1\", 0, 3, type=\"max\")\n",
      "    [0.30000001192092896]\n",
      "    >>> bw.stats(\"1\", 0, 10, type=\"coverage\")\n",
      "    [0.30000000000000004]\n",
      "    >>> bw.stats(\"1\", 0, 3, type=\"std\")\n",
      "    [0.10000000521540645]\n",
      "    >>> bw.stats(\"1\",99,200, type=\"max\", nBins=2)\n",
      "    [1.399999976158142, 1.5]\n",
      "\n"
     ]
    }
   ],
   "source": [
    "help(bw.stats)"
   ]
  },
  {
   "cell_type": "code",
   "execution_count": 15,
   "metadata": {},
   "outputs": [
    {
     "data": {
      "text/plain": [
       "[0.013233230667645538]"
      ]
     },
     "execution_count": 15,
     "metadata": {},
     "output_type": "execute_result"
    }
   ],
   "source": [
    "bw.stats(\"chr1\", 1, 920789, type = 'coverage', exact = True)"
   ]
  },
  {
   "cell_type": "code",
   "execution_count": 18,
   "metadata": {},
   "outputs": [
    {
     "data": {
      "text/plain": [
       "[-0.19089622795581818, -0.19089622795581818]"
      ]
     },
     "execution_count": 18,
     "metadata": {},
     "output_type": "execute_result"
    }
   ],
   "source": [
    "bw.stats(\"chr1\",99000, 200000, type=\"max\", nBins=2) # two equally spaced bins"
   ]
  },
  {
   "cell_type": "code",
   "execution_count": 19,
   "metadata": {},
   "outputs": [
    {
     "data": {
      "text/plain": [
       "[-0.30641166140258946]"
      ]
     },
     "execution_count": 19,
     "metadata": {},
     "output_type": "execute_result"
    }
   ],
   "source": [
    "bw.stats(\"chr1\") # use entire chromosome"
   ]
  },
  {
   "cell_type": "markdown",
   "metadata": {},
   "source": [
    "# each base"
   ]
  },
  {
   "cell_type": "code",
   "execution_count": 24,
   "metadata": {},
   "outputs": [
    {
     "data": {
      "text/plain": [
       "[nan, nan, nan, nan, nan, nan, nan, nan, nan, nan, nan, nan]"
      ]
     },
     "execution_count": 24,
     "metadata": {},
     "output_type": "execute_result"
    }
   ],
   "source": [
    "bw.values(\"chr1\", 80, 92) # If a particular base has no associated value in the bigWig file then the returned value will be nan."
   ]
  },
  {
   "cell_type": "markdown",
   "metadata": {},
   "source": [
    "# Retrieve intervals within some range"
   ]
  },
  {
   "cell_type": "code",
   "execution_count": 26,
   "metadata": {},
   "outputs": [
    {
     "data": {
      "text/plain": [
       "((15201, 15245, -0.19089622795581818),\n",
       " (16085, 16116, -0.19089622795581818),\n",
       " (16116, 16128, -0.38179245591163635),\n",
       " (16128, 16160, -0.19089622795581818),\n",
       " (16211, 16273, -0.19089622795581818),\n",
       " (16273, 16293, -0.38179245591163635),\n",
       " (16293, 16297, -0.5726886987686157),\n",
       " (16297, 16317, -0.38179245591163635),\n",
       " (16317, 16337, -0.19089622795581818))"
      ]
     },
     "execution_count": 26,
     "metadata": {},
     "output_type": "execute_result"
    }
   ],
   "source": [
    "bw.intervals(\"chr1\", 15000, 17000)"
   ]
  },
  {
   "cell_type": "markdown",
   "metadata": {},
   "source": [
    "# Make BigWig work with numpy"
   ]
  },
  {
   "cell_type": "code",
   "execution_count": 27,
   "metadata": {},
   "outputs": [
    {
     "data": {
      "text/plain": [
       "1"
      ]
     },
     "execution_count": 27,
     "metadata": {},
     "output_type": "execute_result"
    }
   ],
   "source": [
    "# make sure it is installed\n",
    "pyBigWig.numpy\n",
    "# usually used to work with"
   ]
  },
  {
   "cell_type": "code",
   "execution_count": null,
   "metadata": {},
   "outputs": [],
   "source": []
  }
 ],
 "metadata": {
  "kernelspec": {
   "display_name": "Python 3",
   "language": "python",
   "name": "python3"
  },
  "language_info": {
   "codemirror_mode": {
    "name": "ipython",
    "version": 3
   },
   "file_extension": ".py",
   "mimetype": "text/x-python",
   "name": "python",
   "nbconvert_exporter": "python",
   "pygments_lexer": "ipython3",
   "version": "3.7.6"
  }
 },
 "nbformat": 4,
 "nbformat_minor": 4
}
