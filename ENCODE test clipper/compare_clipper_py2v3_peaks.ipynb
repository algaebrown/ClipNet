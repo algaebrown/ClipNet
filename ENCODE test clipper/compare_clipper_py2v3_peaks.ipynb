{
 "cells": [
  {
   "cell_type": "code",
   "execution_count": 2,
   "metadata": {},
   "outputs": [],
   "source": [
    "import pybedtools\n",
    "import os"
   ]
  },
  {
   "cell_type": "code",
   "execution_count": 3,
   "metadata": {},
   "outputs": [],
   "source": [
    "bed1_dir = '/projects/ps-yeolab5/encode/analysis/encode_master/'\n",
    "bed2_dir = '/home/hsher/seqdata/20200709_charlene_test_clipper3/'\n",
    "\n",
    "import os\n",
    "all_files = os.listdir(bed2_dir)\n",
    "\n",
    "def compare(fname):\n",
    "\n",
    "    bed1 = pybedtools.BedTool(\n",
    "        os.path.join(\n",
    "            bed1_dir, \n",
    "            fname\n",
    "        )\n",
    "    ).sort()\n",
    "    bed2 = pybedtools.BedTool(\n",
    "        os.path.join(\n",
    "            bed2_dir, \n",
    "            fname\n",
    "        )\n",
    "    ).sort()\n",
    "    num_peaks_1 = bed1.count()\n",
    "    num_peaks_2 = bed2.count()\n",
    "    #print(\"Number of peaks before merging (bed1: {}, bed2: {}\".format(num_peaks_1, num_peaks_2))\n",
    "    \n",
    "    # merge\n",
    "    bed1 = bed1.merge(s=True, c='4,5,6', o='distinct,distinct,distinct')\n",
    "    bed2 = bed2.merge(s=True, c='4,5,6', o='distinct,distinct,distinct')\n",
    "    \n",
    "    num_peaks_1 = bed1.count()\n",
    "    num_peaks_2 = bed2.count()\n",
    "    #print(\"Number of peaks after merging (bed1: {}, bed2: {}\".format(num_peaks_1, num_peaks_2))\n",
    "    \n",
    "    # intersect\n",
    "    num_intersecting = bed1.intersect(\n",
    "    bed2, f=0.90, r=True, s=True\n",
    "    ).count()\n",
    "    \n",
    "    # percentage\n",
    "    overlap_1 = num_intersecting / float(num_peaks_1)\n",
    "    overlap_2 = num_intersecting / float(num_peaks_2)\n",
    "    \n",
    "    return num_peaks_1, num_peaks_2, overlap_1, overlap_2"
   ]
  },
  {
   "cell_type": "code",
   "execution_count": 4,
   "metadata": {},
   "outputs": [],
   "source": [
    "import pandas as pd\n",
    "result = pd.DataFrame(columns = ['num_peak_1', 'num_peak_2', 'precent_overlap1', 'precent_overlap2'], index = all_files)\n",
    "for f in all_files:\n",
    "    np1, np2,perc1, perc2 = compare(f)\n",
    "    result.loc[f] = [np1, np2, perc1, perc2]"
   ]
  },
  {
   "cell_type": "code",
   "execution_count": 6,
   "metadata": {},
   "outputs": [],
   "source": [
    "result.to_csv('clipper3_250_results')"
   ]
  },
  {
   "cell_type": "code",
   "execution_count": 28,
   "metadata": {},
   "outputs": [
    {
     "data": {
      "text/plain": [
       "Text(0, 0.5, 'percent overlap')"
      ]
     },
     "execution_count": 28,
     "metadata": {},
     "output_type": "execute_result"
    },
    {
     "data": {
      "image/png": "[encoded data removed]",
      "text/plain": [
       "<Figure size 432x288 with 1 Axes>"
      ]
     },
     "metadata": {
      "needs_background": "light"
     },
     "output_type": "display_data"
    }
   ],
   "source": [
    "import matplotlib.pyplot as plt\n",
    "plt.boxplot([result['precent_overlap1'],result['precent_overlap2']])\n",
    "plt.xticks([1,2],['overlap with old peak', 'overlap with new peaks'])\n",
    "plt.ylabel('percent overlap')"
   ]
  },
  {
   "cell_type": "code",
   "execution_count": 29,
   "metadata": {},
   "outputs": [
    {
     "data": {
      "text/html": [
       "<div>\n",
       "<style scoped>\n",
       "    .dataframe tbody tr th:only-of-type {\n",
       "        vertical-align: middle;\n",
       "    }\n",
       "\n",
       "    .dataframe tbody tr th {\n",
       "        vertical-align: top;\n",
       "    }\n",
       "\n",
       "    .dataframe thead th {\n",
       "        text-align: right;\n",
       "    }\n",
       "</style>\n",
       "<table border=\"1\" class=\"dataframe\">\n",
       "  <thead>\n",
       "    <tr style=\"text-align: right;\">\n",
       "      <th></th>\n",
       "      <th>num_peak_1</th>\n",
       "      <th>num_peak_2</th>\n",
       "      <th>precent_overlap1</th>\n",
       "      <th>precent_overlap2</th>\n",
       "    </tr>\n",
       "  </thead>\n",
       "  <tbody>\n",
       "    <tr>\n",
       "      <th>410_01_DNAJC17.merged.r2.peaks.bed</th>\n",
       "      <td>155244</td>\n",
       "      <td>140018</td>\n",
       "      <td>0.898379</td>\n",
       "      <td>0.996072</td>\n",
       "    </tr>\n",
       "    <tr>\n",
       "      <th>338_02_ILF3.merged.r2.peaks.bed</th>\n",
       "      <td>240087</td>\n",
       "      <td>221729</td>\n",
       "      <td>0.919438</td>\n",
       "      <td>0.995562</td>\n",
       "    </tr>\n",
       "    <tr>\n",
       "      <th>363_01_HNRNPA2B1.merged.r2.peaks.bed</th>\n",
       "      <td>212420</td>\n",
       "      <td>193749</td>\n",
       "      <td>0.909858</td>\n",
       "      <td>0.997538</td>\n",
       "    </tr>\n",
       "    <tr>\n",
       "      <th>484_01_POLR2G.merged.r2.peaks.bed</th>\n",
       "      <td>187549</td>\n",
       "      <td>172060</td>\n",
       "      <td>0.912199</td>\n",
       "      <td>0.994316</td>\n",
       "    </tr>\n",
       "    <tr>\n",
       "      <th>397_01_KRR1.merged.r2.peaks.bed</th>\n",
       "      <td>143086</td>\n",
       "      <td>131164</td>\n",
       "      <td>0.912228</td>\n",
       "      <td>0.995143</td>\n",
       "    </tr>\n",
       "    <tr>\n",
       "      <th>642_02_DDX52.merged.r2.peaks.bed</th>\n",
       "      <td>172425</td>\n",
       "      <td>154984</td>\n",
       "      <td>0.893542</td>\n",
       "      <td>0.994096</td>\n",
       "    </tr>\n",
       "    <tr>\n",
       "      <th>500_01_RAVER1.merged.r2.peaks.bed</th>\n",
       "      <td>208830</td>\n",
       "      <td>187745</td>\n",
       "      <td>0.89444</td>\n",
       "      <td>0.994892</td>\n",
       "    </tr>\n",
       "    <tr>\n",
       "      <th>641_01_ZC3H11A.merged.r2.peaks.bed</th>\n",
       "      <td>277088</td>\n",
       "      <td>254963</td>\n",
       "      <td>0.912356</td>\n",
       "      <td>0.991528</td>\n",
       "    </tr>\n",
       "    <tr>\n",
       "      <th>311_01_XRCC6.merged.r2.peaks.bed</th>\n",
       "      <td>125650</td>\n",
       "      <td>114726</td>\n",
       "      <td>0.907871</td>\n",
       "      <td>0.994317</td>\n",
       "    </tr>\n",
       "    <tr>\n",
       "      <th>568_02_SAM68.merged.r2.peaks.bed</th>\n",
       "      <td>275423</td>\n",
       "      <td>247357</td>\n",
       "      <td>0.893901</td>\n",
       "      <td>0.995327</td>\n",
       "    </tr>\n",
       "    <tr>\n",
       "      <th>481_02_DROSHA.merged.r2.peaks.bed</th>\n",
       "      <td>196200</td>\n",
       "      <td>181610</td>\n",
       "      <td>0.917345</td>\n",
       "      <td>0.991041</td>\n",
       "    </tr>\n",
       "    <tr>\n",
       "      <th>396_02_ADAR1.merged.r2.peaks.bed</th>\n",
       "      <td>183407</td>\n",
       "      <td>153319</td>\n",
       "      <td>0.830743</td>\n",
       "      <td>0.993771</td>\n",
       "    </tr>\n",
       "    <tr>\n",
       "      <th>503_01_TROVE2.merged.r2.peaks.bed</th>\n",
       "      <td>176202</td>\n",
       "      <td>152226</td>\n",
       "      <td>0.859882</td>\n",
       "      <td>0.995316</td>\n",
       "    </tr>\n",
       "    <tr>\n",
       "      <th>403_02_HNRNPR.merged.r2.peaks.bed</th>\n",
       "      <td>150280</td>\n",
       "      <td>129158</td>\n",
       "      <td>0.855403</td>\n",
       "      <td>0.995293</td>\n",
       "    </tr>\n",
       "  </tbody>\n",
       "</table>\n",
       "</div>"
      ],
      "text/plain": [
       "                                     num_peak_1 num_peak_2 precent_overlap1  \\\n",
       "410_01_DNAJC17.merged.r2.peaks.bed       155244     140018         0.898379   \n",
       "338_02_ILF3.merged.r2.peaks.bed          240087     221729         0.919438   \n",
       "363_01_HNRNPA2B1.merged.r2.peaks.bed     212420     193749         0.909858   \n",
       "484_01_POLR2G.merged.r2.peaks.bed        187549     172060         0.912199   \n",
       "397_01_KRR1.merged.r2.peaks.bed          143086     131164         0.912228   \n",
       "642_02_DDX52.merged.r2.peaks.bed         172425     154984         0.893542   \n",
       "500_01_RAVER1.merged.r2.peaks.bed        208830     187745          0.89444   \n",
       "641_01_ZC3H11A.merged.r2.peaks.bed       277088     254963         0.912356   \n",
       "311_01_XRCC6.merged.r2.peaks.bed         125650     114726         0.907871   \n",
       "568_02_SAM68.merged.r2.peaks.bed         275423     247357         0.893901   \n",
       "481_02_DROSHA.merged.r2.peaks.bed        196200     181610         0.917345   \n",
       "396_02_ADAR1.merged.r2.peaks.bed         183407     153319         0.830743   \n",
       "503_01_TROVE2.merged.r2.peaks.bed        176202     152226         0.859882   \n",
       "403_02_HNRNPR.merged.r2.peaks.bed        150280     129158         0.855403   \n",
       "\n",
       "                                     precent_overlap2  \n",
       "410_01_DNAJC17.merged.r2.peaks.bed           0.996072  \n",
       "338_02_ILF3.merged.r2.peaks.bed              0.995562  \n",
       "363_01_HNRNPA2B1.merged.r2.peaks.bed         0.997538  \n",
       "484_01_POLR2G.merged.r2.peaks.bed            0.994316  \n",
       "397_01_KRR1.merged.r2.peaks.bed              0.995143  \n",
       "642_02_DDX52.merged.r2.peaks.bed             0.994096  \n",
       "500_01_RAVER1.merged.r2.peaks.bed            0.994892  \n",
       "641_01_ZC3H11A.merged.r2.peaks.bed           0.991528  \n",
       "311_01_XRCC6.merged.r2.peaks.bed             0.994317  \n",
       "568_02_SAM68.merged.r2.peaks.bed             0.995327  \n",
       "481_02_DROSHA.merged.r2.peaks.bed            0.991041  \n",
       "396_02_ADAR1.merged.r2.peaks.bed             0.993771  \n",
       "503_01_TROVE2.merged.r2.peaks.bed            0.995316  \n",
       "403_02_HNRNPR.merged.r2.peaks.bed            0.995293  "
      ]
     },
     "execution_count": 29,
     "metadata": {},
     "output_type": "execute_result"
    }
   ],
   "source": [
    "result.loc[result['precent_overlap1']<0.92]"
   ]
  },
  {
   "cell_type": "code",
   "execution_count": null,
   "metadata": {},
   "outputs": [],
   "source": []
  }
 ],
 "metadata": {
  "kernelspec": {
   "display_name": "Python 3",
   "language": "python",
   "name": "python3"
  },
  "language_info": {
   "codemirror_mode": {
    "name": "ipython",
    "version": 3
   },
   "file_extension": ".py",
   "mimetype": "text/x-python",
   "name": "python",
   "nbconvert_exporter": "python",
   "pygments_lexer": "ipython3",
   "version": "3.7.6"
  }
 },
 "nbformat": 4,
 "nbformat_minor": 2
}
