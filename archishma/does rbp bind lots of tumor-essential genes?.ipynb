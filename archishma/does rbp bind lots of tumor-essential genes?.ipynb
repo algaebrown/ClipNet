{
 "cells": [
  {
   "cell_type": "code",
   "execution_count": 1,
   "metadata": {},
   "outputs": [
    {
     "name": "stdout",
     "output_type": "stream",
     "text": [
      "U2AF1L5&U2AF1\n",
      "GPR89B&GPR89A\n"
     ]
    }
   ],
   "source": [
    "# find HepG2 essential genes\n",
    "import pandas as pd\n",
    "from pybedtools import BedTool\n",
    "dep_score = pd.read_csv('D2_DRIVE_gene_dep_scores.csv')\n",
    "# first we need to split the names out!\n",
    "dep_score['Symbol'] = dep_score['Unnamed: 0'].str.split(' ', expand = True)[0]\n",
    "dep_score.drop('Unnamed: 0', inplace = True, axis = 1)\n",
    "dep_score.set_index('Symbol', inplace = True)\n",
    "\n",
    "hepg2 = dep_score[['HEPG2_LIVER']]\n",
    "# hepg2 targets\n",
    "targets = hepg2.loc[hepg2['HEPG2_LIVER']<-1].index\n",
    "\n",
    "# there's that & that compose of two genes\n",
    "essential_gene = []\n",
    "for t in targets:\n",
    "    if '&' in t:\n",
    "        essential_gene.extend(t.split('&'))\n",
    "        print(t)\n",
    "    else:\n",
    "        essential_gene.append(t)\n"
   ]
  },
  {
   "cell_type": "code",
   "execution_count": 2,
   "metadata": {},
   "outputs": [
    {
     "data": {
      "text/plain": [
       "['DCAF13P3',\n",
       " 'SMC4',\n",
       " 'ATP6V1G2-DDX39B',\n",
       " 'ALYREF',\n",
       " 'SF3B4',\n",
       " 'U2AF1L5',\n",
       " 'U2AF1',\n",
       " 'SF3A1',\n",
       " 'RACK1',\n",
       " 'PPIE',\n",
       " 'TACC3',\n",
       " 'NXF1',\n",
       " 'CCT7',\n",
       " 'CCT2',\n",
       " 'SMC2',\n",
       " 'TBL3',\n",
       " 'USP39',\n",
       " 'RUVBL2',\n",
       " 'WDR3',\n",
       " 'AFG3L2',\n",
       " 'SF3B2',\n",
       " 'RPL35',\n",
       " 'U2AF2',\n",
       " 'AP2M1',\n",
       " 'CLNS1A',\n",
       " 'CLTC',\n",
       " 'NEDD1',\n",
       " 'COPA',\n",
       " 'CTNNB1',\n",
       " 'CYP21A1P',\n",
       " 'DDB1',\n",
       " 'DHX8',\n",
       " 'DHX15',\n",
       " 'DYNC1I2',\n",
       " 'DUSP9',\n",
       " 'EEF2',\n",
       " 'COPZ1',\n",
       " 'PUF60',\n",
       " 'SNRNP200',\n",
       " 'BOP1',\n",
       " 'SF3B1',\n",
       " 'NR5A1',\n",
       " 'XRCC6',\n",
       " 'GAK',\n",
       " 'GEMIN5',\n",
       " 'PRPF31',\n",
       " 'HTATSF1',\n",
       " 'PRPF19',\n",
       " 'NOP53',\n",
       " 'HNRNPC',\n",
       " 'HNRNPU',\n",
       " 'HSPE1',\n",
       " 'IK',\n",
       " 'KIF11',\n",
       " 'SBK1',\n",
       " 'MCM6',\n",
       " 'CRSP8P',\n",
       " 'NACA',\n",
       " 'NRAS',\n",
       " 'ACO2',\n",
       " 'PABPC3',\n",
       " 'DDX47',\n",
       " 'CDC40',\n",
       " 'DDX41',\n",
       " 'GPR89B',\n",
       " 'GPR89A',\n",
       " 'SF3B6',\n",
       " 'ATP6V0C',\n",
       " 'POLA1',\n",
       " 'POLR2A',\n",
       " 'POLR2B',\n",
       " 'POLR2J',\n",
       " 'INO80',\n",
       " 'SMU1',\n",
       " 'PPP6C',\n",
       " 'RBM22',\n",
       " 'PSMA3',\n",
       " 'PSMA4',\n",
       " 'PSMC1',\n",
       " 'PSMC2',\n",
       " 'PSMC3',\n",
       " 'PSMC5',\n",
       " 'PSMD2',\n",
       " 'NAT14',\n",
       " 'RBM25',\n",
       " 'RAN',\n",
       " 'ABCE1',\n",
       " 'RPA1',\n",
       " 'RPA2',\n",
       " 'RPL7',\n",
       " 'RPS16',\n",
       " 'RPS18',\n",
       " 'RPS21',\n",
       " 'RPS27A',\n",
       " 'RRM1',\n",
       " 'S100A1',\n",
       " 'SNRNP70',\n",
       " 'SNRPB',\n",
       " 'SNRPF',\n",
       " 'SSRP1',\n",
       " 'SUPT5H',\n",
       " 'SUPT6H',\n",
       " 'TAF1',\n",
       " 'TCF15',\n",
       " 'TFRC',\n",
       " 'CCT3',\n",
       " 'CDK11A',\n",
       " 'UBA52',\n",
       " 'UBA1',\n",
       " 'VARS',\n",
       " 'VCP',\n",
       " 'XRCC5',\n",
       " 'CDC73',\n",
       " 'SEM1',\n",
       " 'USP5',\n",
       " 'FIP1L1',\n",
       " 'MED25',\n",
       " 'SYMPK',\n",
       " 'TRRAP',\n",
       " 'HIST1H2BO',\n",
       " 'WDR75',\n",
       " 'UTP15',\n",
       " 'PHF5A',\n",
       " 'UTP4',\n",
       " 'ACTL6A',\n",
       " 'RUVBL1',\n",
       " 'EIF3A',\n",
       " 'EIF3B',\n",
       " 'EIF3G',\n",
       " 'EIF3H',\n",
       " 'EIF3I',\n",
       " 'CCNK',\n",
       " 'BUD31',\n",
       " 'RPL14',\n",
       " 'PRPF4',\n",
       " 'PRPF3',\n",
       " 'COPB2',\n",
       " 'ZRANB2',\n",
       " 'CKAP5',\n",
       " 'CDK11B',\n",
       " 'RBX1']"
      ]
     },
     "execution_count": 2,
     "metadata": {},
     "output_type": "execute_result"
    }
   ],
   "source": [
    "essential_gene # those are symbols\n",
    "# we don't need to filter for ENCODE because, because these are the transcripts bound! ENCODE entries are RBPs, and we are asking, is a RBP binding the \"RNA\" of essential genes"
   ]
  },
  {
   "cell_type": "markdown",
   "metadata": {},
   "source": [
    "# Find the coordinate for essential genes"
   ]
  },
  {
   "cell_type": "code",
   "execution_count": 3,
   "metadata": {},
   "outputs": [],
   "source": [
    "# load transcripts\n",
    "# I will use my annotations here, the full and unparsed version!\n",
    "transcript_coords = BedTool('/home/hsher/gencode_coords/gencode.v33.transcript.gff3')"
   ]
  },
  {
   "cell_type": "code",
   "execution_count": 4,
   "metadata": {},
   "outputs": [
    {
     "data": {
      "text/plain": [
       "60134"
      ]
     },
     "execution_count": 4,
     "metadata": {},
     "output_type": "execute_result"
    }
   ],
   "source": [
    "len(transcript_coords)"
   ]
  },
  {
   "cell_type": "code",
   "execution_count": 5,
   "metadata": {},
   "outputs": [
    {
     "name": "stdout",
     "output_type": "stream",
     "text": [
      "chr1\tHAVANA\ttranscript\t11869\t14409\t.\t+\t.\tID=ENST00000456328.2;Parent=ENSG00000223972.5;gene_id=ENSG00000223972.5;transcript_id=ENST00000456328.2;gene_type=transcribed_unprocessed_pseudogene;gene_name=DDX11L1;transcript_type=processed_transcript;transcript_name=DDX11L1-202;level=2;transcript_support_level=1;hgnc_id=HGNC:37102;tag=basic;havana_gene=OTTHUMG00000000961.2;havana_transcript=OTTHUMT00000362751.1\n",
      "\n"
     ]
    }
   ],
   "source": [
    "print(transcript_coords[0]) # where does the \"gene symbol appear?\""
   ]
  },
  {
   "cell_type": "code",
   "execution_count": 6,
   "metadata": {},
   "outputs": [
    {
     "data": {
      "text/plain": [
       "'DDX11L1-202'"
      ]
     },
     "execution_count": 6,
     "metadata": {},
     "output_type": "execute_result"
    }
   ],
   "source": [
    "transcript_coords[0].attrs['transcript_name']"
   ]
  },
  {
   "cell_type": "markdown",
   "metadata": {},
   "source": [
    "bedtool has this filter function that is really easy to use\n",
    "https://daler.github.io/pybedtools/filtering.html\n",
    "\n",
    "also check out lambda function in python"
   ]
  },
  {
   "cell_type": "code",
   "execution_count": 7,
   "metadata": {},
   "outputs": [],
   "source": [
    "# so we will be filtering based on 'transcript_name'\n",
    "essential_gene_coords = transcript_coords.filter(lambda t: t.attrs['transcript_name'] in essential_gene).saveas()"
   ]
  },
  {
   "cell_type": "code",
   "execution_count": 8,
   "metadata": {},
   "outputs": [
    {
     "data": {
      "text/plain": [
       "0"
      ]
     },
     "execution_count": 8,
     "metadata": {},
     "output_type": "execute_result"
    }
   ],
   "source": [
    "len(essential_gene_coords) # no hit, what's going on?"
   ]
  },
  {
   "cell_type": "code",
   "execution_count": 9,
   "metadata": {},
   "outputs": [
    {
     "data": {
      "text/plain": [
       "['ALYREF-202']"
      ]
     },
     "execution_count": 9,
     "metadata": {},
     "output_type": "execute_result"
    }
   ],
   "source": [
    "[t.attrs['transcript_name'] for t in transcript_coords if 'ALYREF' in t.attrs['transcript_name'] ]"
   ]
  },
  {
   "cell_type": "code",
   "execution_count": 10,
   "metadata": {},
   "outputs": [
    {
     "data": {
      "text/plain": [
       "[]"
      ]
     },
     "execution_count": 10,
     "metadata": {},
     "output_type": "execute_result"
    }
   ],
   "source": [
    "[t.attrs['transcript_name'] for t in transcript_coords if 'RPRF4' in t.attrs['transcript_name'] ]"
   ]
  },
  {
   "cell_type": "code",
   "execution_count": 11,
   "metadata": {},
   "outputs": [
    {
     "data": {
      "text/plain": [
       "['SF3A1-201']"
      ]
     },
     "execution_count": 11,
     "metadata": {},
     "output_type": "execute_result"
    }
   ],
   "source": [
    "[t.attrs['transcript_name'] for t in transcript_coords if 'SF3A1' in t.attrs['transcript_name'] ]\n",
    "# seems that they are named differently..... what can we do?"
   ]
  },
  {
   "cell_type": "code",
   "execution_count": 12,
   "metadata": {},
   "outputs": [
    {
     "name": "stdout",
     "output_type": "stream",
     "text": [
      "querying 1-141...done.\n",
      "Finished.\n",
      "6 input query terms found dup hits:\n",
      "\t[('DCAF13P3', 2), ('ATP6V1G2-DDX39B', 2), ('CYP21A1P', 5), ('BOP1', 2), ('UTP4', 2), ('RUVBL1', 2)]\n",
      "2 input query terms found no hit:\n",
      "\t['VARS', 'HIST1H2BO']\n",
      "Pass \"returnall=True\" to return complete lists of duplicate or missing query terms.\n"
     ]
    },
    {
     "name": "stderr",
     "output_type": "stream",
     "text": [
      "/home/hsher/miniconda3/lib/python3.7/site-packages/biothings_client/base.py:143: FutureWarning: pandas.io.json.json_normalize is deprecated, use pandas.json_normalize instead\n",
      "  df = json_normalize(obj)\n"
     ]
    }
   ],
   "source": [
    "# convert gene symbol to ensembl transcript IDs.\n",
    "# look at the gene symbol conversion notebooks\n",
    "import mygene\n",
    "mg = mygene.MyGeneInfo()\n",
    "converted = mg.querymany(essential_gene, scopes='symbol',\n",
    "    fields='ensembl.gene,entrezgene', as_dataframe=True, species = 9606)"
   ]
  },
  {
   "cell_type": "code",
   "execution_count": 13,
   "metadata": {},
   "outputs": [
    {
     "data": {
      "text/html": [
       "<div>\n",
       "<style scoped>\n",
       "    .dataframe tbody tr th:only-of-type {\n",
       "        vertical-align: middle;\n",
       "    }\n",
       "\n",
       "    .dataframe tbody tr th {\n",
       "        vertical-align: top;\n",
       "    }\n",
       "\n",
       "    .dataframe thead th {\n",
       "        text-align: right;\n",
       "    }\n",
       "</style>\n",
       "<table border=\"1\" class=\"dataframe\">\n",
       "  <thead>\n",
       "    <tr style=\"text-align: right;\">\n",
       "      <th></th>\n",
       "      <th>_id</th>\n",
       "      <th>_score</th>\n",
       "      <th>ensembl.gene</th>\n",
       "      <th>entrezgene</th>\n",
       "      <th>ensembl</th>\n",
       "      <th>notfound</th>\n",
       "    </tr>\n",
       "    <tr>\n",
       "      <th>query</th>\n",
       "      <th></th>\n",
       "      <th></th>\n",
       "      <th></th>\n",
       "      <th></th>\n",
       "      <th></th>\n",
       "      <th></th>\n",
       "    </tr>\n",
       "  </thead>\n",
       "  <tbody>\n",
       "    <tr>\n",
       "      <th>DCAF13P3</th>\n",
       "      <td>ENSG00000259378</td>\n",
       "      <td>38.685670</td>\n",
       "      <td>ENSG00000259378</td>\n",
       "      <td>NaN</td>\n",
       "      <td>NaN</td>\n",
       "      <td>NaN</td>\n",
       "    </tr>\n",
       "    <tr>\n",
       "      <th>DCAF13P3</th>\n",
       "      <td>100132724</td>\n",
       "      <td>38.685670</td>\n",
       "      <td>NaN</td>\n",
       "      <td>100132724</td>\n",
       "      <td>NaN</td>\n",
       "      <td>NaN</td>\n",
       "    </tr>\n",
       "    <tr>\n",
       "      <th>SMC4</th>\n",
       "      <td>10051</td>\n",
       "      <td>86.751880</td>\n",
       "      <td>ENSG00000113810</td>\n",
       "      <td>10051</td>\n",
       "      <td>NaN</td>\n",
       "      <td>NaN</td>\n",
       "    </tr>\n",
       "    <tr>\n",
       "      <th>ATP6V1G2-DDX39B</th>\n",
       "      <td>100532737</td>\n",
       "      <td>113.925354</td>\n",
       "      <td>NaN</td>\n",
       "      <td>100532737</td>\n",
       "      <td>NaN</td>\n",
       "      <td>NaN</td>\n",
       "    </tr>\n",
       "    <tr>\n",
       "      <th>ATP6V1G2-DDX39B</th>\n",
       "      <td>ENSG00000254870</td>\n",
       "      <td>112.542305</td>\n",
       "      <td>ENSG00000254870</td>\n",
       "      <td>NaN</td>\n",
       "      <td>NaN</td>\n",
       "      <td>NaN</td>\n",
       "    </tr>\n",
       "  </tbody>\n",
       "</table>\n",
       "</div>"
      ],
      "text/plain": [
       "                             _id      _score     ensembl.gene entrezgene  \\\n",
       "query                                                                      \n",
       "DCAF13P3         ENSG00000259378   38.685670  ENSG00000259378        NaN   \n",
       "DCAF13P3               100132724   38.685670              NaN  100132724   \n",
       "SMC4                       10051   86.751880  ENSG00000113810      10051   \n",
       "ATP6V1G2-DDX39B        100532737  113.925354              NaN  100532737   \n",
       "ATP6V1G2-DDX39B  ENSG00000254870  112.542305  ENSG00000254870        NaN   \n",
       "\n",
       "                ensembl notfound  \n",
       "query                             \n",
       "DCAF13P3            NaN      NaN  \n",
       "DCAF13P3            NaN      NaN  \n",
       "SMC4                NaN      NaN  \n",
       "ATP6V1G2-DDX39B     NaN      NaN  \n",
       "ATP6V1G2-DDX39B     NaN      NaN  "
      ]
     },
     "execution_count": 13,
     "metadata": {},
     "output_type": "execute_result"
    }
   ],
   "source": [
    "converted.head() # let's use essential_gene as the \"Parent\" in attrs"
   ]
  },
  {
   "cell_type": "code",
   "execution_count": 14,
   "metadata": {},
   "outputs": [],
   "source": [
    "essential_gene_ids = converted['ensembl.gene'].dropna().tolist()\n",
    "essential_gene_coords = transcript_coords.filter(lambda x: x.attrs['Parent'].split('.')[0] in essential_gene_ids).saveas()"
   ]
  },
  {
   "cell_type": "code",
   "execution_count": 15,
   "metadata": {},
   "outputs": [
    {
     "data": {
      "text/plain": [
       "137"
      ]
     },
     "execution_count": 15,
     "metadata": {},
     "output_type": "execute_result"
    }
   ],
   "source": [
    "len(essential_gene_ids)"
   ]
  },
  {
   "cell_type": "code",
   "execution_count": 16,
   "metadata": {},
   "outputs": [
    {
     "data": {
      "text/plain": [
       "128"
      ]
     },
     "execution_count": 16,
     "metadata": {},
     "output_type": "execute_result"
    }
   ],
   "source": [
    "len(essential_gene_coords) # now we have where the essential gene RNA lies."
   ]
  },
  {
   "cell_type": "markdown",
   "metadata": {},
   "source": [
    "# Then we can look at some IDR genes of essential RBP\n",
    "- first see what we have with encode data"
   ]
  },
  {
   "cell_type": "code",
   "execution_count": 17,
   "metadata": {},
   "outputs": [],
   "source": [
    "# with encode data\n",
    "encode4 = pd.read_csv('/home/hsher/projects/ClipNet/archishma/ENCODE4_1214.csv')\n",
    "encode3 = pd.read_csv('/home/hsher/projects/RBP_annot/ENCODE_FINAL_ANNOTATIONS.uidsonly.txt.manifesthg38.txt', sep = '\\t', header= 0)"
   ]
  },
  {
   "cell_type": "code",
   "execution_count": 18,
   "metadata": {},
   "outputs": [
    {
     "data": {
      "text/html": [
       "<div>\n",
       "<style scoped>\n",
       "    .dataframe tbody tr th:only-of-type {\n",
       "        vertical-align: middle;\n",
       "    }\n",
       "\n",
       "    .dataframe tbody tr th {\n",
       "        vertical-align: top;\n",
       "    }\n",
       "\n",
       "    .dataframe thead th {\n",
       "        text-align: right;\n",
       "    }\n",
       "</style>\n",
       "<table border=\"1\" class=\"dataframe\">\n",
       "  <thead>\n",
       "    <tr style=\"text-align: right;\">\n",
       "      <th></th>\n",
       "      <th>Unnamed: 0</th>\n",
       "      <th>uid</th>\n",
       "      <th>Batch</th>\n",
       "      <th>RBP</th>\n",
       "      <th>prefix</th>\n",
       "      <th>bam_0</th>\n",
       "      <th>bam_1</th>\n",
       "      <th>bam_control</th>\n",
       "      <th>plus_0</th>\n",
       "      <th>plus_1</th>\n",
       "      <th>plus_control</th>\n",
       "      <th>minus_0</th>\n",
       "      <th>minus_1</th>\n",
       "      <th>minus_control</th>\n",
       "      <th>bed_0</th>\n",
       "      <th>bed_1</th>\n",
       "      <th>idr</th>\n",
       "      <th>Cell Line</th>\n",
       "    </tr>\n",
       "  </thead>\n",
       "  <tbody>\n",
       "    <tr>\n",
       "      <th>17</th>\n",
       "      <td>17</td>\n",
       "      <td>4037</td>\n",
       "      <td>batch11a</td>\n",
       "      <td>EEF2</td>\n",
       "      <td>encode4_batch11a.4037</td>\n",
       "      <td>/projects/ps-yeolab5/encore/processing/encore_...</td>\n",
       "      <td>/projects/ps-yeolab5/encore/processing/encore_...</td>\n",
       "      <td>/projects/ps-yeolab5/encore/processing/encore_...</td>\n",
       "      <td>/projects/ps-yeolab5/encore/processing/encore_...</td>\n",
       "      <td>/projects/ps-yeolab5/encore/processing/encore_...</td>\n",
       "      <td>/projects/ps-yeolab5/encore/processing/encore_...</td>\n",
       "      <td>/projects/ps-yeolab5/encore/processing/encore_...</td>\n",
       "      <td>/projects/ps-yeolab5/encore/processing/encore_...</td>\n",
       "      <td>/projects/ps-yeolab5/encore/processing/encore_...</td>\n",
       "      <td>/projects/ps-yeolab5/encore/processing/encore_...</td>\n",
       "      <td>/projects/ps-yeolab5/encore/processing/encore_...</td>\n",
       "      <td>/projects/ps-yeolab5/encore/processing/encore_...</td>\n",
       "      <td>K562</td>\n",
       "    </tr>\n",
       "    <tr>\n",
       "      <th>22</th>\n",
       "      <td>22</td>\n",
       "      <td>4050</td>\n",
       "      <td>batch11b</td>\n",
       "      <td>DDX47</td>\n",
       "      <td>encode4_batch11b.4050</td>\n",
       "      <td>/projects/ps-yeolab5/encore/processing/encore_...</td>\n",
       "      <td>/projects/ps-yeolab5/encore/processing/encore_...</td>\n",
       "      <td>/projects/ps-yeolab5/encore/processing/encore_...</td>\n",
       "      <td>/projects/ps-yeolab5/encore/processing/encore_...</td>\n",
       "      <td>/projects/ps-yeolab5/encore/processing/encore_...</td>\n",
       "      <td>/projects/ps-yeolab5/encore/processing/encore_...</td>\n",
       "      <td>/projects/ps-yeolab5/encore/processing/encore_...</td>\n",
       "      <td>/projects/ps-yeolab5/encore/processing/encore_...</td>\n",
       "      <td>/projects/ps-yeolab5/encore/processing/encore_...</td>\n",
       "      <td>/projects/ps-yeolab5/encore/processing/encore_...</td>\n",
       "      <td>/projects/ps-yeolab5/encore/processing/encore_...</td>\n",
       "      <td>/projects/ps-yeolab5/encore/processing/encore_...</td>\n",
       "      <td>K562</td>\n",
       "    </tr>\n",
       "    <tr>\n",
       "      <th>29</th>\n",
       "      <td>29</td>\n",
       "      <td>4048</td>\n",
       "      <td>batch12</td>\n",
       "      <td>SF3A1</td>\n",
       "      <td>encode4_batch12.4048</td>\n",
       "      <td>/projects/ps-yeolab5/encore/processing/encore_...</td>\n",
       "      <td>/projects/ps-yeolab5/encore/processing/encore_...</td>\n",
       "      <td>/projects/ps-yeolab5/encore/processing/encore_...</td>\n",
       "      <td>/projects/ps-yeolab5/encore/processing/encore_...</td>\n",
       "      <td>/projects/ps-yeolab5/encore/processing/encore_...</td>\n",
       "      <td>/projects/ps-yeolab5/encore/processing/encore_...</td>\n",
       "      <td>/projects/ps-yeolab5/encore/processing/encore_...</td>\n",
       "      <td>/projects/ps-yeolab5/encore/processing/encore_...</td>\n",
       "      <td>/projects/ps-yeolab5/encore/processing/encore_...</td>\n",
       "      <td>/projects/ps-yeolab5/encore/processing/encore_...</td>\n",
       "      <td>/projects/ps-yeolab5/encore/processing/encore_...</td>\n",
       "      <td>/projects/ps-yeolab5/encore/processing/encore_...</td>\n",
       "      <td>K562</td>\n",
       "    </tr>\n",
       "    <tr>\n",
       "      <th>43</th>\n",
       "      <td>43</td>\n",
       "      <td>4107</td>\n",
       "      <td>batch17</td>\n",
       "      <td>EEF2</td>\n",
       "      <td>encode4_batch17.4107</td>\n",
       "      <td>/projects/ps-yeolab5/encore/processing/encore_...</td>\n",
       "      <td>/projects/ps-yeolab5/encore/processing/encore_...</td>\n",
       "      <td>/projects/ps-yeolab5/encore/processing/encore_...</td>\n",
       "      <td>/projects/ps-yeolab5/encore/processing/encore_...</td>\n",
       "      <td>/projects/ps-yeolab5/encore/processing/encore_...</td>\n",
       "      <td>/projects/ps-yeolab5/encore/processing/encore_...</td>\n",
       "      <td>/projects/ps-yeolab5/encore/processing/encore_...</td>\n",
       "      <td>/projects/ps-yeolab5/encore/processing/encore_...</td>\n",
       "      <td>/projects/ps-yeolab5/encore/processing/encore_...</td>\n",
       "      <td>/projects/ps-yeolab5/encore/processing/encore_...</td>\n",
       "      <td>/projects/ps-yeolab5/encore/processing/encore_...</td>\n",
       "      <td>/projects/ps-yeolab5/encore/processing/encore_...</td>\n",
       "      <td>HepG2</td>\n",
       "    </tr>\n",
       "    <tr>\n",
       "      <th>48</th>\n",
       "      <td>48</td>\n",
       "      <td>4117</td>\n",
       "      <td>batch17</td>\n",
       "      <td>SF3A1</td>\n",
       "      <td>encode4_batch17.4117</td>\n",
       "      <td>/projects/ps-yeolab5/encore/processing/encore_...</td>\n",
       "      <td>/projects/ps-yeolab5/encore/processing/encore_...</td>\n",
       "      <td>/projects/ps-yeolab5/encore/processing/encore_...</td>\n",
       "      <td>/projects/ps-yeolab5/encore/processing/encore_...</td>\n",
       "      <td>/projects/ps-yeolab5/encore/processing/encore_...</td>\n",
       "      <td>/projects/ps-yeolab5/encore/processing/encore_...</td>\n",
       "      <td>/projects/ps-yeolab5/encore/processing/encore_...</td>\n",
       "      <td>/projects/ps-yeolab5/encore/processing/encore_...</td>\n",
       "      <td>/projects/ps-yeolab5/encore/processing/encore_...</td>\n",
       "      <td>/projects/ps-yeolab5/encore/processing/encore_...</td>\n",
       "      <td>/projects/ps-yeolab5/encore/processing/encore_...</td>\n",
       "      <td>/projects/ps-yeolab5/encore/processing/encore_...</td>\n",
       "      <td>HepG2</td>\n",
       "    </tr>\n",
       "  </tbody>\n",
       "</table>\n",
       "</div>"
      ],
      "text/plain": [
       "    Unnamed: 0   uid     Batch    RBP                 prefix  \\\n",
       "17          17  4037  batch11a   EEF2  encode4_batch11a.4037   \n",
       "22          22  4050  batch11b  DDX47  encode4_batch11b.4050   \n",
       "29          29  4048   batch12  SF3A1   encode4_batch12.4048   \n",
       "43          43  4107   batch17   EEF2   encode4_batch17.4107   \n",
       "48          48  4117   batch17  SF3A1   encode4_batch17.4117   \n",
       "\n",
       "                                                bam_0  \\\n",
       "17  /projects/ps-yeolab5/encore/processing/encore_...   \n",
       "22  /projects/ps-yeolab5/encore/processing/encore_...   \n",
       "29  /projects/ps-yeolab5/encore/processing/encore_...   \n",
       "43  /projects/ps-yeolab5/encore/processing/encore_...   \n",
       "48  /projects/ps-yeolab5/encore/processing/encore_...   \n",
       "\n",
       "                                                bam_1  \\\n",
       "17  /projects/ps-yeolab5/encore/processing/encore_...   \n",
       "22  /projects/ps-yeolab5/encore/processing/encore_...   \n",
       "29  /projects/ps-yeolab5/encore/processing/encore_...   \n",
       "43  /projects/ps-yeolab5/encore/processing/encore_...   \n",
       "48  /projects/ps-yeolab5/encore/processing/encore_...   \n",
       "\n",
       "                                          bam_control  \\\n",
       "17  /projects/ps-yeolab5/encore/processing/encore_...   \n",
       "22  /projects/ps-yeolab5/encore/processing/encore_...   \n",
       "29  /projects/ps-yeolab5/encore/processing/encore_...   \n",
       "43  /projects/ps-yeolab5/encore/processing/encore_...   \n",
       "48  /projects/ps-yeolab5/encore/processing/encore_...   \n",
       "\n",
       "                                               plus_0  \\\n",
       "17  /projects/ps-yeolab5/encore/processing/encore_...   \n",
       "22  /projects/ps-yeolab5/encore/processing/encore_...   \n",
       "29  /projects/ps-yeolab5/encore/processing/encore_...   \n",
       "43  /projects/ps-yeolab5/encore/processing/encore_...   \n",
       "48  /projects/ps-yeolab5/encore/processing/encore_...   \n",
       "\n",
       "                                               plus_1  \\\n",
       "17  /projects/ps-yeolab5/encore/processing/encore_...   \n",
       "22  /projects/ps-yeolab5/encore/processing/encore_...   \n",
       "29  /projects/ps-yeolab5/encore/processing/encore_...   \n",
       "43  /projects/ps-yeolab5/encore/processing/encore_...   \n",
       "48  /projects/ps-yeolab5/encore/processing/encore_...   \n",
       "\n",
       "                                         plus_control  \\\n",
       "17  /projects/ps-yeolab5/encore/processing/encore_...   \n",
       "22  /projects/ps-yeolab5/encore/processing/encore_...   \n",
       "29  /projects/ps-yeolab5/encore/processing/encore_...   \n",
       "43  /projects/ps-yeolab5/encore/processing/encore_...   \n",
       "48  /projects/ps-yeolab5/encore/processing/encore_...   \n",
       "\n",
       "                                              minus_0  \\\n",
       "17  /projects/ps-yeolab5/encore/processing/encore_...   \n",
       "22  /projects/ps-yeolab5/encore/processing/encore_...   \n",
       "29  /projects/ps-yeolab5/encore/processing/encore_...   \n",
       "43  /projects/ps-yeolab5/encore/processing/encore_...   \n",
       "48  /projects/ps-yeolab5/encore/processing/encore_...   \n",
       "\n",
       "                                              minus_1  \\\n",
       "17  /projects/ps-yeolab5/encore/processing/encore_...   \n",
       "22  /projects/ps-yeolab5/encore/processing/encore_...   \n",
       "29  /projects/ps-yeolab5/encore/processing/encore_...   \n",
       "43  /projects/ps-yeolab5/encore/processing/encore_...   \n",
       "48  /projects/ps-yeolab5/encore/processing/encore_...   \n",
       "\n",
       "                                        minus_control  \\\n",
       "17  /projects/ps-yeolab5/encore/processing/encore_...   \n",
       "22  /projects/ps-yeolab5/encore/processing/encore_...   \n",
       "29  /projects/ps-yeolab5/encore/processing/encore_...   \n",
       "43  /projects/ps-yeolab5/encore/processing/encore_...   \n",
       "48  /projects/ps-yeolab5/encore/processing/encore_...   \n",
       "\n",
       "                                                bed_0  \\\n",
       "17  /projects/ps-yeolab5/encore/processing/encore_...   \n",
       "22  /projects/ps-yeolab5/encore/processing/encore_...   \n",
       "29  /projects/ps-yeolab5/encore/processing/encore_...   \n",
       "43  /projects/ps-yeolab5/encore/processing/encore_...   \n",
       "48  /projects/ps-yeolab5/encore/processing/encore_...   \n",
       "\n",
       "                                                bed_1  \\\n",
       "17  /projects/ps-yeolab5/encore/processing/encore_...   \n",
       "22  /projects/ps-yeolab5/encore/processing/encore_...   \n",
       "29  /projects/ps-yeolab5/encore/processing/encore_...   \n",
       "43  /projects/ps-yeolab5/encore/processing/encore_...   \n",
       "48  /projects/ps-yeolab5/encore/processing/encore_...   \n",
       "\n",
       "                                                  idr Cell Line  \n",
       "17  /projects/ps-yeolab5/encore/processing/encore_...      K562  \n",
       "22  /projects/ps-yeolab5/encore/processing/encore_...      K562  \n",
       "29  /projects/ps-yeolab5/encore/processing/encore_...      K562  \n",
       "43  /projects/ps-yeolab5/encore/processing/encore_...     HepG2  \n",
       "48  /projects/ps-yeolab5/encore/processing/encore_...     HepG2  "
      ]
     },
     "execution_count": 18,
     "metadata": {},
     "output_type": "execute_result"
    }
   ],
   "source": [
    "encode4.loc[encode4['RBP'].isin(essential_gene)]"
   ]
  },
  {
   "cell_type": "code",
   "execution_count": 19,
   "metadata": {},
   "outputs": [
    {
     "data": {
      "text/html": [
       "<div>\n",
       "<style scoped>\n",
       "    .dataframe tbody tr th:only-of-type {\n",
       "        vertical-align: middle;\n",
       "    }\n",
       "\n",
       "    .dataframe tbody tr th {\n",
       "        vertical-align: top;\n",
       "    }\n",
       "\n",
       "    .dataframe thead th {\n",
       "        text-align: right;\n",
       "    }\n",
       "</style>\n",
       "<table border=\"1\" class=\"dataframe\">\n",
       "  <thead>\n",
       "    <tr style=\"text-align: right;\">\n",
       "      <th></th>\n",
       "      <th>uID</th>\n",
       "      <th>RBP</th>\n",
       "      <th>Cell line</th>\n",
       "      <th>CLIP_rep1</th>\n",
       "      <th>CLIP_rep2</th>\n",
       "      <th>INPUT</th>\n",
       "    </tr>\n",
       "  </thead>\n",
       "  <tbody>\n",
       "    <tr>\n",
       "      <th>0</th>\n",
       "      <td>203</td>\n",
       "      <td>HNRNPC</td>\n",
       "      <td>HepG2</td>\n",
       "      <td>/projects/ps-yeolab3/encode/analysis/encode_GR...</td>\n",
       "      <td>/projects/ps-yeolab3/encode/analysis/encode_GR...</td>\n",
       "      <td>/projects/ps-yeolab3/encode/analysis/encode_GR...</td>\n",
       "    </tr>\n",
       "    <tr>\n",
       "      <th>15</th>\n",
       "      <td>228</td>\n",
       "      <td>SF3B4</td>\n",
       "      <td>HepG2</td>\n",
       "      <td>/projects/ps-yeolab3/encode/analysis/encode_GR...</td>\n",
       "      <td>/projects/ps-yeolab3/encode/analysis/encode_GR...</td>\n",
       "      <td>/projects/ps-yeolab3/encode/analysis/encode_GR...</td>\n",
       "    </tr>\n",
       "    <tr>\n",
       "      <th>21</th>\n",
       "      <td>242</td>\n",
       "      <td>U2AF2</td>\n",
       "      <td>K562</td>\n",
       "      <td>/projects/ps-yeolab3/encode/analysis/encode_GR...</td>\n",
       "      <td>/projects/ps-yeolab3/encode/analysis/encode_GR...</td>\n",
       "      <td>/projects/ps-yeolab3/encode/analysis/encode_GR...</td>\n",
       "    </tr>\n",
       "    <tr>\n",
       "      <th>23</th>\n",
       "      <td>244</td>\n",
       "      <td>U2AF1</td>\n",
       "      <td>K562</td>\n",
       "      <td>/projects/ps-yeolab3/encode/analysis/encode_GR...</td>\n",
       "      <td>/projects/ps-yeolab3/encode/analysis/encode_GR...</td>\n",
       "      <td>/projects/ps-yeolab3/encode/analysis/encode_GR...</td>\n",
       "    </tr>\n",
       "    <tr>\n",
       "      <th>26</th>\n",
       "      <td>249</td>\n",
       "      <td>HNRNPU</td>\n",
       "      <td>K562</td>\n",
       "      <td>/projects/ps-yeolab3/encode/analysis/encode_GR...</td>\n",
       "      <td>/projects/ps-yeolab3/encode/analysis/encode_GR...</td>\n",
       "      <td>/projects/ps-yeolab3/encode/analysis/encode_GR...</td>\n",
       "    </tr>\n",
       "    <tr>\n",
       "      <th>32</th>\n",
       "      <td>272</td>\n",
       "      <td>U2AF2</td>\n",
       "      <td>HepG2</td>\n",
       "      <td>/projects/ps-yeolab3/encode/analysis/encode_GR...</td>\n",
       "      <td>/projects/ps-yeolab3/encode/analysis/encode_GR...</td>\n",
       "      <td>/projects/ps-yeolab3/encode/analysis/encode_GR...</td>\n",
       "    </tr>\n",
       "    <tr>\n",
       "      <th>36</th>\n",
       "      <td>281</td>\n",
       "      <td>HNRNPU</td>\n",
       "      <td>HepG2</td>\n",
       "      <td>/projects/ps-yeolab3/encode/analysis/encode_GR...</td>\n",
       "      <td>/projects/ps-yeolab3/encode/analysis/encode_GR...</td>\n",
       "      <td>/projects/ps-yeolab3/encode/analysis/encode_GR...</td>\n",
       "    </tr>\n",
       "    <tr>\n",
       "      <th>37</th>\n",
       "      <td>282</td>\n",
       "      <td>U2AF1</td>\n",
       "      <td>HepG2</td>\n",
       "      <td>/projects/ps-yeolab3/encode/analysis/encode_GR...</td>\n",
       "      <td>/projects/ps-yeolab3/encode/analysis/encode_GR...</td>\n",
       "      <td>/projects/ps-yeolab3/encode/analysis/encode_GR...</td>\n",
       "    </tr>\n",
       "    <tr>\n",
       "      <th>47</th>\n",
       "      <td>311</td>\n",
       "      <td>XRCC6</td>\n",
       "      <td>HepG2</td>\n",
       "      <td>/projects/ps-yeolab3/encode/analysis/encode_GR...</td>\n",
       "      <td>/projects/ps-yeolab3/encode/analysis/encode_GR...</td>\n",
       "      <td>/projects/ps-yeolab3/encode/analysis/encode_GR...</td>\n",
       "    </tr>\n",
       "    <tr>\n",
       "      <th>54</th>\n",
       "      <td>331</td>\n",
       "      <td>RBM22</td>\n",
       "      <td>K562</td>\n",
       "      <td>/projects/ps-yeolab3/encode/analysis/encode_GR...</td>\n",
       "      <td>/projects/ps-yeolab3/encode/analysis/encode_GR...</td>\n",
       "      <td>/projects/ps-yeolab3/encode/analysis/encode_GR...</td>\n",
       "    </tr>\n",
       "    <tr>\n",
       "      <th>98</th>\n",
       "      <td>480</td>\n",
       "      <td>XRCC6</td>\n",
       "      <td>K562</td>\n",
       "      <td>/projects/ps-yeolab3/encode/analysis/encode_GR...</td>\n",
       "      <td>/projects/ps-yeolab3/encode/analysis/encode_GR...</td>\n",
       "      <td>/projects/ps-yeolab3/encode/analysis/encode_GR...</td>\n",
       "    </tr>\n",
       "    <tr>\n",
       "      <th>105</th>\n",
       "      <td>494</td>\n",
       "      <td>RBM22</td>\n",
       "      <td>HepG2</td>\n",
       "      <td>/projects/ps-yeolab3/encode/analysis/encode_GR...</td>\n",
       "      <td>/projects/ps-yeolab3/encode/analysis/encode_GR...</td>\n",
       "      <td>/projects/ps-yeolab3/encode/analysis/encode_GR...</td>\n",
       "    </tr>\n",
       "    <tr>\n",
       "      <th>110</th>\n",
       "      <td>506</td>\n",
       "      <td>SF3B1</td>\n",
       "      <td>K562</td>\n",
       "      <td>/projects/ps-yeolab3/encode/analysis/encode_GR...</td>\n",
       "      <td>/projects/ps-yeolab3/encode/analysis/encode_GR...</td>\n",
       "      <td>/projects/ps-yeolab3/encode/analysis/encode_GR...</td>\n",
       "    </tr>\n",
       "    <tr>\n",
       "      <th>111</th>\n",
       "      <td>507</td>\n",
       "      <td>SF3B4</td>\n",
       "      <td>K562</td>\n",
       "      <td>/projects/ps-yeolab3/encode/analysis/encode_GR...</td>\n",
       "      <td>/projects/ps-yeolab3/encode/analysis/encode_GR...</td>\n",
       "      <td>/projects/ps-yeolab3/encode/analysis/encode_GR...</td>\n",
       "    </tr>\n",
       "    <tr>\n",
       "      <th>125</th>\n",
       "      <td>545</td>\n",
       "      <td>EIF3H</td>\n",
       "      <td>HepG2</td>\n",
       "      <td>/projects/ps-yeolab3/encode/analysis/encode_GR...</td>\n",
       "      <td>/projects/ps-yeolab3/encode/analysis/encode_GR...</td>\n",
       "      <td>/projects/ps-yeolab3/encode/analysis/encode_GR...</td>\n",
       "    </tr>\n",
       "    <tr>\n",
       "      <th>127</th>\n",
       "      <td>548</td>\n",
       "      <td>ZRANB2</td>\n",
       "      <td>K562</td>\n",
       "      <td>/projects/ps-yeolab3/encode/analysis/encode_GR...</td>\n",
       "      <td>/projects/ps-yeolab3/encode/analysis/encode_GR...</td>\n",
       "      <td>/projects/ps-yeolab3/encode/analysis/encode_GR...</td>\n",
       "    </tr>\n",
       "    <tr>\n",
       "      <th>132</th>\n",
       "      <td>556</td>\n",
       "      <td>CDC40</td>\n",
       "      <td>HepG2</td>\n",
       "      <td>/projects/ps-yeolab3/encode/analysis/encode_GR...</td>\n",
       "      <td>/projects/ps-yeolab3/encode/analysis/encode_GR...</td>\n",
       "      <td>/projects/ps-yeolab3/encode/analysis/encode_GR...</td>\n",
       "    </tr>\n",
       "    <tr>\n",
       "      <th>165</th>\n",
       "      <td>646</td>\n",
       "      <td>EIF3G</td>\n",
       "      <td>K562</td>\n",
       "      <td>/projects/ps-yeolab3/encode/analysis/encode_GR...</td>\n",
       "      <td>/projects/ps-yeolab3/encode/analysis/encode_GR...</td>\n",
       "      <td>/projects/ps-yeolab3/encode/analysis/encode_GR...</td>\n",
       "    </tr>\n",
       "    <tr>\n",
       "      <th>176</th>\n",
       "      <td>677</td>\n",
       "      <td>GEMIN5</td>\n",
       "      <td>K562</td>\n",
       "      <td>/projects/ps-yeolab3/encode/analysis/encode_GR...</td>\n",
       "      <td>/projects/ps-yeolab3/encode/analysis/encode_GR...</td>\n",
       "      <td>/projects/ps-yeolab3/encode/analysis/encode_GR...</td>\n",
       "    </tr>\n",
       "    <tr>\n",
       "      <th>183</th>\n",
       "      <td>685</td>\n",
       "      <td>WDR3</td>\n",
       "      <td>K562</td>\n",
       "      <td>/projects/ps-yeolab3/encode/analysis/encode_GR...</td>\n",
       "      <td>/projects/ps-yeolab3/encode/analysis/encode_GR...</td>\n",
       "      <td>/projects/ps-yeolab3/encode/analysis/encode_GR...</td>\n",
       "    </tr>\n",
       "    <tr>\n",
       "      <th>193</th>\n",
       "      <td>699</td>\n",
       "      <td>HNRNPC</td>\n",
       "      <td>K562</td>\n",
       "      <td>/projects/ps-yeolab3/encode/analysis/encode_GR...</td>\n",
       "      <td>/projects/ps-yeolab3/encode/analysis/encode_GR...</td>\n",
       "      <td>/projects/ps-yeolab3/encode/analysis/encode_GR...</td>\n",
       "    </tr>\n",
       "    <tr>\n",
       "      <th>215</th>\n",
       "      <td>752</td>\n",
       "      <td>PRPF4</td>\n",
       "      <td>HepG2</td>\n",
       "      <td>/projects/ps-yeolab3/encode/analysis/encode_GR...</td>\n",
       "      <td>/projects/ps-yeolab3/encode/analysis/encode_GR...</td>\n",
       "      <td>/projects/ps-yeolab3/encode/analysis/encode_GR...</td>\n",
       "    </tr>\n",
       "  </tbody>\n",
       "</table>\n",
       "</div>"
      ],
      "text/plain": [
       "     uID     RBP Cell line                                          CLIP_rep1  \\\n",
       "0    203  HNRNPC     HepG2  /projects/ps-yeolab3/encode/analysis/encode_GR...   \n",
       "15   228   SF3B4     HepG2  /projects/ps-yeolab3/encode/analysis/encode_GR...   \n",
       "21   242   U2AF2      K562  /projects/ps-yeolab3/encode/analysis/encode_GR...   \n",
       "23   244   U2AF1      K562  /projects/ps-yeolab3/encode/analysis/encode_GR...   \n",
       "26   249  HNRNPU      K562  /projects/ps-yeolab3/encode/analysis/encode_GR...   \n",
       "32   272   U2AF2     HepG2  /projects/ps-yeolab3/encode/analysis/encode_GR...   \n",
       "36   281  HNRNPU     HepG2  /projects/ps-yeolab3/encode/analysis/encode_GR...   \n",
       "37   282   U2AF1     HepG2  /projects/ps-yeolab3/encode/analysis/encode_GR...   \n",
       "47   311   XRCC6     HepG2  /projects/ps-yeolab3/encode/analysis/encode_GR...   \n",
       "54   331   RBM22      K562  /projects/ps-yeolab3/encode/analysis/encode_GR...   \n",
       "98   480   XRCC6      K562  /projects/ps-yeolab3/encode/analysis/encode_GR...   \n",
       "105  494   RBM22     HepG2  /projects/ps-yeolab3/encode/analysis/encode_GR...   \n",
       "110  506   SF3B1      K562  /projects/ps-yeolab3/encode/analysis/encode_GR...   \n",
       "111  507   SF3B4      K562  /projects/ps-yeolab3/encode/analysis/encode_GR...   \n",
       "125  545   EIF3H     HepG2  /projects/ps-yeolab3/encode/analysis/encode_GR...   \n",
       "127  548  ZRANB2      K562  /projects/ps-yeolab3/encode/analysis/encode_GR...   \n",
       "132  556   CDC40     HepG2  /projects/ps-yeolab3/encode/analysis/encode_GR...   \n",
       "165  646   EIF3G      K562  /projects/ps-yeolab3/encode/analysis/encode_GR...   \n",
       "176  677  GEMIN5      K562  /projects/ps-yeolab3/encode/analysis/encode_GR...   \n",
       "183  685    WDR3      K562  /projects/ps-yeolab3/encode/analysis/encode_GR...   \n",
       "193  699  HNRNPC      K562  /projects/ps-yeolab3/encode/analysis/encode_GR...   \n",
       "215  752   PRPF4     HepG2  /projects/ps-yeolab3/encode/analysis/encode_GR...   \n",
       "\n",
       "                                             CLIP_rep2  \\\n",
       "0    /projects/ps-yeolab3/encode/analysis/encode_GR...   \n",
       "15   /projects/ps-yeolab3/encode/analysis/encode_GR...   \n",
       "21   /projects/ps-yeolab3/encode/analysis/encode_GR...   \n",
       "23   /projects/ps-yeolab3/encode/analysis/encode_GR...   \n",
       "26   /projects/ps-yeolab3/encode/analysis/encode_GR...   \n",
       "32   /projects/ps-yeolab3/encode/analysis/encode_GR...   \n",
       "36   /projects/ps-yeolab3/encode/analysis/encode_GR...   \n",
       "37   /projects/ps-yeolab3/encode/analysis/encode_GR...   \n",
       "47   /projects/ps-yeolab3/encode/analysis/encode_GR...   \n",
       "54   /projects/ps-yeolab3/encode/analysis/encode_GR...   \n",
       "98   /projects/ps-yeolab3/encode/analysis/encode_GR...   \n",
       "105  /projects/ps-yeolab3/encode/analysis/encode_GR...   \n",
       "110  /projects/ps-yeolab3/encode/analysis/encode_GR...   \n",
       "111  /projects/ps-yeolab3/encode/analysis/encode_GR...   \n",
       "125  /projects/ps-yeolab3/encode/analysis/encode_GR...   \n",
       "127  /projects/ps-yeolab3/encode/analysis/encode_GR...   \n",
       "132  /projects/ps-yeolab3/encode/analysis/encode_GR...   \n",
       "165  /projects/ps-yeolab3/encode/analysis/encode_GR...   \n",
       "176  /projects/ps-yeolab3/encode/analysis/encode_GR...   \n",
       "183  /projects/ps-yeolab3/encode/analysis/encode_GR...   \n",
       "193  /projects/ps-yeolab3/encode/analysis/encode_GR...   \n",
       "215  /projects/ps-yeolab3/encode/analysis/encode_GR...   \n",
       "\n",
       "                                                 INPUT  \n",
       "0    /projects/ps-yeolab3/encode/analysis/encode_GR...  \n",
       "15   /projects/ps-yeolab3/encode/analysis/encode_GR...  \n",
       "21   /projects/ps-yeolab3/encode/analysis/encode_GR...  \n",
       "23   /projects/ps-yeolab3/encode/analysis/encode_GR...  \n",
       "26   /projects/ps-yeolab3/encode/analysis/encode_GR...  \n",
       "32   /projects/ps-yeolab3/encode/analysis/encode_GR...  \n",
       "36   /projects/ps-yeolab3/encode/analysis/encode_GR...  \n",
       "37   /projects/ps-yeolab3/encode/analysis/encode_GR...  \n",
       "47   /projects/ps-yeolab3/encode/analysis/encode_GR...  \n",
       "54   /projects/ps-yeolab3/encode/analysis/encode_GR...  \n",
       "98   /projects/ps-yeolab3/encode/analysis/encode_GR...  \n",
       "105  /projects/ps-yeolab3/encode/analysis/encode_GR...  \n",
       "110  /projects/ps-yeolab3/encode/analysis/encode_GR...  \n",
       "111  /projects/ps-yeolab3/encode/analysis/encode_GR...  \n",
       "125  /projects/ps-yeolab3/encode/analysis/encode_GR...  \n",
       "127  /projects/ps-yeolab3/encode/analysis/encode_GR...  \n",
       "132  /projects/ps-yeolab3/encode/analysis/encode_GR...  \n",
       "165  /projects/ps-yeolab3/encode/analysis/encode_GR...  \n",
       "176  /projects/ps-yeolab3/encode/analysis/encode_GR...  \n",
       "183  /projects/ps-yeolab3/encode/analysis/encode_GR...  \n",
       "193  /projects/ps-yeolab3/encode/analysis/encode_GR...  \n",
       "215  /projects/ps-yeolab3/encode/analysis/encode_GR...  "
      ]
     },
     "execution_count": 19,
     "metadata": {},
     "output_type": "execute_result"
    }
   ],
   "source": [
    "encode3.loc[encode3['RBP'].isin(essential_gene)]"
   ]
  },
  {
   "cell_type": "code",
   "execution_count": null,
   "metadata": {},
   "outputs": [],
   "source": []
  },
  {
   "cell_type": "code",
   "execution_count": 20,
   "metadata": {},
   "outputs": [],
   "source": [
    "# let's demo using RBM22\n",
    "uid = encode3.loc[(encode3['RBP']=='RBM22')&(encode3['Cell line']=='HepG2'), 'uID'].iloc[0]"
   ]
  },
  {
   "cell_type": "code",
   "execution_count": 21,
   "metadata": {},
   "outputs": [],
   "source": [
    "# encode 3 idr peaks are here\n",
    "idr_path = '/home/hsher/seqdata/eclip_bed/sorted/{}.01v02.IDR.out.0102merged.bed.blacklist_removed.bed.narrowPeak.bed'.format(uid)"
   ]
  },
  {
   "cell_type": "code",
   "execution_count": 22,
   "metadata": {},
   "outputs": [],
   "source": [
    "idr = BedTool(idr_path) # ok now we have the binding regions ready"
   ]
  },
  {
   "cell_type": "markdown",
   "metadata": {},
   "source": [
    "# Our question:\n",
    "does RBP (ex: RBM22) regulates tumor-essential genes more likely than other genes\n",
    "\n",
    "we need find these 4 groups:\n",
    "1. tumor essential AND bound by RBM22\n",
    "2. tumor essential AND NOT bound by RBM22\n",
    "3. NOT tumor essential AND bound by RBM22\n",
    "4. NOT tumor essential AND NOT bound by RBM22\n",
    "Then run fisher exact test.\n",
    "\n",
    "we will use bedtool intersect to figure out these 4 groups. \n",
    "## Building table"
   ]
  },
  {
   "cell_type": "code",
   "execution_count": 23,
   "metadata": {},
   "outputs": [],
   "source": [
    "group_1 = essential_gene_coords.intersect(idr, s = True, u = True).saveas() #tumor essential AND bound by SF3A1\n",
    "group_2 = essential_gene_coords.intersect(idr, s = True, v = True).saveas() #tumor essential AND NOT bound by SF3A1"
   ]
  },
  {
   "cell_type": "code",
   "execution_count": 24,
   "metadata": {},
   "outputs": [],
   "source": [
    "# now we need to find transcripts that is not tumor essential genes, to prepare for group 3 and 4\n",
    "nonessential_gene_coords = transcript_coords.intersect(essential_gene_coords, s = True, v = True).saveas()"
   ]
  },
  {
   "cell_type": "code",
   "execution_count": 25,
   "metadata": {},
   "outputs": [],
   "source": [
    "# then\n",
    "group_3 = nonessential_gene_coords.intersect(idr, s = True, u = True).saveas() #NOT tumor essential AND bound by SF3A1\n",
    "group_4 = nonessential_gene_coords.intersect(idr, s = True, v = True).saveas() #NOT tumor essential AND NOT bound by SF3A1 Then run fisher exact test."
   ]
  },
  {
   "cell_type": "code",
   "execution_count": 29,
   "metadata": {},
   "outputs": [],
   "source": [
    "# okay let's count how many genes there are for our table\n",
    "table_for_stat = pd.DataFrame([\n",
    "                                [len(group_1), len(group_2)],\n",
    "                                [len(group_3), len(group_4)]\n",
    "                                ], \n",
    "                              columns = ['bound by RBM22', 'not bound'],\n",
    "                              index = ['is essential', 'not essential']\n",
    "                             )"
   ]
  },
  {
   "cell_type": "code",
   "execution_count": 30,
   "metadata": {},
   "outputs": [
    {
     "data": {
      "text/html": [
       "<div>\n",
       "<style scoped>\n",
       "    .dataframe tbody tr th:only-of-type {\n",
       "        vertical-align: middle;\n",
       "    }\n",
       "\n",
       "    .dataframe tbody tr th {\n",
       "        vertical-align: top;\n",
       "    }\n",
       "\n",
       "    .dataframe thead th {\n",
       "        text-align: right;\n",
       "    }\n",
       "</style>\n",
       "<table border=\"1\" class=\"dataframe\">\n",
       "  <thead>\n",
       "    <tr style=\"text-align: right;\">\n",
       "      <th></th>\n",
       "      <th>bound by RBM22</th>\n",
       "      <th>not bound</th>\n",
       "    </tr>\n",
       "  </thead>\n",
       "  <tbody>\n",
       "    <tr>\n",
       "      <th>is essential</th>\n",
       "      <td>26</td>\n",
       "      <td>102</td>\n",
       "    </tr>\n",
       "    <tr>\n",
       "      <th>not essential</th>\n",
       "      <td>1244</td>\n",
       "      <td>58719</td>\n",
       "    </tr>\n",
       "  </tbody>\n",
       "</table>\n",
       "</div>"
      ],
      "text/plain": [
       "               bound by RBM22  not bound\n",
       "is essential               26        102\n",
       "not essential            1244      58719"
      ]
     },
     "execution_count": 30,
     "metadata": {},
     "output_type": "execute_result"
    }
   ],
   "source": [
    "table_for_stat"
   ]
  },
  {
   "cell_type": "markdown",
   "metadata": {},
   "source": [
    "# With the table, we are ready for stats\n",
    "- check out this documentation: https://docs.scipy.org/doc/scipy/reference/generated/scipy.stats.fisher_exact.html\n",
    "- and odds ratio: https://www.ncbi.nlm.nih.gov/pmc/articles/PMC2938757/\n"
   ]
  },
  {
   "cell_type": "code",
   "execution_count": 31,
   "metadata": {},
   "outputs": [],
   "source": [
    "from scipy.stats import fisher_exact\n",
    "\n",
    "odds, p = fisher_exact(table_for_stat, alternative = 'two-sided') "
   ]
  },
  {
   "cell_type": "code",
   "execution_count": 32,
   "metadata": {},
   "outputs": [
    {
     "data": {
      "text/plain": [
       "12.031823340268584"
      ]
     },
     "execution_count": 32,
     "metadata": {},
     "output_type": "execute_result"
    }
   ],
   "source": [
    "odds"
   ]
  },
  {
   "cell_type": "code",
   "execution_count": 34,
   "metadata": {},
   "outputs": [
    {
     "data": {
      "text/plain": [
       "12.031823340268582"
      ]
     },
     "execution_count": 34,
     "metadata": {},
     "output_type": "execute_result"
    }
   ],
   "source": [
    "(26/1244)/(102/58719) # this is how odds ratio is calculated"
   ]
  },
  {
   "cell_type": "code",
   "execution_count": 33,
   "metadata": {},
   "outputs": [
    {
     "data": {
      "text/plain": [
       "2.793388556985412e-18"
      ]
     },
     "execution_count": 33,
     "metadata": {},
     "output_type": "execute_result"
    }
   ],
   "source": [
    "p # pretty significant"
   ]
  },
  {
   "cell_type": "code",
   "execution_count": 35,
   "metadata": {},
   "outputs": [],
   "source": [
    "# so here we can conclude that tumor essential genes are regulated by RBM22 (have IDR peaks) more often than expected"
   ]
  },
  {
   "cell_type": "markdown",
   "metadata": {},
   "source": []
  }
 ],
 "metadata": {
  "kernelspec": {
   "display_name": "Python 3",
   "language": "python",
   "name": "python3"
  },
  "language_info": {
   "codemirror_mode": {
    "name": "ipython",
    "version": 3
   },
   "file_extension": ".py",
   "mimetype": "text/x-python",
   "name": "python",
   "nbconvert_exporter": "python",
   "pygments_lexer": "ipython3",
   "version": "3.7.6"
  }
 },
 "nbformat": 4,
 "nbformat_minor": 4
}
