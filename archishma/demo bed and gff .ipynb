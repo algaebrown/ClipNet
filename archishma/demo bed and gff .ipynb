{
 "cells": [
  {
   "cell_type": "markdown",
   "metadata": {},
   "source": [
    "# Today we will be playing with CLIP peaks.\n",
    "- there are two kinds of peaks:\n",
    "\n",
    "1. IDR peaks: reproducible peaks from two reps. files are here `/home/elvannostrand/data/clip/CLIPseq_analysis/ENCODE_FINALforpapers_20180205/hg38/IDR/UID.01v02.IDR.out.0102merged.bed.blacklist_removed.bed.narrowPeak.bed` (replace `UID` with a specific number)\n",
    "2. individual replicate peaks are here: `home/elvannostrand/data/clip/CLIPseq_analysis/ENCODE_FINALforpapers_20180205/hg38/` in the format of `UID_02.basedon_204_02.peaks.l2inputnormnew.bed.compressed.bed.blacklist_removed.bed` where `02` means rep2\n",
    "\n",
    "optional: read about [IDR](https://hbctraining.github.io/Intro-to-ChIPseq/lessons/07_handling-replicates-idr.html)\n",
    "\n",
    "# You will learn\n",
    "- How to use BedTool to deal with peaks and gene annotations\n",
    "- Human Gene Annotations\n",
    "- UCSC Genome Browser"
   ]
  },
  {
   "cell_type": "code",
   "execution_count": 1,
   "metadata": {},
   "outputs": [],
   "source": [
    "from pybedtools import BedTool\n"
   ]
  },
  {
   "cell_type": "markdown",
   "metadata": {},
   "source": [
    "# BedTool \n",
    "- is a package for .bed files and .gff files\n",
    "- it was a commandline tool. pybedtools is a wrapper for the tool\n",
    "- Can perform arithematic operation on bedfiles.\n",
    "- take a look at the [pybedtool tutorial](https://daler.github.io/pybedtools/tutorial-contents.html)\n",
    "- take a look at several operationss [bedtool intersect](https://bedtools.readthedocs.io/en/latest/content/tools/intersect.html), [bedtools merge](https://bedtools.readthedocs.io/en/latest/content/tools/merge.html), [subtract](https://bedtools.readthedocs.io/en/latest/content/tools/subtract.html)"
   ]
  },
  {
   "cell_type": "code",
   "execution_count": 2,
   "metadata": {},
   "outputs": [],
   "source": [
    "# let's take a look at the RBFOX2's peak (UID=204)\n",
    "rbfox_idr = BedTool('/home/elvannostrand/data/clip/CLIPseq_analysis/ENCODE_FINALforpapers_20180205/hg38/IDR/204.01v02.IDR.out.0102merged.bed.blacklist_removed.bed.narrowPeak.bed')"
   ]
  },
  {
   "cell_type": "code",
   "execution_count": 3,
   "metadata": {},
   "outputs": [
    {
     "name": "stdout",
     "output_type": "stream",
     "text": [
      "chr21\t45528055\t45528135\tRBFOX2_HepG2_IDR\t1000\t-\t3.69979283065069\t7.88501625625323\t-1\t-1\n",
      "\n"
     ]
    }
   ],
   "source": [
    "print(rbfox_idr[0])"
   ]
  },
  {
   "cell_type": "code",
   "execution_count": 4,
   "metadata": {},
   "outputs": [
    {
     "data": {
      "text/plain": [
       "'chr21'"
      ]
     },
     "execution_count": 4,
     "metadata": {},
     "output_type": "execute_result"
    }
   ],
   "source": [
    "rbfox_idr[0].chrom # try .start .end"
   ]
  },
  {
   "cell_type": "markdown",
   "metadata": {},
   "source": [
    "## IDR file comes in the NarrowPeak format\n",
    "[read this](https://genome.ucsc.edu/FAQ/FAQformat.html#format12).\n",
    "\n",
    "each columns are `chrom`, `start`, `end`, `name`, `score`, `strand`,\n",
    "column 7 is `log2(fold enrichment)` and column 8 is `-log10(pvalue)`.\n",
    "\n",
    "### Question: what does log2FC=3.69 mean?\n",
    "\n",
    "### Question: why do we need both p-value and fold change?\n",
    "\n",
    "### Let's take look at this peak at genome browser\n",
    "go to [encode project portal](https://www.encodeproject.org/experiments/ENCSR987FTF/), click on file details, there's a \"visualize\" button on the right upper corner. paste `chr21\t45528055\t45528135` into the top search box.\n",
    "\n",
    "1. what gene is it in?\n",
    "2. is it in intron or exon?"
   ]
  },
  {
   "cell_type": "markdown",
   "metadata": {},
   "source": [
    "# Let's look at what genes do this RBP bind\n",
    "but the bed file does not show what genes that peak is in!\n",
    "\n",
    "## So we need  genome annoatations!\n",
    "Genome annotations are here in the [gencode website](https://www.gencodegenes.org/human/)\n",
    "\n",
    "since we are using genome coordinate hg38, make sure not to download v19! (that is for hg19)\n",
    "\n",
    "## My annotation is here\n",
    "- unparsed version: `/home/hsher/gencode_coords/gencode.v33.annotation.gff3`\n",
    "- if you look at the file, you will find there's no feature as \"intron\"! \n",
    "- how would you create the \"intron\" annotation? (hint: `bedtool subtract`)\n",
    "\n",
    "## parsing annotation is a headache :(\n",
    "let's just use what I have already parsed! this file contains intron(written as transcript, exon, utrs)`gencode.v33.combine.sorted.gff3`; for transcripts `gencode.v33.transcript.gff3`\n",
    "\n",
    "If you are interested in how those parsed files come from, the script is here `/home/hsher/ClipNet/scripts/gencode_canon_filtering.sh`"
   ]
  },
  {
   "cell_type": "code",
   "execution_count": 5,
   "metadata": {},
   "outputs": [],
   "source": [
    "# I will use my annotations here, the full and unparsed version!\n",
    "transcript_coords = BedTool('/home/hsher/gencode_coords/gencode.v33.transcript.gff3')"
   ]
  },
  {
   "cell_type": "code",
   "execution_count": 6,
   "metadata": {},
   "outputs": [],
   "source": [
    "# to findout which transcript we bedtool intersect transcript with peaks\n",
    "transcripts_bound = transcript_coords.intersect(rbfox_idr, s= True, u = True).saveas() # why do I use option s and u?"
   ]
  },
  {
   "cell_type": "code",
   "execution_count": 7,
   "metadata": {},
   "outputs": [
    {
     "data": {
      "text/plain": [
       "2337"
      ]
     },
     "execution_count": 7,
     "metadata": {},
     "output_type": "execute_result"
    }
   ],
   "source": [
    "len(transcripts_bound)"
   ]
  },
  {
   "cell_type": "code",
   "execution_count": 8,
   "metadata": {},
   "outputs": [
    {
     "name": "stdout",
     "output_type": "stream",
     "text": [
      "chr1\tHAVANA\ttranscript\t827598\t859446\t.\t+\t.\tID=ENST00000445118.7;Parent=ENSG00000228794.10;gene_id=ENSG00000228794.10;transcript_id=ENST00000445118.7;gene_type=lncRNA;gene_name=LINC01128;transcript_type=lncRNA;transcript_name=LINC01128-205;level=2;transcript_support_level=1;hgnc_id=HGNC:49377;tag=basic;havana_gene=OTTHUMG00000196004.1;havana_transcript=OTTHUMT00000007015.4\n",
      "\n"
     ]
    }
   ],
   "source": [
    "print(transcripts_bound[0])"
   ]
  },
  {
   "cell_type": "code",
   "execution_count": 9,
   "metadata": {},
   "outputs": [
    {
     "data": {
      "text/plain": [
       "Counter({'lncRNA': 122,\n",
       "         'protein_coding': 2126,\n",
       "         'processed_transcript': 15,\n",
       "         'miRNA': 2,\n",
       "         'unprocessed_pseudogene': 3,\n",
       "         'nonsense_mediated_decay': 47,\n",
       "         'transcribed_unprocessed_pseudogene': 5,\n",
       "         'TEC': 6,\n",
       "         'retained_intron': 8,\n",
       "         'pseudogene': 1,\n",
       "         'snoRNA': 2})"
      ]
     },
     "execution_count": 9,
     "metadata": {},
     "output_type": "execute_result"
    }
   ],
   "source": [
    "# let's look at the type of transcripts they are\n",
    "from collections import Counter\n",
    "Counter([t.attrs['transcript_type'] for t in transcripts_bound])"
   ]
  },
  {
   "cell_type": "markdown",
   "metadata": {},
   "source": [
    "# You might want to know what functions these transcripts do\n",
    "\n",
    "common ways of doing this:\n",
    "- Gene Ontology (GO) Enrichment analysis\n",
    "- Gene Set enrichment analysis (GSEA)\n",
    "- Reactome/pathway enrichment analysis\n",
    "\n",
    "you can google around while I also read more closely about its theory and maybe we can go through next time :). These tools are popular today and a lot of people use them without knowing what they are doing. But I think it is crucial to know the fundementals so that you know its limitations!"
   ]
  },
  {
   "cell_type": "markdown",
   "metadata": {},
   "source": [
    "# We can also look at what regions these peaks are in!"
   ]
  },
  {
   "cell_type": "code",
   "execution_count": 10,
   "metadata": {},
   "outputs": [],
   "source": [
    "region_anno = BedTool('/home/hsher/gencode_coords/gencode.v33.combine.sorted.gff3')"
   ]
  },
  {
   "cell_type": "code",
   "execution_count": 11,
   "metadata": {},
   "outputs": [
    {
     "name": "stdout",
     "output_type": "stream",
     "text": [
      "chr1\tHAVANA\texon\t11869\t12227\t.\t+\t.\tID=exon:ENST00000456328.2:1;Parent=ENST00000456328.2;gene_id=ENSG00000223972.5;transcript_id=ENST00000456328.2;gene_type=transcribed_unprocessed_pseudogene;gene_name=DDX11L1;transcript_type=processed_transcript;transcript_name=DDX11L1-202;exon_number=1;exon_id=ENSE00002234944.1;level=2;transcript_support_level=1;hgnc_id=HGNC:37102;tag=basic;havana_gene=OTTHUMG00000000961.2;havana_transcript=OTTHUMT00000362751.1\n",
      "\n"
     ]
    }
   ],
   "source": [
    "print(region_anno[0])"
   ]
  },
  {
   "cell_type": "code",
   "execution_count": 12,
   "metadata": {},
   "outputs": [],
   "source": [
    "regions_bound = region_anno.intersect(rbfox_idr, s = True, u = True).saveas()"
   ]
  },
  {
   "cell_type": "code",
   "execution_count": 13,
   "metadata": {},
   "outputs": [
    {
     "data": {
      "text/plain": [
       "Counter({'transcript': 3262,\n",
       "         'exon': 441,\n",
       "         'CDS': 171,\n",
       "         'five_prime_UTR': 50,\n",
       "         'three_prime_UTR': 178})"
      ]
     },
     "execution_count": 13,
     "metadata": {},
     "output_type": "execute_result"
    }
   ],
   "source": [
    "Counter([r[2] for r in regions_bound]) # transcripts are intron"
   ]
  },
  {
   "cell_type": "markdown",
   "metadata": {},
   "source": [
    "## knowing which regions in a gene a RBP binds is crucial for it function.\n",
    "\n",
    "read [fig2 in this paper](https://www.nature.com/articles/s41586-020-2077-3). This is how fig2 is generated! You can write a paper now!"
   ]
  },
  {
   "cell_type": "markdown",
   "metadata": {},
   "source": [
    "# Pointing you to all existing eCLIP files.\n",
    "\n",
    "see this [Onboarding document](https://www.notion.so/Yeo-Lab-Wiki-5f1c4c524c9a413b92154b4cc3a5f585?p=bf29f3763797410c9ad813b10cc34289).\n",
    "\n",
    "Right now there are two phases of ENCORE, ENCORE3 and ENCORE4. ENCORE3 has about 150 RBPs in both cell lines and has already ended. ENCORE 4 is ongoing.\n",
    "\n",
    "You will need the \"menifest file\", this files will tell you which `UID` is which protein, and what cell line is it CLIPped."
   ]
  },
  {
   "cell_type": "code",
   "execution_count": 14,
   "metadata": {},
   "outputs": [],
   "source": [
    "import pandas as pd\n",
    "\n",
    "encode3=pd.read_excel('/projects/ps-yeolab5/encode/encode_manifest_final.xlsx')"
   ]
  },
  {
   "cell_type": "code",
   "execution_count": 15,
   "metadata": {},
   "outputs": [
    {
     "data": {
      "text/plain": [
       "Index(['Hiseq_file_name', 'ENCODE_ID', 'RBP', 'inline_1', 'inline_2',\n",
       "       'index_1', 'index_2', 'Lane', 'file_location', 'unmerged_location',\n",
       "       'original_file_name', 'is_encode', 'cell_type', 'hiseq_run_date',\n",
       "       'randomer_length', 'Unnamed: 15', 'Method_Paper_flag', 'species',\n",
       "       'is_4000', 'Unnamed: 19', 'Unnamed: 20', 'Unnamed: 21', 'Unnamed: 22',\n",
       "       'Unnamed: 23', 'Unnamed: 24'],\n",
       "      dtype='object')"
      ]
     },
     "execution_count": 15,
     "metadata": {},
     "output_type": "execute_result"
    }
   ],
   "source": [
    "encode3.columns"
   ]
  },
  {
   "cell_type": "code",
   "execution_count": 16,
   "metadata": {},
   "outputs": [],
   "source": [
    "# but I have a even cleaner version of menifest :) from Eric!\n",
    "encode3 = pd.read_csv('/home/hsher/projects/RBP_annot/ENCODE_FINAL_ANNOTATIONS.uidsonly.txt.manifesthg38.txt', sep = '\\t', header= 0)"
   ]
  },
  {
   "cell_type": "code",
   "execution_count": 17,
   "metadata": {},
   "outputs": [
    {
     "data": {
      "text/html": [
       "<div>\n",
       "<style scoped>\n",
       "    .dataframe tbody tr th:only-of-type {\n",
       "        vertical-align: middle;\n",
       "    }\n",
       "\n",
       "    .dataframe tbody tr th {\n",
       "        vertical-align: top;\n",
       "    }\n",
       "\n",
       "    .dataframe thead th {\n",
       "        text-align: right;\n",
       "    }\n",
       "</style>\n",
       "<table border=\"1\" class=\"dataframe\">\n",
       "  <thead>\n",
       "    <tr style=\"text-align: right;\">\n",
       "      <th></th>\n",
       "      <th>uID</th>\n",
       "      <th>RBP</th>\n",
       "      <th>Cell line</th>\n",
       "      <th>CLIP_rep1</th>\n",
       "      <th>CLIP_rep2</th>\n",
       "      <th>INPUT</th>\n",
       "    </tr>\n",
       "  </thead>\n",
       "  <tbody>\n",
       "    <tr>\n",
       "      <th>0</th>\n",
       "      <td>203</td>\n",
       "      <td>HNRNPC</td>\n",
       "      <td>HepG2</td>\n",
       "      <td>/projects/ps-yeolab3/encode/analysis/encode_GR...</td>\n",
       "      <td>/projects/ps-yeolab3/encode/analysis/encode_GR...</td>\n",
       "      <td>/projects/ps-yeolab3/encode/analysis/encode_GR...</td>\n",
       "    </tr>\n",
       "    <tr>\n",
       "      <th>1</th>\n",
       "      <td>204</td>\n",
       "      <td>RBFOX2</td>\n",
       "      <td>HepG2</td>\n",
       "      <td>/projects/ps-yeolab3/encode/analysis/encode_GR...</td>\n",
       "      <td>/projects/ps-yeolab3/encode/analysis/encode_GR...</td>\n",
       "      <td>/projects/ps-yeolab3/encode/analysis/encode_GR...</td>\n",
       "    </tr>\n",
       "    <tr>\n",
       "      <th>2</th>\n",
       "      <td>205</td>\n",
       "      <td>IGF2BP1</td>\n",
       "      <td>HepG2</td>\n",
       "      <td>/projects/ps-yeolab3/encode/analysis/encode_GR...</td>\n",
       "      <td>/projects/ps-yeolab3/encode/analysis/encode_GR...</td>\n",
       "      <td>/projects/ps-yeolab3/encode/analysis/encode_GR...</td>\n",
       "    </tr>\n",
       "    <tr>\n",
       "      <th>3</th>\n",
       "      <td>206</td>\n",
       "      <td>HNRNPK</td>\n",
       "      <td>HepG2</td>\n",
       "      <td>/projects/ps-yeolab3/encode/analysis/encode_GR...</td>\n",
       "      <td>/projects/ps-yeolab3/encode/analysis/encode_GR...</td>\n",
       "      <td>/projects/ps-yeolab3/encode/analysis/encode_GR...</td>\n",
       "    </tr>\n",
       "    <tr>\n",
       "      <th>4</th>\n",
       "      <td>209</td>\n",
       "      <td>SRSF7</td>\n",
       "      <td>HepG2</td>\n",
       "      <td>/projects/ps-yeolab3/encode/analysis/encode_GR...</td>\n",
       "      <td>/projects/ps-yeolab3/encode/analysis/encode_GR...</td>\n",
       "      <td>/projects/ps-yeolab3/encode/analysis/encode_GR...</td>\n",
       "    </tr>\n",
       "  </tbody>\n",
       "</table>\n",
       "</div>"
      ],
      "text/plain": [
       "   uID      RBP Cell line                                          CLIP_rep1  \\\n",
       "0  203   HNRNPC     HepG2  /projects/ps-yeolab3/encode/analysis/encode_GR...   \n",
       "1  204   RBFOX2     HepG2  /projects/ps-yeolab3/encode/analysis/encode_GR...   \n",
       "2  205  IGF2BP1     HepG2  /projects/ps-yeolab3/encode/analysis/encode_GR...   \n",
       "3  206   HNRNPK     HepG2  /projects/ps-yeolab3/encode/analysis/encode_GR...   \n",
       "4  209    SRSF7     HepG2  /projects/ps-yeolab3/encode/analysis/encode_GR...   \n",
       "\n",
       "                                           CLIP_rep2  \\\n",
       "0  /projects/ps-yeolab3/encode/analysis/encode_GR...   \n",
       "1  /projects/ps-yeolab3/encode/analysis/encode_GR...   \n",
       "2  /projects/ps-yeolab3/encode/analysis/encode_GR...   \n",
       "3  /projects/ps-yeolab3/encode/analysis/encode_GR...   \n",
       "4  /projects/ps-yeolab3/encode/analysis/encode_GR...   \n",
       "\n",
       "                                               INPUT  \n",
       "0  /projects/ps-yeolab3/encode/analysis/encode_GR...  \n",
       "1  /projects/ps-yeolab3/encode/analysis/encode_GR...  \n",
       "2  /projects/ps-yeolab3/encode/analysis/encode_GR...  \n",
       "3  /projects/ps-yeolab3/encode/analysis/encode_GR...  \n",
       "4  /projects/ps-yeolab3/encode/analysis/encode_GR...  "
      ]
     },
     "execution_count": 17,
     "metadata": {},
     "output_type": "execute_result"
    }
   ],
   "source": [
    "encode3.head()"
   ]
  },
  {
   "cell_type": "code",
   "execution_count": 18,
   "metadata": {},
   "outputs": [],
   "source": [
    "# encode 4 files are all over the place, so you might want this\n",
    "df = pd.read_csv('/home/hsher/projects/ClipNet/archishma/ENCODE4_1214.csv')"
   ]
  },
  {
   "cell_type": "code",
   "execution_count": 19,
   "metadata": {},
   "outputs": [
    {
     "data": {
      "text/html": [
       "<div>\n",
       "<style scoped>\n",
       "    .dataframe tbody tr th:only-of-type {\n",
       "        vertical-align: middle;\n",
       "    }\n",
       "\n",
       "    .dataframe tbody tr th {\n",
       "        vertical-align: top;\n",
       "    }\n",
       "\n",
       "    .dataframe thead th {\n",
       "        text-align: right;\n",
       "    }\n",
       "</style>\n",
       "<table border=\"1\" class=\"dataframe\">\n",
       "  <thead>\n",
       "    <tr style=\"text-align: right;\">\n",
       "      <th></th>\n",
       "      <th>Unnamed: 0</th>\n",
       "      <th>uid</th>\n",
       "      <th>Batch</th>\n",
       "      <th>RBP</th>\n",
       "      <th>prefix</th>\n",
       "      <th>bam_0</th>\n",
       "      <th>bam_1</th>\n",
       "      <th>bam_control</th>\n",
       "      <th>plus_0</th>\n",
       "      <th>plus_1</th>\n",
       "      <th>plus_control</th>\n",
       "      <th>minus_0</th>\n",
       "      <th>minus_1</th>\n",
       "      <th>minus_control</th>\n",
       "      <th>bed_0</th>\n",
       "      <th>bed_1</th>\n",
       "      <th>idr</th>\n",
       "      <th>Cell Line</th>\n",
       "    </tr>\n",
       "  </thead>\n",
       "  <tbody>\n",
       "    <tr>\n",
       "      <th>0</th>\n",
       "      <td>0</td>\n",
       "      <td>4001</td>\n",
       "      <td>batch2</td>\n",
       "      <td>NONO</td>\n",
       "      <td>encode4_batch2.4001</td>\n",
       "      <td>/projects/ps-yeolab5/encore/processing/encore_...</td>\n",
       "      <td>/projects/ps-yeolab5/encore/processing/encore_...</td>\n",
       "      <td>/projects/ps-yeolab5/encore/processing/encore_...</td>\n",
       "      <td>/projects/ps-yeolab5/encore/processing/encore_...</td>\n",
       "      <td>/projects/ps-yeolab5/encore/processing/encore_...</td>\n",
       "      <td>/projects/ps-yeolab5/encore/processing/encore_...</td>\n",
       "      <td>/projects/ps-yeolab5/encore/processing/encore_...</td>\n",
       "      <td>/projects/ps-yeolab5/encore/processing/encore_...</td>\n",
       "      <td>/projects/ps-yeolab5/encore/processing/encore_...</td>\n",
       "      <td>/projects/ps-yeolab5/encore/processing/encore_...</td>\n",
       "      <td>/projects/ps-yeolab5/encore/processing/encore_...</td>\n",
       "      <td>/projects/ps-yeolab5/encore/processing/encore_...</td>\n",
       "      <td>K562</td>\n",
       "    </tr>\n",
       "    <tr>\n",
       "      <th>1</th>\n",
       "      <td>1</td>\n",
       "      <td>4002</td>\n",
       "      <td>batch2</td>\n",
       "      <td>FXR2</td>\n",
       "      <td>encode4_batch2.4002</td>\n",
       "      <td>/projects/ps-yeolab5/encore/processing/encore_...</td>\n",
       "      <td>/projects/ps-yeolab5/encore/processing/encore_...</td>\n",
       "      <td>/projects/ps-yeolab5/encore/processing/encore_...</td>\n",
       "      <td>/projects/ps-yeolab5/encore/processing/encore_...</td>\n",
       "      <td>/projects/ps-yeolab5/encore/processing/encore_...</td>\n",
       "      <td>/projects/ps-yeolab5/encore/processing/encore_...</td>\n",
       "      <td>/projects/ps-yeolab5/encore/processing/encore_...</td>\n",
       "      <td>/projects/ps-yeolab5/encore/processing/encore_...</td>\n",
       "      <td>/projects/ps-yeolab5/encore/processing/encore_...</td>\n",
       "      <td>/projects/ps-yeolab5/encore/processing/encore_...</td>\n",
       "      <td>/projects/ps-yeolab5/encore/processing/encore_...</td>\n",
       "      <td>/projects/ps-yeolab5/encore/processing/encore_...</td>\n",
       "      <td>K562</td>\n",
       "    </tr>\n",
       "    <tr>\n",
       "      <th>2</th>\n",
       "      <td>2</td>\n",
       "      <td>4004</td>\n",
       "      <td>batch2</td>\n",
       "      <td>DEK</td>\n",
       "      <td>encode4_batch2.4004</td>\n",
       "      <td>/projects/ps-yeolab5/encore/processing/encore_...</td>\n",
       "      <td>/projects/ps-yeolab5/encore/processing/encore_...</td>\n",
       "      <td>/projects/ps-yeolab5/encore/processing/encore_...</td>\n",
       "      <td>/projects/ps-yeolab5/encore/processing/encore_...</td>\n",
       "      <td>/projects/ps-yeolab5/encore/processing/encore_...</td>\n",
       "      <td>/projects/ps-yeolab5/encore/processing/encore_...</td>\n",
       "      <td>/projects/ps-yeolab5/encore/processing/encore_...</td>\n",
       "      <td>/projects/ps-yeolab5/encore/processing/encore_...</td>\n",
       "      <td>/projects/ps-yeolab5/encore/processing/encore_...</td>\n",
       "      <td>/projects/ps-yeolab5/encore/processing/encore_...</td>\n",
       "      <td>/projects/ps-yeolab5/encore/processing/encore_...</td>\n",
       "      <td>/projects/ps-yeolab5/encore/processing/encore_...</td>\n",
       "      <td>K562</td>\n",
       "    </tr>\n",
       "    <tr>\n",
       "      <th>3</th>\n",
       "      <td>3</td>\n",
       "      <td>4007</td>\n",
       "      <td>batch2</td>\n",
       "      <td>EIF2B3</td>\n",
       "      <td>encode4_batch2.4007</td>\n",
       "      <td>/projects/ps-yeolab5/encore/processing/encore_...</td>\n",
       "      <td>/projects/ps-yeolab5/encore/processing/encore_...</td>\n",
       "      <td>/projects/ps-yeolab5/encore/processing/encore_...</td>\n",
       "      <td>/projects/ps-yeolab5/encore/processing/encore_...</td>\n",
       "      <td>/projects/ps-yeolab5/encore/processing/encore_...</td>\n",
       "      <td>/projects/ps-yeolab5/encore/processing/encore_...</td>\n",
       "      <td>/projects/ps-yeolab5/encore/processing/encore_...</td>\n",
       "      <td>/projects/ps-yeolab5/encore/processing/encore_...</td>\n",
       "      <td>/projects/ps-yeolab5/encore/processing/encore_...</td>\n",
       "      <td>/projects/ps-yeolab5/encore/processing/encore_...</td>\n",
       "      <td>/projects/ps-yeolab5/encore/processing/encore_...</td>\n",
       "      <td>/projects/ps-yeolab5/encore/processing/encore_...</td>\n",
       "      <td>K562</td>\n",
       "    </tr>\n",
       "    <tr>\n",
       "      <th>4</th>\n",
       "      <td>4</td>\n",
       "      <td>4008</td>\n",
       "      <td>batch2</td>\n",
       "      <td>RBFOX3</td>\n",
       "      <td>encode4_batch2.4008</td>\n",
       "      <td>/projects/ps-yeolab5/encore/processing/encore_...</td>\n",
       "      <td>/projects/ps-yeolab5/encore/processing/encore_...</td>\n",
       "      <td>/projects/ps-yeolab5/encore/processing/encore_...</td>\n",
       "      <td>/projects/ps-yeolab5/encore/processing/encore_...</td>\n",
       "      <td>/projects/ps-yeolab5/encore/processing/encore_...</td>\n",
       "      <td>/projects/ps-yeolab5/encore/processing/encore_...</td>\n",
       "      <td>/projects/ps-yeolab5/encore/processing/encore_...</td>\n",
       "      <td>/projects/ps-yeolab5/encore/processing/encore_...</td>\n",
       "      <td>/projects/ps-yeolab5/encore/processing/encore_...</td>\n",
       "      <td>/projects/ps-yeolab5/encore/processing/encore_...</td>\n",
       "      <td>/projects/ps-yeolab5/encore/processing/encore_...</td>\n",
       "      <td>/projects/ps-yeolab5/encore/processing/encore_...</td>\n",
       "      <td>K562</td>\n",
       "    </tr>\n",
       "  </tbody>\n",
       "</table>\n",
       "</div>"
      ],
      "text/plain": [
       "   Unnamed: 0   uid   Batch     RBP               prefix  \\\n",
       "0           0  4001  batch2    NONO  encode4_batch2.4001   \n",
       "1           1  4002  batch2    FXR2  encode4_batch2.4002   \n",
       "2           2  4004  batch2     DEK  encode4_batch2.4004   \n",
       "3           3  4007  batch2  EIF2B3  encode4_batch2.4007   \n",
       "4           4  4008  batch2  RBFOX3  encode4_batch2.4008   \n",
       "\n",
       "                                               bam_0  \\\n",
       "0  /projects/ps-yeolab5/encore/processing/encore_...   \n",
       "1  /projects/ps-yeolab5/encore/processing/encore_...   \n",
       "2  /projects/ps-yeolab5/encore/processing/encore_...   \n",
       "3  /projects/ps-yeolab5/encore/processing/encore_...   \n",
       "4  /projects/ps-yeolab5/encore/processing/encore_...   \n",
       "\n",
       "                                               bam_1  \\\n",
       "0  /projects/ps-yeolab5/encore/processing/encore_...   \n",
       "1  /projects/ps-yeolab5/encore/processing/encore_...   \n",
       "2  /projects/ps-yeolab5/encore/processing/encore_...   \n",
       "3  /projects/ps-yeolab5/encore/processing/encore_...   \n",
       "4  /projects/ps-yeolab5/encore/processing/encore_...   \n",
       "\n",
       "                                         bam_control  \\\n",
       "0  /projects/ps-yeolab5/encore/processing/encore_...   \n",
       "1  /projects/ps-yeolab5/encore/processing/encore_...   \n",
       "2  /projects/ps-yeolab5/encore/processing/encore_...   \n",
       "3  /projects/ps-yeolab5/encore/processing/encore_...   \n",
       "4  /projects/ps-yeolab5/encore/processing/encore_...   \n",
       "\n",
       "                                              plus_0  \\\n",
       "0  /projects/ps-yeolab5/encore/processing/encore_...   \n",
       "1  /projects/ps-yeolab5/encore/processing/encore_...   \n",
       "2  /projects/ps-yeolab5/encore/processing/encore_...   \n",
       "3  /projects/ps-yeolab5/encore/processing/encore_...   \n",
       "4  /projects/ps-yeolab5/encore/processing/encore_...   \n",
       "\n",
       "                                              plus_1  \\\n",
       "0  /projects/ps-yeolab5/encore/processing/encore_...   \n",
       "1  /projects/ps-yeolab5/encore/processing/encore_...   \n",
       "2  /projects/ps-yeolab5/encore/processing/encore_...   \n",
       "3  /projects/ps-yeolab5/encore/processing/encore_...   \n",
       "4  /projects/ps-yeolab5/encore/processing/encore_...   \n",
       "\n",
       "                                        plus_control  \\\n",
       "0  /projects/ps-yeolab5/encore/processing/encore_...   \n",
       "1  /projects/ps-yeolab5/encore/processing/encore_...   \n",
       "2  /projects/ps-yeolab5/encore/processing/encore_...   \n",
       "3  /projects/ps-yeolab5/encore/processing/encore_...   \n",
       "4  /projects/ps-yeolab5/encore/processing/encore_...   \n",
       "\n",
       "                                             minus_0  \\\n",
       "0  /projects/ps-yeolab5/encore/processing/encore_...   \n",
       "1  /projects/ps-yeolab5/encore/processing/encore_...   \n",
       "2  /projects/ps-yeolab5/encore/processing/encore_...   \n",
       "3  /projects/ps-yeolab5/encore/processing/encore_...   \n",
       "4  /projects/ps-yeolab5/encore/processing/encore_...   \n",
       "\n",
       "                                             minus_1  \\\n",
       "0  /projects/ps-yeolab5/encore/processing/encore_...   \n",
       "1  /projects/ps-yeolab5/encore/processing/encore_...   \n",
       "2  /projects/ps-yeolab5/encore/processing/encore_...   \n",
       "3  /projects/ps-yeolab5/encore/processing/encore_...   \n",
       "4  /projects/ps-yeolab5/encore/processing/encore_...   \n",
       "\n",
       "                                       minus_control  \\\n",
       "0  /projects/ps-yeolab5/encore/processing/encore_...   \n",
       "1  /projects/ps-yeolab5/encore/processing/encore_...   \n",
       "2  /projects/ps-yeolab5/encore/processing/encore_...   \n",
       "3  /projects/ps-yeolab5/encore/processing/encore_...   \n",
       "4  /projects/ps-yeolab5/encore/processing/encore_...   \n",
       "\n",
       "                                               bed_0  \\\n",
       "0  /projects/ps-yeolab5/encore/processing/encore_...   \n",
       "1  /projects/ps-yeolab5/encore/processing/encore_...   \n",
       "2  /projects/ps-yeolab5/encore/processing/encore_...   \n",
       "3  /projects/ps-yeolab5/encore/processing/encore_...   \n",
       "4  /projects/ps-yeolab5/encore/processing/encore_...   \n",
       "\n",
       "                                               bed_1  \\\n",
       "0  /projects/ps-yeolab5/encore/processing/encore_...   \n",
       "1  /projects/ps-yeolab5/encore/processing/encore_...   \n",
       "2  /projects/ps-yeolab5/encore/processing/encore_...   \n",
       "3  /projects/ps-yeolab5/encore/processing/encore_...   \n",
       "4  /projects/ps-yeolab5/encore/processing/encore_...   \n",
       "\n",
       "                                                 idr Cell Line  \n",
       "0  /projects/ps-yeolab5/encore/processing/encore_...      K562  \n",
       "1  /projects/ps-yeolab5/encore/processing/encore_...      K562  \n",
       "2  /projects/ps-yeolab5/encore/processing/encore_...      K562  \n",
       "3  /projects/ps-yeolab5/encore/processing/encore_...      K562  \n",
       "4  /projects/ps-yeolab5/encore/processing/encore_...      K562  "
      ]
     },
     "execution_count": 19,
     "metadata": {},
     "output_type": "execute_result"
    }
   ],
   "source": [
    "df.head() # idr column points you to the directory"
   ]
  },
  {
   "cell_type": "markdown",
   "metadata": {},
   "source": [
    "# What you can consider doing\n",
    "- look at the list of RBP you found to be important in HepG2 survival. What regions do they bind? What transcripts do they bind?\n",
    "- Do they regulate other important genes? (you might need to generate a list of \"important genes\" and use \"BedTool filter\" to get their coordinates.\n",
    "\n",
    "\n",
    "** below are advanced questions we can walk through next time **\n",
    "- Are cancer-dependent genes \"overrepresented\" in RBP's target? How to establish statistical significance? (hint: Fisher exact test/chi-square tests)\n",
    "- If you test on multiple RBPs, you might need to correct the p-values a bit. Why? (hint: what does p-value mean?) google \"Multiple Hypothesis testing\""
   ]
  },
  {
   "cell_type": "code",
   "execution_count": null,
   "metadata": {},
   "outputs": [],
   "source": []
  }
 ],
 "metadata": {
  "kernelspec": {
   "display_name": "Python 3",
   "language": "python",
   "name": "python3"
  },
  "language_info": {
   "codemirror_mode": {
    "name": "ipython",
    "version": 3
   },
   "file_extension": ".py",
   "mimetype": "text/x-python",
   "name": "python",
   "nbconvert_exporter": "python",
   "pygments_lexer": "ipython3",
   "version": "3.7.6"
  }
 },
 "nbformat": 4,
 "nbformat_minor": 4
}
