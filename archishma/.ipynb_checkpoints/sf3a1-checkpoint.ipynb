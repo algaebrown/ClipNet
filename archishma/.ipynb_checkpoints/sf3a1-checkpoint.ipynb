{
 "cells": [
  {
   "cell_type": "code",
   "execution_count": 1,
   "metadata": {},
   "outputs": [],
   "source": [
    "import pandas as pd\n",
    "from pybedtools import BedTool"
   ]
  },
  {
   "cell_type": "markdown",
   "metadata": {},
   "source": [
    "### Information about BED Files (genome.ucsc.edu)\n",
    "\n",
    "The BED (Browser Extensible Data) format is a text file format used to store genomic regions as coordinates and associated annotations. The data are presented in the form of columns separated by spaces or tabs. (Wikipedia)\n",
    "\n",
    "The first three required BED fields are:\n",
    "\n",
    "- **chrom** - The name of the chromosome (e.g. chr3, chrY, chr2_random) or scaffold (e.g. scaffold10671).\n",
    "- **chromStart** - The starting position of the feature in the chromosome or scaffold. The first base in a chromosome is numbered 0.\n",
    "- **chromEnd** - The ending position of the feature in the chromosome or scaffold. The chromEnd base is not included in the display of the feature, however, the number in position format will be represented. For example, the first 100 bases of chromosome 1 are defined as chrom=1, chromStart=0, chromEnd=100, and span the bases numbered 0-99 in our software (not 0-100), but will represent the position notation chr1:1-100.\n"
   ]
  },
  {
   "cell_type": "code",
   "execution_count": 3,
   "metadata": {},
   "outputs": [
    {
     "data": {
      "text/html": [
       "<div>\n",
       "<style scoped>\n",
       "    .dataframe tbody tr th:only-of-type {\n",
       "        vertical-align: middle;\n",
       "    }\n",
       "\n",
       "    .dataframe tbody tr th {\n",
       "        vertical-align: top;\n",
       "    }\n",
       "\n",
       "    .dataframe thead th {\n",
       "        text-align: right;\n",
       "    }\n",
       "</style>\n",
       "<table border=\"1\" class=\"dataframe\">\n",
       "  <thead>\n",
       "    <tr style=\"text-align: right;\">\n",
       "      <th></th>\n",
       "      <th>ENSG</th>\n",
       "      <th>ProtID</th>\n",
       "      <th>Symbol</th>\n",
       "      <th>MS-identified peptide</th>\n",
       "      <th>Start</th>\n",
       "      <th>Stop</th>\n",
       "      <th>category</th>\n",
       "      <th>Uniqueness</th>\n",
       "      <th>domain</th>\n",
       "      <th>enzyme</th>\n",
       "      <th>LysC/ArgC proteolytic fragment</th>\n",
       "      <th>fragmentStart</th>\n",
       "      <th>fragmentStop</th>\n",
       "    </tr>\n",
       "  </thead>\n",
       "  <tbody>\n",
       "    <tr>\n",
       "      <th>0</th>\n",
       "      <td>ENSG00000132541</td>\n",
       "      <td>P52758</td>\n",
       "      <td>HRSP12</td>\n",
       "      <td>AAGCDFTNVVK</td>\n",
       "      <td>68.0</td>\n",
       "      <td>78.0</td>\n",
       "      <td>CandidateRBDpep</td>\n",
       "      <td>UniqueGene</td>\n",
       "      <td>other</td>\n",
       "      <td>LysC</td>\n",
       "      <td>AAGCDFTNVVK</td>\n",
       "      <td>68.0</td>\n",
       "      <td>78.0</td>\n",
       "    </tr>\n",
       "    <tr>\n",
       "      <th>1</th>\n",
       "      <td>ENSG00000112651</td>\n",
       "      <td>Q5T653</td>\n",
       "      <td>MRPL2</td>\n",
       "      <td>AAGTCGVLLR</td>\n",
       "      <td>209.0</td>\n",
       "      <td>218.0</td>\n",
       "      <td>CandidateRBDpep</td>\n",
       "      <td>UniqueGene</td>\n",
       "      <td>other</td>\n",
       "      <td>LysC</td>\n",
       "      <td>RWIIATENMQAGDTILNSNHIGRMAVAAREGDAHPLGALPVGTLIN...</td>\n",
       "      <td>149.0</td>\n",
       "      <td>219.0</td>\n",
       "    </tr>\n",
       "    <tr>\n",
       "      <th>2</th>\n",
       "      <td>ENSG00000114867</td>\n",
       "      <td>Q04637</td>\n",
       "      <td>EIF4G1</td>\n",
       "      <td>AALSEEELEKK</td>\n",
       "      <td>1235.0</td>\n",
       "      <td>1245.0</td>\n",
       "      <td>CandidateRBDpep</td>\n",
       "      <td>UniqueGene</td>\n",
       "      <td>other</td>\n",
       "      <td>LysC</td>\n",
       "      <td>AALSEEELEKKSKAIIEEYLHLNDMK</td>\n",
       "      <td>1235.0</td>\n",
       "      <td>1260.0</td>\n",
       "    </tr>\n",
       "    <tr>\n",
       "      <th>3</th>\n",
       "      <td>ENSG00000167112</td>\n",
       "      <td>O95900</td>\n",
       "      <td>TRUB2</td>\n",
       "      <td>AATPQVAAELEK</td>\n",
       "      <td>285.0</td>\n",
       "      <td>296.0</td>\n",
       "      <td>CandidateRBDpep</td>\n",
       "      <td>UniqueGene</td>\n",
       "      <td>other</td>\n",
       "      <td>LysC</td>\n",
       "      <td>TTAVCTQVRRTRDGFFTLDSALLRTQWDLTNIQDAIRAATPQVAAELEK</td>\n",
       "      <td>248.0</td>\n",
       "      <td>296.0</td>\n",
       "    </tr>\n",
       "    <tr>\n",
       "      <th>4</th>\n",
       "      <td>ENSG00000040341</td>\n",
       "      <td>Q9NUL3</td>\n",
       "      <td>STAU2</td>\n",
       "      <td>AATTVLQELK</td>\n",
       "      <td>264.0</td>\n",
       "      <td>273.0</td>\n",
       "      <td>CandidateRBDpep</td>\n",
       "      <td>UniqueGene</td>\n",
       "      <td>classical</td>\n",
       "      <td>LysC</td>\n",
       "      <td>KLSKKRAATTVLQELK</td>\n",
       "      <td>258.0</td>\n",
       "      <td>273.0</td>\n",
       "    </tr>\n",
       "  </tbody>\n",
       "</table>\n",
       "</div>"
      ],
      "text/plain": [
       "              ENSG  ProtID  Symbol MS-identified peptide    Start    Stop  \\\n",
       "0  ENSG00000132541  P52758  HRSP12            AAGCDFTNVVK    68.0    78.0   \n",
       "1  ENSG00000112651  Q5T653   MRPL2             AAGTCGVLLR   209.0   218.0   \n",
       "2  ENSG00000114867  Q04637  EIF4G1            AALSEEELEKK  1235.0  1245.0   \n",
       "3  ENSG00000167112  O95900   TRUB2           AATPQVAAELEK   285.0   296.0   \n",
       "4  ENSG00000040341  Q9NUL3   STAU2             AATTVLQELK   264.0   273.0   \n",
       "\n",
       "          category  Uniqueness     domain enzyme  \\\n",
       "0  CandidateRBDpep  UniqueGene      other   LysC   \n",
       "1  CandidateRBDpep  UniqueGene      other   LysC   \n",
       "2  CandidateRBDpep  UniqueGene      other   LysC   \n",
       "3  CandidateRBDpep  UniqueGene      other   LysC   \n",
       "4  CandidateRBDpep  UniqueGene  classical   LysC   \n",
       "\n",
       "                     LysC/ArgC proteolytic fragment   fragmentStart  \\\n",
       "0                                        AAGCDFTNVVK           68.0   \n",
       "1  RWIIATENMQAGDTILNSNHIGRMAVAAREGDAHPLGALPVGTLIN...          149.0   \n",
       "2                         AALSEEELEKKSKAIIEEYLHLNDMK         1235.0   \n",
       "3  TTAVCTQVRRTRDGFFTLDSALLRTQWDLTNIQDAIRAATPQVAAELEK          248.0   \n",
       "4                                   KLSKKRAATTVLQELK          258.0   \n",
       "\n",
       "   fragmentStop  \n",
       "0          78.0  \n",
       "1         219.0  \n",
       "2        1260.0  \n",
       "3         296.0  \n",
       "4         273.0  "
      ]
     },
     "execution_count": 3,
     "metadata": {},
     "output_type": "execute_result"
    }
   ],
   "source": [
    "rbp = pd.read_excel('~/projects/ClipNet/archishma/mmc2.xlsx', sheet_name = 'CandidateRBDpep')\n",
    "rbp.head()"
   ]
  },
  {
   "cell_type": "markdown",
   "metadata": {},
   "source": [
    "- genes of interest: EIF3I, SF3A1\n",
    "- transcript_coords has information about transcripts\n",
    "- region_anno has information about regions, localization, etc "
   ]
  },
  {
   "cell_type": "code",
   "execution_count": 4,
   "metadata": {},
   "outputs": [],
   "source": [
    "transcript_coords = BedTool('/home/hsher/gencode_coords/gencode.v33.transcript.gff3')\n",
    "region_anno = BedTool('/home/hsher/gencode_coords/gencode.v33.combine.sorted.gff3')"
   ]
  },
  {
   "cell_type": "code",
   "execution_count": 5,
   "metadata": {},
   "outputs": [],
   "source": [
    "from collections import Counter"
   ]
  },
  {
   "cell_type": "code",
   "execution_count": 6,
   "metadata": {},
   "outputs": [],
   "source": [
    "encode3 = pd.read_csv('/home/hsher/projects/RBP_annot/ENCODE_FINAL_ANNOTATIONS.uidsonly.txt.manifesthg38.txt', sep = '\\t', header= 0)\n",
    "encode4 = pd.read_csv('/home/hsher/projects/ClipNet/archishma/ENCODE4_1214.csv')"
   ]
  },
  {
   "cell_type": "code",
   "execution_count": 7,
   "metadata": {},
   "outputs": [
    {
     "data": {
      "text/html": [
       "<div>\n",
       "<style scoped>\n",
       "    .dataframe tbody tr th:only-of-type {\n",
       "        vertical-align: middle;\n",
       "    }\n",
       "\n",
       "    .dataframe tbody tr th {\n",
       "        vertical-align: top;\n",
       "    }\n",
       "\n",
       "    .dataframe thead th {\n",
       "        text-align: right;\n",
       "    }\n",
       "</style>\n",
       "<table border=\"1\" class=\"dataframe\">\n",
       "  <thead>\n",
       "    <tr style=\"text-align: right;\">\n",
       "      <th></th>\n",
       "      <th>uID</th>\n",
       "      <th>RBP</th>\n",
       "      <th>Cell line</th>\n",
       "      <th>CLIP_rep1</th>\n",
       "      <th>CLIP_rep2</th>\n",
       "      <th>INPUT</th>\n",
       "    </tr>\n",
       "  </thead>\n",
       "  <tbody>\n",
       "  </tbody>\n",
       "</table>\n",
       "</div>"
      ],
      "text/plain": [
       "Empty DataFrame\n",
       "Columns: [uID, RBP, Cell line, CLIP_rep1, CLIP_rep2, INPUT]\n",
       "Index: []"
      ]
     },
     "execution_count": 7,
     "metadata": {},
     "output_type": "execute_result"
    }
   ],
   "source": [
    "encode3.loc[encode3['RBP'].str.contains('SF3A1')]"
   ]
  },
  {
   "cell_type": "code",
   "execution_count": 8,
   "metadata": {},
   "outputs": [
    {
     "data": {
      "text/html": [
       "<div>\n",
       "<style scoped>\n",
       "    .dataframe tbody tr th:only-of-type {\n",
       "        vertical-align: middle;\n",
       "    }\n",
       "\n",
       "    .dataframe tbody tr th {\n",
       "        vertical-align: top;\n",
       "    }\n",
       "\n",
       "    .dataframe thead th {\n",
       "        text-align: right;\n",
       "    }\n",
       "</style>\n",
       "<table border=\"1\" class=\"dataframe\">\n",
       "  <thead>\n",
       "    <tr style=\"text-align: right;\">\n",
       "      <th></th>\n",
       "      <th>Unnamed: 0</th>\n",
       "      <th>uid</th>\n",
       "      <th>Batch</th>\n",
       "      <th>RBP</th>\n",
       "      <th>prefix</th>\n",
       "      <th>bam_0</th>\n",
       "      <th>bam_1</th>\n",
       "      <th>bam_control</th>\n",
       "      <th>plus_0</th>\n",
       "      <th>plus_1</th>\n",
       "      <th>plus_control</th>\n",
       "      <th>minus_0</th>\n",
       "      <th>minus_1</th>\n",
       "      <th>minus_control</th>\n",
       "      <th>bed_0</th>\n",
       "      <th>bed_1</th>\n",
       "      <th>idr</th>\n",
       "      <th>Cell Line</th>\n",
       "    </tr>\n",
       "  </thead>\n",
       "  <tbody>\n",
       "    <tr>\n",
       "      <th>29</th>\n",
       "      <td>29</td>\n",
       "      <td>4048</td>\n",
       "      <td>batch12</td>\n",
       "      <td>SF3A1</td>\n",
       "      <td>encode4_batch12.4048</td>\n",
       "      <td>/projects/ps-yeolab5/encore/processing/encore_...</td>\n",
       "      <td>/projects/ps-yeolab5/encore/processing/encore_...</td>\n",
       "      <td>/projects/ps-yeolab5/encore/processing/encore_...</td>\n",
       "      <td>/projects/ps-yeolab5/encore/processing/encore_...</td>\n",
       "      <td>/projects/ps-yeolab5/encore/processing/encore_...</td>\n",
       "      <td>/projects/ps-yeolab5/encore/processing/encore_...</td>\n",
       "      <td>/projects/ps-yeolab5/encore/processing/encore_...</td>\n",
       "      <td>/projects/ps-yeolab5/encore/processing/encore_...</td>\n",
       "      <td>/projects/ps-yeolab5/encore/processing/encore_...</td>\n",
       "      <td>/projects/ps-yeolab5/encore/processing/encore_...</td>\n",
       "      <td>/projects/ps-yeolab5/encore/processing/encore_...</td>\n",
       "      <td>/projects/ps-yeolab5/encore/processing/encore_...</td>\n",
       "      <td>K562</td>\n",
       "    </tr>\n",
       "    <tr>\n",
       "      <th>48</th>\n",
       "      <td>48</td>\n",
       "      <td>4117</td>\n",
       "      <td>batch17</td>\n",
       "      <td>SF3A1</td>\n",
       "      <td>encode4_batch17.4117</td>\n",
       "      <td>/projects/ps-yeolab5/encore/processing/encore_...</td>\n",
       "      <td>/projects/ps-yeolab5/encore/processing/encore_...</td>\n",
       "      <td>/projects/ps-yeolab5/encore/processing/encore_...</td>\n",
       "      <td>/projects/ps-yeolab5/encore/processing/encore_...</td>\n",
       "      <td>/projects/ps-yeolab5/encore/processing/encore_...</td>\n",
       "      <td>/projects/ps-yeolab5/encore/processing/encore_...</td>\n",
       "      <td>/projects/ps-yeolab5/encore/processing/encore_...</td>\n",
       "      <td>/projects/ps-yeolab5/encore/processing/encore_...</td>\n",
       "      <td>/projects/ps-yeolab5/encore/processing/encore_...</td>\n",
       "      <td>/projects/ps-yeolab5/encore/processing/encore_...</td>\n",
       "      <td>/projects/ps-yeolab5/encore/processing/encore_...</td>\n",
       "      <td>/projects/ps-yeolab5/encore/processing/encore_...</td>\n",
       "      <td>HepG2</td>\n",
       "    </tr>\n",
       "  </tbody>\n",
       "</table>\n",
       "</div>"
      ],
      "text/plain": [
       "    Unnamed: 0   uid    Batch    RBP                prefix  \\\n",
       "29          29  4048  batch12  SF3A1  encode4_batch12.4048   \n",
       "48          48  4117  batch17  SF3A1  encode4_batch17.4117   \n",
       "\n",
       "                                                bam_0  \\\n",
       "29  /projects/ps-yeolab5/encore/processing/encore_...   \n",
       "48  /projects/ps-yeolab5/encore/processing/encore_...   \n",
       "\n",
       "                                                bam_1  \\\n",
       "29  /projects/ps-yeolab5/encore/processing/encore_...   \n",
       "48  /projects/ps-yeolab5/encore/processing/encore_...   \n",
       "\n",
       "                                          bam_control  \\\n",
       "29  /projects/ps-yeolab5/encore/processing/encore_...   \n",
       "48  /projects/ps-yeolab5/encore/processing/encore_...   \n",
       "\n",
       "                                               plus_0  \\\n",
       "29  /projects/ps-yeolab5/encore/processing/encore_...   \n",
       "48  /projects/ps-yeolab5/encore/processing/encore_...   \n",
       "\n",
       "                                               plus_1  \\\n",
       "29  /projects/ps-yeolab5/encore/processing/encore_...   \n",
       "48  /projects/ps-yeolab5/encore/processing/encore_...   \n",
       "\n",
       "                                         plus_control  \\\n",
       "29  /projects/ps-yeolab5/encore/processing/encore_...   \n",
       "48  /projects/ps-yeolab5/encore/processing/encore_...   \n",
       "\n",
       "                                              minus_0  \\\n",
       "29  /projects/ps-yeolab5/encore/processing/encore_...   \n",
       "48  /projects/ps-yeolab5/encore/processing/encore_...   \n",
       "\n",
       "                                              minus_1  \\\n",
       "29  /projects/ps-yeolab5/encore/processing/encore_...   \n",
       "48  /projects/ps-yeolab5/encore/processing/encore_...   \n",
       "\n",
       "                                        minus_control  \\\n",
       "29  /projects/ps-yeolab5/encore/processing/encore_...   \n",
       "48  /projects/ps-yeolab5/encore/processing/encore_...   \n",
       "\n",
       "                                                bed_0  \\\n",
       "29  /projects/ps-yeolab5/encore/processing/encore_...   \n",
       "48  /projects/ps-yeolab5/encore/processing/encore_...   \n",
       "\n",
       "                                                bed_1  \\\n",
       "29  /projects/ps-yeolab5/encore/processing/encore_...   \n",
       "48  /projects/ps-yeolab5/encore/processing/encore_...   \n",
       "\n",
       "                                                  idr Cell Line  \n",
       "29  /projects/ps-yeolab5/encore/processing/encore_...      K562  \n",
       "48  /projects/ps-yeolab5/encore/processing/encore_...     HepG2  "
      ]
     },
     "execution_count": 8,
     "metadata": {},
     "output_type": "execute_result"
    }
   ],
   "source": [
    "encode4.loc[encode4['RBP'].str.contains('SF3A1')]"
   ]
  },
  {
   "cell_type": "code",
   "execution_count": 9,
   "metadata": {},
   "outputs": [],
   "source": [
    "# idr has the path to the files\n",
    "# look at the files - which region, type of transcript \n",
    "bed_SF3A1_4048 = encode4.loc[29,'idr']\n",
    "bed_SF3A1_4117 = encode4.loc[48,'idr']"
   ]
  },
  {
   "cell_type": "markdown",
   "metadata": {},
   "source": [
    "### Information about SF3A1 (UID 4048):\n",
    "- Batch 12\n",
    "- Cell Line K562"
   ]
  },
  {
   "cell_type": "code",
   "execution_count": 10,
   "metadata": {},
   "outputs": [],
   "source": [
    "SF3A1_idr_4048 = BedTool(bed_SF3A1_4048)"
   ]
  },
  {
   "cell_type": "code",
   "execution_count": 28,
   "metadata": {},
   "outputs": [
    {
     "name": "stdout",
     "output_type": "stream",
     "text": [
      "chrX\t54561037\t54561072\t14.91276321091\t5.47432261299678\t+\n",
      " chrX\t54561012\t54561037\t4.25258368604036\t4.8528943510487\t+\n",
      " chr8\t38347553\t38347555\t11.9290630586538\t5.74959512094666\t-\n",
      " chr8\t38347555\t38347654\t15.9100115685067\t5.58678383172411\t-\n",
      " chr8\t36764485\t36764496\t14.9860720851438\t5.26756004952068\t+\n",
      " chr11\t61799919\t61799960\t3.28840161983509\t3.26393033899278\t-\n",
      " chr1\t10459933\t10459965\t8.73529170854046\t4.97852559094349\t-\n",
      " chr1\t10459965\t10460008\t7.02086426445287\t4.73611298950637\t-\n",
      " chr1\t10459818\t10459890\t4.4048029271012\t4.55347330618502\t-\n",
      " chr1\t10459891\t10459933\t3.47982195640752\t4.33738090323839\t-\n",
      " "
     ]
    }
   ],
   "source": [
    "SF3A1_idr_4048.head()"
   ]
  },
  {
   "cell_type": "code",
   "execution_count": 11,
   "metadata": {},
   "outputs": [
    {
     "data": {
      "text/plain": [
       "Counter({'chrX': 16,\n",
       "         'chr8': 34,\n",
       "         'chr11': 28,\n",
       "         'chr1': 85,\n",
       "         'chr3': 49,\n",
       "         'chr18': 10,\n",
       "         'chr10': 23,\n",
       "         'chr9': 20,\n",
       "         'chr7': 30,\n",
       "         'chr17': 42,\n",
       "         'chr19': 47,\n",
       "         'chr4': 17,\n",
       "         'chr16': 17,\n",
       "         'chr5': 27,\n",
       "         'chr14': 25,\n",
       "         'chr20': 14,\n",
       "         'chr6': 55,\n",
       "         'chr2': 21,\n",
       "         'chr12': 36,\n",
       "         'chr21': 4,\n",
       "         'chr13': 4,\n",
       "         'chr22': 7,\n",
       "         'chr15': 9,\n",
       "         'chrM': 1})"
      ]
     },
     "execution_count": 11,
     "metadata": {},
     "output_type": "execute_result"
    }
   ],
   "source": [
    "# counter for how many chromosomes SF3A1_4048 appears on\n",
    "Counter([t.chrom for t in SF3A1_idr_4048])"
   ]
  },
  {
   "cell_type": "code",
   "execution_count": 33,
   "metadata": {},
   "outputs": [],
   "source": [
    "# once again, using transcript_coords, can intersect to find hits \n",
    "transcriptsbound_SF3A1_4048 = transcript_coords.intersect(SF3A1_idr_4048, s= True, u = True).saveas()"
   ]
  },
  {
   "cell_type": "code",
   "execution_count": 34,
   "metadata": {},
   "outputs": [
    {
     "data": {
      "text/plain": [
       "303"
      ]
     },
     "execution_count": 34,
     "metadata": {},
     "output_type": "execute_result"
    }
   ],
   "source": [
    "len(transcriptsbound_SF3A1_4048)"
   ]
  },
  {
   "cell_type": "code",
   "execution_count": 35,
   "metadata": {},
   "outputs": [
    {
     "name": "stdout",
     "output_type": "stream",
     "text": [
      "chr1\tENSEMBL\ttranscript\t1785285\t1891117\t.\t-\t.\tID=ENST00000610897.4;Parent=ENSG00000078369.18;gene_id=ENSG00000078369.18;transcript_id=ENST00000610897.4;gene_type=protein_coding;gene_name=GNB1;transcript_type=protein_coding;transcript_name=GNB1-209;level=3;protein_id=ENSP00000481878.1;transcript_support_level=5;hgnc_id=HGNC:4396;tag=basic,appris_principal_1,CCDS;ccdsid=CCDS34.1;havana_gene=OTTHUMG00000000940.9\n",
      "\n"
     ]
    }
   ],
   "source": [
    "print(transcriptsbound_SF3A1_4048[0]) # so each of these is a transcript, has attributes (ie protein coding, etc)"
   ]
  },
  {
   "cell_type": "code",
   "execution_count": 36,
   "metadata": {},
   "outputs": [
    {
     "data": {
      "text/plain": [
       "Counter({'protein_coding': 248,\n",
       "         'lncRNA': 14,\n",
       "         'snRNA': 1,\n",
       "         'rRNA_pseudogene': 22,\n",
       "         'nonsense_mediated_decay': 8,\n",
       "         'snoRNA': 5,\n",
       "         'rRNA': 1,\n",
       "         'processed_transcript': 1,\n",
       "         'scaRNA': 1,\n",
       "         'processed_pseudogene': 1,\n",
       "         'Mt_rRNA': 1})"
      ]
     },
     "execution_count": 36,
     "metadata": {},
     "output_type": "execute_result"
    }
   ],
   "source": [
    "#since counter is already imported-- use it to see how many there are of each type of transcript. \n",
    "Counter([a.attrs['transcript_type'] for a in transcriptsbound_SF3A1_4048])"
   ]
  },
  {
   "cell_type": "code",
   "execution_count": 37,
   "metadata": {},
   "outputs": [],
   "source": [
    "# which regions is it bound?\n",
    "regionsbound_SF3A1_4048 = region_anno.intersect(SF3A1_idr_4048, s = True, u = True).saveas()"
   ]
  },
  {
   "cell_type": "code",
   "execution_count": 49,
   "metadata": {},
   "outputs": [
    {
     "name": "stdout",
     "output_type": "stream",
     "text": [
      "chr1\tENSEMBL\texon\t1825397\t1825499\t.\t-\t.\tID=exon:ENST00000610897.4:2;Parent=ENST00000610897.4;gene_id=ENSG00000078369.18;transcript_id=ENST00000610897.4;gene_type=protein_coding;gene_name=GNB1;transcript_type=protein_coding;transcript_name=GNB1-209;exon_number=2;exon_id=ENSE00003268669.1;level=3;protein_id=ENSP00000481878.1;transcript_support_level=5;hgnc_id=HGNC:4396;tag=basic,appris_principal_1,CCDS;ccdsid=CCDS34.1;havana_gene=OTTHUMG00000000940.9\n",
      "\n"
     ]
    }
   ],
   "source": [
    "# just an example with the first one-- the \"index 2\" shows the region it's bound in\n",
    "print(regionsbound_SF3A1_4048[0])"
   ]
  },
  {
   "cell_type": "code",
   "execution_count": 50,
   "metadata": {},
   "outputs": [
    {
     "data": {
      "text/plain": [
       "'exon'"
      ]
     },
     "execution_count": 50,
     "metadata": {},
     "output_type": "execute_result"
    }
   ],
   "source": [
    "regionsbound_SF3A1_4048[0][2]"
   ]
  },
  {
   "cell_type": "code",
   "execution_count": 51,
   "metadata": {},
   "outputs": [
    {
     "data": {
      "text/plain": [
       "Counter({'exon': 302,\n",
       "         'five_prime_UTR': 23,\n",
       "         'transcript': 95,\n",
       "         'CDS': 199,\n",
       "         'three_prime_UTR': 54})"
      ]
     },
     "execution_count": 51,
     "metadata": {},
     "output_type": "execute_result"
    }
   ],
   "source": [
    "# count all the regions it's bound in\n",
    "Counter([r[2] for r in regionsbound_SF3A1_4048]) "
   ]
  },
  {
   "cell_type": "markdown",
   "metadata": {},
   "source": [
    "### Information about SF3A1 (UID 4117):\n",
    "- Batch 17\n",
    "- Cell Line: HepG2"
   ]
  },
  {
   "cell_type": "code",
   "execution_count": 52,
   "metadata": {},
   "outputs": [],
   "source": [
    "SF3A1_idr_4117 = BedTool(bed_SF3A1_4117)"
   ]
  },
  {
   "cell_type": "code",
   "execution_count": 53,
   "metadata": {},
   "outputs": [
    {
     "name": "stdout",
     "output_type": "stream",
     "text": [
      "chr17\t81125900\t81125909\t54.3957434825502\t7.67249447792878\t-\n",
      " chr17\t81125885\t81125892\t54.3957434825502\t7.67249447792878\t-\n",
      " chr17\t64500851\t64500891\t9.85732120492153\t3.57043658762762\t-\n",
      " chr17\t64500826\t64500851\t13.1033966304457\t3.51305172634691\t-\n",
      " chr17\t64500807\t64500826\t10.4347899293002\t3.27655941500224\t-\n",
      " chr10\t114174150\t114174173\t3.50025629786793\t4.05989075945703\t-\n",
      " chr21\t44524048\t44524240\t19.5968297008866\t5.52065735146499\t+\n",
      " chr17\t82239311\t82239411\t10.0105412829474\t3.66502069254965\t+\n",
      " chr19\t16575920\t16575949\t4.44667366365153\t3.87682681005808\t-\n",
      " chr17\t82671271\t82671341\t7.47674531845525\t4.312602627325\t-\n",
      " "
     ]
    }
   ],
   "source": [
    "SF3A1_idr_4117.head()"
   ]
  },
  {
   "cell_type": "code",
   "execution_count": 47,
   "metadata": {},
   "outputs": [
    {
     "name": "stdout",
     "output_type": "stream",
     "text": [
      "chr17\t81125900\t81125909\t54.3957434825502\t7.67249447792878\t-\n",
      "\n"
     ]
    }
   ],
   "source": [
    "print(SF3A1_idr_4117[0])"
   ]
  },
  {
   "cell_type": "code",
   "execution_count": 55,
   "metadata": {},
   "outputs": [
    {
     "name": "stdout",
     "output_type": "stream",
     "text": [
      "chr17\n",
      "81125900\n",
      "81125909\n"
     ]
    }
   ],
   "source": [
    "# attributes of the very first item in the \"array\"\n",
    "print(SF3A1_idr_4117[0].chrom)\n",
    "print(SF3A1_idr_4117[0].start)\n",
    "print(SF3A1_idr_4117[0].end)"
   ]
  },
  {
   "cell_type": "code",
   "execution_count": 56,
   "metadata": {},
   "outputs": [
    {
     "data": {
      "text/plain": [
       "Counter({'chrX': 16,\n",
       "         'chr8': 34,\n",
       "         'chr11': 28,\n",
       "         'chr1': 85,\n",
       "         'chr3': 49,\n",
       "         'chr18': 10,\n",
       "         'chr10': 23,\n",
       "         'chr9': 20,\n",
       "         'chr7': 30,\n",
       "         'chr17': 42,\n",
       "         'chr19': 47,\n",
       "         'chr4': 17,\n",
       "         'chr16': 17,\n",
       "         'chr5': 27,\n",
       "         'chr14': 25,\n",
       "         'chr20': 14,\n",
       "         'chr6': 55,\n",
       "         'chr2': 21,\n",
       "         'chr12': 36,\n",
       "         'chr21': 4,\n",
       "         'chr13': 4,\n",
       "         'chr22': 7,\n",
       "         'chr15': 9,\n",
       "         'chrM': 1})"
      ]
     },
     "execution_count": 56,
     "metadata": {},
     "output_type": "execute_result"
    }
   ],
   "source": [
    "# counting all the chromosomes it's on\n",
    "Counter([t.chrom for t in SF3A1_idr_4048])"
   ]
  },
  {
   "cell_type": "code",
   "execution_count": 57,
   "metadata": {},
   "outputs": [],
   "source": [
    "# using transcript_coords, can intersect to find hits \n",
    "transcriptsbound_SF3A1_4117 = transcript_coords.intersect(SF3A1_idr_4117, s= True, u = True).saveas()"
   ]
  },
  {
   "cell_type": "code",
   "execution_count": 60,
   "metadata": {},
   "outputs": [
    {
     "data": {
      "text/plain": [
       "1103"
      ]
     },
     "execution_count": 60,
     "metadata": {},
     "output_type": "execute_result"
    }
   ],
   "source": [
    "len(transcriptsbound_SF3A1_4117)"
   ]
  },
  {
   "cell_type": "code",
   "execution_count": 58,
   "metadata": {},
   "outputs": [
    {
     "name": "stdout",
     "output_type": "stream",
     "text": [
      "chr1\tHAVANA\ttranscript\t594308\t827796\t.\t-\t.\tID=ENST00000634337.2;Parent=ENSG00000230021.10;gene_id=ENSG00000230021.10;transcript_id=ENST00000634337.2;gene_type=transcribed_processed_pseudogene;gene_name=AL669831.3;transcript_type=processed_transcript;transcript_name=AL669831.3-208;level=2;transcript_support_level=5;tag=RNA_Seq_supported_only,basic;havana_gene=OTTHUMG00000191652.4;havana_transcript=OTTHUMT00000488647.3\n",
      "\n"
     ]
    }
   ],
   "source": [
    "print(transcriptsbound_SF3A1_4117[0]) # each of these is a transcript with features, etc"
   ]
  },
  {
   "cell_type": "code",
   "execution_count": 59,
   "metadata": {},
   "outputs": [
    {
     "data": {
      "text/plain": [
       "Counter({'processed_transcript': 4,\n",
       "         'miRNA': 224,\n",
       "         'protein_coding': 775,\n",
       "         'lncRNA': 72,\n",
       "         'snRNA': 3,\n",
       "         'retained_intron': 3,\n",
       "         'nonsense_mediated_decay': 13,\n",
       "         'unprocessed_pseudogene': 1,\n",
       "         'rRNA_pseudogene': 3,\n",
       "         'snoRNA': 3,\n",
       "         'misc_RNA': 1,\n",
       "         'Mt_tRNA': 1})"
      ]
     },
     "execution_count": 59,
     "metadata": {},
     "output_type": "execute_result"
    }
   ],
   "source": [
    "# how many there are of each type of transcript\n",
    "Counter([a.attrs['transcript_type'] for a in transcriptsbound_SF3A1_4117])"
   ]
  },
  {
   "cell_type": "code",
   "execution_count": 61,
   "metadata": {},
   "outputs": [],
   "source": [
    "# using region_anno to see where the regions are\n",
    "regionsbound_SF3A1_4117 = region_anno.intersect(SF3A1_idr_4117, s = True, u = True).saveas()"
   ]
  },
  {
   "cell_type": "code",
   "execution_count": 64,
   "metadata": {},
   "outputs": [
    {
     "name": "stdout",
     "output_type": "stream",
     "text": [
      "chr1\tHAVANA\ttranscript\t819838\t826205\t.\t-\t.\tID=ENST00000634337.2;Parent=ENSG00000230021.10;gene_id=ENSG00000230021.10;transcript_id=ENST00000634337.2;gene_type=transcribed_processed_pseudogene;gene_name=AL669831.3;transcript_type=processed_transcript;transcript_name=AL669831.3-208;level=2;transcript_support_level=5;tag=RNA_Seq_supported_only,basic;havana_gene=OTTHUMG00000191652.4;havana_transcript=OTTHUMT00000488647.3\n",
      "\n"
     ]
    }
   ],
   "source": [
    "print(regionsbound_SF3A1_4117[0]) # each of these has region information"
   ]
  },
  {
   "cell_type": "code",
   "execution_count": 65,
   "metadata": {},
   "outputs": [
    {
     "data": {
      "text/plain": [
       "Counter({'transcript': 382,\n",
       "         'exon': 816,\n",
       "         'CDS': 267,\n",
       "         'five_prime_UTR': 56,\n",
       "         'three_prime_UTR': 260})"
      ]
     },
     "execution_count": 65,
     "metadata": {},
     "output_type": "execute_result"
    }
   ],
   "source": [
    "Counter([r[2] for r in regionsbound_SF3A1_4117]) "
   ]
  },
  {
   "cell_type": "code",
   "execution_count": null,
   "metadata": {},
   "outputs": [],
   "source": []
  }
 ],
 "metadata": {
  "kernelspec": {
   "display_name": "Python 3",
   "language": "python",
   "name": "python3"
  },
  "language_info": {
   "codemirror_mode": {
    "name": "ipython",
    "version": 3
   },
   "file_extension": ".py",
   "mimetype": "text/x-python",
   "name": "python",
   "nbconvert_exporter": "python",
   "pygments_lexer": "ipython3",
   "version": "3.7.6"
  }
 },
 "nbformat": 4,
 "nbformat_minor": 2
}
